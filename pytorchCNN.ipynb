{
 "cells": [
  {
   "cell_type": "code",
   "execution_count": 1,
   "metadata": {},
   "outputs": [],
   "source": [
    "import os\n",
    "import cv2\n",
    "import numpy as np\n",
    "from tqdm import tqdm #this is kind of a progress bar basically \n"
   ]
  },
  {
   "cell_type": "code",
   "execution_count": 2,
   "metadata": {},
   "outputs": [],
   "source": [
    "REBUILD_DATA = False\n",
    "\n",
    "class DogsVSCats():\n",
    "    IMG_SIZE = 50 #resizing to 50*50 for every image\n",
    "    CATS = \"PetImages/Cat\"\n",
    "    DOGS = \"PetImages/Dog\"\n",
    "    LABELS = {CATS: 0, DOGS: 1}\n",
    "\n",
    "    training_data = []\n",
    "    catcount = 0\n",
    "    dogcount = 0\n",
    "\n",
    "    def make_training_data(self):\n",
    "        for label in self.LABELS:\n",
    "            print(label)\n",
    "            for f in tqdm(os.listdir(label)):\n",
    "                try:\n",
    "                    path = os.path.join(label, f)\n",
    "                    img = cv2.imread(path,cv2.IMREAD_GREYSCALE)\n",
    "                    img = cv2.resize(img, (self.IMG_SIZE, self.IMG_SIZE))\n",
    "                    self.training_data.append([np.array(img), np.eye(2) [self.LABELS[label]]])\n",
    "                    if label == self.CATS:\n",
    "                        self.catcount += 1\n",
    "                    elif label == self.DOGS:\n",
    "                        self.dogcount += 1\n",
    "                except Exception as e:\n",
    "                    pass\n",
    "        np.random.shuffle(self.training_data)\n",
    "        np.save(\"training_data.npy\", self.training_data)\n",
    "        print(\"Cats:\", self.catcount)\n",
    "        print(\"Dogs:\", self.dogcount)\n",
    "\n",
    "\n",
    "if REBUILD_DATA:\n",
    "    dogsvcats = DogsVSCats()\n",
    "    dogsvcats.make_training_data()\n"
   ]
  },
  {
   "cell_type": "code",
   "execution_count": 3,
   "metadata": {},
   "outputs": [],
   "source": [
    "REBUILD_DATA = False # set to true to one once, then back to false unless you want to change something in your training data.\n",
    "\n",
    "class DogsVSCats():\n",
    "    IMG_SIZE = 50\n",
    "    CATS = \"PetImages/Cat\"\n",
    "    DOGS = \"PetImages/Dog\"\n",
    "    TESTING = \"PetImages/Testing\"\n",
    "    LABELS = {CATS: 0, DOGS: 1}\n",
    "    training_data = []\n",
    "\n",
    "    catcount = 0\n",
    "    dogcount = 0\n",
    "\n",
    "    def make_training_data(self):\n",
    "        for label in self.LABELS:\n",
    "            print(label)\n",
    "            for f in tqdm(os.listdir(label)):\n",
    "                if \"jpg\" in f:\n",
    "                    try:\n",
    "                        path = os.path.join(label, f)\n",
    "                        img = cv2.imread(path, cv2.IMREAD_GRAYSCALE)\n",
    "                        img = cv2.resize(img, (self.IMG_SIZE, self.IMG_SIZE))\n",
    "                        self.training_data.append([np.array(img), np.eye(2)[self.LABELS[label]]])  # do something like print(np.eye(2)[1]), just makes one_hot \n",
    "                        #print(np.eye(2)[self.LABELS[label]])\n",
    "\n",
    "                        if label == self.CATS:\n",
    "                            self.catcount += 1\n",
    "                        elif label == self.DOGS:\n",
    "                            self.dogcount += 1\n",
    "\n",
    "                    except Exception as e:\n",
    "                        pass\n",
    "                        #print(label, f, str(e))\n",
    "\n",
    "        np.random.shuffle(self.training_data)\n",
    "        np.save(\"training_data.npy\", self.training_data)\n",
    "        print('Cats:',dogsvcats.catcount)\n",
    "        print('Dogs:',dogsvcats.dogcount)\n",
    "\n",
    "if REBUILD_DATA:\n",
    "    dogsvcats = DogsVSCats()\n",
    "    dogsvcats.make_training_data()"
   ]
  },
  {
   "cell_type": "code",
   "execution_count": 4,
   "metadata": {},
   "outputs": [],
   "source": [
    "training_data = np.load(\"training_data.npy\",allow_pickle=True)"
   ]
  },
  {
   "cell_type": "code",
   "execution_count": 5,
   "metadata": {
    "tags": []
   },
   "outputs": [
    {
     "output_type": "stream",
     "name": "stdout",
     "text": "24946\n"
    }
   ],
   "source": [
    "print(len(training_data))"
   ]
  },
  {
   "cell_type": "code",
   "execution_count": 6,
   "metadata": {
    "tags": []
   },
   "outputs": [
    {
     "output_type": "stream",
     "name": "stdout",
     "text": "[array([[141, 141, 139, ..., 148, 148, 148],\n       [141, 141, 139, ..., 148, 148, 148],\n       [141, 141, 139, ..., 149, 148, 148],\n       ...,\n       [ 50,  73,  83, ...,  47,  44,  29],\n       [ 67,  73,  72, ...,  78,  85,  12],\n       [ 66,  61,  55, ...,  54,  83,  49]], dtype=uint8)\n array([1., 0.])]\n"
    }
   ],
   "source": [
    "print(training_data[1])"
   ]
  },
  {
   "cell_type": "code",
   "execution_count": 7,
   "metadata": {},
   "outputs": [
    {
     "output_type": "execute_result",
     "data": {
      "text/plain": "<matplotlib.image.AxesImage at 0x19ad0b4be88>"
     },
     "metadata": {},
     "execution_count": 7
    },
    {
     "output_type": "display_data",
     "data": {
      "text/plain": "<Figure size 432x288 with 1 Axes>",
      "image/svg+xml": "<?xml version=\"1.0\" encoding=\"utf-8\" standalone=\"no\"?>\r\n<!DOCTYPE svg PUBLIC \"-//W3C//DTD SVG 1.1//EN\"\r\n  \"http://www.w3.org/Graphics/SVG/1.1/DTD/svg11.dtd\">\r\n<!-- Created with matplotlib (https://matplotlib.org/) -->\r\n<svg height=\"250.142944pt\" version=\"1.1\" viewBox=\"0 0 251.565 250.142944\" width=\"251.565pt\" xmlns=\"http://www.w3.org/2000/svg\" xmlns:xlink=\"http://www.w3.org/1999/xlink\">\r\n <defs>\r\n  <style type=\"text/css\">\r\n*{stroke-linecap:butt;stroke-linejoin:round;}\r\n  </style>\r\n </defs>\r\n <g id=\"figure_1\">\r\n  <g id=\"patch_1\">\r\n   <path d=\"M 0 250.142944 \r\nL 251.565 250.142944 \r\nL 251.565 0 \r\nL 0 0 \r\nz\r\n\" style=\"fill:none;\"/>\r\n  </g>\r\n  <g id=\"axes_1\">\r\n   <g id=\"patch_2\">\r\n    <path d=\"M 26.925 226.264819 \r\nL 244.365 226.264819 \r\nL 244.365 8.824819 \r\nL 26.925 8.824819 \r\nz\r\n\" style=\"fill:#ffffff;\"/>\r\n   </g>\r\n   <g clip-path=\"url(#p1cf3f59080)\">\r\n    <image height=\"218\" id=\"image37c48e773a\" transform=\"scale(1 -1)translate(0 -218)\" width=\"218\" x=\"26.925\" xlink:href=\"data:image/png;base64,\r\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\" y=\"-8.264819\"/>\r\n   </g>\r\n   <g id=\"matplotlib.axis_1\">\r\n    <g id=\"xtick_1\">\r\n     <g id=\"line2d_1\">\r\n      <defs>\r\n       <path d=\"M 0 0 \r\nL 0 3.5 \r\n\" id=\"mcdd4b722de\" style=\"stroke:#000000;stroke-width:0.8;\"/>\r\n      </defs>\r\n      <g>\r\n       <use style=\"stroke:#000000;stroke-width:0.8;\" x=\"29.0994\" xlink:href=\"#mcdd4b722de\" y=\"226.264819\"/>\r\n      </g>\r\n     </g>\r\n     <g id=\"text_1\">\r\n      <!-- 0 -->\r\n      <defs>\r\n       <path d=\"M 31.78125 66.40625 \r\nQ 24.171875 66.40625 20.328125 58.90625 \r\nQ 16.5 51.421875 16.5 36.375 \r\nQ 16.5 21.390625 20.328125 13.890625 \r\nQ 24.171875 6.390625 31.78125 6.390625 \r\nQ 39.453125 6.390625 43.28125 13.890625 \r\nQ 47.125 21.390625 47.125 36.375 \r\nQ 47.125 51.421875 43.28125 58.90625 \r\nQ 39.453125 66.40625 31.78125 66.40625 \r\nz\r\nM 31.78125 74.21875 \r\nQ 44.046875 74.21875 50.515625 64.515625 \r\nQ 56.984375 54.828125 56.984375 36.375 \r\nQ 56.984375 17.96875 50.515625 8.265625 \r\nQ 44.046875 -1.421875 31.78125 -1.421875 \r\nQ 19.53125 -1.421875 13.0625 8.265625 \r\nQ 6.59375 17.96875 6.59375 36.375 \r\nQ 6.59375 54.828125 13.0625 64.515625 \r\nQ 19.53125 74.21875 31.78125 74.21875 \r\nz\r\n\" id=\"DejaVuSans-48\"/>\r\n      </defs>\r\n      <g transform=\"translate(25.91815 240.863256)scale(0.1 -0.1)\">\r\n       <use xlink:href=\"#DejaVuSans-48\"/>\r\n      </g>\r\n     </g>\r\n    </g>\r\n    <g id=\"xtick_2\">\r\n     <g id=\"line2d_2\">\r\n      <g>\r\n       <use style=\"stroke:#000000;stroke-width:0.8;\" x=\"72.5874\" xlink:href=\"#mcdd4b722de\" y=\"226.264819\"/>\r\n      </g>\r\n     </g>\r\n     <g id=\"text_2\">\r\n      <!-- 10 -->\r\n      <defs>\r\n       <path d=\"M 12.40625 8.296875 \r\nL 28.515625 8.296875 \r\nL 28.515625 63.921875 \r\nL 10.984375 60.40625 \r\nL 10.984375 69.390625 \r\nL 28.421875 72.90625 \r\nL 38.28125 72.90625 \r\nL 38.28125 8.296875 \r\nL 54.390625 8.296875 \r\nL 54.390625 0 \r\nL 12.40625 0 \r\nz\r\n\" id=\"DejaVuSans-49\"/>\r\n      </defs>\r\n      <g transform=\"translate(66.2249 240.863256)scale(0.1 -0.1)\">\r\n       <use xlink:href=\"#DejaVuSans-49\"/>\r\n       <use x=\"63.623047\" xlink:href=\"#DejaVuSans-48\"/>\r\n      </g>\r\n     </g>\r\n    </g>\r\n    <g id=\"xtick_3\">\r\n     <g id=\"line2d_3\">\r\n      <g>\r\n       <use style=\"stroke:#000000;stroke-width:0.8;\" x=\"116.0754\" xlink:href=\"#mcdd4b722de\" y=\"226.264819\"/>\r\n      </g>\r\n     </g>\r\n     <g id=\"text_3\">\r\n      <!-- 20 -->\r\n      <defs>\r\n       <path d=\"M 19.1875 8.296875 \r\nL 53.609375 8.296875 \r\nL 53.609375 0 \r\nL 7.328125 0 \r\nL 7.328125 8.296875 \r\nQ 12.9375 14.109375 22.625 23.890625 \r\nQ 32.328125 33.6875 34.8125 36.53125 \r\nQ 39.546875 41.84375 41.421875 45.53125 \r\nQ 43.3125 49.21875 43.3125 52.78125 \r\nQ 43.3125 58.59375 39.234375 62.25 \r\nQ 35.15625 65.921875 28.609375 65.921875 \r\nQ 23.96875 65.921875 18.8125 64.3125 \r\nQ 13.671875 62.703125 7.8125 59.421875 \r\nL 7.8125 69.390625 \r\nQ 13.765625 71.78125 18.9375 73 \r\nQ 24.125 74.21875 28.421875 74.21875 \r\nQ 39.75 74.21875 46.484375 68.546875 \r\nQ 53.21875 62.890625 53.21875 53.421875 \r\nQ 53.21875 48.921875 51.53125 44.890625 \r\nQ 49.859375 40.875 45.40625 35.40625 \r\nQ 44.1875 33.984375 37.640625 27.21875 \r\nQ 31.109375 20.453125 19.1875 8.296875 \r\nz\r\n\" id=\"DejaVuSans-50\"/>\r\n      </defs>\r\n      <g transform=\"translate(109.7129 240.863256)scale(0.1 -0.1)\">\r\n       <use xlink:href=\"#DejaVuSans-50\"/>\r\n       <use x=\"63.623047\" xlink:href=\"#DejaVuSans-48\"/>\r\n      </g>\r\n     </g>\r\n    </g>\r\n    <g id=\"xtick_4\">\r\n     <g id=\"line2d_4\">\r\n      <g>\r\n       <use style=\"stroke:#000000;stroke-width:0.8;\" x=\"159.5634\" xlink:href=\"#mcdd4b722de\" y=\"226.264819\"/>\r\n      </g>\r\n     </g>\r\n     <g id=\"text_4\">\r\n      <!-- 30 -->\r\n      <defs>\r\n       <path d=\"M 40.578125 39.3125 \r\nQ 47.65625 37.796875 51.625 33 \r\nQ 55.609375 28.21875 55.609375 21.1875 \r\nQ 55.609375 10.40625 48.1875 4.484375 \r\nQ 40.765625 -1.421875 27.09375 -1.421875 \r\nQ 22.515625 -1.421875 17.65625 -0.515625 \r\nQ 12.796875 0.390625 7.625 2.203125 \r\nL 7.625 11.71875 \r\nQ 11.71875 9.328125 16.59375 8.109375 \r\nQ 21.484375 6.890625 26.8125 6.890625 \r\nQ 36.078125 6.890625 40.9375 10.546875 \r\nQ 45.796875 14.203125 45.796875 21.1875 \r\nQ 45.796875 27.640625 41.28125 31.265625 \r\nQ 36.765625 34.90625 28.71875 34.90625 \r\nL 20.21875 34.90625 \r\nL 20.21875 43.015625 \r\nL 29.109375 43.015625 \r\nQ 36.375 43.015625 40.234375 45.921875 \r\nQ 44.09375 48.828125 44.09375 54.296875 \r\nQ 44.09375 59.90625 40.109375 62.90625 \r\nQ 36.140625 65.921875 28.71875 65.921875 \r\nQ 24.65625 65.921875 20.015625 65.03125 \r\nQ 15.375 64.15625 9.8125 62.3125 \r\nL 9.8125 71.09375 \r\nQ 15.4375 72.65625 20.34375 73.4375 \r\nQ 25.25 74.21875 29.59375 74.21875 \r\nQ 40.828125 74.21875 47.359375 69.109375 \r\nQ 53.90625 64.015625 53.90625 55.328125 \r\nQ 53.90625 49.265625 50.4375 45.09375 \r\nQ 46.96875 40.921875 40.578125 39.3125 \r\nz\r\n\" id=\"DejaVuSans-51\"/>\r\n      </defs>\r\n      <g transform=\"translate(153.2009 240.863256)scale(0.1 -0.1)\">\r\n       <use xlink:href=\"#DejaVuSans-51\"/>\r\n       <use x=\"63.623047\" xlink:href=\"#DejaVuSans-48\"/>\r\n      </g>\r\n     </g>\r\n    </g>\r\n    <g id=\"xtick_5\">\r\n     <g id=\"line2d_5\">\r\n      <g>\r\n       <use style=\"stroke:#000000;stroke-width:0.8;\" x=\"203.0514\" xlink:href=\"#mcdd4b722de\" y=\"226.264819\"/>\r\n      </g>\r\n     </g>\r\n     <g id=\"text_5\">\r\n      <!-- 40 -->\r\n      <defs>\r\n       <path d=\"M 37.796875 64.3125 \r\nL 12.890625 25.390625 \r\nL 37.796875 25.390625 \r\nz\r\nM 35.203125 72.90625 \r\nL 47.609375 72.90625 \r\nL 47.609375 25.390625 \r\nL 58.015625 25.390625 \r\nL 58.015625 17.1875 \r\nL 47.609375 17.1875 \r\nL 47.609375 0 \r\nL 37.796875 0 \r\nL 37.796875 17.1875 \r\nL 4.890625 17.1875 \r\nL 4.890625 26.703125 \r\nz\r\n\" id=\"DejaVuSans-52\"/>\r\n      </defs>\r\n      <g transform=\"translate(196.6889 240.863256)scale(0.1 -0.1)\">\r\n       <use xlink:href=\"#DejaVuSans-52\"/>\r\n       <use x=\"63.623047\" xlink:href=\"#DejaVuSans-48\"/>\r\n      </g>\r\n     </g>\r\n    </g>\r\n   </g>\r\n   <g id=\"matplotlib.axis_2\">\r\n    <g id=\"ytick_1\">\r\n     <g id=\"line2d_6\">\r\n      <defs>\r\n       <path d=\"M 0 0 \r\nL -3.5 0 \r\n\" id=\"m42a11a4db6\" style=\"stroke:#000000;stroke-width:0.8;\"/>\r\n      </defs>\r\n      <g>\r\n       <use style=\"stroke:#000000;stroke-width:0.8;\" x=\"26.925\" xlink:href=\"#m42a11a4db6\" y=\"10.999219\"/>\r\n      </g>\r\n     </g>\r\n     <g id=\"text_6\">\r\n      <!-- 0 -->\r\n      <g transform=\"translate(13.5625 14.798437)scale(0.1 -0.1)\">\r\n       <use xlink:href=\"#DejaVuSans-48\"/>\r\n      </g>\r\n     </g>\r\n    </g>\r\n    <g id=\"ytick_2\">\r\n     <g id=\"line2d_7\">\r\n      <g>\r\n       <use style=\"stroke:#000000;stroke-width:0.8;\" x=\"26.925\" xlink:href=\"#m42a11a4db6\" y=\"54.487219\"/>\r\n      </g>\r\n     </g>\r\n     <g id=\"text_7\">\r\n      <!-- 10 -->\r\n      <g transform=\"translate(7.2 58.286437)scale(0.1 -0.1)\">\r\n       <use xlink:href=\"#DejaVuSans-49\"/>\r\n       <use x=\"63.623047\" xlink:href=\"#DejaVuSans-48\"/>\r\n      </g>\r\n     </g>\r\n    </g>\r\n    <g id=\"ytick_3\">\r\n     <g id=\"line2d_8\">\r\n      <g>\r\n       <use style=\"stroke:#000000;stroke-width:0.8;\" x=\"26.925\" xlink:href=\"#m42a11a4db6\" y=\"97.975219\"/>\r\n      </g>\r\n     </g>\r\n     <g id=\"text_8\">\r\n      <!-- 20 -->\r\n      <g transform=\"translate(7.2 101.774437)scale(0.1 -0.1)\">\r\n       <use xlink:href=\"#DejaVuSans-50\"/>\r\n       <use x=\"63.623047\" xlink:href=\"#DejaVuSans-48\"/>\r\n      </g>\r\n     </g>\r\n    </g>\r\n    <g id=\"ytick_4\">\r\n     <g id=\"line2d_9\">\r\n      <g>\r\n       <use style=\"stroke:#000000;stroke-width:0.8;\" x=\"26.925\" xlink:href=\"#m42a11a4db6\" y=\"141.463219\"/>\r\n      </g>\r\n     </g>\r\n     <g id=\"text_9\">\r\n      <!-- 30 -->\r\n      <g transform=\"translate(7.2 145.262437)scale(0.1 -0.1)\">\r\n       <use xlink:href=\"#DejaVuSans-51\"/>\r\n       <use x=\"63.623047\" xlink:href=\"#DejaVuSans-48\"/>\r\n      </g>\r\n     </g>\r\n    </g>\r\n    <g id=\"ytick_5\">\r\n     <g id=\"line2d_10\">\r\n      <g>\r\n       <use style=\"stroke:#000000;stroke-width:0.8;\" x=\"26.925\" xlink:href=\"#m42a11a4db6\" y=\"184.951219\"/>\r\n      </g>\r\n     </g>\r\n     <g id=\"text_10\">\r\n      <!-- 40 -->\r\n      <g transform=\"translate(7.2 188.750437)scale(0.1 -0.1)\">\r\n       <use xlink:href=\"#DejaVuSans-52\"/>\r\n       <use x=\"63.623047\" xlink:href=\"#DejaVuSans-48\"/>\r\n      </g>\r\n     </g>\r\n    </g>\r\n   </g>\r\n   <g id=\"patch_3\">\r\n    <path d=\"M 26.925 226.264819 \r\nL 26.925 8.824819 \r\n\" style=\"fill:none;stroke:#000000;stroke-linecap:square;stroke-linejoin:miter;stroke-width:0.8;\"/>\r\n   </g>\r\n   <g id=\"patch_4\">\r\n    <path d=\"M 244.365 226.264819 \r\nL 244.365 8.824819 \r\n\" style=\"fill:none;stroke:#000000;stroke-linecap:square;stroke-linejoin:miter;stroke-width:0.8;\"/>\r\n   </g>\r\n   <g id=\"patch_5\">\r\n    <path d=\"M 26.925 226.264819 \r\nL 244.365 226.264819 \r\n\" style=\"fill:none;stroke:#000000;stroke-linecap:square;stroke-linejoin:miter;stroke-width:0.8;\"/>\r\n   </g>\r\n   <g id=\"patch_6\">\r\n    <path d=\"M 26.925 8.824819 \r\nL 244.365 8.824819 \r\n\" style=\"fill:none;stroke:#000000;stroke-linecap:square;stroke-linejoin:miter;stroke-width:0.8;\"/>\r\n   </g>\r\n  </g>\r\n </g>\r\n <defs>\r\n  <clipPath id=\"p1cf3f59080\">\r\n   <rect height=\"217.44\" width=\"217.44\" x=\"26.925\" y=\"8.824819\"/>\r\n  </clipPath>\r\n </defs>\r\n</svg>\r\n",
      "image/png": "[encoded data removed]"
     },
     "metadata": {
      "needs_background": "light"
     }
    }
   ],
   "source": [
    "import matplotlib.pyplot as plt\n",
    "plt.imshow(training_data[1][0],cmap=\"gray\" )"
   ]
  },
  {
   "cell_type": "code",
   "execution_count": 8,
   "metadata": {
    "tags": []
   },
   "outputs": [
    {
     "output_type": "stream",
     "name": "stdout",
     "text": "torch.Size([128, 2, 2])\n"
    }
   ],
   "source": [
    "import torch\n",
    "import torch.nn as nn\n",
    "import torch.nn.functional as F\n",
    "\n",
    "\n",
    "class Net(nn.Module):\n",
    "    def __init__(self):\n",
    "        super().__init__()\n",
    "        self.conv1 = nn.Conv2d(1,32,5) #nn.Conv2d(input,output,kernal size(kernal is the size of the matrix that rolls over the data of the image))\n",
    "        self.conv2 = nn.Conv2d(32,64,5)\n",
    "        self.conv3 = nn.Conv2d(64,128,5)\n",
    "        \n",
    "        x = torch.randn(50,50).view(-1,1,50,50)\n",
    "        self._to_linear= None\n",
    "        self.convs(x)\n",
    "        \n",
    "        \n",
    "        self.fc1 = nn.Linear(self._to_linear,512)\n",
    "        self.fc2 = nn.Linear(512,2)\n",
    "        \n",
    "    def convs(self,x):\n",
    "        x = F.max_pool2d(F.relu(self.conv1(x)),(2,2))\n",
    "        x = F.max_pool2d(F.relu(self.conv2(x)),(2,2))\n",
    "        x = F.max_pool2d(F.relu(self.conv3(x)),(2,2))\n",
    "        print(x[0].shape)\n",
    "        if self._to_linear is None:\n",
    "            self._to_linear = x[0].shape[0]*x[0].shape[1]*x[0].shape[2]\n",
    "        return x\n",
    "    \n",
    "    def forward(self,x):\n",
    "        x = self.convs(x)\n",
    "        x = x.view(-1,self._to_linear)\n",
    "        x = F.relu(self.fc1(x))\n",
    "        x = self.fc2(x)\n",
    "        \n",
    "        return F.softmax(x, dim = 1 )\n",
    "        \n",
    "\n",
    "net = Net()"
   ]
  },
  {
   "cell_type": "code",
   "execution_count": 9,
   "metadata": {
    "tags": []
   },
   "outputs": [
    {
     "output_type": "stream",
     "name": "stdout",
     "text": "2494\n"
    }
   ],
   "source": [
    "import torch.optim as optim\n",
    "\n",
    "\n",
    "X = torch.Tensor([i[0] for i in training_data]).view(-1,50,50)\n",
    "X = X/255.0\n",
    "y= torch.Tensor([i[1] for i in training_data])\n",
    "\n",
    "VAL_PCT = 0.1\n",
    "val_size = int(len(X)*VAL_PCT)\n",
    "print(val_size)\n"
   ]
  },
  {
   "cell_type": "code",
   "execution_count": 10,
   "metadata": {
    "tags": []
   },
   "outputs": [
    {
     "output_type": "stream",
     "name": "stdout",
     "text": "22452\n2494\n"
    }
   ],
   "source": [
    "train_X = X[:-val_size]\n",
    "train_y = y[:-val_size]\n",
    "\n",
    "test_X = X[-val_size:]\n",
    "test_y = y[-val_size:]\n",
    "print(len(train_X))\n",
    "print(len(test_X))"
   ]
  },
  {
   "cell_type": "code",
   "execution_count": 11,
   "metadata": {},
   "outputs": [],
   "source": [
    "BATCH_SIZE = 100\n",
    "EPOCHS = 3\n",
    "def train(net):\n",
    "    optimizer = optim.Adam(net.parameters(), lr=0.001)\n",
    "    loss_function = nn.MSELoss()\n",
    "    for epoch in range (EPOCHS):\n",
    "        for i in tqdm(range(0, len(train_X), BATCH_SIZE)):\n",
    "            #print(i, i+BATCH_SIZE)\n",
    "            batch_X = train_X[i:i+BATCH_SIZE].view(-1,1,50,50)\n",
    "            batch_y = train_y[i:i+BATCH_SIZE]\n",
    "\n",
    "            net.zero_grad()\n",
    "            outputs = net(batch_X)\n",
    "            loss = loss_function(outputs, batch_y)\n",
    "            loss.backward()\n",
    "            optimizer.step()\n",
    "        \n",
    "# print(loss)\n",
    "        "
   ]
  },
  {
   "cell_type": "code",
   "execution_count": 12,
   "metadata": {
    "collapsed": true,
    "jupyter": {
     "outputs_hidden": true
    },
    "tags": []
   },
   "outputs": [
    {
     "output_type": "stream",
     "name": "stderr",
     "text": "2])\ntorch.Size([128, 2, 2])\ntorch.Size([128, 2, 2])\ntorch.Size([128, 2, 2])\ntorch.Size([128, 2, 2])\ntorch.Size([128, 2, 2])\ntorch.Size([128, 2, 2])\ntorch.Size([128, 2, 2])\ntorch.Size([128, 2, 2])\ntorch.Size([128, 2, 2])\ntorch.Size([128, 2, 2])\ntorch.Size([128, 2, 2])\ntorch.Size([128, 2, 2])\ntorch.Size([128, 2, 2])\ntorch.Size([128, 2, 2])\ntorch.Size([128, 2, 2])\ntorch.Size([128, 2, 2])\ntorch.Size([128, 2, 2])\ntorch.Size([128, 2, 2])\ntorch.Size([128, 2, 2])\ntorch.Size([128, 2, 2])\ntorch.Size([128, 2, 2])\ntorch.Size([128, 2, 2])\ntorch.Size([128, 2, 2])\ntorch.Size([128, 2, 2])\ntorch.Size([128, 2, 2])\ntorch.Size([128, 2, 2])\ntorch.Size([128, 2, 2])\ntorch.Size([128, 2, 2])\ntorch.Size([128, 2, 2])\ntorch.Size([128, 2, 2])\ntorch.Size([128, 2, 2])\ntorch.Size([128, 2, 2])\ntorch.Size([128, 2, 2])\ntorch.Size([128, 2, 2])\ntorch.Size([128, 2, 2])\ntorch.Size([128, 2, 2])\ntorch.Size([128, 2, 2])\ntorch.Size([128, 2, 2])\n 70%|██████▉   | 1744/2494 [00:05<00:02, 355.07it/s]\ntorch.Size([128, 2, 2])\ntorch.Size([128, 2, 2])\ntorch.Size([128, 2, 2])\ntorch.Size([128, 2, 2])\ntorch.Size([128, 2, 2])\ntorch.Size([128, 2, 2])\ntorch.Size([128, 2, 2])\ntorch.Size([128, 2, 2])\ntorch.Size([128, 2, 2])\ntorch.Size([128, 2, 2])\ntorch.Size([128, 2, 2])\ntorch.Size([128, 2, 2])\ntorch.Size([128, 2, 2])\ntorch.Size([128, 2, 2])\ntorch.Size([128, 2, 2])\ntorch.Size([128, 2, 2])\ntorch.Size([128, 2, 2])\ntorch.Size([128, 2, 2])\ntorch.Size([128, 2, 2])\ntorch.Size([128, 2, 2])\ntorch.Size([128, 2, 2])\ntorch.Size([128, 2, 2])\ntorch.Size([128, 2, 2])\ntorch.Size([128, 2, 2])\ntorch.Size([128, 2, 2])\ntorch.Size([128, 2, 2])\ntorch.Size([128, 2, 2])\ntorch.Size([128, 2, 2])\ntorch.Size([128, 2, 2])\ntorch.Size([128, 2, 2])\ntorch.Size([128, 2, 2])\ntorch.Size([128, 2, 2])\ntorch.Size([128, 2, 2])\ntorch.Size([128, 2, 2])\ntorch.Size([128, 2, 2])\ntorch.Size([128, 2, 2])\ntorch.Size([128, 2, 2])\ntorch.Size([128, 2, 2])\ntorch.Size([128, 2, 2])\ntorch.Size([128, 2, 2])\ntorch.Size([128, 2, 2])\ntorch.Size([128, 2, 2])\ntorch.Size([128, 2, 2])\ntorch.Size([128, 2, 2])\ntorch.Size([128, 2, 2])\ntorch.Size([128, 2, 2])\ntorch.Size([128, 2, 2])\ntorch.Size([128, 2, 2])\ntorch.Size([128, 2, 2])\ntorch.Size([128, 2, 2])\ntorch.Size([128, 2, 2])\ntorch.Size([128, 2, 2])\ntorch.Size([128, 2, 2])\ntorch.Size([128, 2, 2])\ntorch.Size([128, 2, 2])\ntorch.Size([128, 2, 2])\ntorch.Size([128, 2, 2])\ntorch.Size([128, 2, 2])\ntorch.Size([128, 2, 2])\ntorch.Size([128, 2, 2])\n 73%|███████▎  | 1815/2494 [00:05<00:02, 339.17it/s]\ntorch.Size([128, 2, 2])\ntorch.Size([128, 2, 2])\ntorch.Size([128, 2, 2])\ntorch.Size([128, 2, 2])\ntorch.Size([128, 2, 2])\ntorch.Size([128, 2, 2])\ntorch.Size([128, 2, 2])\ntorch.Size([128, 2, 2])\ntorch.Size([128, 2, 2])\ntorch.Size([128, 2, 2])\ntorch.Size([128, 2, 2])\ntorch.Size([128, 2, 2])\ntorch.Size([128, 2, 2])\ntorch.Size([128, 2, 2])\ntorch.Size([128, 2, 2])\ntorch.Size([128, 2, 2])\ntorch.Size([128, 2, 2])\ntorch.Size([128, 2, 2])\ntorch.Size([128, 2, 2])\ntorch.Size([128, 2, 2])\ntorch.Size([128, 2, 2])\ntorch.Size([128, 2, 2])\ntorch.Size([128, 2, 2])\ntorch.Size([128, 2, 2])\ntorch.Size([128, 2, 2])\ntorch.Size([128, 2, 2])\ntorch.Size([128, 2, 2])\ntorch.Size([128, 2, 2])\ntorch.Size([128, 2, 2])\ntorch.Size([128, 2, 2])\ntorch.Size([128, 2, 2])\ntorch.Size([128, 2, 2])\ntorch.Size([128, 2, 2])\ntorch.Size([128, 2, 2])\ntorch.Size([128, 2, 2])\ntorch.Size([128, 2, 2])\ntorch.Size([128, 2, 2])\ntorch.Size([128, 2, 2])\ntorch.Size([128, 2, 2])\ntorch.Size([128, 2, 2])\ntorch.Size([128, 2, 2])\ntorch.Size([128, 2, 2])\ntorch.Size([128, 2, 2])\ntorch.Size([128, 2, 2])\ntorch.Size([128, 2, 2])\ntorch.Size([128, 2, 2])\ntorch.Size([128, 2, 2])\ntorch.Size([128, 2, 2])\ntorch.Size([128, 2, 2])\ntorch.Size([128, 2, 2])\ntorch.Size([128, 2, 2])\ntorch.Size([128, 2, 2])\ntorch.Size([128, 2, 2])\ntorch.Size([128, 2, 2])\ntorch.Size([128, 2, 2])\ntorch.Size([128, 2, 2])\ntorch.Size([128, 2, 2])\ntorch.Size([128, 2, 2])\ntorch.Size([128, 2, 2])\ntorch.Size([128, 2, 2])\n 76%|███████▌  | 1890/2494 [00:05<00:01, 349.34it/s]\ntorch.Size([128, 2, 2])\ntorch.Size([128, 2, 2])\ntorch.Size([128, 2, 2])\ntorch.Size([128, 2, 2])\ntorch.Size([128, 2, 2])\ntorch.Size([128, 2, 2])\ntorch.Size([128, 2, 2])\ntorch.Size([128, 2, 2])\ntorch.Size([128, 2, 2])\ntorch.Size([128, 2, 2])\ntorch.Size([128, 2, 2])\ntorch.Size([128, 2, 2])\ntorch.Size([128, 2, 2])\ntorch.Size([128, 2, 2])\ntorch.Size([128, 2, 2])\ntorch.Size([128, 2, 2])\ntorch.Size([128, 2, 2])\ntorch.Size([128, 2, 2])\ntorch.Size([128, 2, 2])\ntorch.Size([128, 2, 2])\ntorch.Size([128, 2, 2])\ntorch.Size([128, 2, 2])\ntorch.Size([128, 2, 2])\ntorch.Size([128, 2, 2])\ntorch.Size([128, 2, 2])\ntorch.Size([128, 2, 2])\ntorch.Size([128, 2, 2])\ntorch.Size([128, 2, 2])\ntorch.Size([128, 2, 2])\ntorch.Size([128, 2, 2])\ntorch.Size([128, 2, 2])\ntorch.Size([128, 2, 2])\ntorch.Size([128, 2, 2])\ntorch.Size([128, 2, 2])\ntorch.Size([128, 2, 2])\ntorch.Size([128, 2, 2])\ntorch.Size([128, 2, 2])\ntorch.Size([128, 2, 2])\ntorch.Size([128, 2, 2])\ntorch.Size([128, 2, 2])\ntorch.Size([128, 2, 2])\ntorch.Size([128, 2, 2])\ntorch.Size([128, 2, 2])\ntorch.Size([128, 2, 2])\ntorch.Size([128, 2, 2])\ntorch.Size([128, 2, 2])\ntorch.Size([128, 2, 2])\ntorch.Size([128, 2, 2])\ntorch.Size([128, 2, 2])\ntorch.Size([128, 2, 2])\ntorch.Size([128, 2, 2])\ntorch.Size([128, 2, 2])\ntorch.Size([128, 2, 2])\ntorch.Size([128, 2, 2])\ntorch.Size([128, 2, 2])\ntorch.Size([128, 2, 2])\ntorch.Size([128, 2, 2])\ntorch.Size([128, 2, 2])\ntorch.Size([128, 2, 2])\ntorch.Size([128, 2, 2])\ntorch.Size([128, 2, 2])\ntorch.Size([128, 2, 2])\ntorch.Size([128, 2, 2])\ntorch.Size([128, 2, 2])\ntorch.Size([128, 2, 2])\ntorch.Size([128, 2, 2])\ntorch.Size([128, 2, 2])\ntorch.Size([128, 2, 2])\ntorch.Size([128, 2, 2])\ntorch.Size([128, 2, 2])\n 79%|███████▉  | 1965/2494 [00:05<00:01, 359.02it/s]\ntorch.Size([128, 2, 2])\ntorch.Size([128, 2, 2])\ntorch.Size([128, 2, 2])\ntorch.Size([128, 2, 2])\ntorch.Size([128, 2, 2])\ntorch.Size([128, 2, 2])\ntorch.Size([128, 2, 2])\ntorch.Size([128, 2, 2])\ntorch.Size([128, 2, 2])\ntorch.Size([128, 2, 2])\ntorch.Size([128, 2, 2])\ntorch.Size([128, 2, 2])\ntorch.Size([128, 2, 2])\ntorch.Size([128, 2, 2])\ntorch.Size([128, 2, 2])\ntorch.Size([128, 2, 2])\ntorch.Size([128, 2, 2])\ntorch.Size([128, 2, 2])\ntorch.Size([128, 2, 2])\ntorch.Size([128, 2, 2])\ntorch.Size([128, 2, 2])\ntorch.Size([128, 2, 2])\ntorch.Size([128, 2, 2])\ntorch.Size([128, 2, 2])\ntorch.Size([128, 2, 2])\ntorch.Size([128, 2, 2])\ntorch.Size([128, 2, 2])\ntorch.Size([128, 2, 2])\ntorch.Size([128, 2, 2])\ntorch.Size([128, 2, 2])\ntorch.Size([128, 2, 2])\ntorch.Size([128, 2, 2])\ntorch.Size([128, 2, 2])\ntorch.Size([128, 2, 2])\ntorch.Size([128, 2, 2])\ntorch.Size([128, 2, 2])\ntorch.Size([128, 2, 2])\ntorch.Size([128, 2, 2])\ntorch.Size([128, 2, 2])\ntorch.Size([128, 2, 2])\ntorch.Size([128, 2, 2])\ntorch.Size([128, 2, 2])\ntorch.Size([128, 2, 2])\ntorch.Size([128, 2, 2])\ntorch.Size([128, 2, 2])\ntorch.Size([128, 2, 2])\ntorch.Size([128, 2, 2])\ntorch.Size([128, 2, 2])\ntorch.Size([128, 2, 2])\ntorch.Size([128, 2, 2])\ntorch.Size([128, 2, 2])\ntorch.Size([128, 2, 2])\ntorch.Size([128, 2, 2])\ntorch.Size([128, 2, 2])\ntorch.Size([128, 2, 2])\ntorch.Size([128, 2, 2])\ntorch.Size([128, 2, 2])\ntorch.Size([128, 2, 2])\ntorch.Size([128, 2, 2])\ntorch.Size([128, 2, 2])\ntorch.Size([128, 2, 2])\ntorch.Size([128, 2, 2])\ntorch.Size([128, 2, 2])\ntorch.Size([128, 2, 2])\ntorch.Size([128, 2, 2])\ntorch.Size([128, 2, 2])\ntorch.Size([128, 2, 2])\ntorch.Size([128, 2, 2])\n 82%|████████▏ | 2040/2494 [00:06<00:01, 364.46it/s]\ntorch.Size([128, 2, 2])\ntorch.Size([128, 2, 2])\ntorch.Size([128, 2, 2])\ntorch.Size([128, 2, 2])\ntorch.Size([128, 2, 2])\ntorch.Size([128, 2, 2])\ntorch.Size([128, 2, 2])\ntorch.Size([128, 2, 2])\ntorch.Size([128, 2, 2])\ntorch.Size([128, 2, 2])\ntorch.Size([128, 2, 2])\ntorch.Size([128, 2, 2])\ntorch.Size([128, 2, 2])\ntorch.Size([128, 2, 2])\ntorch.Size([128, 2, 2])\ntorch.Size([128, 2, 2])\ntorch.Size([128, 2, 2])\ntorch.Size([128, 2, 2])\ntorch.Size([128, 2, 2])\ntorch.Size([128, 2, 2])\ntorch.Size([128, 2, 2])\ntorch.Size([128, 2, 2])\ntorch.Size([128, 2, 2])\ntorch.Size([128, 2, 2])\ntorch.Size([128, 2, 2])\ntorch.Size([128, 2, 2])\ntorch.Size([128, 2, 2])\ntorch.Size([128, 2, 2])\ntorch.Size([128, 2, 2])\ntorch.Size([128, 2, 2])\ntorch.Size([128, 2, 2])\ntorch.Size([128, 2, 2])\ntorch.Size([128, 2, 2])\ntorch.Size([128, 2, 2])\ntorch.Size([128, 2, 2])\ntorch.Size([128, 2, 2])\ntorch.Size([128, 2, 2])\ntorch.Size([128, 2, 2])\ntorch.Size([128, 2, 2])\ntorch.Size([128, 2, 2])\ntorch.Size([128, 2, 2])\ntorch.Size([128, 2, 2])\ntorch.Size([128, 2, 2])\ntorch.Size([128, 2, 2])\ntorch.Size([128, 2, 2])\ntorch.Size([128, 2, 2])\ntorch.Size([128, 2, 2])\ntorch.Size([128, 2, 2])\ntorch.Size([128, 2, 2])\ntorch.Size([128, 2, 2])\ntorch.Size([128, 2, 2])\ntorch.Size([128, 2, 2])\ntorch.Size([128, 2, 2])\ntorch.Size([128, 2, 2])\ntorch.Size([128, 2, 2])\ntorch.Size([128, 2, 2])\ntorch.Size([128, 2, 2])\ntorch.Size([128, 2, 2])\ntorch.Size([128, 2, 2])\ntorch.Size([128, 2, 2])\ntorch.Size([128, 2, 2])\ntorch.Size([128, 2, 2])\ntorch.Size([128, 2, 2])\ntorch.Size([128, 2, 2])\ntorch.Size([128, 2, 2])\ntorch.Size([128, 2, 2])\n 85%|████████▍ | 2114/2494 [00:06<00:01, 365.15it/s]\ntorch.Size([128, 2, 2])\ntorch.Size([128, 2, 2])\ntorch.Size([128, 2, 2])\ntorch.Size([128, 2, 2])\ntorch.Size([128, 2, 2])\ntorch.Size([128, 2, 2])\ntorch.Size([128, 2, 2])\ntorch.Size([128, 2, 2])\ntorch.Size([128, 2, 2])\ntorch.Size([128, 2, 2])\ntorch.Size([128, 2, 2])\ntorch.Size([128, 2, 2])\ntorch.Size([128, 2, 2])\ntorch.Size([128, 2, 2])\ntorch.Size([128, 2, 2])\ntorch.Size([128, 2, 2])\ntorch.Size([128, 2, 2])\ntorch.Size([128, 2, 2])\ntorch.Size([128, 2, 2])\ntorch.Size([128, 2, 2])\ntorch.Size([128, 2, 2])\ntorch.Size([128, 2, 2])\ntorch.Size([128, 2, 2])\ntorch.Size([128, 2, 2])\ntorch.Size([128, 2, 2])\ntorch.Size([128, 2, 2])\ntorch.Size([128, 2, 2])\ntorch.Size([128, 2, 2])\ntorch.Size([128, 2, 2])\ntorch.Size([128, 2, 2])\ntorch.Size([128, 2, 2])\ntorch.Size([128, 2, 2])\ntorch.Size([128, 2, 2])\ntorch.Size([128, 2, 2])\ntorch.Size([128, 2, 2])\ntorch.Size([128, 2, 2])\ntorch.Size([128, 2, 2])\ntorch.Size([128, 2, 2])\ntorch.Size([128, 2, 2])\ntorch.Size([128, 2, 2])\ntorch.Size([128, 2, 2])\ntorch.Size([128, 2, 2])\ntorch.Size([128, 2, 2])\ntorch.Size([128, 2, 2])\ntorch.Size([128, 2, 2])\ntorch.Size([128, 2, 2])\ntorch.Size([128, 2, 2])\ntorch.Size([128, 2, 2])\ntorch.Size([128, 2, 2])\ntorch.Size([128, 2, 2])\ntorch.Size([128, 2, 2])\ntorch.Size([128, 2, 2])\ntorch.Size([128, 2, 2])\ntorch.Size([128, 2, 2])\ntorch.Size([128, 2, 2])\ntorch.Size([128, 2, 2])\ntorch.Size([128, 2, 2])\ntorch.Size([128, 2, 2])\ntorch.Size([128, 2, 2])\ntorch.Size([128, 2, 2])\ntorch.Size([128, 2, 2])\ntorch.Size([128, 2, 2])\ntorch.Size([128, 2, 2])\ntorch.Size([128, 2, 2])\ntorch.Size([128, 2, 2])\ntorch.Size([128, 2, 2])\ntorch.Size([128, 2, 2])\ntorch.Size([128, 2, 2])\ntorch.Size([128, 2, 2])\n 86%|████████▌ | 2151/2494 [00:06<00:00, 363.65it/s]\ntorch.Size([128, 2, 2])\ntorch.Size([128, 2, 2])\ntorch.Size([128, 2, 2])\ntorch.Size([128, 2, 2])\ntorch.Size([128, 2, 2])\ntorch.Size([128, 2, 2])\ntorch.Size([128, 2, 2])\ntorch.Size([128, 2, 2])\ntorch.Size([128, 2, 2])\ntorch.Size([128, 2, 2])\ntorch.Size([128, 2, 2])\ntorch.Size([128, 2, 2])\ntorch.Size([128, 2, 2])\ntorch.Size([128, 2, 2])\ntorch.Size([128, 2, 2])\ntorch.Size([128, 2, 2])\ntorch.Size([128, 2, 2])\ntorch.Size([128, 2, 2])\ntorch.Size([128, 2, 2])\ntorch.Size([128, 2, 2])\ntorch.Size([128, 2, 2])\ntorch.Size([128, 2, 2])\ntorch.Size([128, 2, 2])\ntorch.Size([128, 2, 2])\ntorch.Size([128, 2, 2])\ntorch.Size([128, 2, 2])\ntorch.Size([128, 2, 2])\ntorch.Size([128, 2, 2])\ntorch.Size([128, 2, 2])\ntorch.Size([128, 2, 2])\ntorch.Size([128, 2, 2])\ntorch.Size([128, 2, 2])\ntorch.Size([128, 2, 2])\ntorch.Size([128, 2, 2])\ntorch.Size([128, 2, 2])\ntorch.Size([128, 2, 2])\ntorch.Size([128, 2, 2])\ntorch.Size([128, 2, 2])\ntorch.Size([128, 2, 2])\ntorch.Size([128, 2, 2])\ntorch.Size([128, 2, 2])\ntorch.Size([128, 2, 2])\ntorch.Size([128, 2, 2])\ntorch.Size([128, 2, 2])\ntorch.Size([128, 2, 2])\ntorch.Size([128, 2, 2])\ntorch.Size([128, 2, 2])\ntorch.Size([128, 2, 2])\ntorch.Size([128, 2, 2])\ntorch.Size([128, 2, 2])\ntorch.Size([128, 2, 2])\ntorch.Size([128, 2, 2])\ntorch.Size([128, 2, 2])\ntorch.Size([128, 2, 2])\ntorch.Size([128, 2, 2])\ntorch.Size([128, 2, 2])\ntorch.Size([128, 2, 2])\ntorch.Size([128, 2, 2])\ntorch.Size([128, 2, 2])\ntorch.Size([128, 2, 2])\ntorch.Size([128, 2, 2])\ntorch.Size([128, 2, 2])\ntorch.Size([128, 2, 2])\ntorch.Size([128, 2, 2])\n 89%|████████▉ | 2224/2494 [00:06<00:00, 344.62it/s]\ntorch.Size([128, 2, 2])\ntorch.Size([128, 2, 2])\ntorch.Size([128, 2, 2])\ntorch.Size([128, 2, 2])\ntorch.Size([128, 2, 2])\ntorch.Size([128, 2, 2])\ntorch.Size([128, 2, 2])\ntorch.Size([128, 2, 2])\ntorch.Size([128, 2, 2])\ntorch.Size([128, 2, 2])\ntorch.Size([128, 2, 2])\ntorch.Size([128, 2, 2])\ntorch.Size([128, 2, 2])\ntorch.Size([128, 2, 2])\ntorch.Size([128, 2, 2])\ntorch.Size([128, 2, 2])\ntorch.Size([128, 2, 2])\ntorch.Size([128, 2, 2])\ntorch.Size([128, 2, 2])\ntorch.Size([128, 2, 2])\ntorch.Size([128, 2, 2])\ntorch.Size([128, 2, 2])\ntorch.Size([128, 2, 2])\ntorch.Size([128, 2, 2])\ntorch.Size([128, 2, 2])\ntorch.Size([128, 2, 2])\ntorch.Size([128, 2, 2])\ntorch.Size([128, 2, 2])\ntorch.Size([128, 2, 2])\ntorch.Size([128, 2, 2])\ntorch.Size([128, 2, 2])\ntorch.Size([128, 2, 2])\ntorch.Size([128, 2, 2])\ntorch.Size([128, 2, 2])\ntorch.Size([128, 2, 2])\ntorch.Size([128, 2, 2])\ntorch.Size([128, 2, 2])\ntorch.Size([128, 2, 2])\ntorch.Size([128, 2, 2])\ntorch.Size([128, 2, 2])\ntorch.Size([128, 2, 2])\ntorch.Size([128, 2, 2])\ntorch.Size([128, 2, 2])\ntorch.Size([128, 2, 2])\ntorch.Size([128, 2, 2])\ntorch.Size([128, 2, 2])\ntorch.Size([128, 2, 2])\ntorch.Size([128, 2, 2])\ntorch.Size([128, 2, 2])\ntorch.Size([128, 2, 2])\ntorch.Size([128, 2, 2])\ntorch.Size([128, 2, 2])\ntorch.Size([128, 2, 2])\ntorch.Size([128, 2, 2])\ntorch.Size([128, 2, 2])\ntorch.Size([128, 2, 2])\ntorch.Size([128, 2, 2])\ntorch.Size([128, 2, 2])\ntorch.Size([128, 2, 2])\ntorch.Size([128, 2, 2])\n 92%|█████████▏| 2299/2494 [00:06<00:00, 359.15it/s]\ntorch.Size([128, 2, 2])\ntorch.Size([128, 2, 2])\ntorch.Size([128, 2, 2])\ntorch.Size([128, 2, 2])\ntorch.Size([128, 2, 2])\ntorch.Size([128, 2, 2])\ntorch.Size([128, 2, 2])\ntorch.Size([128, 2, 2])\ntorch.Size([128, 2, 2])\ntorch.Size([128, 2, 2])\ntorch.Size([128, 2, 2])\ntorch.Size([128, 2, 2])\ntorch.Size([128, 2, 2])\ntorch.Size([128, 2, 2])\ntorch.Size([128, 2, 2])\ntorch.Size([128, 2, 2])\ntorch.Size([128, 2, 2])\ntorch.Size([128, 2, 2])\ntorch.Size([128, 2, 2])\ntorch.Size([128, 2, 2])\ntorch.Size([128, 2, 2])\ntorch.Size([128, 2, 2])\ntorch.Size([128, 2, 2])\ntorch.Size([128, 2, 2])\ntorch.Size([128, 2, 2])\ntorch.Size([128, 2, 2])\ntorch.Size([128, 2, 2])\ntorch.Size([128, 2, 2])\ntorch.Size([128, 2, 2])\ntorch.Size([128, 2, 2])\ntorch.Size([128, 2, 2])\ntorch.Size([128, 2, 2])\ntorch.Size([128, 2, 2])\ntorch.Size([128, 2, 2])\ntorch.Size([128, 2, 2])\ntorch.Size([128, 2, 2])\ntorch.Size([128, 2, 2])\ntorch.Size([128, 2, 2])\ntorch.Size([128, 2, 2])\ntorch.Size([128, 2, 2])\ntorch.Size([128, 2, 2])\ntorch.Size([128, 2, 2])\ntorch.Size([128, 2, 2])\ntorch.Size([128, 2, 2])\ntorch.Size([128, 2, 2])\ntorch.Size([128, 2, 2])\ntorch.Size([128, 2, 2])\ntorch.Size([128, 2, 2])\ntorch.Size([128, 2, 2])\ntorch.Size([128, 2, 2])\ntorch.Size([128, 2, 2])\ntorch.Size([128, 2, 2])\ntorch.Size([128, 2, 2])\ntorch.Size([128, 2, 2])\ntorch.Size([128, 2, 2])\ntorch.Size([128, 2, 2])\ntorch.Size([128, 2, 2])\ntorch.Size([128, 2, 2])\ntorch.Size([128, 2, 2])\ntorch.Size([128, 2, 2])\ntorch.Size([128, 2, 2])\ntorch.Size([128, 2, 2])\ntorch.Size([128, 2, 2])\ntorch.Size([128, 2, 2])\ntorch.Size([128, 2, 2])\ntorch.Size([128, 2, 2])\ntorch.Size([128, 2, 2])\ntorch.Size([128, 2, 2])\ntorch.Size([128, 2, 2])\ntorch.Size([128, 2, 2])\n 95%|█████████▌| 2374/2494 [00:06<00:00, 359.11it/s]\ntorch.Size([128, 2, 2])\ntorch.Size([128, 2, 2])\ntorch.Size([128, 2, 2])\ntorch.Size([128, 2, 2])\ntorch.Size([128, 2, 2])\ntorch.Size([128, 2, 2])\ntorch.Size([128, 2, 2])\ntorch.Size([128, 2, 2])\ntorch.Size([128, 2, 2])\ntorch.Size([128, 2, 2])\ntorch.Size([128, 2, 2])\ntorch.Size([128, 2, 2])\ntorch.Size([128, 2, 2])\ntorch.Size([128, 2, 2])\ntorch.Size([128, 2, 2])\ntorch.Size([128, 2, 2])\ntorch.Size([128, 2, 2])\ntorch.Size([128, 2, 2])\ntorch.Size([128, 2, 2])\ntorch.Size([128, 2, 2])\ntorch.Size([128, 2, 2])\ntorch.Size([128, 2, 2])\ntorch.Size([128, 2, 2])\ntorch.Size([128, 2, 2])\ntorch.Size([128, 2, 2])\ntorch.Size([128, 2, 2])\ntorch.Size([128, 2, 2])\ntorch.Size([128, 2, 2])\ntorch.Size([128, 2, 2])\ntorch.Size([128, 2, 2])\ntorch.Size([128, 2, 2])\ntorch.Size([128, 2, 2])\ntorch.Size([128, 2, 2])\ntorch.Size([128, 2, 2])\ntorch.Size([128, 2, 2])\ntorch.Size([128, 2, 2])\ntorch.Size([128, 2, 2])\ntorch.Size([128, 2, 2])\ntorch.Size([128, 2, 2])\ntorch.Size([128, 2, 2])\ntorch.Size([128, 2, 2])\ntorch.Size([128, 2, 2])\ntorch.Size([128, 2, 2])\ntorch.Size([128, 2, 2])\ntorch.Size([128, 2, 2])\ntorch.Size([128, 2, 2])\ntorch.Size([128, 2, 2])\ntorch.Size([128, 2, 2])\ntorch.Size([128, 2, 2])\ntorch.Size([128, 2, 2])\ntorch.Size([128, 2, 2])\ntorch.Size([128, 2, 2])\ntorch.Size([128, 2, 2])\ntorch.Size([128, 2, 2])\ntorch.Size([128, 2, 2])\ntorch.Size([128, 2, 2])\ntorch.Size([128, 2, 2])\ntorch.Size([128, 2, 2])\ntorch.Size([128, 2, 2])\ntorch.Size([128, 2, 2])\ntorch.Size([128, 2, 2])\ntorch.Size([128, 2, 2])\ntorch.Size([128, 2, 2])\ntorch.Size([128, 2, 2])\ntorch.Size([128, 2, 2])\n 97%|█████████▋| 2412/2494 [00:07<00:00, 361.26it/s]\ntorch.Size([128, 2, 2])\ntorch.Size([128, 2, 2])\ntorch.Size([128, 2, 2])\ntorch.Size([128, 2, 2])\ntorch.Size([128, 2, 2])\ntorch.Size([128, 2, 2])\ntorch.Size([128, 2, 2])\ntorch.Size([128, 2, 2])\ntorch.Size([128, 2, 2])\ntorch.Size([128, 2, 2])\ntorch.Size([128, 2, 2])\ntorch.Size([128, 2, 2])\ntorch.Size([128, 2, 2])\ntorch.Size([128, 2, 2])\ntorch.Size([128, 2, 2])\ntorch.Size([128, 2, 2])\ntorch.Size([128, 2, 2])\ntorch.Size([128, 2, 2])\ntorch.Size([128, 2, 2])\ntorch.Size([128, 2, 2])\ntorch.Size([128, 2, 2])\ntorch.Size([128, 2, 2])\ntorch.Size([128, 2, 2])\ntorch.Size([128, 2, 2])\ntorch.Size([128, 2, 2])\ntorch.Size([128, 2, 2])\ntorch.Size([128, 2, 2])\ntorch.Size([128, 2, 2])\ntorch.Size([128, 2, 2])\ntorch.Size([128, 2, 2])\ntorch.Size([128, 2, 2])\ntorch.Size([128, 2, 2])\ntorch.Size([128, 2, 2])\ntorch.Size([128, 2, 2])\ntorch.Size([128, 2, 2])\ntorch.Size([128, 2, 2])\ntorch.Size([128, 2, 2])\ntorch.Size([128, 2, 2])\ntorch.Size([128, 2, 2])\ntorch.Size([128, 2, 2])\ntorch.Size([128, 2, 2])\ntorch.Size([128, 2, 2])\ntorch.Size([128, 2, 2])\ntorch.Size([128, 2, 2])\ntorch.Size([128, 2, 2])\ntorch.Size([128, 2, 2])\ntorch.Size([128, 2, 2])\ntorch.Size([128, 2, 2])\ntorch.Size([128, 2, 2])\ntorch.Size([128, 2, 2])\ntorch.Size([128, 2, 2])\ntorch.Size([128, 2, 2])\ntorch.Size([128, 2, 2])\ntorch.Size([128, 2, 2])\ntorch.Size([128, 2, 2])\ntorch.Size([128, 2, 2])\ntorch.Size([128, 2, 2])\ntorch.Size([128, 2, 2])\ntorch.Size([128, 2, 2])\ntorch.Size([128, 2, 2])\ntorch.Size([128, 2, 2])\ntorch.Size([128, 2, 2])\ntorch.Size([128, 2, 2])\ntorch.Size([128, 2, 2])\ntorch.Size([128, 2, 2])\ntorch.Size([128, 2, 2])\ntorch.Size([128, 2, 2])\ntorch.Size([128, 2, 2])\ntorch.Size([128, 2, 2])\ntorch.Size([128, 2, 2])\ntorch.Size([128, 2, 2])\n100%|██████████| 2494/2494 [00:07<00:00, 339.44it/s]torch.Size([128, 2, 2])\ntorch.Size([128, 2, 2])\ntorch.Size([128, 2, 2])\ntorch.Size([128, 2, 2])\ntorch.Size([128, 2, 2])\ntorch.Size([128, 2, 2])\ntorch.Size([128, 2, 2])\ntorch.Size([128, 2, 2])\ntorch.Size([128, 2, 2])\ntorch.Size([128, 2, 2])\ntorch.Size([128, 2, 2])\ntorch.Size([128, 2, 2])\ntorch.Size([128, 2, 2])\ntorch.Size([128, 2, 2])\ntorch.Size([128, 2, 2])\ntorch.Size([128, 2, 2])\ntorch.Size([128, 2, 2])\ntorch.Size([128, 2, 2])\ntorch.Size([128, 2, 2])\ntorch.Size([128, 2, 2])\ntorch.Size([128, 2, 2])\ntorch.Size([128, 2, 2])\ntorch.Size([128, 2, 2])\ntorch.Size([128, 2, 2])\ntorch.Size([128, 2, 2])\ntorch.Size([128, 2, 2])\ntorch.Size([128, 2, 2])\ntorch.Size([128, 2, 2])\ntorch.Size([128, 2, 2])\ntorch.Size([128, 2, 2])\ntorch.Size([128, 2, 2])\ntorch.Size([128, 2, 2])\ntorch.Size([128, 2, 2])\ntorch.Size([128, 2, 2])\ntorch.Size([128, 2, 2])\ntorch.Size([128, 2, 2])\ntorch.Size([128, 2, 2])\ntorch.Size([128, 2, 2])\ntorch.Size([128, 2, 2])\ntorch.Size([128, 2, 2])\ntorch.Size([128, 2, 2])\ntorch.Size([128, 2, 2])\ntorch.Size([128, 2, 2])\ntorch.Size([128, 2, 2])\ntorch.Size([128, 2, 2])\nAccuracy: 0.503\n\n"
    }
   ],
   "source": [
    "correct = 0 \n",
    "total = 0\n",
    "with torch.no_grad():\n",
    "    for i in tqdm(range(len(test_X))):\n",
    "        real_class = torch.argmax(test_y[i])\n",
    "        net_out = net(test_X[i].view(-1,1,50,50))[0]\n",
    "        predicted_class = torch.argmax(net_out)\n",
    "        if predicted_class == real_class:\n",
    "            correct += 1\n",
    "        total += 1 \n",
    "        \n",
    "print(\"Accuracy:\", round(correct/total,3))"
   ]
  },
  {
   "cell_type": "code",
   "execution_count": 13,
   "metadata": {},
   "outputs": [
    {
     "output_type": "execute_result",
     "data": {
      "text/plain": "True"
     },
     "metadata": {},
     "execution_count": 13
    }
   ],
   "source": [
    "torch.cuda.is_available()#NOW we start shifting to gpu for processing"
   ]
  },
  {
   "cell_type": "code",
   "execution_count": 14,
   "metadata": {},
   "outputs": [
    {
     "output_type": "execute_result",
     "data": {
      "text/plain": "device(type='cuda', index=0)"
     },
     "metadata": {},
     "execution_count": 14
    }
   ],
   "source": [
    "device =  torch.device(\"cuda:0\")\n",
    "device"
   ]
  },
  {
   "cell_type": "code",
   "execution_count": 15,
   "metadata": {
    "tags": []
   },
   "outputs": [
    {
     "output_type": "stream",
     "name": "stdout",
     "text": "running on the gpu\n"
    }
   ],
   "source": [
    "if torch.cuda.is_available():\n",
    "    device = torch.device(\"cuda:0\")\n",
    "    print(\"running on the gpu\")\n",
    "else:\n",
    "    device = torch.device(\"cpu\")\n",
    "    print(\"running on the cpu\")\n"
   ]
  },
  {
   "cell_type": "code",
   "execution_count": 16,
   "metadata": {},
   "outputs": [
    {
     "output_type": "execute_result",
     "data": {
      "text/plain": "1"
     },
     "metadata": {},
     "execution_count": 16
    }
   ],
   "source": [
    "torch.cuda.device_count()"
   ]
  },
  {
   "cell_type": "code",
   "execution_count": 17,
   "metadata": {},
   "outputs": [
    {
     "output_type": "execute_result",
     "data": {
      "text/plain": "Net(\n  (conv1): Conv2d(1, 32, kernel_size=(5, 5), stride=(1, 1))\n  (conv2): Conv2d(32, 64, kernel_size=(5, 5), stride=(1, 1))\n  (conv3): Conv2d(64, 128, kernel_size=(5, 5), stride=(1, 1))\n  (fc1): Linear(in_features=512, out_features=512, bias=True)\n  (fc2): Linear(in_features=512, out_features=2, bias=True)\n)"
     },
     "metadata": {},
     "execution_count": 17
    }
   ],
   "source": [
    "net.to(device)"
   ]
  },
  {
   "cell_type": "code",
   "execution_count": 18,
   "metadata": {
    "tags": []
   },
   "outputs": [
    {
     "output_type": "stream",
     "name": "stdout",
     "text": "torch.Size([128, 2, 2])\n"
    }
   ],
   "source": [
    "net = Net().to(device)"
   ]
  },
  {
   "cell_type": "code",
   "execution_count": 47,
   "metadata": {
    "collapsed": true,
    "jupyter": {
     "outputs_hidden": true
    }
   },
   "outputs": [
    {
     "name": "stderr",
     "output_type": "stream",
     "text": [
      "  0%|          | 0/225 [00:00<?, ?it/s]"
     ]
    },
    {
     "name": "stdout",
     "output_type": "stream",
     "text": [
      "torch.Size([128, 2, 2])\n"
     ]
    },
    {
     "name": "stderr",
     "output_type": "stream",
     "text": [
      "  3%|▎         | 6/225 [00:00<01:01,  3.58it/s]"
     ]
    },
    {
     "name": "stdout",
     "output_type": "stream",
     "text": [
      "torch.Size([128, 2, 2])\n",
      "torch.Size([128, 2, 2])\n",
      "torch.Size([128, 2, 2])\n",
      "torch.Size([128, 2, 2])\n",
      "torch.Size([128, 2, 2])\n",
      "torch.Size([128, 2, 2])\n",
      "torch.Size([128, 2, 2])\n",
      "torch.Size([128, 2, 2])"
     ]
    },
    {
     "name": "stderr",
     "output_type": "stream",
     "text": [
      "  6%|▌         | 14/225 [00:00<00:31,  6.65it/s]"
     ]
    },
    {
     "name": "stdout",
     "output_type": "stream",
     "text": [
      "\n",
      "torch.Size([128, 2, 2])\n",
      "torch.Size([128, 2, 2])\n",
      "torch.Size([128, 2, 2])\n",
      "torch.Size([128, 2, 2])\n",
      "torch.Size([128, 2, 2])\n",
      "torch.Size([128, 2, 2])\n",
      "torch.Size([128, 2, 2])"
     ]
    },
    {
     "name": "stderr",
     "output_type": "stream",
     "text": [
      " 10%|▉         | 22/225 [00:00<00:17, 11.54it/s]"
     ]
    },
    {
     "name": "stdout",
     "output_type": "stream",
     "text": [
      "\n",
      "torch.Size([128, 2, 2])\n",
      "torch.Size([128, 2, 2])\n",
      "torch.Size([128, 2, 2])\n",
      "torch.Size([128, 2, 2])\n",
      "torch.Size([128, 2, 2])\n",
      "torch.Size([128, 2, 2])\n",
      "torch.Size([128, 2, 2])\n",
      "torch.Size([128, 2, 2])"
     ]
    },
    {
     "name": "stderr",
     "output_type": "stream",
     "text": [
      " 14%|█▍        | 31/225 [00:01<00:10, 18.16it/s]"
     ]
    },
    {
     "name": "stdout",
     "output_type": "stream",
     "text": [
      "\n",
      "torch.Size([128, 2, 2])\n",
      "torch.Size([128, 2, 2])\n",
      "torch.Size([128, 2, 2])\n",
      "torch.Size([128, 2, 2])\n",
      "torch.Size([128, 2, 2])\n",
      "torch.Size([128, 2, 2])\n",
      "torch.Size([128, 2, 2])\n",
      "torch.Size([128, 2, 2])"
     ]
    },
    {
     "name": "stderr",
     "output_type": "stream",
     "text": [
      " 16%|█▌        | 35/225 [00:01<00:08, 21.66it/s]"
     ]
    },
    {
     "name": "stdout",
     "output_type": "stream",
     "text": [
      "\n",
      "torch.Size([128, 2, 2])\n",
      "torch.Size([128, 2, 2])\n",
      "torch.Size([128, 2, 2])\n",
      "torch.Size([128, 2, 2])\n",
      "torch.Size([128, 2, 2])\n",
      "torch.Size([128, 2, 2])\n",
      "torch.Size([128, 2, 2])"
     ]
    },
    {
     "name": "stderr",
     "output_type": "stream",
     "text": [
      " 20%|█▉        | 44/225 [00:01<00:06, 28.31it/s]"
     ]
    },
    {
     "name": "stdout",
     "output_type": "stream",
     "text": [
      "\n",
      "torch.Size([128, 2, 2])\n",
      "torch.Size([128, 2, 2])\n",
      "torch.Size([128, 2, 2])\n",
      "torch.Size([128, 2, 2])\n",
      "torch.Size([128, 2, 2])\n",
      "torch.Size([128, 2, 2])\n",
      "torch.Size([128, 2, 2])\n",
      "torch.Size([128, 2, 2])"
     ]
    },
    {
     "name": "stderr",
     "output_type": "stream",
     "text": [
      " 24%|██▎       | 53/225 [00:01<00:05, 33.01it/s]"
     ]
    },
    {
     "name": "stdout",
     "output_type": "stream",
     "text": [
      "\n",
      "torch.Size([128, 2, 2])\n",
      "torch.Size([128, 2, 2])\n",
      "torch.Size([128, 2, 2])\n",
      "torch.Size([128, 2, 2])\n",
      "torch.Size([128, 2, 2])\n",
      "torch.Size([128, 2, 2])\n",
      "torch.Size([128, 2, 2])"
     ]
    },
    {
     "name": "stderr",
     "output_type": "stream",
     "text": [
      " 27%|██▋       | 61/225 [00:01<00:04, 35.67it/s]"
     ]
    },
    {
     "name": "stdout",
     "output_type": "stream",
     "text": [
      "\n",
      "torch.Size([128, 2, 2])\n",
      "torch.Size([128, 2, 2])\n",
      "torch.Size([128, 2, 2])\n",
      "torch.Size([128, 2, 2])\n",
      "torch.Size([128, 2, 2])\n",
      "torch.Size([128, 2, 2])\n",
      "torch.Size([128, 2, 2])\n"
     ]
    },
    {
     "name": "stderr",
     "output_type": "stream",
     "text": [
      " 29%|██▉       | 65/225 [00:02<00:04, 36.79it/s]"
     ]
    },
    {
     "name": "stdout",
     "output_type": "stream",
     "text": [
      "torch.Size([128, 2, 2])\n",
      "torch.Size([128, 2, 2])\n",
      "torch.Size([128, 2, 2])\n",
      "torch.Size([128, 2, 2])\n",
      "torch.Size([128, 2, 2])\n",
      "torch.Size([128, 2, 2])\n",
      "torch.Size([128, 2, 2])\n",
      "torch.Size([128, 2, 2])\n",
      "torch.Size([128, 2, 2])\n"
     ]
    },
    {
     "name": "stderr",
     "output_type": "stream",
     "text": [
      " 33%|███▎      | 75/225 [00:02<00:03, 38.32it/s]"
     ]
    },
    {
     "name": "stdout",
     "output_type": "stream",
     "text": [
      "torch.Size([128, 2, 2])\n",
      "torch.Size([128, 2, 2])\n",
      "torch.Size([128, 2, 2])\n",
      "torch.Size([128, 2, 2])\n",
      "torch.Size([128, 2, 2])\n",
      "torch.Size([128, 2, 2])\n",
      "torch.Size([128, 2, 2])\n",
      "torch.Size([128, 2, 2])"
     ]
    },
    {
     "name": "stderr",
     "output_type": "stream",
     "text": [
      " 37%|███▋      | 83/225 [00:02<00:03, 38.90it/s]"
     ]
    },
    {
     "name": "stdout",
     "output_type": "stream",
     "text": [
      "\n",
      "torch.Size([128, 2, 2])\n",
      "torch.Size([128, 2, 2])\n",
      "torch.Size([128, 2, 2])\n",
      "torch.Size([128, 2, 2])\n",
      "torch.Size([128, 2, 2])\n",
      "torch.Size([128, 2, 2])\n",
      "torch.Size([128, 2, 2])\n",
      "torch.Size([128, 2, 2])"
     ]
    },
    {
     "name": "stderr",
     "output_type": "stream",
     "text": [
      " 40%|████      | 91/225 [00:02<00:03, 39.00it/s]"
     ]
    },
    {
     "name": "stdout",
     "output_type": "stream",
     "text": [
      "\n",
      "torch.Size([128, 2, 2])\n",
      "torch.Size([128, 2, 2])\n",
      "torch.Size([128, 2, 2])\n",
      "torch.Size([128, 2, 2])\n",
      "torch.Size([128, 2, 2])\n",
      "torch.Size([128, 2, 2])\n",
      "torch.Size([128, 2, 2])\n",
      "torch.Size([128, 2, 2])"
     ]
    },
    {
     "name": "stderr",
     "output_type": "stream",
     "text": [
      " 44%|████▍     | 100/225 [00:02<00:03, 39.26it/s]"
     ]
    },
    {
     "name": "stdout",
     "output_type": "stream",
     "text": [
      "\n",
      "torch.Size([128, 2, 2])\n",
      "torch.Size([128, 2, 2])\n",
      "torch.Size([128, 2, 2])\n",
      "torch.Size([128, 2, 2])\n",
      "torch.Size([128, 2, 2])\n",
      "torch.Size([128, 2, 2])\n",
      "torch.Size([128, 2, 2])\n",
      "torch.Size([128, 2, 2])"
     ]
    },
    {
     "name": "stderr",
     "output_type": "stream",
     "text": [
      " 48%|████▊     | 108/225 [00:03<00:02, 39.41it/s]"
     ]
    },
    {
     "name": "stdout",
     "output_type": "stream",
     "text": [
      "\n",
      "torch.Size([128, 2, 2])\n",
      "torch.Size([128, 2, 2])\n",
      "torch.Size([128, 2, 2])\n",
      "torch.Size([128, 2, 2])\n",
      "torch.Size([128, 2, 2])\n",
      "torch.Size([128, 2, 2])\n",
      "torch.Size([128, 2, 2])\n",
      "torch.Size([128, 2, 2])"
     ]
    },
    {
     "name": "stderr",
     "output_type": "stream",
     "text": [
      " 52%|█████▏    | 117/225 [00:03<00:02, 39.78it/s]"
     ]
    },
    {
     "name": "stdout",
     "output_type": "stream",
     "text": [
      "\n",
      "torch.Size([128, 2, 2])\n",
      "torch.Size([128, 2, 2])\n",
      "torch.Size([128, 2, 2])\n",
      "torch.Size([128, 2, 2])\n",
      "torch.Size([128, 2, 2])\n",
      "torch.Size([128, 2, 2])\n",
      "torch.Size([128, 2, 2])\n",
      "torch.Size([128, 2, 2])"
     ]
    },
    {
     "name": "stderr",
     "output_type": "stream",
     "text": [
      " 54%|█████▍    | 122/225 [00:03<00:02, 40.27it/s]"
     ]
    },
    {
     "name": "stdout",
     "output_type": "stream",
     "text": [
      "\n",
      "torch.Size([128, 2, 2])\n",
      "torch.Size([128, 2, 2])\n",
      "torch.Size([128, 2, 2])\n",
      "torch.Size([128, 2, 2])\n",
      "torch.Size([128, 2, 2])\n",
      "torch.Size([128, 2, 2])\n",
      "torch.Size([128, 2, 2])\n",
      "torch.Size([128, 2, 2])"
     ]
    },
    {
     "name": "stderr",
     "output_type": "stream",
     "text": [
      " 59%|█████▊    | 132/225 [00:03<00:02, 40.68it/s]"
     ]
    },
    {
     "name": "stdout",
     "output_type": "stream",
     "text": [
      "\n",
      "torch.Size([128, 2, 2])\n",
      "torch.Size([128, 2, 2])\n",
      "torch.Size([128, 2, 2])\n",
      "torch.Size([128, 2, 2])\n",
      "torch.Size([128, 2, 2])\n",
      "torch.Size([128, 2, 2])\n",
      "torch.Size([128, 2, 2])\n",
      "torch.Size([128, 2, 2])"
     ]
    },
    {
     "name": "stderr",
     "output_type": "stream",
     "text": [
      " 61%|██████    | 137/225 [00:03<00:02, 40.70it/s]"
     ]
    },
    {
     "name": "stdout",
     "output_type": "stream",
     "text": [
      "\n",
      "torch.Size([128, 2, 2])\n",
      "torch.Size([128, 2, 2])\n",
      "torch.Size([128, 2, 2])\n",
      "torch.Size([128, 2, 2])\n",
      "torch.Size([128, 2, 2])\n",
      "torch.Size([128, 2, 2])\n",
      "torch.Size([128, 2, 2])\n",
      "torch.Size([128, 2, 2])"
     ]
    },
    {
     "name": "stderr",
     "output_type": "stream",
     "text": [
      " 65%|██████▌   | 147/225 [00:04<00:01, 40.50it/s]"
     ]
    },
    {
     "name": "stdout",
     "output_type": "stream",
     "text": [
      "\n",
      "torch.Size([128, 2, 2])\n",
      "torch.Size([128, 2, 2])\n",
      "torch.Size([128, 2, 2])\n",
      "torch.Size([128, 2, 2])\n",
      "torch.Size([128, 2, 2])\n",
      "torch.Size([128, 2, 2])\n",
      "torch.Size([128, 2, 2])\n",
      "torch.Size([128, 2, 2])"
     ]
    },
    {
     "name": "stderr",
     "output_type": "stream",
     "text": [
      " 70%|██████▉   | 157/225 [00:04<00:01, 40.40it/s]"
     ]
    },
    {
     "name": "stdout",
     "output_type": "stream",
     "text": [
      "\n",
      "torch.Size([128, 2, 2])\n",
      "torch.Size([128, 2, 2])\n",
      "torch.Size([128, 2, 2])\n",
      "torch.Size([128, 2, 2])\n",
      "torch.Size([128, 2, 2])\n",
      "torch.Size([128, 2, 2])\n",
      "torch.Size([128, 2, 2])\n",
      "torch.Size([128, 2, 2])"
     ]
    },
    {
     "name": "stderr",
     "output_type": "stream",
     "text": [
      " 72%|███████▏  | 162/225 [00:04<00:01, 40.02it/s]"
     ]
    },
    {
     "name": "stdout",
     "output_type": "stream",
     "text": [
      "\n",
      "torch.Size([128, 2, 2])\n",
      "torch.Size([128, 2, 2])\n",
      "torch.Size([128, 2, 2])\n",
      "torch.Size([128, 2, 2])\n",
      "torch.Size([128, 2, 2])\n",
      "torch.Size([128, 2, 2])\n",
      "torch.Size([128, 2, 2])"
     ]
    },
    {
     "name": "stderr",
     "output_type": "stream",
     "text": [
      " 76%|███████▌  | 171/225 [00:04<00:01, 39.51it/s]"
     ]
    },
    {
     "name": "stdout",
     "output_type": "stream",
     "text": [
      "\n",
      "torch.Size([128, 2, 2])\n",
      "torch.Size([128, 2, 2])\n",
      "torch.Size([128, 2, 2])\n",
      "torch.Size([128, 2, 2])\n",
      "torch.Size([128, 2, 2])\n",
      "torch.Size([128, 2, 2])\n",
      "torch.Size([128, 2, 2])\n",
      "torch.Size([128, 2, 2])"
     ]
    },
    {
     "name": "stderr",
     "output_type": "stream",
     "text": [
      " 80%|████████  | 180/225 [00:04<00:01, 39.83it/s]"
     ]
    },
    {
     "name": "stdout",
     "output_type": "stream",
     "text": [
      "\n",
      "torch.Size([128, 2, 2])\n",
      "torch.Size([128, 2, 2])\n",
      "torch.Size([128, 2, 2])\n",
      "torch.Size([128, 2, 2])\n",
      "torch.Size([128, 2, 2])\n",
      "torch.Size([128, 2, 2])\n",
      "torch.Size([128, 2, 2])\n",
      "torch.Size([128, 2, 2])"
     ]
    },
    {
     "name": "stderr",
     "output_type": "stream",
     "text": [
      " 84%|████████▎ | 188/225 [00:05<00:00, 39.41it/s]"
     ]
    },
    {
     "name": "stdout",
     "output_type": "stream",
     "text": [
      "\n",
      "torch.Size([128, 2, 2])\n",
      "torch.Size([128, 2, 2])\n",
      "torch.Size([128, 2, 2])\n",
      "torch.Size([128, 2, 2])\n",
      "torch.Size([128, 2, 2])\n",
      "torch.Size([128, 2, 2])\n",
      "torch.Size([128, 2, 2])\n"
     ]
    },
    {
     "name": "stderr",
     "output_type": "stream",
     "text": [
      " 85%|████████▌ | 192/225 [00:05<00:00, 39.16it/s]"
     ]
    },
    {
     "name": "stdout",
     "output_type": "stream",
     "text": [
      "torch.Size([128, 2, 2])\n",
      "torch.Size([128, 2, 2])\n",
      "torch.Size([128, 2, 2])\n",
      "torch.Size([128, 2, 2])\n",
      "torch.Size([128, 2, 2])\n",
      "torch.Size([128, 2, 2])\n",
      "torch.Size([128, 2, 2])\n",
      "torch.Size([128, 2, 2])\n"
     ]
    },
    {
     "name": "stderr",
     "output_type": "stream",
     "text": [
      " 91%|█████████ | 204/225 [00:05<00:00, 39.36it/s]"
     ]
    },
    {
     "name": "stdout",
     "output_type": "stream",
     "text": [
      "torch.Size([128, 2, 2])\n",
      "torch.Size([128, 2, 2])\n",
      "torch.Size([128, 2, 2])\n",
      "torch.Size([128, 2, 2])\n",
      "torch.Size([128, 2, 2])\n",
      "torch.Size([128, 2, 2])\n",
      "torch.Size([128, 2, 2])\n",
      "torch.Size([128, 2, 2])\n"
     ]
    },
    {
     "name": "stderr",
     "output_type": "stream",
     "text": [
      " 92%|█████████▏| 208/225 [00:05<00:00, 39.34it/s]"
     ]
    },
    {
     "name": "stdout",
     "output_type": "stream",
     "text": [
      "torch.Size([128, 2, 2])\n",
      "torch.Size([128, 2, 2])\n",
      "torch.Size([128, 2, 2])\n",
      "torch.Size([128, 2, 2])\n",
      "torch.Size([128, 2, 2])\n",
      "torch.Size([128, 2, 2])\n",
      "torch.Size([128, 2, 2])\n",
      "torch.Size([128, 2, 2])\n",
      "torch.Size([128, 2, 2])"
     ]
    },
    {
     "name": "stderr",
     "output_type": "stream",
     "text": [
      " 97%|█████████▋| 218/225 [00:05<00:00, 39.85it/s]"
     ]
    },
    {
     "name": "stdout",
     "output_type": "stream",
     "text": [
      "\n",
      "torch.Size([128, 2, 2])\n",
      "torch.Size([128, 2, 2])\n",
      "torch.Size([128, 2, 2])\n",
      "torch.Size([128, 2, 2])\n",
      "torch.Size([128, 2, 2])\n",
      "torch.Size([128, 2, 2])\n",
      "torch.Size([128, 2, 2])\n",
      "torch.Size([128, 2, 2])"
     ]
    },
    {
     "name": "stderr",
     "output_type": "stream",
     "text": [
      "100%|██████████| 225/225 [00:06<00:00, 37.15it/s]"
     ]
    },
    {
     "name": "stdout",
     "output_type": "stream",
     "text": [
      "\n",
      "torch.Size([128, 2, 2])\n",
      "torch.Size([128, 2, 2])\n",
      "torch.Size([128, 2, 2])\n",
      "torch.Size([128, 2, 2])\n"
     ]
    },
    {
     "name": "stderr",
     "output_type": "stream",
     "text": [
      "\n",
      "  2%|▏         | 5/225 [00:00<00:04, 44.76it/s]"
     ]
    },
    {
     "name": "stdout",
     "output_type": "stream",
     "text": [
      "tensor(0.2366, device='cuda:0', grad_fn=<MseLossBackward>)\n",
      "torch.Size([128, 2, 2])\n",
      "torch.Size([128, 2, 2])\n",
      "torch.Size([128, 2, 2])\n",
      "torch.Size([128, 2, 2])\n",
      "torch.Size([128, 2, 2])\n",
      "torch.Size([128, 2, 2])\n",
      "torch.Size([128, 2, 2])\n",
      "torch.Size([128, 2, 2])"
     ]
    },
    {
     "name": "stderr",
     "output_type": "stream",
     "text": [
      "  7%|▋         | 15/225 [00:00<00:04, 42.55it/s]"
     ]
    },
    {
     "name": "stdout",
     "output_type": "stream",
     "text": [
      "\n",
      "torch.Size([128, 2, 2])\n",
      "torch.Size([128, 2, 2])\n",
      "torch.Size([128, 2, 2])\n",
      "torch.Size([128, 2, 2])\n",
      "torch.Size([128, 2, 2])\n",
      "torch.Size([128, 2, 2])\n",
      "torch.Size([128, 2, 2])\n",
      "torch.Size([128, 2, 2])"
     ]
    },
    {
     "name": "stderr",
     "output_type": "stream",
     "text": [
      "  9%|▉         | 20/225 [00:00<00:04, 42.10it/s]"
     ]
    },
    {
     "name": "stdout",
     "output_type": "stream",
     "text": [
      "\n",
      "torch.Size([128, 2, 2])\n",
      "torch.Size([128, 2, 2])\n",
      "torch.Size([128, 2, 2])\n",
      "torch.Size([128, 2, 2])\n",
      "torch.Size([128, 2, 2])\n",
      "torch.Size([128, 2, 2])\n",
      "torch.Size([128, 2, 2])\n"
     ]
    },
    {
     "name": "stderr",
     "output_type": "stream",
     "text": [
      " 13%|█▎        | 29/225 [00:00<00:04, 41.17it/s]"
     ]
    },
    {
     "name": "stdout",
     "output_type": "stream",
     "text": [
      "torch.Size([128, 2, 2])\n",
      "torch.Size([128, 2, 2])\n",
      "torch.Size([128, 2, 2])\n",
      "torch.Size([128, 2, 2])\n",
      "torch.Size([128, 2, 2])\n",
      "torch.Size([128, 2, 2])\n",
      "torch.Size([128, 2, 2])\n",
      "torch.Size([128, 2, 2])"
     ]
    },
    {
     "name": "stderr",
     "output_type": "stream",
     "text": [
      " 15%|█▌        | 34/225 [00:00<00:04, 41.15it/s]"
     ]
    },
    {
     "name": "stdout",
     "output_type": "stream",
     "text": [
      "\n",
      "torch.Size([128, 2, 2])\n",
      "torch.Size([128, 2, 2])\n",
      "torch.Size([128, 2, 2])\n",
      "torch.Size([128, 2, 2])\n",
      "torch.Size([128, 2, 2])\n",
      "torch.Size([128, 2, 2])\n",
      "torch.Size([128, 2, 2])\n",
      "torch.Size([128, 2, 2])"
     ]
    },
    {
     "name": "stderr",
     "output_type": "stream",
     "text": [
      " 20%|█▉        | 44/225 [00:01<00:04, 41.22it/s]"
     ]
    },
    {
     "name": "stdout",
     "output_type": "stream",
     "text": [
      "\n",
      "torch.Size([128, 2, 2])\n",
      "torch.Size([128, 2, 2])\n",
      "torch.Size([128, 2, 2])\n",
      "torch.Size([128, 2, 2])\n",
      "torch.Size([128, 2, 2])\n",
      "torch.Size([128, 2, 2])\n",
      "torch.Size([128, 2, 2])\n",
      "torch.Size([128, 2, 2])"
     ]
    },
    {
     "name": "stderr",
     "output_type": "stream",
     "text": [
      " 24%|██▍       | 54/225 [00:01<00:04, 41.61it/s]"
     ]
    },
    {
     "name": "stdout",
     "output_type": "stream",
     "text": [
      "\n",
      "torch.Size([128, 2, 2])\n",
      "torch.Size([128, 2, 2])\n",
      "torch.Size([128, 2, 2])\n",
      "torch.Size([128, 2, 2])\n",
      "torch.Size([128, 2, 2])\n",
      "torch.Size([128, 2, 2])\n",
      "torch.Size([128, 2, 2])\n",
      "torch.Size([128, 2, 2])"
     ]
    },
    {
     "name": "stderr",
     "output_type": "stream",
     "text": [
      " 26%|██▌       | 59/225 [00:01<00:04, 41.25it/s]"
     ]
    },
    {
     "name": "stdout",
     "output_type": "stream",
     "text": [
      "\n",
      "torch.Size([128, 2, 2])\n",
      "torch.Size([128, 2, 2])\n",
      "torch.Size([128, 2, 2])\n",
      "torch.Size([128, 2, 2])\n",
      "torch.Size([128, 2, 2])\n",
      "torch.Size([128, 2, 2])\n",
      "torch.Size([128, 2, 2])\n",
      "torch.Size([128, 2, 2])"
     ]
    },
    {
     "name": "stderr",
     "output_type": "stream",
     "text": [
      " 31%|███       | 69/225 [00:01<00:03, 41.10it/s]"
     ]
    },
    {
     "name": "stdout",
     "output_type": "stream",
     "text": [
      "\n",
      "torch.Size([128, 2, 2])\n",
      "torch.Size([128, 2, 2])\n",
      "torch.Size([128, 2, 2])\n",
      "torch.Size([128, 2, 2])\n",
      "torch.Size([128, 2, 2])\n",
      "torch.Size([128, 2, 2])\n",
      "torch.Size([128, 2, 2])\n",
      "torch.Size([128, 2, 2])"
     ]
    },
    {
     "name": "stderr",
     "output_type": "stream",
     "text": [
      " 33%|███▎      | 74/225 [00:01<00:03, 40.50it/s]"
     ]
    },
    {
     "name": "stdout",
     "output_type": "stream",
     "text": [
      "\n",
      "torch.Size([128, 2, 2])\n",
      "torch.Size([128, 2, 2])\n",
      "torch.Size([128, 2, 2])\n",
      "torch.Size([128, 2, 2])\n",
      "torch.Size([128, 2, 2])\n",
      "torch.Size([128, 2, 2])\n",
      "torch.Size([128, 2, 2])"
     ]
    },
    {
     "name": "stderr",
     "output_type": "stream",
     "text": [
      " 37%|███▋      | 83/225 [00:02<00:03, 37.58it/s]"
     ]
    },
    {
     "name": "stdout",
     "output_type": "stream",
     "text": [
      "\n",
      "torch.Size([128, 2, 2])\n",
      "torch.Size([128, 2, 2])\n",
      "torch.Size([128, 2, 2])\n",
      "torch.Size([128, 2, 2])\n",
      "torch.Size([128, 2, 2])\n",
      "torch.Size([128, 2, 2])\n",
      "torch.Size([128, 2, 2])"
     ]
    },
    {
     "name": "stderr",
     "output_type": "stream",
     "text": [
      " 40%|████      | 91/225 [00:02<00:03, 38.41it/s]"
     ]
    },
    {
     "name": "stdout",
     "output_type": "stream",
     "text": [
      "\n",
      "torch.Size([128, 2, 2])\n",
      "torch.Size([128, 2, 2])\n",
      "torch.Size([128, 2, 2])\n",
      "torch.Size([128, 2, 2])\n",
      "torch.Size([128, 2, 2])\n",
      "torch.Size([128, 2, 2])\n",
      "torch.Size([128, 2, 2])\n",
      "torch.Size([128, 2, 2])\n"
     ]
    },
    {
     "name": "stderr",
     "output_type": "stream",
     "text": [
      " 45%|████▍     | 101/225 [00:02<00:03, 39.63it/s]"
     ]
    },
    {
     "name": "stdout",
     "output_type": "stream",
     "text": [
      "torch.Size([128, 2, 2])\n",
      "torch.Size([128, 2, 2])\n",
      "torch.Size([128, 2, 2])\n",
      "torch.Size([128, 2, 2])\n",
      "torch.Size([128, 2, 2])\n",
      "torch.Size([128, 2, 2])\n",
      "torch.Size([128, 2, 2])\n",
      "torch.Size([128, 2, 2])\n",
      "torch.Size([128, 2, 2])"
     ]
    },
    {
     "name": "stderr",
     "output_type": "stream",
     "text": [
      " 47%|████▋     | 106/225 [00:02<00:02, 39.87it/s]"
     ]
    },
    {
     "name": "stdout",
     "output_type": "stream",
     "text": [
      "\n",
      "torch.Size([128, 2, 2])\n",
      "torch.Size([128, 2, 2])\n",
      "torch.Size([128, 2, 2])\n",
      "torch.Size([128, 2, 2])\n",
      "torch.Size([128, 2, 2])\n",
      "torch.Size([128, 2, 2])\n",
      "torch.Size([128, 2, 2])\n",
      "torch.Size([128, 2, 2])"
     ]
    },
    {
     "name": "stderr",
     "output_type": "stream",
     "text": [
      " 52%|█████▏    | 116/225 [00:02<00:02, 40.35it/s]"
     ]
    },
    {
     "name": "stdout",
     "output_type": "stream",
     "text": [
      "\n",
      "torch.Size([128, 2, 2])\n",
      "torch.Size([128, 2, 2])\n",
      "torch.Size([128, 2, 2])\n",
      "torch.Size([128, 2, 2])\n",
      "torch.Size([128, 2, 2])\n",
      "torch.Size([128, 2, 2])\n",
      "torch.Size([128, 2, 2])\n",
      "torch.Size([128, 2, 2])"
     ]
    },
    {
     "name": "stderr",
     "output_type": "stream",
     "text": [
      " 54%|█████▍    | 121/225 [00:02<00:02, 40.77it/s]"
     ]
    },
    {
     "name": "stdout",
     "output_type": "stream",
     "text": [
      "\n",
      "torch.Size([128, 2, 2])\n",
      "torch.Size([128, 2, 2])\n",
      "torch.Size([128, 2, 2])\n",
      "torch.Size([128, 2, 2])\n",
      "torch.Size([128, 2, 2])\n",
      "torch.Size([128, 2, 2])\n",
      "torch.Size([128, 2, 2])\n",
      "torch.Size([128, 2, 2])\n"
     ]
    },
    {
     "name": "stderr",
     "output_type": "stream",
     "text": [
      " 58%|█████▊    | 131/225 [00:03<00:02, 40.86it/s]"
     ]
    },
    {
     "name": "stdout",
     "output_type": "stream",
     "text": [
      "torch.Size([128, 2, 2])\n",
      "torch.Size([128, 2, 2])\n",
      "torch.Size([128, 2, 2])\n",
      "torch.Size([128, 2, 2])\n",
      "torch.Size([128, 2, 2])\n",
      "torch.Size([128, 2, 2])\n",
      "torch.Size([128, 2, 2])\n",
      "torch.Size([128, 2, 2])\n",
      "torch.Size([128, 2, 2])"
     ]
    },
    {
     "name": "stderr",
     "output_type": "stream",
     "text": [
      " 60%|██████    | 136/225 [00:03<00:02, 40.73it/s]"
     ]
    },
    {
     "name": "stdout",
     "output_type": "stream",
     "text": [
      "\n",
      "torch.Size([128, 2, 2])\n",
      "torch.Size([128, 2, 2])\n",
      "torch.Size([128, 2, 2])\n",
      "torch.Size([128, 2, 2])\n",
      "torch.Size([128, 2, 2])\n",
      "torch.Size([128, 2, 2])\n"
     ]
    },
    {
     "name": "stderr",
     "output_type": "stream",
     "text": [
      " 65%|██████▍   | 146/225 [00:03<00:02, 38.22it/s]"
     ]
    },
    {
     "name": "stdout",
     "output_type": "stream",
     "text": [
      "torch.Size([128, 2, 2])\n",
      "torch.Size([128, 2, 2])\n",
      "torch.Size([128, 2, 2])\n",
      "torch.Size([128, 2, 2])\n",
      "torch.Size([128, 2, 2])\n",
      "torch.Size([128, 2, 2])\n",
      "torch.Size([128, 2, 2])\n",
      "torch.Size([128, 2, 2])\n",
      "torch.Size([128, 2, 2])"
     ]
    },
    {
     "name": "stderr",
     "output_type": "stream",
     "text": [
      " 68%|██████▊   | 154/225 [00:03<00:01, 37.97it/s]"
     ]
    },
    {
     "name": "stdout",
     "output_type": "stream",
     "text": [
      "\n",
      "torch.Size([128, 2, 2])\n",
      "torch.Size([128, 2, 2])\n",
      "torch.Size([128, 2, 2])\n",
      "torch.Size([128, 2, 2])\n",
      "torch.Size([128, 2, 2])\n",
      "torch.Size([128, 2, 2])"
     ]
    },
    {
     "name": "stderr",
     "output_type": "stream",
     "text": [
      " 70%|███████   | 158/225 [00:04<00:02, 32.57it/s]"
     ]
    },
    {
     "name": "stdout",
     "output_type": "stream",
     "text": [
      "\n",
      "torch.Size([128, 2, 2])\n",
      "torch.Size([128, 2, 2])\n",
      "torch.Size([128, 2, 2])\n",
      "torch.Size([128, 2, 2])\n",
      "torch.Size([128, 2, 2])\n",
      "torch.Size([128, 2, 2])"
     ]
    },
    {
     "name": "stderr",
     "output_type": "stream",
     "text": [
      " 74%|███████▍  | 166/225 [00:04<00:01, 33.67it/s]"
     ]
    },
    {
     "name": "stdout",
     "output_type": "stream",
     "text": [
      "\n",
      "torch.Size([128, 2, 2])\n",
      "torch.Size([128, 2, 2])\n",
      "torch.Size([128, 2, 2])\n",
      "torch.Size([128, 2, 2])\n",
      "torch.Size([128, 2, 2])\n",
      "torch.Size([128, 2, 2])\n"
     ]
    },
    {
     "name": "stderr",
     "output_type": "stream",
     "text": [
      " 78%|███████▊  | 175/225 [00:04<00:01, 36.03it/s]"
     ]
    },
    {
     "name": "stdout",
     "output_type": "stream",
     "text": [
      "torch.Size([128, 2, 2])\n",
      "torch.Size([128, 2, 2])\n",
      "torch.Size([128, 2, 2])\n",
      "torch.Size([128, 2, 2])\n",
      "torch.Size([128, 2, 2])\n",
      "torch.Size([128, 2, 2])\n",
      "torch.Size([128, 2, 2])\n",
      "torch.Size([128, 2, 2])"
     ]
    },
    {
     "name": "stderr",
     "output_type": "stream",
     "text": [
      " 80%|███████▉  | 179/225 [00:04<00:01, 36.36it/s]"
     ]
    },
    {
     "name": "stdout",
     "output_type": "stream",
     "text": [
      "\n",
      "torch.Size([128, 2, 2])\n",
      "torch.Size([128, 2, 2])\n",
      "torch.Size([128, 2, 2])\n",
      "torch.Size([128, 2, 2])\n",
      "torch.Size([128, 2, 2])\n",
      "torch.Size([128, 2, 2])\n",
      "torch.Size([128, 2, 2])\n",
      "torch.Size([128, 2, 2])"
     ]
    },
    {
     "name": "stderr",
     "output_type": "stream",
     "text": [
      " 84%|████████▎ | 188/225 [00:04<00:00, 38.23it/s]"
     ]
    },
    {
     "name": "stdout",
     "output_type": "stream",
     "text": [
      "\n",
      "torch.Size([128, 2, 2])\n",
      "torch.Size([128, 2, 2])\n",
      "torch.Size([128, 2, 2])\n",
      "torch.Size([128, 2, 2])\n",
      "torch.Size([128, 2, 2])\n",
      "torch.Size([128, 2, 2])\n",
      "torch.Size([128, 2, 2])"
     ]
    },
    {
     "name": "stderr",
     "output_type": "stream",
     "text": [
      " 88%|████████▊ | 197/225 [00:05<00:00, 38.70it/s]"
     ]
    },
    {
     "name": "stdout",
     "output_type": "stream",
     "text": [
      "\n",
      "torch.Size([128, 2, 2])\n",
      "torch.Size([128, 2, 2])\n",
      "torch.Size([128, 2, 2])\n",
      "torch.Size([128, 2, 2])\n",
      "torch.Size([128, 2, 2])\n",
      "torch.Size([128, 2, 2])\n",
      "torch.Size([128, 2, 2])\n",
      "torch.Size([128, 2, 2])"
     ]
    },
    {
     "name": "stderr",
     "output_type": "stream",
     "text": [
      " 89%|████████▉ | 201/225 [00:05<00:00, 38.55it/s]"
     ]
    },
    {
     "name": "stdout",
     "output_type": "stream",
     "text": [
      "\n",
      "torch.Size([128, 2, 2])\n",
      "torch.Size([128, 2, 2])\n",
      "torch.Size([128, 2, 2])\n",
      "torch.Size([128, 2, 2])\n",
      "torch.Size([128, 2, 2])\n",
      "torch.Size([128, 2, 2])\n",
      "torch.Size([128, 2, 2])\n"
     ]
    },
    {
     "name": "stderr",
     "output_type": "stream",
     "text": [
      " 94%|█████████▍| 211/225 [00:05<00:00, 39.52it/s]"
     ]
    },
    {
     "name": "stdout",
     "output_type": "stream",
     "text": [
      "torch.Size([128, 2, 2])\n",
      "torch.Size([128, 2, 2])\n",
      "torch.Size([128, 2, 2])\n",
      "torch.Size([128, 2, 2])\n",
      "torch.Size([128, 2, 2])\n",
      "torch.Size([128, 2, 2])\n",
      "torch.Size([128, 2, 2])\n",
      "torch.Size([128, 2, 2])\n",
      "torch.Size([128, 2, 2])"
     ]
    },
    {
     "name": "stderr",
     "output_type": "stream",
     "text": [
      " 98%|█████████▊| 220/225 [00:05<00:00, 39.65it/s]"
     ]
    },
    {
     "name": "stdout",
     "output_type": "stream",
     "text": [
      "\n",
      "torch.Size([128, 2, 2])\n",
      "torch.Size([128, 2, 2])\n",
      "torch.Size([128, 2, 2])\n",
      "torch.Size([128, 2, 2])\n",
      "torch.Size([128, 2, 2])\n",
      "torch.Size([128, 2, 2])\n",
      "torch.Size([128, 2, 2])\n",
      "torch.Size([128, 2, 2])"
     ]
    },
    {
     "name": "stderr",
     "output_type": "stream",
     "text": [
      "100%|██████████| 225/225 [00:05<00:00, 39.15it/s]\n",
      "  2%|▏         | 5/225 [00:00<00:04, 44.36it/s]"
     ]
    },
    {
     "name": "stdout",
     "output_type": "stream",
     "text": [
      "\n",
      "torch.Size([128, 2, 2])\n",
      "torch.Size([128, 2, 2])\n",
      "tensor(0.2613, device='cuda:0', grad_fn=<MseLossBackward>)\n",
      "torch.Size([128, 2, 2])\n",
      "torch.Size([128, 2, 2])\n",
      "torch.Size([128, 2, 2])\n",
      "torch.Size([128, 2, 2])\n",
      "torch.Size([128, 2, 2])\n",
      "torch.Size([128, 2, 2])"
     ]
    },
    {
     "name": "stderr",
     "output_type": "stream",
     "text": [
      "  4%|▍         | 10/225 [00:00<00:04, 43.10it/s]"
     ]
    },
    {
     "name": "stdout",
     "output_type": "stream",
     "text": [
      "\n",
      "torch.Size([128, 2, 2])\n",
      "torch.Size([128, 2, 2])\n",
      "torch.Size([128, 2, 2])\n",
      "torch.Size([128, 2, 2])\n",
      "torch.Size([128, 2, 2])\n",
      "torch.Size([128, 2, 2])\n",
      "torch.Size([128, 2, 2])\n",
      "torch.Size([128, 2, 2])"
     ]
    },
    {
     "name": "stderr",
     "output_type": "stream",
     "text": [
      "  8%|▊         | 19/225 [00:00<00:04, 41.25it/s]"
     ]
    },
    {
     "name": "stdout",
     "output_type": "stream",
     "text": [
      "\n",
      "torch.Size([128, 2, 2])\n",
      "torch.Size([128, 2, 2])\n",
      "torch.Size([128, 2, 2])\n",
      "torch.Size([128, 2, 2])\n",
      "torch.Size([128, 2, 2])\n",
      "torch.Size([128, 2, 2])\n",
      "torch.Size([128, 2, 2])\n",
      "torch.Size([128, 2, 2])"
     ]
    },
    {
     "name": "stderr",
     "output_type": "stream",
     "text": [
      " 12%|█▏        | 28/225 [00:00<00:04, 40.40it/s]"
     ]
    },
    {
     "name": "stdout",
     "output_type": "stream",
     "text": [
      "\n",
      "torch.Size([128, 2, 2])\n",
      "torch.Size([128, 2, 2])\n",
      "torch.Size([128, 2, 2])\n",
      "torch.Size([128, 2, 2])\n",
      "torch.Size([128, 2, 2])\n",
      "torch.Size([128, 2, 2])\n",
      "torch.Size([128, 2, 2])\n",
      "torch.Size([128, 2, 2])"
     ]
    },
    {
     "name": "stderr",
     "output_type": "stream",
     "text": [
      " 16%|█▌        | 36/225 [00:00<00:04, 39.53it/s]"
     ]
    },
    {
     "name": "stdout",
     "output_type": "stream",
     "text": [
      "\n",
      "torch.Size([128, 2, 2])\n",
      "torch.Size([128, 2, 2])\n",
      "torch.Size([128, 2, 2])\n",
      "torch.Size([128, 2, 2])\n",
      "torch.Size([128, 2, 2])\n",
      "torch.Size([128, 2, 2])\n",
      "torch.Size([128, 2, 2])\n",
      "torch.Size([128, 2, 2])\n"
     ]
    },
    {
     "name": "stderr",
     "output_type": "stream",
     "text": [
      " 20%|██        | 45/225 [00:01<00:04, 39.75it/s]"
     ]
    },
    {
     "name": "stdout",
     "output_type": "stream",
     "text": [
      "torch.Size([128, 2, 2])\n",
      "torch.Size([128, 2, 2])\n",
      "torch.Size([128, 2, 2])\n",
      "torch.Size([128, 2, 2])\n",
      "torch.Size([128, 2, 2])\n",
      "torch.Size([128, 2, 2])\n",
      "torch.Size([128, 2, 2])\n",
      "torch.Size([128, 2, 2])\n",
      "torch.Size([128, 2, 2])"
     ]
    },
    {
     "name": "stderr",
     "output_type": "stream",
     "text": [
      " 24%|██▍       | 54/225 [00:01<00:04, 39.75it/s]"
     ]
    },
    {
     "name": "stdout",
     "output_type": "stream",
     "text": [
      "\n",
      "torch.Size([128, 2, 2])\n",
      "torch.Size([128, 2, 2])\n",
      "torch.Size([128, 2, 2])\n",
      "torch.Size([128, 2, 2])\n",
      "torch.Size([128, 2, 2])\n",
      "torch.Size([128, 2, 2])\n",
      "torch.Size([128, 2, 2])\n",
      "torch.Size([128, 2, 2])"
     ]
    },
    {
     "name": "stderr",
     "output_type": "stream",
     "text": [
      " 26%|██▌       | 58/225 [00:01<00:04, 39.74it/s]"
     ]
    },
    {
     "name": "stdout",
     "output_type": "stream",
     "text": [
      "\n",
      "torch.Size([128, 2, 2])\n",
      "torch.Size([128, 2, 2])\n",
      "torch.Size([128, 2, 2])\n",
      "torch.Size([128, 2, 2])\n",
      "torch.Size([128, 2, 2])\n",
      "torch.Size([128, 2, 2])\n",
      "torch.Size([128, 2, 2])"
     ]
    },
    {
     "name": "stderr",
     "output_type": "stream",
     "text": [
      " 29%|██▉       | 66/225 [00:01<00:04, 38.79it/s]"
     ]
    },
    {
     "name": "stdout",
     "output_type": "stream",
     "text": [
      "\n",
      "torch.Size([128, 2, 2])\n",
      "torch.Size([128, 2, 2])\n",
      "torch.Size([128, 2, 2])\n",
      "torch.Size([128, 2, 2])\n",
      "torch.Size([128, 2, 2])\n",
      "torch.Size([128, 2, 2])\n",
      "torch.Size([128, 2, 2])"
     ]
    },
    {
     "name": "stderr",
     "output_type": "stream",
     "text": [
      " 33%|███▎      | 74/225 [00:01<00:03, 38.45it/s]"
     ]
    },
    {
     "name": "stdout",
     "output_type": "stream",
     "text": [
      "\n",
      "torch.Size([128, 2, 2])\n",
      "torch.Size([128, 2, 2])\n",
      "torch.Size([128, 2, 2])\n",
      "torch.Size([128, 2, 2])\n",
      "torch.Size([128, 2, 2])\n",
      "torch.Size([128, 2, 2])\n",
      "torch.Size([128, 2, 2])\n",
      "torch.Size([128, 2, 2])"
     ]
    },
    {
     "name": "stderr",
     "output_type": "stream",
     "text": [
      " 36%|███▋      | 82/225 [00:02<00:03, 37.95it/s]"
     ]
    },
    {
     "name": "stdout",
     "output_type": "stream",
     "text": [
      "\n",
      "torch.Size([128, 2, 2])\n",
      "torch.Size([128, 2, 2])\n",
      "torch.Size([128, 2, 2])\n",
      "torch.Size([128, 2, 2])\n",
      "torch.Size([128, 2, 2])\n",
      "torch.Size([128, 2, 2])\n",
      "torch.Size([128, 2, 2])"
     ]
    },
    {
     "name": "stderr",
     "output_type": "stream",
     "text": [
      " 40%|████      | 91/225 [00:02<00:03, 38.63it/s]"
     ]
    },
    {
     "name": "stdout",
     "output_type": "stream",
     "text": [
      "\n",
      "torch.Size([128, 2, 2])\n",
      "torch.Size([128, 2, 2])\n",
      "torch.Size([128, 2, 2])\n",
      "torch.Size([128, 2, 2])\n",
      "torch.Size([128, 2, 2])\n",
      "torch.Size([128, 2, 2])\n",
      "torch.Size([128, 2, 2])\n"
     ]
    },
    {
     "name": "stderr",
     "output_type": "stream",
     "text": [
      " 42%|████▏     | 95/225 [00:02<00:03, 38.50it/s]"
     ]
    },
    {
     "name": "stdout",
     "output_type": "stream",
     "text": [
      "torch.Size([128, 2, 2])\n",
      "torch.Size([128, 2, 2])\n",
      "torch.Size([128, 2, 2])\n",
      "torch.Size([128, 2, 2])\n",
      "torch.Size([128, 2, 2])\n",
      "torch.Size([128, 2, 2])\n",
      "torch.Size([128, 2, 2])\n",
      "torch.Size([128, 2, 2])\n",
      "torch.Size([128, 2, 2])"
     ]
    },
    {
     "name": "stderr",
     "output_type": "stream",
     "text": [
      " 46%|████▌     | 104/225 [00:02<00:03, 37.77it/s]"
     ]
    },
    {
     "name": "stdout",
     "output_type": "stream",
     "text": [
      "\n",
      "torch.Size([128, 2, 2])\n",
      "torch.Size([128, 2, 2])\n",
      "torch.Size([128, 2, 2])\n",
      "torch.Size([128, 2, 2])\n",
      "torch.Size([128, 2, 2])\n",
      "torch.Size([128, 2, 2])\n",
      "torch.Size([128, 2, 2])"
     ]
    },
    {
     "name": "stderr",
     "output_type": "stream",
     "text": [
      " 51%|█████     | 114/225 [00:02<00:02, 39.48it/s]"
     ]
    },
    {
     "name": "stdout",
     "output_type": "stream",
     "text": [
      "\n",
      "torch.Size([128, 2, 2])\n",
      "torch.Size([128, 2, 2])\n",
      "torch.Size([128, 2, 2])\n",
      "torch.Size([128, 2, 2])\n",
      "torch.Size([128, 2, 2])\n",
      "torch.Size([128, 2, 2])\n",
      "torch.Size([128, 2, 2])\n",
      "torch.Size([128, 2, 2])"
     ]
    },
    {
     "name": "stderr",
     "output_type": "stream",
     "text": [
      " 53%|█████▎    | 119/225 [00:03<00:02, 39.95it/s]"
     ]
    },
    {
     "name": "stdout",
     "output_type": "stream",
     "text": [
      "\n",
      "torch.Size([128, 2, 2])\n",
      "torch.Size([128, 2, 2])\n",
      "torch.Size([128, 2, 2])\n",
      "torch.Size([128, 2, 2])\n",
      "torch.Size([128, 2, 2])\n",
      "torch.Size([128, 2, 2])\n",
      "torch.Size([128, 2, 2])\n",
      "torch.Size([128, 2, 2])"
     ]
    },
    {
     "name": "stderr",
     "output_type": "stream",
     "text": [
      " 57%|█████▋    | 128/225 [00:03<00:02, 39.78it/s]"
     ]
    },
    {
     "name": "stdout",
     "output_type": "stream",
     "text": [
      "\n",
      "torch.Size([128, 2, 2])\n",
      "torch.Size([128, 2, 2])\n",
      "torch.Size([128, 2, 2])\n",
      "torch.Size([128, 2, 2])\n",
      "torch.Size([128, 2, 2])\n",
      "torch.Size([128, 2, 2])\n",
      "torch.Size([128, 2, 2])\n",
      "torch.Size([128, 2, 2])"
     ]
    },
    {
     "name": "stderr",
     "output_type": "stream",
     "text": [
      " 61%|██████    | 137/225 [00:03<00:02, 39.96it/s]"
     ]
    },
    {
     "name": "stdout",
     "output_type": "stream",
     "text": [
      "\n",
      "torch.Size([128, 2, 2])\n",
      "torch.Size([128, 2, 2])\n",
      "torch.Size([128, 2, 2])\n",
      "torch.Size([128, 2, 2])\n",
      "torch.Size([128, 2, 2])\n",
      "torch.Size([128, 2, 2])\n",
      "torch.Size([128, 2, 2])\n",
      "torch.Size([128, 2, 2])"
     ]
    },
    {
     "name": "stderr",
     "output_type": "stream",
     "text": [
      " 64%|██████▍   | 145/225 [00:03<00:02, 39.51it/s]"
     ]
    },
    {
     "name": "stdout",
     "output_type": "stream",
     "text": [
      "\n",
      "torch.Size([128, 2, 2])\n",
      "torch.Size([128, 2, 2])\n",
      "torch.Size([128, 2, 2])\n",
      "torch.Size([128, 2, 2])\n",
      "torch.Size([128, 2, 2])\n",
      "torch.Size([128, 2, 2])\n",
      "torch.Size([128, 2, 2])\n",
      "torch.Size([128, 2, 2])\n"
     ]
    },
    {
     "name": "stderr",
     "output_type": "stream",
     "text": [
      " 68%|██████▊   | 154/225 [00:03<00:01, 39.39it/s]"
     ]
    },
    {
     "name": "stdout",
     "output_type": "stream",
     "text": [
      "torch.Size([128, 2, 2])\n",
      "torch.Size([128, 2, 2])\n",
      "torch.Size([128, 2, 2])\n",
      "torch.Size([128, 2, 2])\n",
      "torch.Size([128, 2, 2])\n",
      "torch.Size([128, 2, 2])\n",
      "torch.Size([128, 2, 2])\n",
      "torch.Size([128, 2, 2])"
     ]
    },
    {
     "name": "stderr",
     "output_type": "stream",
     "text": [
      " 70%|███████   | 158/225 [00:04<00:01, 39.25it/s]"
     ]
    },
    {
     "name": "stdout",
     "output_type": "stream",
     "text": [
      "\n",
      "torch.Size([128, 2, 2])\n",
      "torch.Size([128, 2, 2])\n",
      "torch.Size([128, 2, 2])\n",
      "torch.Size([128, 2, 2])\n",
      "torch.Size([128, 2, 2])\n",
      "torch.Size([128, 2, 2])\n",
      "torch.Size([128, 2, 2])\n",
      "torch.Size([128, 2, 2])"
     ]
    },
    {
     "name": "stderr",
     "output_type": "stream",
     "text": [
      " 74%|███████▍  | 167/225 [00:04<00:01, 39.21it/s]"
     ]
    },
    {
     "name": "stdout",
     "output_type": "stream",
     "text": [
      "\n",
      "torch.Size([128, 2, 2])\n",
      "torch.Size([128, 2, 2])\n",
      "torch.Size([128, 2, 2])\n",
      "torch.Size([128, 2, 2])\n",
      "torch.Size([128, 2, 2])\n",
      "torch.Size([128, 2, 2])\n",
      "torch.Size([128, 2, 2])\n",
      "torch.Size([128, 2, 2])"
     ]
    },
    {
     "name": "stderr",
     "output_type": "stream",
     "text": [
      " 78%|███████▊  | 175/225 [00:04<00:01, 39.18it/s]"
     ]
    },
    {
     "name": "stdout",
     "output_type": "stream",
     "text": [
      "\n",
      "torch.Size([128, 2, 2])\n",
      "torch.Size([128, 2, 2])\n",
      "torch.Size([128, 2, 2])\n",
      "torch.Size([128, 2, 2])\n",
      "torch.Size([128, 2, 2])\n",
      "torch.Size([128, 2, 2])\n",
      "torch.Size([128, 2, 2])"
     ]
    },
    {
     "name": "stderr",
     "output_type": "stream",
     "text": [
      " 81%|████████▏ | 183/225 [00:04<00:01, 38.95it/s]"
     ]
    },
    {
     "name": "stdout",
     "output_type": "stream",
     "text": [
      "\n",
      "torch.Size([128, 2, 2])\n",
      "torch.Size([128, 2, 2])\n",
      "torch.Size([128, 2, 2])\n",
      "torch.Size([128, 2, 2])\n",
      "torch.Size([128, 2, 2])\n",
      "torch.Size([128, 2, 2])\n",
      "torch.Size([128, 2, 2])\n",
      "torch.Size([128, 2, 2])"
     ]
    },
    {
     "name": "stderr",
     "output_type": "stream",
     "text": [
      " 85%|████████▍ | 191/225 [00:04<00:00, 39.10it/s]"
     ]
    },
    {
     "name": "stdout",
     "output_type": "stream",
     "text": [
      "\n",
      "torch.Size([128, 2, 2])\n",
      "torch.Size([128, 2, 2])\n",
      "torch.Size([128, 2, 2])\n",
      "torch.Size([128, 2, 2])\n",
      "torch.Size([128, 2, 2])\n",
      "torch.Size([128, 2, 2])\n",
      "torch.Size([128, 2, 2])\n",
      "torch.Size([128, 2, 2])"
     ]
    },
    {
     "name": "stderr",
     "output_type": "stream",
     "text": [
      " 88%|████████▊ | 199/225 [00:05<00:00, 38.77it/s]"
     ]
    },
    {
     "name": "stdout",
     "output_type": "stream",
     "text": [
      "\n",
      "torch.Size([128, 2, 2])\n",
      "torch.Size([128, 2, 2])\n",
      "torch.Size([128, 2, 2])\n",
      "torch.Size([128, 2, 2])\n",
      "torch.Size([128, 2, 2])\n",
      "torch.Size([128, 2, 2])\n",
      "torch.Size([128, 2, 2])\n",
      "torch.Size([128, 2, 2])"
     ]
    },
    {
     "name": "stderr",
     "output_type": "stream",
     "text": [
      " 92%|█████████▏| 207/225 [00:05<00:00, 38.67it/s]"
     ]
    },
    {
     "name": "stdout",
     "output_type": "stream",
     "text": [
      "\n",
      "torch.Size([128, 2, 2])\n",
      "torch.Size([128, 2, 2])\n",
      "torch.Size([128, 2, 2])\n",
      "torch.Size([128, 2, 2])\n",
      "torch.Size([128, 2, 2])\n",
      "torch.Size([128, 2, 2])\n",
      "torch.Size([128, 2, 2])"
     ]
    },
    {
     "name": "stderr",
     "output_type": "stream",
     "text": [
      " 96%|█████████▌| 215/225 [00:05<00:00, 38.17it/s]"
     ]
    },
    {
     "name": "stdout",
     "output_type": "stream",
     "text": [
      "\n",
      "torch.Size([128, 2, 2])\n",
      "torch.Size([128, 2, 2])\n",
      "torch.Size([128, 2, 2])\n",
      "torch.Size([128, 2, 2])\n",
      "torch.Size([128, 2, 2])\n",
      "torch.Size([128, 2, 2])\n",
      "torch.Size([128, 2, 2])"
     ]
    },
    {
     "name": "stderr",
     "output_type": "stream",
     "text": [
      " 97%|█████████▋| 219/225 [00:05<00:00, 37.86it/s]"
     ]
    },
    {
     "name": "stdout",
     "output_type": "stream",
     "text": [
      "\n",
      "torch.Size([128, 2, 2])\n",
      "torch.Size([128, 2, 2])\n",
      "torch.Size([128, 2, 2])\n",
      "torch.Size([128, 2, 2])\n",
      "torch.Size([128, 2, 2])\n",
      "torch.Size([128, 2, 2])\n",
      "torch.Size([128, 2, 2])"
     ]
    },
    {
     "name": "stderr",
     "output_type": "stream",
     "text": [
      "100%|██████████| 225/225 [00:05<00:00, 39.05it/s]\n",
      "  0%|          | 0/225 [00:00<?, ?it/s]"
     ]
    },
    {
     "name": "stdout",
     "output_type": "stream",
     "text": [
      "\n",
      "torch.Size([128, 2, 2])\n",
      "torch.Size([128, 2, 2])\n",
      "tensor(0.2348, device='cuda:0', grad_fn=<MseLossBackward>)\n",
      "torch.Size([128, 2, 2])\n",
      "torch.Size([128, 2, 2])\n",
      "torch.Size([128, 2, 2])\n",
      "torch.Size([128, 2, 2])\n",
      "torch.Size([128, 2, 2])"
     ]
    },
    {
     "name": "stderr",
     "output_type": "stream",
     "text": [
      "  4%|▍         | 9/225 [00:00<00:05, 40.21it/s]"
     ]
    },
    {
     "name": "stdout",
     "output_type": "stream",
     "text": [
      "\n",
      "torch.Size([128, 2, 2])\n",
      "torch.Size([128, 2, 2])\n",
      "torch.Size([128, 2, 2])\n",
      "torch.Size([128, 2, 2])\n",
      "torch.Size([128, 2, 2])\n",
      "torch.Size([128, 2, 2])\n",
      "torch.Size([128, 2, 2])"
     ]
    },
    {
     "name": "stderr",
     "output_type": "stream",
     "text": [
      "  8%|▊         | 17/225 [00:00<00:05, 39.20it/s]"
     ]
    },
    {
     "name": "stdout",
     "output_type": "stream",
     "text": [
      "\n",
      "torch.Size([128, 2, 2])\n",
      "torch.Size([128, 2, 2])\n",
      "torch.Size([128, 2, 2])\n",
      "torch.Size([128, 2, 2])\n",
      "torch.Size([128, 2, 2])\n",
      "torch.Size([128, 2, 2])\n",
      "torch.Size([128, 2, 2])"
     ]
    },
    {
     "name": "stderr",
     "output_type": "stream",
     "text": [
      " 11%|█         | 25/225 [00:00<00:05, 38.34it/s]"
     ]
    },
    {
     "name": "stdout",
     "output_type": "stream",
     "text": [
      "\n",
      "torch.Size([128, 2, 2])\n",
      "torch.Size([128, 2, 2])\n",
      "torch.Size([128, 2, 2])\n",
      "torch.Size([128, 2, 2])\n",
      "torch.Size([128, 2, 2])\n",
      "torch.Size([128, 2, 2])\n",
      "torch.Size([128, 2, 2])"
     ]
    },
    {
     "name": "stderr",
     "output_type": "stream",
     "text": [
      " 15%|█▍        | 33/225 [00:00<00:05, 38.28it/s]"
     ]
    },
    {
     "name": "stdout",
     "output_type": "stream",
     "text": [
      "\n",
      "torch.Size([128, 2, 2])\n",
      "torch.Size([128, 2, 2])\n",
      "torch.Size([128, 2, 2])\n",
      "torch.Size([128, 2, 2])\n",
      "torch.Size([128, 2, 2])\n",
      "torch.Size([128, 2, 2])\n",
      "torch.Size([128, 2, 2])\n"
     ]
    },
    {
     "name": "stderr",
     "output_type": "stream",
     "text": [
      " 16%|█▋        | 37/225 [00:00<00:04, 38.47it/s]"
     ]
    },
    {
     "name": "stdout",
     "output_type": "stream",
     "text": [
      "torch.Size([128, 2, 2])\n",
      "torch.Size([128, 2, 2])\n",
      "torch.Size([128, 2, 2])\n",
      "torch.Size([128, 2, 2])\n",
      "torch.Size([128, 2, 2])\n",
      "torch.Size([128, 2, 2])\n",
      "torch.Size([128, 2, 2])\n",
      "torch.Size([128, 2, 2])"
     ]
    },
    {
     "name": "stderr",
     "output_type": "stream",
     "text": [
      " 20%|██        | 45/225 [00:01<00:04, 38.67it/s]"
     ]
    },
    {
     "name": "stdout",
     "output_type": "stream",
     "text": [
      "\n",
      "torch.Size([128, 2, 2])\n",
      "torch.Size([128, 2, 2])\n",
      "torch.Size([128, 2, 2])\n",
      "torch.Size([128, 2, 2])\n",
      "torch.Size([128, 2, 2])\n",
      "torch.Size([128, 2, 2])\n",
      "torch.Size([128, 2, 2])\n",
      "torch.Size([128, 2, 2])"
     ]
    },
    {
     "name": "stderr",
     "output_type": "stream",
     "text": [
      " 24%|██▎       | 53/225 [00:01<00:04, 39.03it/s]"
     ]
    },
    {
     "name": "stdout",
     "output_type": "stream",
     "text": [
      "\n",
      "torch.Size([128, 2, 2])\n",
      "torch.Size([128, 2, 2])\n",
      "torch.Size([128, 2, 2])\n",
      "torch.Size([128, 2, 2])\n",
      "torch.Size([128, 2, 2])\n",
      "torch.Size([128, 2, 2])\n",
      "torch.Size([128, 2, 2])\n",
      "torch.Size([128, 2, 2])"
     ]
    },
    {
     "name": "stderr",
     "output_type": "stream",
     "text": [
      " 27%|██▋       | 61/225 [00:01<00:04, 38.79it/s]"
     ]
    },
    {
     "name": "stdout",
     "output_type": "stream",
     "text": [
      "\n",
      "torch.Size([128, 2, 2])\n",
      "torch.Size([128, 2, 2])\n",
      "torch.Size([128, 2, 2])\n",
      "torch.Size([128, 2, 2])\n",
      "torch.Size([128, 2, 2])\n",
      "torch.Size([128, 2, 2])\n",
      "torch.Size([128, 2, 2])\n",
      "torch.Size([128, 2, 2])"
     ]
    },
    {
     "name": "stderr",
     "output_type": "stream",
     "text": [
      " 31%|███       | 70/225 [00:01<00:03, 39.29it/s]"
     ]
    },
    {
     "name": "stdout",
     "output_type": "stream",
     "text": [
      "\n",
      "torch.Size([128, 2, 2])\n",
      "torch.Size([128, 2, 2])\n",
      "torch.Size([128, 2, 2])\n",
      "torch.Size([128, 2, 2])\n",
      "torch.Size([128, 2, 2])\n",
      "torch.Size([128, 2, 2])\n",
      "torch.Size([128, 2, 2])\n",
      "torch.Size([128, 2, 2])"
     ]
    },
    {
     "name": "stderr",
     "output_type": "stream",
     "text": [
      " 35%|███▍      | 78/225 [00:02<00:03, 39.16it/s]"
     ]
    },
    {
     "name": "stdout",
     "output_type": "stream",
     "text": [
      "\n",
      "torch.Size([128, 2, 2])\n",
      "torch.Size([128, 2, 2])\n",
      "torch.Size([128, 2, 2])\n",
      "torch.Size([128, 2, 2])\n",
      "torch.Size([128, 2, 2])\n",
      "torch.Size([128, 2, 2])\n",
      "torch.Size([128, 2, 2])\n",
      "torch.Size([128, 2, 2])"
     ]
    },
    {
     "name": "stderr",
     "output_type": "stream",
     "text": [
      " 38%|███▊      | 86/225 [00:02<00:03, 39.27it/s]"
     ]
    },
    {
     "name": "stdout",
     "output_type": "stream",
     "text": [
      "\n",
      "torch.Size([128, 2, 2])\n",
      "torch.Size([128, 2, 2])\n",
      "torch.Size([128, 2, 2])\n",
      "torch.Size([128, 2, 2])\n",
      "torch.Size([128, 2, 2])\n",
      "torch.Size([128, 2, 2])\n",
      "torch.Size([128, 2, 2])\n",
      "torch.Size([128, 2, 2])"
     ]
    },
    {
     "name": "stderr",
     "output_type": "stream",
     "text": [
      " 42%|████▏     | 94/225 [00:02<00:03, 39.13it/s]"
     ]
    },
    {
     "name": "stdout",
     "output_type": "stream",
     "text": [
      "\n",
      "torch.Size([128, 2, 2])\n",
      "torch.Size([128, 2, 2])\n",
      "torch.Size([128, 2, 2])\n",
      "torch.Size([128, 2, 2])\n",
      "torch.Size([128, 2, 2])\n",
      "torch.Size([128, 2, 2])\n",
      "torch.Size([128, 2, 2])\n",
      "torch.Size([128, 2, 2])"
     ]
    },
    {
     "name": "stderr",
     "output_type": "stream",
     "text": [
      " 46%|████▌     | 103/225 [00:02<00:03, 39.64it/s]"
     ]
    },
    {
     "name": "stdout",
     "output_type": "stream",
     "text": [
      "\n",
      "torch.Size([128, 2, 2])\n",
      "torch.Size([128, 2, 2])\n",
      "torch.Size([128, 2, 2])\n",
      "torch.Size([128, 2, 2])\n",
      "torch.Size([128, 2, 2])\n",
      "torch.Size([128, 2, 2])\n",
      "torch.Size([128, 2, 2])\n",
      "torch.Size([128, 2, 2])"
     ]
    },
    {
     "name": "stderr",
     "output_type": "stream",
     "text": [
      " 48%|████▊     | 108/225 [00:02<00:02, 39.78it/s]"
     ]
    },
    {
     "name": "stdout",
     "output_type": "stream",
     "text": [
      "\n",
      "torch.Size([128, 2, 2])\n",
      "torch.Size([128, 2, 2])\n",
      "torch.Size([128, 2, 2])\n",
      "torch.Size([128, 2, 2])\n",
      "torch.Size([128, 2, 2])\n",
      "torch.Size([128, 2, 2])\n",
      "torch.Size([128, 2, 2])\n"
     ]
    },
    {
     "name": "stderr",
     "output_type": "stream",
     "text": [
      " 53%|█████▎    | 120/225 [00:03<00:02, 39.33it/s]"
     ]
    },
    {
     "name": "stdout",
     "output_type": "stream",
     "text": [
      "torch.Size([128, 2, 2])\n",
      "torch.Size([128, 2, 2])\n",
      "torch.Size([128, 2, 2])\n",
      "torch.Size([128, 2, 2])\n",
      "torch.Size([128, 2, 2])\n",
      "torch.Size([128, 2, 2])\n",
      "torch.Size([128, 2, 2])\n",
      "torch.Size([128, 2, 2])\n"
     ]
    },
    {
     "name": "stderr",
     "output_type": "stream",
     "text": [
      " 57%|█████▋    | 128/225 [00:03<00:02, 39.44it/s]"
     ]
    },
    {
     "name": "stdout",
     "output_type": "stream",
     "text": [
      "torch.Size([128, 2, 2])\n",
      "torch.Size([128, 2, 2])\n",
      "torch.Size([128, 2, 2])\n",
      "torch.Size([128, 2, 2])\n",
      "torch.Size([128, 2, 2])\n",
      "torch.Size([128, 2, 2])\n",
      "torch.Size([128, 2, 2])\n",
      "torch.Size([128, 2, 2])\n"
     ]
    },
    {
     "name": "stderr",
     "output_type": "stream",
     "text": [
      " 59%|█████▉    | 133/225 [00:03<00:02, 39.73it/s]"
     ]
    },
    {
     "name": "stdout",
     "output_type": "stream",
     "text": [
      "torch.Size([128, 2, 2])\n",
      "torch.Size([128, 2, 2])\n",
      "torch.Size([128, 2, 2])\n",
      "torch.Size([128, 2, 2])\n",
      "torch.Size([128, 2, 2])\n",
      "torch.Size([128, 2, 2])\n",
      "torch.Size([128, 2, 2])\n",
      "torch.Size([128, 2, 2])\n",
      "torch.Size([128, 2, 2])"
     ]
    },
    {
     "name": "stderr",
     "output_type": "stream",
     "text": [
      " 63%|██████▎   | 141/225 [00:03<00:02, 39.56it/s]"
     ]
    },
    {
     "name": "stdout",
     "output_type": "stream",
     "text": [
      "\n",
      "torch.Size([128, 2, 2])\n",
      "torch.Size([128, 2, 2])\n",
      "torch.Size([128, 2, 2])\n",
      "torch.Size([128, 2, 2])\n",
      "torch.Size([128, 2, 2])\n",
      "torch.Size([128, 2, 2])\n",
      "torch.Size([128, 2, 2])\n",
      "torch.Size([128, 2, 2])"
     ]
    },
    {
     "name": "stderr",
     "output_type": "stream",
     "text": [
      " 67%|██████▋   | 150/225 [00:03<00:01, 39.51it/s]"
     ]
    },
    {
     "name": "stdout",
     "output_type": "stream",
     "text": [
      "\n",
      "torch.Size([128, 2, 2])\n",
      "torch.Size([128, 2, 2])\n",
      "torch.Size([128, 2, 2])\n",
      "torch.Size([128, 2, 2])\n",
      "torch.Size([128, 2, 2])\n",
      "torch.Size([128, 2, 2])\n",
      "torch.Size([128, 2, 2])\n",
      "torch.Size([128, 2, 2])"
     ]
    },
    {
     "name": "stderr",
     "output_type": "stream",
     "text": [
      " 70%|███████   | 158/225 [00:04<00:01, 39.45it/s]"
     ]
    },
    {
     "name": "stdout",
     "output_type": "stream",
     "text": [
      "\n",
      "torch.Size([128, 2, 2])\n",
      "torch.Size([128, 2, 2])\n",
      "torch.Size([128, 2, 2])\n",
      "torch.Size([128, 2, 2])\n",
      "torch.Size([128, 2, 2])\n",
      "torch.Size([128, 2, 2])\n",
      "torch.Size([128, 2, 2])\n",
      "torch.Size([128, 2, 2])"
     ]
    },
    {
     "name": "stderr",
     "output_type": "stream",
     "text": [
      " 74%|███████▍  | 166/225 [00:04<00:01, 39.25it/s]"
     ]
    },
    {
     "name": "stdout",
     "output_type": "stream",
     "text": [
      "\n",
      "torch.Size([128, 2, 2])\n",
      "torch.Size([128, 2, 2])\n",
      "torch.Size([128, 2, 2])\n",
      "torch.Size([128, 2, 2])\n",
      "torch.Size([128, 2, 2])\n",
      "torch.Size([128, 2, 2])\n",
      "torch.Size([128, 2, 2])\n",
      "torch.Size([128, 2, 2])"
     ]
    },
    {
     "name": "stderr",
     "output_type": "stream",
     "text": [
      " 77%|███████▋  | 174/225 [00:04<00:01, 39.37it/s]"
     ]
    },
    {
     "name": "stdout",
     "output_type": "stream",
     "text": [
      "\n",
      "torch.Size([128, 2, 2])\n",
      "torch.Size([128, 2, 2])\n",
      "torch.Size([128, 2, 2])\n",
      "torch.Size([128, 2, 2])\n",
      "torch.Size([128, 2, 2])\n",
      "torch.Size([128, 2, 2])\n",
      "torch.Size([128, 2, 2])\n",
      "torch.Size([128, 2, 2])"
     ]
    },
    {
     "name": "stderr",
     "output_type": "stream",
     "text": [
      " 81%|████████▏ | 183/225 [00:04<00:01, 39.50it/s]"
     ]
    },
    {
     "name": "stdout",
     "output_type": "stream",
     "text": [
      "\n",
      "torch.Size([128, 2, 2])\n",
      "torch.Size([128, 2, 2])\n",
      "torch.Size([128, 2, 2])\n",
      "torch.Size([128, 2, 2])\n",
      "torch.Size([128, 2, 2])\n",
      "torch.Size([128, 2, 2])\n",
      "torch.Size([128, 2, 2])\n",
      "torch.Size([128, 2, 2])"
     ]
    },
    {
     "name": "stderr",
     "output_type": "stream",
     "text": [
      " 84%|████████▎ | 188/225 [00:04<00:00, 39.68it/s]"
     ]
    },
    {
     "name": "stdout",
     "output_type": "stream",
     "text": [
      "\n",
      "torch.Size([128, 2, 2])\n",
      "torch.Size([128, 2, 2])\n",
      "torch.Size([128, 2, 2])\n",
      "torch.Size([128, 2, 2])\n",
      "torch.Size([128, 2, 2])\n",
      "torch.Size([128, 2, 2])\n",
      "torch.Size([128, 2, 2])\n",
      "torch.Size([128, 2, 2])"
     ]
    },
    {
     "name": "stderr",
     "output_type": "stream",
     "text": [
      " 88%|████████▊ | 198/225 [00:05<00:00, 39.92it/s]"
     ]
    },
    {
     "name": "stdout",
     "output_type": "stream",
     "text": [
      "\n",
      "torch.Size([128, 2, 2])\n",
      "torch.Size([128, 2, 2])\n",
      "torch.Size([128, 2, 2])\n",
      "torch.Size([128, 2, 2])\n",
      "torch.Size([128, 2, 2])\n",
      "torch.Size([128, 2, 2])\n",
      "torch.Size([128, 2, 2])"
     ]
    },
    {
     "name": "stderr",
     "output_type": "stream",
     "text": [
      " 92%|█████████▏| 206/225 [00:05<00:00, 39.45it/s]"
     ]
    },
    {
     "name": "stdout",
     "output_type": "stream",
     "text": [
      "\n",
      "torch.Size([128, 2, 2])\n",
      "torch.Size([128, 2, 2])\n",
      "torch.Size([128, 2, 2])\n",
      "torch.Size([128, 2, 2])\n",
      "torch.Size([128, 2, 2])\n",
      "torch.Size([128, 2, 2])\n",
      "torch.Size([128, 2, 2])\n",
      "torch.Size([128, 2, 2])\n"
     ]
    },
    {
     "name": "stderr",
     "output_type": "stream",
     "text": [
      " 96%|█████████▌| 215/225 [00:05<00:00, 39.52it/s]"
     ]
    },
    {
     "name": "stdout",
     "output_type": "stream",
     "text": [
      "torch.Size([128, 2, 2])\n",
      "torch.Size([128, 2, 2])\n",
      "torch.Size([128, 2, 2])\n",
      "torch.Size([128, 2, 2])\n",
      "torch.Size([128, 2, 2])\n",
      "torch.Size([128, 2, 2])\n",
      "torch.Size([128, 2, 2])\n",
      "torch.Size([128, 2, 2])"
     ]
    },
    {
     "name": "stderr",
     "output_type": "stream",
     "text": [
      " 97%|█████████▋| 219/225 [00:05<00:00, 39.46it/s]"
     ]
    },
    {
     "name": "stdout",
     "output_type": "stream",
     "text": [
      "\n",
      "torch.Size([128, 2, 2])\n",
      "torch.Size([128, 2, 2])\n",
      "torch.Size([128, 2, 2])\n",
      "torch.Size([128, 2, 2])\n",
      "torch.Size([128, 2, 2])\n",
      "torch.Size([128, 2, 2])\n",
      "torch.Size([128, 2, 2])\n",
      "torch.Size([128, 2, 2])"
     ]
    },
    {
     "name": "stderr",
     "output_type": "stream",
     "text": [
      "100%|██████████| 225/225 [00:05<00:00, 39.32it/s]\n",
      "  2%|▏         | 4/225 [00:00<00:05, 39.32it/s]"
     ]
    },
    {
     "name": "stdout",
     "output_type": "stream",
     "text": [
      "\n",
      "torch.Size([128, 2, 2])\n",
      "tensor(0.2155, device='cuda:0', grad_fn=<MseLossBackward>)\n",
      "torch.Size([128, 2, 2])\n",
      "torch.Size([128, 2, 2])\n",
      "torch.Size([128, 2, 2])\n",
      "torch.Size([128, 2, 2])\n",
      "torch.Size([128, 2, 2])\n",
      "torch.Size([128, 2, 2])"
     ]
    },
    {
     "name": "stderr",
     "output_type": "stream",
     "text": [
      "  4%|▎         | 8/225 [00:00<00:05, 39.44it/s]"
     ]
    },
    {
     "name": "stdout",
     "output_type": "stream",
     "text": [
      "\n",
      "torch.Size([128, 2, 2])\n",
      "torch.Size([128, 2, 2])\n",
      "torch.Size([128, 2, 2])\n",
      "torch.Size([128, 2, 2])\n",
      "torch.Size([128, 2, 2])\n",
      "torch.Size([128, 2, 2])\n",
      "torch.Size([128, 2, 2])\n"
     ]
    },
    {
     "name": "stderr",
     "output_type": "stream",
     "text": [
      "  8%|▊         | 18/225 [00:00<00:05, 39.72it/s]"
     ]
    },
    {
     "name": "stdout",
     "output_type": "stream",
     "text": [
      "torch.Size([128, 2, 2])\n",
      "torch.Size([128, 2, 2])\n",
      "torch.Size([128, 2, 2])\n",
      "torch.Size([128, 2, 2])\n",
      "torch.Size([128, 2, 2])\n",
      "torch.Size([128, 2, 2])\n",
      "torch.Size([128, 2, 2])\n",
      "torch.Size([128, 2, 2])\n",
      "torch.Size([128, 2, 2])"
     ]
    },
    {
     "name": "stderr",
     "output_type": "stream",
     "text": [
      " 12%|█▏        | 28/225 [00:00<00:04, 40.11it/s]"
     ]
    },
    {
     "name": "stdout",
     "output_type": "stream",
     "text": [
      "\n",
      "torch.Size([128, 2, 2])\n",
      "torch.Size([128, 2, 2])\n",
      "torch.Size([128, 2, 2])\n",
      "torch.Size([128, 2, 2])\n",
      "torch.Size([128, 2, 2])\n",
      "torch.Size([128, 2, 2])\n",
      "torch.Size([128, 2, 2])\n",
      "torch.Size([128, 2, 2])"
     ]
    },
    {
     "name": "stderr",
     "output_type": "stream",
     "text": [
      " 15%|█▍        | 33/225 [00:00<00:04, 39.92it/s]"
     ]
    },
    {
     "name": "stdout",
     "output_type": "stream",
     "text": [
      "\n",
      "torch.Size([128, 2, 2])\n",
      "torch.Size([128, 2, 2])\n",
      "torch.Size([128, 2, 2])\n",
      "torch.Size([128, 2, 2])\n",
      "torch.Size([128, 2, 2])\n",
      "torch.Size([128, 2, 2])\n",
      "torch.Size([128, 2, 2])\n"
     ]
    },
    {
     "name": "stderr",
     "output_type": "stream",
     "text": [
      " 19%|█▊        | 42/225 [00:01<00:04, 40.22it/s]"
     ]
    },
    {
     "name": "stdout",
     "output_type": "stream",
     "text": [
      "torch.Size([128, 2, 2])\n",
      "torch.Size([128, 2, 2])\n",
      "torch.Size([128, 2, 2])\n",
      "torch.Size([128, 2, 2])\n",
      "torch.Size([128, 2, 2])\n",
      "torch.Size([128, 2, 2])\n",
      "torch.Size([128, 2, 2])\n",
      "torch.Size([128, 2, 2])\n",
      "torch.Size([128, 2, 2])"
     ]
    },
    {
     "name": "stderr",
     "output_type": "stream",
     "text": [
      " 23%|██▎       | 51/225 [00:01<00:04, 39.62it/s]"
     ]
    },
    {
     "name": "stdout",
     "output_type": "stream",
     "text": [
      "\n",
      "torch.Size([128, 2, 2])\n",
      "torch.Size([128, 2, 2])\n",
      "torch.Size([128, 2, 2])\n",
      "torch.Size([128, 2, 2])\n",
      "torch.Size([128, 2, 2])\n",
      "torch.Size([128, 2, 2])\n",
      "torch.Size([128, 2, 2])\n",
      "torch.Size([128, 2, 2])"
     ]
    },
    {
     "name": "stderr",
     "output_type": "stream",
     "text": [
      " 27%|██▋       | 60/225 [00:01<00:04, 39.94it/s]"
     ]
    },
    {
     "name": "stdout",
     "output_type": "stream",
     "text": [
      "\n",
      "torch.Size([128, 2, 2])\n",
      "torch.Size([128, 2, 2])\n",
      "torch.Size([128, 2, 2])\n",
      "torch.Size([128, 2, 2])\n",
      "torch.Size([128, 2, 2])\n",
      "torch.Size([128, 2, 2])\n",
      "torch.Size([128, 2, 2])\n",
      "torch.Size([128, 2, 2])\n"
     ]
    },
    {
     "name": "stderr",
     "output_type": "stream",
     "text": [
      " 31%|███       | 69/225 [00:01<00:03, 39.62it/s]"
     ]
    },
    {
     "name": "stdout",
     "output_type": "stream",
     "text": [
      "torch.Size([128, 2, 2])\n",
      "torch.Size([128, 2, 2])\n",
      "torch.Size([128, 2, 2])\n",
      "torch.Size([128, 2, 2])\n",
      "torch.Size([128, 2, 2])\n",
      "torch.Size([128, 2, 2])\n",
      "torch.Size([128, 2, 2])\n",
      "torch.Size([128, 2, 2])"
     ]
    },
    {
     "name": "stderr",
     "output_type": "stream",
     "text": [
      " 34%|███▍      | 77/225 [00:01<00:03, 39.22it/s]"
     ]
    },
    {
     "name": "stdout",
     "output_type": "stream",
     "text": [
      "\n",
      "torch.Size([128, 2, 2])\n",
      "torch.Size([128, 2, 2])\n",
      "torch.Size([128, 2, 2])\n",
      "torch.Size([128, 2, 2])\n",
      "torch.Size([128, 2, 2])\n",
      "torch.Size([128, 2, 2])\n",
      "torch.Size([128, 2, 2])\n"
     ]
    },
    {
     "name": "stderr",
     "output_type": "stream",
     "text": [
      " 36%|███▌      | 81/225 [00:02<00:03, 38.57it/s]"
     ]
    },
    {
     "name": "stdout",
     "output_type": "stream",
     "text": [
      "torch.Size([128, 2, 2])\n",
      "torch.Size([128, 2, 2])\n",
      "torch.Size([128, 2, 2])\n",
      "torch.Size([128, 2, 2])\n",
      "torch.Size([128, 2, 2])\n",
      "torch.Size([128, 2, 2])\n",
      "torch.Size([128, 2, 2])\n",
      "torch.Size([128, 2, 2])"
     ]
    },
    {
     "name": "stderr",
     "output_type": "stream",
     "text": [
      " 40%|████      | 90/225 [00:02<00:03, 38.65it/s]"
     ]
    },
    {
     "name": "stdout",
     "output_type": "stream",
     "text": [
      "\n",
      "torch.Size([128, 2, 2])\n",
      "torch.Size([128, 2, 2])\n",
      "torch.Size([128, 2, 2])\n",
      "torch.Size([128, 2, 2])\n",
      "torch.Size([128, 2, 2])\n",
      "torch.Size([128, 2, 2])\n",
      "torch.Size([128, 2, 2])\n",
      "torch.Size([128, 2, 2])"
     ]
    },
    {
     "name": "stderr",
     "output_type": "stream",
     "text": [
      " 44%|████▎     | 98/225 [00:02<00:03, 39.10it/s]"
     ]
    },
    {
     "name": "stdout",
     "output_type": "stream",
     "text": [
      "\n",
      "torch.Size([128, 2, 2])\n",
      "torch.Size([128, 2, 2])\n",
      "torch.Size([128, 2, 2])\n",
      "torch.Size([128, 2, 2])\n",
      "torch.Size([128, 2, 2])\n",
      "torch.Size([128, 2, 2])\n",
      "torch.Size([128, 2, 2])\n",
      "torch.Size([128, 2, 2])\n"
     ]
    },
    {
     "name": "stderr",
     "output_type": "stream",
     "text": [
      " 48%|████▊     | 107/225 [00:02<00:02, 39.35it/s]"
     ]
    },
    {
     "name": "stdout",
     "output_type": "stream",
     "text": [
      "torch.Size([128, 2, 2])\n",
      "torch.Size([128, 2, 2])\n",
      "torch.Size([128, 2, 2])\n",
      "torch.Size([128, 2, 2])\n",
      "torch.Size([128, 2, 2])\n",
      "torch.Size([128, 2, 2])\n",
      "torch.Size([128, 2, 2])\n",
      "torch.Size([128, 2, 2])\n",
      "torch.Size([128, 2, 2])"
     ]
    },
    {
     "name": "stderr",
     "output_type": "stream",
     "text": [
      " 51%|█████     | 115/225 [00:02<00:02, 39.30it/s]"
     ]
    },
    {
     "name": "stdout",
     "output_type": "stream",
     "text": [
      "\n",
      "torch.Size([128, 2, 2])\n",
      "torch.Size([128, 2, 2])\n",
      "torch.Size([128, 2, 2])\n",
      "torch.Size([128, 2, 2])\n",
      "torch.Size([128, 2, 2])\n",
      "torch.Size([128, 2, 2])\n",
      "torch.Size([128, 2, 2])\n",
      "torch.Size([128, 2, 2])"
     ]
    },
    {
     "name": "stderr",
     "output_type": "stream",
     "text": [
      " 55%|█████▍    | 123/225 [00:03<00:02, 39.39it/s]"
     ]
    },
    {
     "name": "stdout",
     "output_type": "stream",
     "text": [
      "\n",
      "torch.Size([128, 2, 2])\n",
      "torch.Size([128, 2, 2])\n",
      "torch.Size([128, 2, 2])\n",
      "torch.Size([128, 2, 2])\n",
      "torch.Size([128, 2, 2])\n",
      "torch.Size([128, 2, 2])\n",
      "torch.Size([128, 2, 2])\n",
      "torch.Size([128, 2, 2])"
     ]
    },
    {
     "name": "stderr",
     "output_type": "stream",
     "text": [
      " 58%|█████▊    | 131/225 [00:03<00:02, 39.08it/s]"
     ]
    },
    {
     "name": "stdout",
     "output_type": "stream",
     "text": [
      "\n",
      "torch.Size([128, 2, 2])\n",
      "torch.Size([128, 2, 2])\n",
      "torch.Size([128, 2, 2])\n",
      "torch.Size([128, 2, 2])\n",
      "torch.Size([128, 2, 2])\n",
      "torch.Size([128, 2, 2])\n",
      "torch.Size([128, 2, 2])\n",
      "torch.Size([128, 2, 2])"
     ]
    },
    {
     "name": "stderr",
     "output_type": "stream",
     "text": [
      " 62%|██████▏   | 140/225 [00:03<00:02, 39.35it/s]"
     ]
    },
    {
     "name": "stdout",
     "output_type": "stream",
     "text": [
      "\n",
      "torch.Size([128, 2, 2])\n",
      "torch.Size([128, 2, 2])\n",
      "torch.Size([128, 2, 2])\n",
      "torch.Size([128, 2, 2])\n",
      "torch.Size([128, 2, 2])\n",
      "torch.Size([128, 2, 2])\n",
      "torch.Size([128, 2, 2])\n",
      "torch.Size([128, 2, 2])"
     ]
    },
    {
     "name": "stderr",
     "output_type": "stream",
     "text": [
      " 66%|██████▌   | 148/225 [00:03<00:01, 39.33it/s]"
     ]
    },
    {
     "name": "stdout",
     "output_type": "stream",
     "text": [
      "\n",
      "torch.Size([128, 2, 2])\n",
      "torch.Size([128, 2, 2])\n",
      "torch.Size([128, 2, 2])\n",
      "torch.Size([128, 2, 2])\n",
      "torch.Size([128, 2, 2])\n",
      "torch.Size([128, 2, 2])\n",
      "torch.Size([128, 2, 2])\n",
      "torch.Size([128, 2, 2])"
     ]
    },
    {
     "name": "stderr",
     "output_type": "stream",
     "text": [
      " 69%|██████▉   | 156/225 [00:03<00:01, 39.53it/s]"
     ]
    },
    {
     "name": "stdout",
     "output_type": "stream",
     "text": [
      "\n",
      "torch.Size([128, 2, 2])\n",
      "torch.Size([128, 2, 2])\n",
      "torch.Size([128, 2, 2])\n",
      "torch.Size([128, 2, 2])\n",
      "torch.Size([128, 2, 2])\n",
      "torch.Size([128, 2, 2])\n",
      "torch.Size([128, 2, 2])\n",
      "torch.Size([128, 2, 2])"
     ]
    },
    {
     "name": "stderr",
     "output_type": "stream",
     "text": [
      " 73%|███████▎  | 164/225 [00:04<00:01, 39.30it/s]"
     ]
    },
    {
     "name": "stdout",
     "output_type": "stream",
     "text": [
      "\n",
      "torch.Size([128, 2, 2])\n",
      "torch.Size([128, 2, 2])\n",
      "torch.Size([128, 2, 2])\n",
      "torch.Size([128, 2, 2])\n",
      "torch.Size([128, 2, 2])\n",
      "torch.Size([128, 2, 2])\n",
      "torch.Size([128, 2, 2])\n",
      "torch.Size([128, 2, 2])"
     ]
    },
    {
     "name": "stderr",
     "output_type": "stream",
     "text": [
      " 76%|███████▋  | 172/225 [00:04<00:01, 39.43it/s]"
     ]
    },
    {
     "name": "stdout",
     "output_type": "stream",
     "text": [
      "\n",
      "torch.Size([128, 2, 2])\n",
      "torch.Size([128, 2, 2])\n",
      "torch.Size([128, 2, 2])\n",
      "torch.Size([128, 2, 2])\n",
      "torch.Size([128, 2, 2])\n",
      "torch.Size([128, 2, 2])\n",
      "torch.Size([128, 2, 2])\n",
      "torch.Size([128, 2, 2])"
     ]
    },
    {
     "name": "stderr",
     "output_type": "stream",
     "text": [
      " 79%|███████▊  | 177/225 [00:04<00:01, 39.44it/s]"
     ]
    },
    {
     "name": "stdout",
     "output_type": "stream",
     "text": [
      "\n",
      "torch.Size([128, 2, 2])\n",
      "torch.Size([128, 2, 2])\n",
      "torch.Size([128, 2, 2])\n",
      "torch.Size([128, 2, 2])\n",
      "torch.Size([128, 2, 2])\n",
      "torch.Size([128, 2, 2])\n",
      "torch.Size([128, 2, 2])"
     ]
    },
    {
     "name": "stderr",
     "output_type": "stream",
     "text": [
      " 83%|████████▎ | 186/225 [00:04<00:00, 39.70it/s]"
     ]
    },
    {
     "name": "stdout",
     "output_type": "stream",
     "text": [
      "\n",
      "torch.Size([128, 2, 2])\n",
      "torch.Size([128, 2, 2])\n",
      "torch.Size([128, 2, 2])\n",
      "torch.Size([128, 2, 2])\n",
      "torch.Size([128, 2, 2])\n",
      "torch.Size([128, 2, 2])\n",
      "torch.Size([128, 2, 2])\n",
      "torch.Size([128, 2, 2])"
     ]
    },
    {
     "name": "stderr",
     "output_type": "stream",
     "text": [
      " 85%|████████▍ | 191/225 [00:04<00:00, 40.11it/s]"
     ]
    },
    {
     "name": "stdout",
     "output_type": "stream",
     "text": [
      "\n",
      "torch.Size([128, 2, 2])\n",
      "torch.Size([128, 2, 2])\n",
      "torch.Size([128, 2, 2])\n",
      "torch.Size([128, 2, 2])\n",
      "torch.Size([128, 2, 2])\n",
      "torch.Size([128, 2, 2])\n",
      "torch.Size([128, 2, 2])\n"
     ]
    },
    {
     "name": "stderr",
     "output_type": "stream",
     "text": [
      " 89%|████████▉ | 201/225 [00:05<00:00, 39.97it/s]"
     ]
    },
    {
     "name": "stdout",
     "output_type": "stream",
     "text": [
      "torch.Size([128, 2, 2])\n",
      "torch.Size([128, 2, 2])\n",
      "torch.Size([128, 2, 2])\n",
      "torch.Size([128, 2, 2])\n",
      "torch.Size([128, 2, 2])\n",
      "torch.Size([128, 2, 2])\n",
      "torch.Size([128, 2, 2])\n",
      "torch.Size([128, 2, 2])\n"
     ]
    },
    {
     "name": "stderr",
     "output_type": "stream",
     "text": [
      " 93%|█████████▎| 209/225 [00:05<00:00, 39.72it/s]"
     ]
    },
    {
     "name": "stdout",
     "output_type": "stream",
     "text": [
      "torch.Size([128, 2, 2])\n",
      "torch.Size([128, 2, 2])\n",
      "torch.Size([128, 2, 2])\n",
      "torch.Size([128, 2, 2])\n",
      "torch.Size([128, 2, 2])\n",
      "torch.Size([128, 2, 2])\n",
      "torch.Size([128, 2, 2])\n",
      "torch.Size([128, 2, 2])"
     ]
    },
    {
     "name": "stderr",
     "output_type": "stream",
     "text": [
      " 97%|█████████▋| 218/225 [00:05<00:00, 39.61it/s]"
     ]
    },
    {
     "name": "stdout",
     "output_type": "stream",
     "text": [
      "\n",
      "torch.Size([128, 2, 2])\n",
      "torch.Size([128, 2, 2])\n",
      "torch.Size([128, 2, 2])\n",
      "torch.Size([128, 2, 2])\n",
      "torch.Size([128, 2, 2])\n",
      "torch.Size([128, 2, 2])\n",
      "torch.Size([128, 2, 2])\n",
      "torch.Size([128, 2, 2])"
     ]
    },
    {
     "name": "stderr",
     "output_type": "stream",
     "text": [
      "100%|██████████| 225/225 [00:05<00:00, 39.53it/s]\n",
      "  0%|          | 0/225 [00:00<?, ?it/s]"
     ]
    },
    {
     "name": "stdout",
     "output_type": "stream",
     "text": [
      "\n",
      "torch.Size([128, 2, 2])\n",
      "torch.Size([128, 2, 2])\n",
      "torch.Size([128, 2, 2])\n",
      "torch.Size([128, 2, 2])\n",
      "torch.Size([128, 2, 2])\n",
      "tensor(0.1886, device='cuda:0', grad_fn=<MseLossBackward>)\n",
      "torch.Size([128, 2, 2])\n",
      "torch.Size([128, 2, 2])\n",
      "torch.Size([128, 2, 2])"
     ]
    },
    {
     "name": "stderr",
     "output_type": "stream",
     "text": [
      "  4%|▍         | 9/225 [00:00<00:05, 42.86it/s]"
     ]
    },
    {
     "name": "stdout",
     "output_type": "stream",
     "text": [
      "\n",
      "torch.Size([128, 2, 2])\n",
      "torch.Size([128, 2, 2])\n",
      "torch.Size([128, 2, 2])\n",
      "torch.Size([128, 2, 2])\n",
      "torch.Size([128, 2, 2])\n",
      "torch.Size([128, 2, 2])\n",
      "torch.Size([128, 2, 2])"
     ]
    },
    {
     "name": "stderr",
     "output_type": "stream",
     "text": [
      "  6%|▌         | 14/225 [00:00<00:05, 42.10it/s]"
     ]
    },
    {
     "name": "stdout",
     "output_type": "stream",
     "text": [
      "\n",
      "torch.Size([128, 2, 2])\n",
      "torch.Size([128, 2, 2])\n",
      "torch.Size([128, 2, 2])\n",
      "torch.Size([128, 2, 2])\n",
      "torch.Size([128, 2, 2])\n",
      "torch.Size([128, 2, 2])\n",
      "torch.Size([128, 2, 2])\n",
      "torch.Size([128, 2, 2])"
     ]
    },
    {
     "name": "stderr",
     "output_type": "stream",
     "text": [
      " 10%|█         | 23/225 [00:00<00:04, 41.07it/s]"
     ]
    },
    {
     "name": "stdout",
     "output_type": "stream",
     "text": [
      "\n",
      "torch.Size([128, 2, 2])\n",
      "torch.Size([128, 2, 2])\n",
      "torch.Size([128, 2, 2])\n",
      "torch.Size([128, 2, 2])\n",
      "torch.Size([128, 2, 2])\n",
      "torch.Size([128, 2, 2])\n",
      "torch.Size([128, 2, 2])\n",
      "torch.Size([128, 2, 2])"
     ]
    },
    {
     "name": "stderr",
     "output_type": "stream",
     "text": [
      " 14%|█▍        | 32/225 [00:00<00:04, 40.40it/s]"
     ]
    },
    {
     "name": "stdout",
     "output_type": "stream",
     "text": [
      "\n",
      "torch.Size([128, 2, 2])\n",
      "torch.Size([128, 2, 2])\n",
      "torch.Size([128, 2, 2])\n",
      "torch.Size([128, 2, 2])\n",
      "torch.Size([128, 2, 2])\n",
      "torch.Size([128, 2, 2])\n",
      "torch.Size([128, 2, 2])\n",
      "torch.Size([128, 2, 2])"
     ]
    },
    {
     "name": "stderr",
     "output_type": "stream",
     "text": [
      " 16%|█▌        | 36/225 [00:00<00:04, 39.72it/s]"
     ]
    },
    {
     "name": "stdout",
     "output_type": "stream",
     "text": [
      "\n",
      "torch.Size([128, 2, 2])\n",
      "torch.Size([128, 2, 2])\n",
      "torch.Size([128, 2, 2])\n",
      "torch.Size([128, 2, 2])\n",
      "torch.Size([128, 2, 2])\n",
      "torch.Size([128, 2, 2])\n",
      "torch.Size([128, 2, 2])\n"
     ]
    },
    {
     "name": "stderr",
     "output_type": "stream",
     "text": [
      " 20%|██        | 46/225 [00:01<00:04, 40.14it/s]"
     ]
    },
    {
     "name": "stdout",
     "output_type": "stream",
     "text": [
      "torch.Size([128, 2, 2])\n",
      "torch.Size([128, 2, 2])\n",
      "torch.Size([128, 2, 2])\n",
      "torch.Size([128, 2, 2])\n",
      "torch.Size([128, 2, 2])\n",
      "torch.Size([128, 2, 2])\n",
      "torch.Size([128, 2, 2])\n",
      "torch.Size([128, 2, 2])\n",
      "torch.Size([128, 2, 2])\n"
     ]
    },
    {
     "name": "stderr",
     "output_type": "stream",
     "text": [
      " 24%|██▍       | 55/225 [00:01<00:04, 39.97it/s]"
     ]
    },
    {
     "name": "stdout",
     "output_type": "stream",
     "text": [
      "torch.Size([128, 2, 2])\n",
      "torch.Size([128, 2, 2])\n",
      "torch.Size([128, 2, 2])\n",
      "torch.Size([128, 2, 2])\n",
      "torch.Size([128, 2, 2])\n",
      "torch.Size([128, 2, 2])\n",
      "torch.Size([128, 2, 2])\n",
      "torch.Size([128, 2, 2])\n",
      "torch.Size([128, 2, 2])"
     ]
    },
    {
     "name": "stderr",
     "output_type": "stream",
     "text": [
      " 28%|██▊       | 64/225 [00:01<00:04, 39.78it/s]"
     ]
    },
    {
     "name": "stdout",
     "output_type": "stream",
     "text": [
      "\n",
      "torch.Size([128, 2, 2])\n",
      "torch.Size([128, 2, 2])\n",
      "torch.Size([128, 2, 2])\n",
      "torch.Size([128, 2, 2])\n",
      "torch.Size([128, 2, 2])\n",
      "torch.Size([128, 2, 2])\n",
      "torch.Size([128, 2, 2])\n",
      "torch.Size([128, 2, 2])\n"
     ]
    },
    {
     "name": "stderr",
     "output_type": "stream",
     "text": [
      " 33%|███▎      | 74/225 [00:01<00:03, 40.18it/s]"
     ]
    },
    {
     "name": "stdout",
     "output_type": "stream",
     "text": [
      "torch.Size([128, 2, 2])\n",
      "torch.Size([128, 2, 2])\n",
      "torch.Size([128, 2, 2])\n",
      "torch.Size([128, 2, 2])\n",
      "torch.Size([128, 2, 2])\n",
      "torch.Size([128, 2, 2])\n",
      "torch.Size([128, 2, 2])\n",
      "torch.Size([128, 2, 2])"
     ]
    },
    {
     "name": "stderr",
     "output_type": "stream",
     "text": [
      " 35%|███▌      | 79/225 [00:01<00:03, 39.96it/s]"
     ]
    },
    {
     "name": "stdout",
     "output_type": "stream",
     "text": [
      "\n",
      "torch.Size([128, 2, 2])\n",
      "torch.Size([128, 2, 2])\n",
      "torch.Size([128, 2, 2])\n",
      "torch.Size([128, 2, 2])\n",
      "torch.Size([128, 2, 2])\n",
      "torch.Size([128, 2, 2])\n",
      "torch.Size([128, 2, 2])\n",
      "torch.Size([128, 2, 2])"
     ]
    },
    {
     "name": "stderr",
     "output_type": "stream",
     "text": [
      " 40%|███▉      | 89/225 [00:02<00:03, 40.01it/s]"
     ]
    },
    {
     "name": "stdout",
     "output_type": "stream",
     "text": [
      "\n",
      "torch.Size([128, 2, 2])\n",
      "torch.Size([128, 2, 2])\n",
      "torch.Size([128, 2, 2])\n",
      "torch.Size([128, 2, 2])\n",
      "torch.Size([128, 2, 2])\n",
      "torch.Size([128, 2, 2])\n",
      "torch.Size([128, 2, 2])"
     ]
    },
    {
     "name": "stderr",
     "output_type": "stream",
     "text": [
      " 41%|████▏     | 93/225 [00:02<00:03, 39.92it/s]"
     ]
    },
    {
     "name": "stdout",
     "output_type": "stream",
     "text": [
      "\n",
      "torch.Size([128, 2, 2])\n",
      "torch.Size([128, 2, 2])\n",
      "torch.Size([128, 2, 2])\n",
      "torch.Size([128, 2, 2])\n",
      "torch.Size([128, 2, 2])\n",
      "torch.Size([128, 2, 2])\n",
      "torch.Size([128, 2, 2])\n",
      "torch.Size([128, 2, 2])"
     ]
    },
    {
     "name": "stderr",
     "output_type": "stream",
     "text": [
      " 45%|████▌     | 102/225 [00:02<00:03, 39.83it/s]"
     ]
    },
    {
     "name": "stdout",
     "output_type": "stream",
     "text": [
      "\n",
      "torch.Size([128, 2, 2])\n",
      "torch.Size([128, 2, 2])\n",
      "torch.Size([128, 2, 2])\n",
      "torch.Size([128, 2, 2])\n",
      "torch.Size([128, 2, 2])\n",
      "torch.Size([128, 2, 2])\n",
      "torch.Size([128, 2, 2])"
     ]
    },
    {
     "name": "stderr",
     "output_type": "stream",
     "text": [
      " 49%|████▉     | 110/225 [00:02<00:02, 39.65it/s]"
     ]
    },
    {
     "name": "stdout",
     "output_type": "stream",
     "text": [
      "\n",
      "torch.Size([128, 2, 2])\n",
      "torch.Size([128, 2, 2])\n",
      "torch.Size([128, 2, 2])\n",
      "torch.Size([128, 2, 2])\n",
      "torch.Size([128, 2, 2])\n",
      "torch.Size([128, 2, 2])\n",
      "torch.Size([128, 2, 2])\n",
      "torch.Size([128, 2, 2])"
     ]
    },
    {
     "name": "stderr",
     "output_type": "stream",
     "text": [
      " 53%|█████▎    | 119/225 [00:02<00:02, 39.70it/s]"
     ]
    },
    {
     "name": "stdout",
     "output_type": "stream",
     "text": [
      "\n",
      "torch.Size([128, 2, 2])\n",
      "torch.Size([128, 2, 2])\n",
      "torch.Size([128, 2, 2])\n",
      "torch.Size([128, 2, 2])\n",
      "torch.Size([128, 2, 2])\n",
      "torch.Size([128, 2, 2])\n",
      "torch.Size([128, 2, 2])\n",
      "torch.Size([128, 2, 2])"
     ]
    },
    {
     "name": "stderr",
     "output_type": "stream",
     "text": [
      " 55%|█████▌    | 124/225 [00:03<00:02, 39.72it/s]"
     ]
    },
    {
     "name": "stdout",
     "output_type": "stream",
     "text": [
      "\n",
      "torch.Size([128, 2, 2])\n",
      "torch.Size([128, 2, 2])\n",
      "torch.Size([128, 2, 2])\n",
      "torch.Size([128, 2, 2])\n",
      "torch.Size([128, 2, 2])\n",
      "torch.Size([128, 2, 2])\n",
      "torch.Size([128, 2, 2])\n",
      "torch.Size([128, 2, 2])"
     ]
    },
    {
     "name": "stderr",
     "output_type": "stream",
     "text": [
      " 59%|█████▉    | 133/225 [00:03<00:02, 39.50it/s]"
     ]
    },
    {
     "name": "stdout",
     "output_type": "stream",
     "text": [
      "\n",
      "torch.Size([128, 2, 2])\n",
      "torch.Size([128, 2, 2])\n",
      "torch.Size([128, 2, 2])\n",
      "torch.Size([128, 2, 2])\n",
      "torch.Size([128, 2, 2])\n",
      "torch.Size([128, 2, 2])\n",
      "torch.Size([128, 2, 2])"
     ]
    },
    {
     "name": "stderr",
     "output_type": "stream",
     "text": [
      " 64%|██████▎   | 143/225 [00:03<00:02, 39.74it/s]"
     ]
    },
    {
     "name": "stdout",
     "output_type": "stream",
     "text": [
      "\n",
      "torch.Size([128, 2, 2])\n",
      "torch.Size([128, 2, 2])\n",
      "torch.Size([128, 2, 2])\n",
      "torch.Size([128, 2, 2])\n",
      "torch.Size([128, 2, 2])\n",
      "torch.Size([128, 2, 2])\n",
      "torch.Size([128, 2, 2])\n"
     ]
    },
    {
     "name": "stderr",
     "output_type": "stream",
     "text": [
      " 66%|██████▌   | 148/225 [00:03<00:01, 39.85it/s]"
     ]
    },
    {
     "name": "stdout",
     "output_type": "stream",
     "text": [
      "torch.Size([128, 2, 2])\n",
      "torch.Size([128, 2, 2])\n",
      "torch.Size([128, 2, 2])\n",
      "torch.Size([128, 2, 2])\n",
      "torch.Size([128, 2, 2])\n",
      "torch.Size([128, 2, 2])\n",
      "torch.Size([128, 2, 2])\n",
      "torch.Size([128, 2, 2])\n",
      "torch.Size([128, 2, 2])"
     ]
    },
    {
     "name": "stderr",
     "output_type": "stream",
     "text": [
      " 70%|██████▉   | 157/225 [00:03<00:01, 39.86it/s]"
     ]
    },
    {
     "name": "stdout",
     "output_type": "stream",
     "text": [
      "\n",
      "torch.Size([128, 2, 2])\n",
      "torch.Size([128, 2, 2])\n",
      "torch.Size([128, 2, 2])\n",
      "torch.Size([128, 2, 2])\n",
      "torch.Size([128, 2, 2])\n",
      "torch.Size([128, 2, 2])\n",
      "torch.Size([128, 2, 2])"
     ]
    },
    {
     "name": "stderr",
     "output_type": "stream",
     "text": [
      " 72%|███████▏  | 162/225 [00:04<00:01, 40.03it/s]"
     ]
    },
    {
     "name": "stdout",
     "output_type": "stream",
     "text": [
      "\n",
      "torch.Size([128, 2, 2])\n",
      "torch.Size([128, 2, 2])\n",
      "torch.Size([128, 2, 2])\n",
      "torch.Size([128, 2, 2])\n",
      "torch.Size([128, 2, 2])\n",
      "torch.Size([128, 2, 2])\n",
      "torch.Size([128, 2, 2])\n",
      "torch.Size([128, 2, 2])"
     ]
    },
    {
     "name": "stderr",
     "output_type": "stream",
     "text": [
      " 76%|███████▌  | 171/225 [00:04<00:01, 39.81it/s]"
     ]
    },
    {
     "name": "stdout",
     "output_type": "stream",
     "text": [
      "\n",
      "torch.Size([128, 2, 2])\n",
      "torch.Size([128, 2, 2])\n",
      "torch.Size([128, 2, 2])\n",
      "torch.Size([128, 2, 2])\n",
      "torch.Size([128, 2, 2])\n",
      "torch.Size([128, 2, 2])\n",
      "torch.Size([128, 2, 2])"
     ]
    },
    {
     "name": "stderr",
     "output_type": "stream",
     "text": [
      " 80%|████████  | 181/225 [00:04<00:01, 40.10it/s]"
     ]
    },
    {
     "name": "stdout",
     "output_type": "stream",
     "text": [
      "\n",
      "torch.Size([128, 2, 2])\n",
      "torch.Size([128, 2, 2])\n",
      "torch.Size([128, 2, 2])\n",
      "torch.Size([128, 2, 2])\n",
      "torch.Size([128, 2, 2])\n",
      "torch.Size([128, 2, 2])\n",
      "torch.Size([128, 2, 2])\n",
      "torch.Size([128, 2, 2])"
     ]
    },
    {
     "name": "stderr",
     "output_type": "stream",
     "text": [
      " 83%|████████▎ | 186/225 [00:04<00:00, 40.10it/s]"
     ]
    },
    {
     "name": "stdout",
     "output_type": "stream",
     "text": [
      "\n",
      "torch.Size([128, 2, 2])\n",
      "torch.Size([128, 2, 2])\n",
      "torch.Size([128, 2, 2])\n",
      "torch.Size([128, 2, 2])\n",
      "torch.Size([128, 2, 2])\n",
      "torch.Size([128, 2, 2])\n",
      "torch.Size([128, 2, 2])"
     ]
    },
    {
     "name": "stderr",
     "output_type": "stream",
     "text": [
      " 87%|████████▋ | 196/225 [00:04<00:00, 40.09it/s]"
     ]
    },
    {
     "name": "stdout",
     "output_type": "stream",
     "text": [
      "\n",
      "torch.Size([128, 2, 2])\n",
      "torch.Size([128, 2, 2])\n",
      "torch.Size([128, 2, 2])\n",
      "torch.Size([128, 2, 2])\n",
      "torch.Size([128, 2, 2])\n",
      "torch.Size([128, 2, 2])\n",
      "torch.Size([128, 2, 2])\n",
      "torch.Size([128, 2, 2])"
     ]
    },
    {
     "name": "stderr",
     "output_type": "stream",
     "text": [
      " 89%|████████▉ | 201/225 [00:05<00:00, 39.72it/s]"
     ]
    },
    {
     "name": "stdout",
     "output_type": "stream",
     "text": [
      "\n",
      "torch.Size([128, 2, 2])\n",
      "torch.Size([128, 2, 2])\n",
      "torch.Size([128, 2, 2])\n",
      "torch.Size([128, 2, 2])\n",
      "torch.Size([128, 2, 2])\n",
      "torch.Size([128, 2, 2])\n",
      "torch.Size([128, 2, 2])"
     ]
    },
    {
     "name": "stderr",
     "output_type": "stream",
     "text": [
      " 93%|█████████▎| 210/225 [00:05<00:00, 39.29it/s]"
     ]
    },
    {
     "name": "stdout",
     "output_type": "stream",
     "text": [
      "\n",
      "torch.Size([128, 2, 2])\n",
      "torch.Size([128, 2, 2])\n",
      "torch.Size([128, 2, 2])\n",
      "torch.Size([128, 2, 2])\n",
      "torch.Size([128, 2, 2])\n",
      "torch.Size([128, 2, 2])\n",
      "torch.Size([128, 2, 2])\n",
      "torch.Size([128, 2, 2])"
     ]
    },
    {
     "name": "stderr",
     "output_type": "stream",
     "text": [
      " 97%|█████████▋| 219/225 [00:05<00:00, 39.65it/s]"
     ]
    },
    {
     "name": "stdout",
     "output_type": "stream",
     "text": [
      "\n",
      "torch.Size([128, 2, 2])\n",
      "torch.Size([128, 2, 2])\n",
      "torch.Size([128, 2, 2])\n",
      "torch.Size([128, 2, 2])\n",
      "torch.Size([128, 2, 2])\n",
      "torch.Size([128, 2, 2])\n",
      "torch.Size([128, 2, 2])\n"
     ]
    },
    {
     "name": "stderr",
     "output_type": "stream",
     "text": [
      "100%|██████████| 225/225 [00:05<00:00, 39.95it/s]\n",
      "  0%|          | 0/225 [00:00<?, ?it/s]"
     ]
    },
    {
     "name": "stdout",
     "output_type": "stream",
     "text": [
      "torch.Size([128, 2, 2])\n",
      "torch.Size([128, 2, 2])\n",
      "torch.Size([128, 2, 2])\n",
      "torch.Size([128, 2, 2])\n",
      "torch.Size([128, 2, 2])\n",
      "torch.Size([128, 2, 2])\n",
      "tensor(0.1734, device='cuda:0', grad_fn=<MseLossBackward>)\n",
      "torch.Size([128, 2, 2])\n",
      "torch.Size([128, 2, 2])\n",
      "torch.Size([128, 2, 2])\n"
     ]
    },
    {
     "name": "stderr",
     "output_type": "stream",
     "text": [
      "  4%|▍         | 9/225 [00:00<00:05, 42.60it/s]"
     ]
    },
    {
     "name": "stdout",
     "output_type": "stream",
     "text": [
      "torch.Size([128, 2, 2])\n",
      "torch.Size([128, 2, 2])\n",
      "torch.Size([128, 2, 2])\n",
      "torch.Size([128, 2, 2])\n",
      "torch.Size([128, 2, 2])\n",
      "torch.Size([128, 2, 2])\n",
      "torch.Size([128, 2, 2])\n",
      "torch.Size([128, 2, 2])\n",
      "torch.Size([128, 2, 2])"
     ]
    },
    {
     "name": "stderr",
     "output_type": "stream",
     "text": [
      "  8%|▊         | 18/225 [00:00<00:05, 41.01it/s]"
     ]
    },
    {
     "name": "stdout",
     "output_type": "stream",
     "text": [
      "\n",
      "torch.Size([128, 2, 2])\n",
      "torch.Size([128, 2, 2])\n",
      "torch.Size([128, 2, 2])\n",
      "torch.Size([128, 2, 2])\n",
      "torch.Size([128, 2, 2])\n",
      "torch.Size([128, 2, 2])\n",
      "torch.Size([128, 2, 2])\n",
      "torch.Size([128, 2, 2])"
     ]
    },
    {
     "name": "stderr",
     "output_type": "stream",
     "text": [
      " 12%|█▏        | 26/225 [00:00<00:04, 39.85it/s]"
     ]
    },
    {
     "name": "stdout",
     "output_type": "stream",
     "text": [
      "\n",
      "torch.Size([128, 2, 2])\n",
      "torch.Size([128, 2, 2])\n",
      "torch.Size([128, 2, 2])\n",
      "torch.Size([128, 2, 2])\n",
      "torch.Size([128, 2, 2])\n",
      "torch.Size([128, 2, 2])\n",
      "torch.Size([128, 2, 2])\n",
      "torch.Size([128, 2, 2])"
     ]
    },
    {
     "name": "stderr",
     "output_type": "stream",
     "text": [
      " 15%|█▌        | 34/225 [00:00<00:04, 39.53it/s]"
     ]
    },
    {
     "name": "stdout",
     "output_type": "stream",
     "text": [
      "\n",
      "torch.Size([128, 2, 2])\n",
      "torch.Size([128, 2, 2])\n",
      "torch.Size([128, 2, 2])\n",
      "torch.Size([128, 2, 2])\n",
      "torch.Size([128, 2, 2])\n",
      "torch.Size([128, 2, 2])\n",
      "torch.Size([128, 2, 2])\n",
      "torch.Size([128, 2, 2])"
     ]
    },
    {
     "name": "stderr",
     "output_type": "stream",
     "text": [
      " 19%|█▊        | 42/225 [00:01<00:04, 39.15it/s]"
     ]
    },
    {
     "name": "stdout",
     "output_type": "stream",
     "text": [
      "\n",
      "torch.Size([128, 2, 2])\n",
      "torch.Size([128, 2, 2])\n",
      "torch.Size([128, 2, 2])\n",
      "torch.Size([128, 2, 2])\n",
      "torch.Size([128, 2, 2])\n",
      "torch.Size([128, 2, 2])\n",
      "torch.Size([128, 2, 2])"
     ]
    },
    {
     "name": "stderr",
     "output_type": "stream",
     "text": [
      " 21%|██        | 47/225 [00:01<00:04, 39.52it/s]"
     ]
    },
    {
     "name": "stdout",
     "output_type": "stream",
     "text": [
      "\n",
      "torch.Size([128, 2, 2])\n",
      "torch.Size([128, 2, 2])\n",
      "torch.Size([128, 2, 2])\n",
      "torch.Size([128, 2, 2])\n",
      "torch.Size([128, 2, 2])\n",
      "torch.Size([128, 2, 2])\n",
      "torch.Size([128, 2, 2])\n",
      "torch.Size([128, 2, 2])"
     ]
    },
    {
     "name": "stderr",
     "output_type": "stream",
     "text": [
      " 24%|██▍       | 55/225 [00:01<00:04, 39.42it/s]"
     ]
    },
    {
     "name": "stdout",
     "output_type": "stream",
     "text": [
      "\n",
      "torch.Size([128, 2, 2])\n",
      "torch.Size([128, 2, 2])\n",
      "torch.Size([128, 2, 2])\n",
      "torch.Size([128, 2, 2])\n",
      "torch.Size([128, 2, 2])\n",
      "torch.Size([128, 2, 2])\n",
      "torch.Size([128, 2, 2])"
     ]
    },
    {
     "name": "stderr",
     "output_type": "stream",
     "text": [
      " 28%|██▊       | 63/225 [00:01<00:04, 39.37it/s]"
     ]
    },
    {
     "name": "stdout",
     "output_type": "stream",
     "text": [
      "\n",
      "torch.Size([128, 2, 2])\n",
      "torch.Size([128, 2, 2])\n",
      "torch.Size([128, 2, 2])\n",
      "torch.Size([128, 2, 2])\n",
      "torch.Size([128, 2, 2])\n",
      "torch.Size([128, 2, 2])\n",
      "torch.Size([128, 2, 2])\n",
      "torch.Size([128, 2, 2])\n"
     ]
    },
    {
     "name": "stderr",
     "output_type": "stream",
     "text": [
      " 32%|███▏      | 71/225 [00:01<00:03, 39.54it/s]"
     ]
    },
    {
     "name": "stdout",
     "output_type": "stream",
     "text": [
      "torch.Size([128, 2, 2])\n",
      "torch.Size([128, 2, 2])\n",
      "torch.Size([128, 2, 2])\n",
      "torch.Size([128, 2, 2])\n",
      "torch.Size([128, 2, 2])\n",
      "torch.Size([128, 2, 2])\n",
      "torch.Size([128, 2, 2])\n",
      "torch.Size([128, 2, 2])"
     ]
    },
    {
     "name": "stderr",
     "output_type": "stream",
     "text": [
      " 36%|███▌      | 80/225 [00:02<00:03, 39.71it/s]"
     ]
    },
    {
     "name": "stdout",
     "output_type": "stream",
     "text": [
      "\n",
      "torch.Size([128, 2, 2])\n",
      "torch.Size([128, 2, 2])\n",
      "torch.Size([128, 2, 2])\n",
      "torch.Size([128, 2, 2])\n",
      "torch.Size([128, 2, 2])\n",
      "torch.Size([128, 2, 2])\n",
      "torch.Size([128, 2, 2])\n",
      "torch.Size([128, 2, 2])"
     ]
    },
    {
     "name": "stderr",
     "output_type": "stream",
     "text": [
      " 38%|███▊      | 85/225 [00:02<00:03, 39.92it/s]"
     ]
    },
    {
     "name": "stdout",
     "output_type": "stream",
     "text": [
      "\n",
      "torch.Size([128, 2, 2])\n",
      "torch.Size([128, 2, 2])\n",
      "torch.Size([128, 2, 2])\n",
      "torch.Size([128, 2, 2])\n",
      "torch.Size([128, 2, 2])\n",
      "torch.Size([128, 2, 2])\n",
      "torch.Size([128, 2, 2])"
     ]
    },
    {
     "name": "stderr",
     "output_type": "stream",
     "text": [
      " 42%|████▏     | 94/225 [00:02<00:03, 39.67it/s]"
     ]
    },
    {
     "name": "stdout",
     "output_type": "stream",
     "text": [
      "\n",
      "torch.Size([128, 2, 2])\n",
      "torch.Size([128, 2, 2])\n",
      "torch.Size([128, 2, 2])\n",
      "torch.Size([128, 2, 2])\n",
      "torch.Size([128, 2, 2])\n",
      "torch.Size([128, 2, 2])\n",
      "torch.Size([128, 2, 2])\n",
      "torch.Size([128, 2, 2])\n"
     ]
    },
    {
     "name": "stderr",
     "output_type": "stream",
     "text": [
      " 45%|████▌     | 102/225 [00:02<00:03, 39.61it/s]"
     ]
    },
    {
     "name": "stdout",
     "output_type": "stream",
     "text": [
      "torch.Size([128, 2, 2])\n",
      "torch.Size([128, 2, 2])\n",
      "torch.Size([128, 2, 2])\n",
      "torch.Size([128, 2, 2])\n",
      "torch.Size([128, 2, 2])\n",
      "torch.Size([128, 2, 2])\n",
      "torch.Size([128, 2, 2])\n",
      "torch.Size([128, 2, 2])"
     ]
    },
    {
     "name": "stderr",
     "output_type": "stream",
     "text": [
      " 49%|████▉     | 110/225 [00:02<00:02, 39.50it/s]"
     ]
    },
    {
     "name": "stdout",
     "output_type": "stream",
     "text": [
      "\n",
      "torch.Size([128, 2, 2])\n",
      "torch.Size([128, 2, 2])\n",
      "torch.Size([128, 2, 2])\n",
      "torch.Size([128, 2, 2])\n",
      "torch.Size([128, 2, 2])\n",
      "torch.Size([128, 2, 2])\n",
      "torch.Size([128, 2, 2])\n",
      "torch.Size([128, 2, 2])"
     ]
    },
    {
     "name": "stderr",
     "output_type": "stream",
     "text": [
      " 51%|█████     | 115/225 [00:02<00:02, 40.06it/s]"
     ]
    },
    {
     "name": "stdout",
     "output_type": "stream",
     "text": [
      "\n",
      "torch.Size([128, 2, 2])\n",
      "torch.Size([128, 2, 2])\n",
      "torch.Size([128, 2, 2])\n",
      "torch.Size([128, 2, 2])\n",
      "torch.Size([128, 2, 2])\n",
      "torch.Size([128, 2, 2])\n",
      "torch.Size([128, 2, 2])"
     ]
    },
    {
     "name": "stderr",
     "output_type": "stream",
     "text": [
      " 56%|█████▌    | 125/225 [00:03<00:02, 39.84it/s]"
     ]
    },
    {
     "name": "stdout",
     "output_type": "stream",
     "text": [
      "\n",
      "torch.Size([128, 2, 2])\n",
      "torch.Size([128, 2, 2])\n",
      "torch.Size([128, 2, 2])\n",
      "torch.Size([128, 2, 2])\n",
      "torch.Size([128, 2, 2])\n",
      "torch.Size([128, 2, 2])\n",
      "torch.Size([128, 2, 2])\n",
      "torch.Size([128, 2, 2])"
     ]
    },
    {
     "name": "stderr",
     "output_type": "stream",
     "text": [
      " 60%|██████    | 135/225 [00:03<00:02, 40.04it/s]"
     ]
    },
    {
     "name": "stdout",
     "output_type": "stream",
     "text": [
      "\n",
      "torch.Size([128, 2, 2])\n",
      "torch.Size([128, 2, 2])\n",
      "torch.Size([128, 2, 2])\n",
      "torch.Size([128, 2, 2])\n",
      "torch.Size([128, 2, 2])\n",
      "torch.Size([128, 2, 2])\n",
      "torch.Size([128, 2, 2])\n",
      "torch.Size([128, 2, 2])"
     ]
    },
    {
     "name": "stderr",
     "output_type": "stream",
     "text": [
      " 62%|██████▏   | 140/225 [00:03<00:02, 39.87it/s]"
     ]
    },
    {
     "name": "stdout",
     "output_type": "stream",
     "text": [
      "\n",
      "torch.Size([128, 2, 2])\n",
      "torch.Size([128, 2, 2])\n",
      "torch.Size([128, 2, 2])\n",
      "torch.Size([128, 2, 2])\n",
      "torch.Size([128, 2, 2])\n",
      "torch.Size([128, 2, 2])\n",
      "torch.Size([128, 2, 2])"
     ]
    },
    {
     "name": "stderr",
     "output_type": "stream",
     "text": [
      " 66%|██████▌   | 148/225 [00:03<00:01, 39.24it/s]"
     ]
    },
    {
     "name": "stdout",
     "output_type": "stream",
     "text": [
      "\n",
      "torch.Size([128, 2, 2])\n",
      "torch.Size([128, 2, 2])\n",
      "torch.Size([128, 2, 2])\n",
      "torch.Size([128, 2, 2])\n",
      "torch.Size([128, 2, 2])\n",
      "torch.Size([128, 2, 2])\n",
      "torch.Size([128, 2, 2])\n",
      "torch.Size([128, 2, 2])"
     ]
    },
    {
     "name": "stderr",
     "output_type": "stream",
     "text": [
      " 69%|██████▉   | 156/225 [00:03<00:01, 39.22it/s]"
     ]
    },
    {
     "name": "stdout",
     "output_type": "stream",
     "text": [
      "\n",
      "torch.Size([128, 2, 2])\n",
      "torch.Size([128, 2, 2])\n",
      "torch.Size([128, 2, 2])\n",
      "torch.Size([128, 2, 2])\n",
      "torch.Size([128, 2, 2])\n",
      "torch.Size([128, 2, 2])\n",
      "torch.Size([128, 2, 2])\n",
      "torch.Size([128, 2, 2])"
     ]
    },
    {
     "name": "stderr",
     "output_type": "stream",
     "text": [
      " 73%|███████▎  | 165/225 [00:04<00:01, 39.55it/s]"
     ]
    },
    {
     "name": "stdout",
     "output_type": "stream",
     "text": [
      "\n",
      "torch.Size([128, 2, 2])\n",
      "torch.Size([128, 2, 2])\n",
      "torch.Size([128, 2, 2])\n",
      "torch.Size([128, 2, 2])\n",
      "torch.Size([128, 2, 2])\n",
      "torch.Size([128, 2, 2])\n",
      "torch.Size([128, 2, 2])\n",
      "torch.Size([128, 2, 2])"
     ]
    },
    {
     "name": "stderr",
     "output_type": "stream",
     "text": [
      " 76%|███████▌  | 170/225 [00:04<00:01, 39.71it/s]"
     ]
    },
    {
     "name": "stdout",
     "output_type": "stream",
     "text": [
      "\n",
      "torch.Size([128, 2, 2])\n",
      "torch.Size([128, 2, 2])\n",
      "torch.Size([128, 2, 2])\n",
      "torch.Size([128, 2, 2])\n",
      "torch.Size([128, 2, 2])\n",
      "torch.Size([128, 2, 2])\n",
      "torch.Size([128, 2, 2])\n"
     ]
    },
    {
     "name": "stderr",
     "output_type": "stream",
     "text": [
      " 79%|███████▉  | 178/225 [00:04<00:01, 39.19it/s]"
     ]
    },
    {
     "name": "stdout",
     "output_type": "stream",
     "text": [
      "torch.Size([128, 2, 2])\n",
      "torch.Size([128, 2, 2])\n",
      "torch.Size([128, 2, 2])\n",
      "torch.Size([128, 2, 2])\n",
      "torch.Size([128, 2, 2])\n",
      "torch.Size([128, 2, 2])\n",
      "torch.Size([128, 2, 2])\n",
      "torch.Size([128, 2, 2])\n",
      "torch.Size([128, 2, 2])\n"
     ]
    },
    {
     "name": "stderr",
     "output_type": "stream",
     "text": [
      " 84%|████████▎ | 188/225 [00:04<00:00, 39.59it/s]"
     ]
    },
    {
     "name": "stdout",
     "output_type": "stream",
     "text": [
      "torch.Size([128, 2, 2])\n",
      "torch.Size([128, 2, 2])\n",
      "torch.Size([128, 2, 2])\n",
      "torch.Size([128, 2, 2])\n",
      "torch.Size([128, 2, 2])\n",
      "torch.Size([128, 2, 2])\n",
      "torch.Size([128, 2, 2])\n",
      "torch.Size([128, 2, 2])"
     ]
    },
    {
     "name": "stderr",
     "output_type": "stream",
     "text": [
      " 88%|████████▊ | 197/225 [00:04<00:00, 39.63it/s]"
     ]
    },
    {
     "name": "stdout",
     "output_type": "stream",
     "text": [
      "\n",
      "torch.Size([128, 2, 2])\n",
      "torch.Size([128, 2, 2])\n",
      "torch.Size([128, 2, 2])\n",
      "torch.Size([128, 2, 2])\n",
      "torch.Size([128, 2, 2])\n",
      "torch.Size([128, 2, 2])\n",
      "torch.Size([128, 2, 2])\n",
      "torch.Size([128, 2, 2])\n"
     ]
    },
    {
     "name": "stderr",
     "output_type": "stream",
     "text": [
      " 92%|█████████▏| 206/225 [00:05<00:00, 39.89it/s]"
     ]
    },
    {
     "name": "stdout",
     "output_type": "stream",
     "text": [
      "torch.Size([128, 2, 2])\n",
      "torch.Size([128, 2, 2])\n",
      "torch.Size([128, 2, 2])\n",
      "torch.Size([128, 2, 2])\n",
      "torch.Size([128, 2, 2])\n",
      "torch.Size([128, 2, 2])\n",
      "torch.Size([128, 2, 2])\n",
      "torch.Size([128, 2, 2])\n",
      "torch.Size([128, 2, 2])"
     ]
    },
    {
     "name": "stderr",
     "output_type": "stream",
     "text": [
      " 94%|█████████▍| 211/225 [00:05<00:00, 40.05it/s]"
     ]
    },
    {
     "name": "stdout",
     "output_type": "stream",
     "text": [
      "\n",
      "torch.Size([128, 2, 2])\n",
      "torch.Size([128, 2, 2])\n",
      "torch.Size([128, 2, 2])\n",
      "torch.Size([128, 2, 2])\n",
      "torch.Size([128, 2, 2])\n",
      "torch.Size([128, 2, 2])\n",
      "torch.Size([128, 2, 2])\n",
      "torch.Size([128, 2, 2])"
     ]
    },
    {
     "name": "stderr",
     "output_type": "stream",
     "text": [
      " 98%|█████████▊| 221/225 [00:05<00:00, 39.98it/s]"
     ]
    },
    {
     "name": "stdout",
     "output_type": "stream",
     "text": [
      "\n",
      "torch.Size([128, 2, 2])\n",
      "torch.Size([128, 2, 2])\n",
      "torch.Size([128, 2, 2])\n",
      "torch.Size([128, 2, 2])\n",
      "torch.Size([128, 2, 2])\n",
      "torch.Size([128, 2, 2])\n",
      "torch.Size([128, 2, 2])\n",
      "torch.Size([128, 2, 2])"
     ]
    },
    {
     "name": "stderr",
     "output_type": "stream",
     "text": [
      "100%|██████████| 225/225 [00:05<00:00, 39.70it/s]\n",
      "  2%|▏         | 5/225 [00:00<00:04, 45.17it/s]"
     ]
    },
    {
     "name": "stdout",
     "output_type": "stream",
     "text": [
      "\n",
      "torch.Size([128, 2, 2])\n",
      "tensor(0.1517, device='cuda:0', grad_fn=<MseLossBackward>)\n",
      "torch.Size([128, 2, 2])\n",
      "torch.Size([128, 2, 2])\n",
      "torch.Size([128, 2, 2])\n",
      "torch.Size([128, 2, 2])\n",
      "torch.Size([128, 2, 2])\n",
      "torch.Size([128, 2, 2])\n",
      "torch.Size([128, 2, 2])"
     ]
    },
    {
     "name": "stderr",
     "output_type": "stream",
     "text": [
      "  4%|▍         | 10/225 [00:00<00:04, 43.41it/s]"
     ]
    },
    {
     "name": "stdout",
     "output_type": "stream",
     "text": [
      "\n",
      "torch.Size([128, 2, 2])\n",
      "torch.Size([128, 2, 2])\n",
      "torch.Size([128, 2, 2])\n",
      "torch.Size([128, 2, 2])\n",
      "torch.Size([128, 2, 2])\n",
      "torch.Size([128, 2, 2])\n",
      "torch.Size([128, 2, 2])\n"
     ]
    },
    {
     "name": "stderr",
     "output_type": "stream",
     "text": [
      "  8%|▊         | 18/225 [00:00<00:05, 40.62it/s]"
     ]
    },
    {
     "name": "stdout",
     "output_type": "stream",
     "text": [
      "torch.Size([128, 2, 2])\n",
      "torch.Size([128, 2, 2])\n",
      "torch.Size([128, 2, 2])\n",
      "torch.Size([128, 2, 2])\n",
      "torch.Size([128, 2, 2])\n",
      "torch.Size([128, 2, 2])\n",
      "torch.Size([128, 2, 2])\n",
      "torch.Size([128, 2, 2])"
     ]
    },
    {
     "name": "stderr",
     "output_type": "stream",
     "text": [
      " 12%|█▏        | 26/225 [00:00<00:04, 39.91it/s]"
     ]
    },
    {
     "name": "stdout",
     "output_type": "stream",
     "text": [
      "\n",
      "torch.Size([128, 2, 2])\n",
      "torch.Size([128, 2, 2])\n",
      "torch.Size([128, 2, 2])\n",
      "torch.Size([128, 2, 2])\n",
      "torch.Size([128, 2, 2])\n",
      "torch.Size([128, 2, 2])\n",
      "torch.Size([128, 2, 2])\n",
      "torch.Size([128, 2, 2])"
     ]
    },
    {
     "name": "stderr",
     "output_type": "stream",
     "text": [
      " 15%|█▌        | 34/225 [00:00<00:04, 39.81it/s]"
     ]
    },
    {
     "name": "stdout",
     "output_type": "stream",
     "text": [
      "\n",
      "torch.Size([128, 2, 2])\n",
      "torch.Size([128, 2, 2])\n",
      "torch.Size([128, 2, 2])\n",
      "torch.Size([128, 2, 2])\n",
      "torch.Size([128, 2, 2])\n",
      "torch.Size([128, 2, 2])\n",
      "torch.Size([128, 2, 2])\n",
      "torch.Size([128, 2, 2])"
     ]
    },
    {
     "name": "stderr",
     "output_type": "stream",
     "text": [
      " 19%|█▉        | 43/225 [00:01<00:04, 39.64it/s]"
     ]
    },
    {
     "name": "stdout",
     "output_type": "stream",
     "text": [
      "\n",
      "torch.Size([128, 2, 2])\n",
      "torch.Size([128, 2, 2])\n",
      "torch.Size([128, 2, 2])\n",
      "torch.Size([128, 2, 2])\n",
      "torch.Size([128, 2, 2])\n",
      "torch.Size([128, 2, 2])\n",
      "torch.Size([128, 2, 2])\n",
      "torch.Size([128, 2, 2])"
     ]
    },
    {
     "name": "stderr",
     "output_type": "stream",
     "text": [
      " 23%|██▎       | 52/225 [00:01<00:04, 39.90it/s]"
     ]
    },
    {
     "name": "stdout",
     "output_type": "stream",
     "text": [
      "\n",
      "torch.Size([128, 2, 2])\n",
      "torch.Size([128, 2, 2])\n",
      "torch.Size([128, 2, 2])\n",
      "torch.Size([128, 2, 2])\n",
      "torch.Size([128, 2, 2])\n",
      "torch.Size([128, 2, 2])\n",
      "torch.Size([128, 2, 2])\n",
      "torch.Size([128, 2, 2])"
     ]
    },
    {
     "name": "stderr",
     "output_type": "stream",
     "text": [
      " 27%|██▋       | 60/225 [00:01<00:04, 39.49it/s]"
     ]
    },
    {
     "name": "stdout",
     "output_type": "stream",
     "text": [
      "\n",
      "torch.Size([128, 2, 2])\n",
      "torch.Size([128, 2, 2])\n",
      "torch.Size([128, 2, 2])\n",
      "torch.Size([128, 2, 2])\n",
      "torch.Size([128, 2, 2])\n",
      "torch.Size([128, 2, 2])\n",
      "torch.Size([128, 2, 2])"
     ]
    },
    {
     "name": "stderr",
     "output_type": "stream",
     "text": [
      " 28%|██▊       | 64/225 [00:01<00:04, 39.44it/s]"
     ]
    },
    {
     "name": "stdout",
     "output_type": "stream",
     "text": [
      "\n",
      "torch.Size([128, 2, 2])\n",
      "torch.Size([128, 2, 2])\n",
      "torch.Size([128, 2, 2])\n",
      "torch.Size([128, 2, 2])\n",
      "torch.Size([128, 2, 2])\n",
      "torch.Size([128, 2, 2])\n",
      "torch.Size([128, 2, 2])\n",
      "torch.Size([128, 2, 2])"
     ]
    },
    {
     "name": "stderr",
     "output_type": "stream",
     "text": [
      " 32%|███▏      | 73/225 [00:01<00:03, 39.66it/s]"
     ]
    },
    {
     "name": "stdout",
     "output_type": "stream",
     "text": [
      "\n",
      "torch.Size([128, 2, 2])\n",
      "torch.Size([128, 2, 2])\n",
      "torch.Size([128, 2, 2])\n",
      "torch.Size([128, 2, 2])\n",
      "torch.Size([128, 2, 2])\n",
      "torch.Size([128, 2, 2])\n",
      "torch.Size([128, 2, 2])\n",
      "torch.Size([128, 2, 2])"
     ]
    },
    {
     "name": "stderr",
     "output_type": "stream",
     "text": [
      " 36%|███▌      | 81/225 [00:02<00:03, 39.40it/s]"
     ]
    },
    {
     "name": "stdout",
     "output_type": "stream",
     "text": [
      "\n",
      "torch.Size([128, 2, 2])\n",
      "torch.Size([128, 2, 2])\n",
      "torch.Size([128, 2, 2])\n",
      "torch.Size([128, 2, 2])\n",
      "torch.Size([128, 2, 2])\n",
      "torch.Size([128, 2, 2])\n",
      "torch.Size([128, 2, 2])\n",
      "torch.Size([128, 2, 2])"
     ]
    },
    {
     "name": "stderr",
     "output_type": "stream",
     "text": [
      " 40%|████      | 90/225 [00:02<00:03, 39.71it/s]"
     ]
    },
    {
     "name": "stdout",
     "output_type": "stream",
     "text": [
      "\n",
      "torch.Size([128, 2, 2])\n",
      "torch.Size([128, 2, 2])\n",
      "torch.Size([128, 2, 2])\n",
      "torch.Size([128, 2, 2])\n",
      "torch.Size([128, 2, 2])\n",
      "torch.Size([128, 2, 2])\n",
      "torch.Size([128, 2, 2])\n",
      "torch.Size([128, 2, 2])"
     ]
    },
    {
     "name": "stderr",
     "output_type": "stream",
     "text": [
      " 44%|████▎     | 98/225 [00:02<00:03, 39.62it/s]"
     ]
    },
    {
     "name": "stdout",
     "output_type": "stream",
     "text": [
      "\n",
      "torch.Size([128, 2, 2])\n",
      "torch.Size([128, 2, 2])\n",
      "torch.Size([128, 2, 2])\n",
      "torch.Size([128, 2, 2])\n",
      "torch.Size([128, 2, 2])\n",
      "torch.Size([128, 2, 2])\n",
      "torch.Size([128, 2, 2])"
     ]
    },
    {
     "name": "stderr",
     "output_type": "stream",
     "text": [
      " 47%|████▋     | 106/225 [00:02<00:03, 39.50it/s]"
     ]
    },
    {
     "name": "stdout",
     "output_type": "stream",
     "text": [
      "\n",
      "torch.Size([128, 2, 2])\n",
      "torch.Size([128, 2, 2])\n",
      "torch.Size([128, 2, 2])\n",
      "torch.Size([128, 2, 2])\n",
      "torch.Size([128, 2, 2])\n",
      "torch.Size([128, 2, 2])\n",
      "torch.Size([128, 2, 2])\n",
      "torch.Size([128, 2, 2])"
     ]
    },
    {
     "name": "stderr",
     "output_type": "stream",
     "text": [
      " 51%|█████     | 114/225 [00:02<00:02, 39.10it/s]"
     ]
    },
    {
     "name": "stdout",
     "output_type": "stream",
     "text": [
      "\n",
      "torch.Size([128, 2, 2])\n",
      "torch.Size([128, 2, 2])\n",
      "torch.Size([128, 2, 2])\n",
      "torch.Size([128, 2, 2])\n",
      "torch.Size([128, 2, 2])\n",
      "torch.Size([128, 2, 2])\n",
      "torch.Size([128, 2, 2])\n",
      "torch.Size([128, 2, 2])"
     ]
    },
    {
     "name": "stderr",
     "output_type": "stream",
     "text": [
      " 54%|█████▍    | 122/225 [00:03<00:02, 39.24it/s]"
     ]
    },
    {
     "name": "stdout",
     "output_type": "stream",
     "text": [
      "\n",
      "torch.Size([128, 2, 2])\n",
      "torch.Size([128, 2, 2])\n",
      "torch.Size([128, 2, 2])\n",
      "torch.Size([128, 2, 2])\n",
      "torch.Size([128, 2, 2])\n",
      "torch.Size([128, 2, 2])\n",
      "torch.Size([128, 2, 2])\n",
      "torch.Size([128, 2, 2])"
     ]
    },
    {
     "name": "stderr",
     "output_type": "stream",
     "text": [
      " 58%|█████▊    | 130/225 [00:03<00:02, 39.06it/s]"
     ]
    },
    {
     "name": "stdout",
     "output_type": "stream",
     "text": [
      "\n",
      "torch.Size([128, 2, 2])\n",
      "torch.Size([128, 2, 2])\n",
      "torch.Size([128, 2, 2])\n",
      "torch.Size([128, 2, 2])\n",
      "torch.Size([128, 2, 2])\n",
      "torch.Size([128, 2, 2])\n",
      "torch.Size([128, 2, 2])\n",
      "torch.Size([128, 2, 2])"
     ]
    },
    {
     "name": "stderr",
     "output_type": "stream",
     "text": [
      " 60%|██████    | 135/225 [00:03<00:02, 39.46it/s]"
     ]
    },
    {
     "name": "stdout",
     "output_type": "stream",
     "text": [
      "\n",
      "torch.Size([128, 2, 2])\n",
      "torch.Size([128, 2, 2])\n",
      "torch.Size([128, 2, 2])\n",
      "torch.Size([128, 2, 2])\n",
      "torch.Size([128, 2, 2])\n",
      "torch.Size([128, 2, 2])\n",
      "torch.Size([128, 2, 2])\n"
     ]
    },
    {
     "name": "stderr",
     "output_type": "stream",
     "text": [
      " 65%|██████▌   | 147/225 [00:03<00:01, 39.19it/s]"
     ]
    },
    {
     "name": "stdout",
     "output_type": "stream",
     "text": [
      "torch.Size([128, 2, 2])\n",
      "torch.Size([128, 2, 2])\n",
      "torch.Size([128, 2, 2])\n",
      "torch.Size([128, 2, 2])\n",
      "torch.Size([128, 2, 2])\n",
      "torch.Size([128, 2, 2])\n",
      "torch.Size([128, 2, 2])\n",
      "torch.Size([128, 2, 2])\n"
     ]
    },
    {
     "name": "stderr",
     "output_type": "stream",
     "text": [
      " 67%|██████▋   | 151/225 [00:03<00:01, 39.01it/s]"
     ]
    },
    {
     "name": "stdout",
     "output_type": "stream",
     "text": [
      "torch.Size([128, 2, 2])\n",
      "torch.Size([128, 2, 2])\n",
      "torch.Size([128, 2, 2])\n",
      "torch.Size([128, 2, 2])\n",
      "torch.Size([128, 2, 2])\n",
      "torch.Size([128, 2, 2])\n",
      "torch.Size([128, 2, 2])\n",
      "torch.Size([128, 2, 2])"
     ]
    },
    {
     "name": "stderr",
     "output_type": "stream",
     "text": [
      " 71%|███████   | 159/225 [00:04<00:01, 39.05it/s]"
     ]
    },
    {
     "name": "stdout",
     "output_type": "stream",
     "text": [
      "\n",
      "torch.Size([128, 2, 2])\n",
      "torch.Size([128, 2, 2])\n",
      "torch.Size([128, 2, 2])\n",
      "torch.Size([128, 2, 2])\n",
      "torch.Size([128, 2, 2])\n",
      "torch.Size([128, 2, 2])\n",
      "torch.Size([128, 2, 2])\n",
      "torch.Size([128, 2, 2])"
     ]
    },
    {
     "name": "stderr",
     "output_type": "stream",
     "text": [
      " 74%|███████▍  | 167/225 [00:04<00:01, 39.19it/s]"
     ]
    },
    {
     "name": "stdout",
     "output_type": "stream",
     "text": [
      "\n",
      "torch.Size([128, 2, 2])\n",
      "torch.Size([128, 2, 2])\n",
      "torch.Size([128, 2, 2])\n",
      "torch.Size([128, 2, 2])\n",
      "torch.Size([128, 2, 2])\n",
      "torch.Size([128, 2, 2])\n",
      "torch.Size([128, 2, 2])\n",
      "torch.Size([128, 2, 2])"
     ]
    },
    {
     "name": "stderr",
     "output_type": "stream",
     "text": [
      " 78%|███████▊  | 176/225 [00:04<00:01, 39.49it/s]"
     ]
    },
    {
     "name": "stdout",
     "output_type": "stream",
     "text": [
      "\n",
      "torch.Size([128, 2, 2])\n",
      "torch.Size([128, 2, 2])\n",
      "torch.Size([128, 2, 2])\n",
      "torch.Size([128, 2, 2])\n",
      "torch.Size([128, 2, 2])\n",
      "torch.Size([128, 2, 2])\n",
      "torch.Size([128, 2, 2])\n",
      "torch.Size([128, 2, 2])"
     ]
    },
    {
     "name": "stderr",
     "output_type": "stream",
     "text": [
      " 82%|████████▏ | 184/225 [00:04<00:01, 39.32it/s]"
     ]
    },
    {
     "name": "stdout",
     "output_type": "stream",
     "text": [
      "\n",
      "torch.Size([128, 2, 2])\n",
      "torch.Size([128, 2, 2])\n",
      "torch.Size([128, 2, 2])\n",
      "torch.Size([128, 2, 2])\n",
      "torch.Size([128, 2, 2])\n",
      "torch.Size([128, 2, 2])\n",
      "torch.Size([128, 2, 2])\n",
      "torch.Size([128, 2, 2])"
     ]
    },
    {
     "name": "stderr",
     "output_type": "stream",
     "text": [
      " 85%|████████▌ | 192/225 [00:04<00:00, 39.21it/s]"
     ]
    },
    {
     "name": "stdout",
     "output_type": "stream",
     "text": [
      "\n",
      "torch.Size([128, 2, 2])\n",
      "torch.Size([128, 2, 2])\n",
      "torch.Size([128, 2, 2])\n",
      "torch.Size([128, 2, 2])\n",
      "torch.Size([128, 2, 2])\n",
      "torch.Size([128, 2, 2])\n",
      "torch.Size([128, 2, 2])\n",
      "torch.Size([128, 2, 2])"
     ]
    },
    {
     "name": "stderr",
     "output_type": "stream",
     "text": [
      " 89%|████████▉ | 200/225 [00:05<00:00, 39.07it/s]"
     ]
    },
    {
     "name": "stdout",
     "output_type": "stream",
     "text": [
      "\n",
      "torch.Size([128, 2, 2])\n",
      "torch.Size([128, 2, 2])\n",
      "torch.Size([128, 2, 2])\n",
      "torch.Size([128, 2, 2])\n",
      "torch.Size([128, 2, 2])\n",
      "torch.Size([128, 2, 2])\n",
      "torch.Size([128, 2, 2])\n",
      "torch.Size([128, 2, 2])"
     ]
    },
    {
     "name": "stderr",
     "output_type": "stream",
     "text": [
      " 92%|█████████▏| 208/225 [00:05<00:00, 38.93it/s]"
     ]
    },
    {
     "name": "stdout",
     "output_type": "stream",
     "text": [
      "\n",
      "torch.Size([128, 2, 2])\n",
      "torch.Size([128, 2, 2])\n",
      "torch.Size([128, 2, 2])\n",
      "torch.Size([128, 2, 2])\n",
      "torch.Size([128, 2, 2])\n",
      "torch.Size([128, 2, 2])\n",
      "torch.Size([128, 2, 2])\n",
      "torch.Size([128, 2, 2])"
     ]
    },
    {
     "name": "stderr",
     "output_type": "stream",
     "text": [
      " 96%|█████████▋| 217/225 [00:05<00:00, 39.19it/s]"
     ]
    },
    {
     "name": "stdout",
     "output_type": "stream",
     "text": [
      "\n",
      "torch.Size([128, 2, 2])\n",
      "torch.Size([128, 2, 2])\n",
      "torch.Size([128, 2, 2])\n",
      "torch.Size([128, 2, 2])\n",
      "torch.Size([128, 2, 2])\n",
      "torch.Size([128, 2, 2])\n",
      "torch.Size([128, 2, 2])\n",
      "torch.Size([128, 2, 2])"
     ]
    },
    {
     "name": "stderr",
     "output_type": "stream",
     "text": [
      "100%|██████████| 225/225 [00:05<00:00, 39.44it/s]\n",
      "  0%|          | 0/225 [00:00<?, ?it/s]"
     ]
    },
    {
     "name": "stdout",
     "output_type": "stream",
     "text": [
      "\n",
      "torch.Size([128, 2, 2])\n",
      "torch.Size([128, 2, 2])\n",
      "torch.Size([128, 2, 2])\n",
      "torch.Size([128, 2, 2])\n",
      "torch.Size([128, 2, 2])\n",
      "torch.Size([128, 2, 2])\n",
      "tensor(0.1421, device='cuda:0', grad_fn=<MseLossBackward>)\n",
      "torch.Size([128, 2, 2])\n",
      "torch.Size([128, 2, 2])"
     ]
    },
    {
     "name": "stderr",
     "output_type": "stream",
     "text": [
      "  4%|▍         | 9/225 [00:00<00:04, 43.23it/s]"
     ]
    },
    {
     "name": "stdout",
     "output_type": "stream",
     "text": [
      "\n",
      "torch.Size([128, 2, 2])\n",
      "torch.Size([128, 2, 2])\n",
      "torch.Size([128, 2, 2])\n",
      "torch.Size([128, 2, 2])\n",
      "torch.Size([128, 2, 2])\n",
      "torch.Size([128, 2, 2])\n",
      "torch.Size([128, 2, 2])\n",
      "torch.Size([128, 2, 2])\n"
     ]
    },
    {
     "name": "stderr",
     "output_type": "stream",
     "text": [
      "  8%|▊         | 17/225 [00:00<00:05, 40.93it/s]"
     ]
    },
    {
     "name": "stdout",
     "output_type": "stream",
     "text": [
      "torch.Size([128, 2, 2])\n",
      "torch.Size([128, 2, 2])\n",
      "torch.Size([128, 2, 2])\n",
      "torch.Size([128, 2, 2])\n",
      "torch.Size([128, 2, 2])\n",
      "torch.Size([128, 2, 2])\n",
      "torch.Size([128, 2, 2])\n",
      "torch.Size([128, 2, 2])\n"
     ]
    },
    {
     "name": "stderr",
     "output_type": "stream",
     "text": [
      " 11%|█         | 25/225 [00:00<00:05, 39.94it/s]"
     ]
    },
    {
     "name": "stdout",
     "output_type": "stream",
     "text": [
      "torch.Size([128, 2, 2])\n",
      "torch.Size([128, 2, 2])\n",
      "torch.Size([128, 2, 2])\n",
      "torch.Size([128, 2, 2])\n",
      "torch.Size([128, 2, 2])\n",
      "torch.Size([128, 2, 2])\n",
      "torch.Size([128, 2, 2])\n"
     ]
    },
    {
     "name": "stderr",
     "output_type": "stream",
     "text": [
      " 15%|█▍        | 33/225 [00:00<00:04, 39.82it/s]"
     ]
    },
    {
     "name": "stdout",
     "output_type": "stream",
     "text": [
      "torch.Size([128, 2, 2])\n",
      "torch.Size([128, 2, 2])\n",
      "torch.Size([128, 2, 2])\n",
      "torch.Size([128, 2, 2])\n",
      "torch.Size([128, 2, 2])\n",
      "torch.Size([128, 2, 2])\n",
      "torch.Size([128, 2, 2])\n",
      "torch.Size([128, 2, 2])\n",
      "torch.Size([128, 2, 2])"
     ]
    },
    {
     "name": "stderr",
     "output_type": "stream",
     "text": [
      " 16%|█▋        | 37/225 [00:00<00:04, 39.79it/s]"
     ]
    },
    {
     "name": "stdout",
     "output_type": "stream",
     "text": [
      "\n",
      "torch.Size([128, 2, 2])\n",
      "torch.Size([128, 2, 2])\n",
      "torch.Size([128, 2, 2])\n",
      "torch.Size([128, 2, 2])\n",
      "torch.Size([128, 2, 2])\n",
      "torch.Size([128, 2, 2])\n",
      "torch.Size([128, 2, 2])"
     ]
    },
    {
     "name": "stderr",
     "output_type": "stream",
     "text": [
      " 21%|██        | 47/225 [00:01<00:04, 40.08it/s]"
     ]
    },
    {
     "name": "stdout",
     "output_type": "stream",
     "text": [
      "\n",
      "torch.Size([128, 2, 2])\n",
      "torch.Size([128, 2, 2])\n",
      "torch.Size([128, 2, 2])\n",
      "torch.Size([128, 2, 2])\n",
      "torch.Size([128, 2, 2])\n",
      "torch.Size([128, 2, 2])\n",
      "torch.Size([128, 2, 2])\n",
      "torch.Size([128, 2, 2])"
     ]
    },
    {
     "name": "stderr",
     "output_type": "stream",
     "text": [
      " 24%|██▍       | 55/225 [00:01<00:04, 39.69it/s]"
     ]
    },
    {
     "name": "stdout",
     "output_type": "stream",
     "text": [
      "\n",
      "torch.Size([128, 2, 2])\n",
      "torch.Size([128, 2, 2])\n",
      "torch.Size([128, 2, 2])\n",
      "torch.Size([128, 2, 2])\n",
      "torch.Size([128, 2, 2])\n",
      "torch.Size([128, 2, 2])\n",
      "torch.Size([128, 2, 2])"
     ]
    },
    {
     "name": "stderr",
     "output_type": "stream",
     "text": [
      " 28%|██▊       | 63/225 [00:01<00:04, 39.35it/s]"
     ]
    },
    {
     "name": "stdout",
     "output_type": "stream",
     "text": [
      "\n",
      "torch.Size([128, 2, 2])\n",
      "torch.Size([128, 2, 2])\n",
      "torch.Size([128, 2, 2])\n",
      "torch.Size([128, 2, 2])\n",
      "torch.Size([128, 2, 2])\n",
      "torch.Size([128, 2, 2])\n",
      "torch.Size([128, 2, 2])\n"
     ]
    },
    {
     "name": "stderr",
     "output_type": "stream",
     "text": [
      " 30%|███       | 68/225 [00:01<00:03, 39.48it/s]"
     ]
    },
    {
     "name": "stdout",
     "output_type": "stream",
     "text": [
      "torch.Size([128, 2, 2])\n",
      "torch.Size([128, 2, 2])\n",
      "torch.Size([128, 2, 2])\n",
      "torch.Size([128, 2, 2])\n",
      "torch.Size([128, 2, 2])\n",
      "torch.Size([128, 2, 2])\n",
      "torch.Size([128, 2, 2])\n",
      "torch.Size([128, 2, 2])\n",
      "torch.Size([128, 2, 2])"
     ]
    },
    {
     "name": "stderr",
     "output_type": "stream",
     "text": [
      " 34%|███▍      | 76/225 [00:01<00:03, 39.35it/s]"
     ]
    },
    {
     "name": "stdout",
     "output_type": "stream",
     "text": [
      "\n",
      "torch.Size([128, 2, 2])\n",
      "torch.Size([128, 2, 2])\n",
      "torch.Size([128, 2, 2])\n",
      "torch.Size([128, 2, 2])\n",
      "torch.Size([128, 2, 2])\n",
      "torch.Size([128, 2, 2])\n",
      "torch.Size([128, 2, 2])\n",
      "torch.Size([128, 2, 2])"
     ]
    },
    {
     "name": "stderr",
     "output_type": "stream",
     "text": [
      " 38%|███▊      | 85/225 [00:02<00:03, 39.65it/s]"
     ]
    },
    {
     "name": "stdout",
     "output_type": "stream",
     "text": [
      "\n",
      "torch.Size([128, 2, 2])\n",
      "torch.Size([128, 2, 2])\n",
      "torch.Size([128, 2, 2])\n",
      "torch.Size([128, 2, 2])\n",
      "torch.Size([128, 2, 2])\n",
      "torch.Size([128, 2, 2])\n",
      "torch.Size([128, 2, 2])\n",
      "torch.Size([128, 2, 2])"
     ]
    },
    {
     "name": "stderr",
     "output_type": "stream",
     "text": [
      " 41%|████▏     | 93/225 [00:02<00:03, 39.52it/s]"
     ]
    },
    {
     "name": "stdout",
     "output_type": "stream",
     "text": [
      "\n",
      "torch.Size([128, 2, 2])\n",
      "torch.Size([128, 2, 2])\n",
      "torch.Size([128, 2, 2])\n",
      "torch.Size([128, 2, 2])\n",
      "torch.Size([128, 2, 2])\n",
      "torch.Size([128, 2, 2])\n",
      "torch.Size([128, 2, 2])\n",
      "torch.Size([128, 2, 2])"
     ]
    },
    {
     "name": "stderr",
     "output_type": "stream",
     "text": [
      " 45%|████▍     | 101/225 [00:02<00:03, 39.38it/s]"
     ]
    },
    {
     "name": "stdout",
     "output_type": "stream",
     "text": [
      "\n",
      "torch.Size([128, 2, 2])\n",
      "torch.Size([128, 2, 2])\n",
      "torch.Size([128, 2, 2])\n",
      "torch.Size([128, 2, 2])\n",
      "torch.Size([128, 2, 2])\n",
      "torch.Size([128, 2, 2])\n",
      "torch.Size([128, 2, 2])\n",
      "torch.Size([128, 2, 2])"
     ]
    },
    {
     "name": "stderr",
     "output_type": "stream",
     "text": [
      " 49%|████▉     | 110/225 [00:02<00:02, 39.51it/s]"
     ]
    },
    {
     "name": "stdout",
     "output_type": "stream",
     "text": [
      "\n",
      "torch.Size([128, 2, 2])\n",
      "torch.Size([128, 2, 2])\n",
      "torch.Size([128, 2, 2])\n",
      "torch.Size([128, 2, 2])\n",
      "torch.Size([128, 2, 2])\n",
      "torch.Size([128, 2, 2])\n",
      "torch.Size([128, 2, 2])\n",
      "torch.Size([128, 2, 2])"
     ]
    },
    {
     "name": "stderr",
     "output_type": "stream",
     "text": [
      " 52%|█████▏    | 118/225 [00:02<00:02, 39.37it/s]"
     ]
    },
    {
     "name": "stdout",
     "output_type": "stream",
     "text": [
      "\n",
      "torch.Size([128, 2, 2])\n",
      "torch.Size([128, 2, 2])\n",
      "torch.Size([128, 2, 2])\n",
      "torch.Size([128, 2, 2])\n",
      "torch.Size([128, 2, 2])\n",
      "torch.Size([128, 2, 2])\n",
      "torch.Size([128, 2, 2])\n",
      "torch.Size([128, 2, 2])"
     ]
    },
    {
     "name": "stderr",
     "output_type": "stream",
     "text": [
      " 56%|█████▌    | 126/225 [00:03<00:02, 39.46it/s]"
     ]
    },
    {
     "name": "stdout",
     "output_type": "stream",
     "text": [
      "\n",
      "torch.Size([128, 2, 2])\n",
      "torch.Size([128, 2, 2])\n",
      "torch.Size([128, 2, 2])\n",
      "torch.Size([128, 2, 2])\n",
      "torch.Size([128, 2, 2])\n",
      "torch.Size([128, 2, 2])\n",
      "torch.Size([128, 2, 2])\n",
      "torch.Size([128, 2, 2])"
     ]
    },
    {
     "name": "stderr",
     "output_type": "stream",
     "text": [
      " 60%|█████▉    | 134/225 [00:03<00:02, 39.51it/s]"
     ]
    },
    {
     "name": "stdout",
     "output_type": "stream",
     "text": [
      "\n",
      "torch.Size([128, 2, 2])\n",
      "torch.Size([128, 2, 2])\n",
      "torch.Size([128, 2, 2])\n",
      "torch.Size([128, 2, 2])\n",
      "torch.Size([128, 2, 2])\n",
      "torch.Size([128, 2, 2])\n",
      "torch.Size([128, 2, 2])\n",
      "torch.Size([128, 2, 2])"
     ]
    },
    {
     "name": "stderr",
     "output_type": "stream",
     "text": [
      " 63%|██████▎   | 142/225 [00:03<00:02, 39.29it/s]"
     ]
    },
    {
     "name": "stdout",
     "output_type": "stream",
     "text": [
      "\n",
      "torch.Size([128, 2, 2])\n",
      "torch.Size([128, 2, 2])\n",
      "torch.Size([128, 2, 2])\n",
      "torch.Size([128, 2, 2])\n",
      "torch.Size([128, 2, 2])\n",
      "torch.Size([128, 2, 2])\n",
      "torch.Size([128, 2, 2])\n",
      "torch.Size([128, 2, 2])"
     ]
    },
    {
     "name": "stderr",
     "output_type": "stream",
     "text": [
      " 67%|██████▋   | 150/225 [00:03<00:01, 39.39it/s]"
     ]
    },
    {
     "name": "stdout",
     "output_type": "stream",
     "text": [
      "\n",
      "torch.Size([128, 2, 2])\n",
      "torch.Size([128, 2, 2])\n",
      "torch.Size([128, 2, 2])\n",
      "torch.Size([128, 2, 2])\n",
      "torch.Size([128, 2, 2])\n",
      "torch.Size([128, 2, 2])\n",
      "torch.Size([128, 2, 2])\n",
      "torch.Size([128, 2, 2])"
     ]
    },
    {
     "name": "stderr",
     "output_type": "stream",
     "text": [
      " 71%|███████   | 159/225 [00:04<00:01, 39.52it/s]"
     ]
    },
    {
     "name": "stdout",
     "output_type": "stream",
     "text": [
      "\n",
      "torch.Size([128, 2, 2])\n",
      "torch.Size([128, 2, 2])\n",
      "torch.Size([128, 2, 2])\n",
      "torch.Size([128, 2, 2])\n",
      "torch.Size([128, 2, 2])\n",
      "torch.Size([128, 2, 2])\n",
      "torch.Size([128, 2, 2])\n",
      "torch.Size([128, 2, 2])"
     ]
    },
    {
     "name": "stderr",
     "output_type": "stream",
     "text": [
      " 74%|███████▍  | 167/225 [00:04<00:01, 39.27it/s]"
     ]
    },
    {
     "name": "stdout",
     "output_type": "stream",
     "text": [
      "\n",
      "torch.Size([128, 2, 2])\n",
      "torch.Size([128, 2, 2])\n",
      "torch.Size([128, 2, 2])\n",
      "torch.Size([128, 2, 2])\n",
      "torch.Size([128, 2, 2])\n",
      "torch.Size([128, 2, 2])\n",
      "torch.Size([128, 2, 2])\n"
     ]
    },
    {
     "name": "stderr",
     "output_type": "stream",
     "text": [
      " 76%|███████▌  | 171/225 [00:04<00:01, 39.28it/s]"
     ]
    },
    {
     "name": "stdout",
     "output_type": "stream",
     "text": [
      "torch.Size([128, 2, 2])\n",
      "torch.Size([128, 2, 2])\n",
      "torch.Size([128, 2, 2])\n",
      "torch.Size([128, 2, 2])\n",
      "torch.Size([128, 2, 2])\n",
      "torch.Size([128, 2, 2])\n",
      "torch.Size([128, 2, 2])\n",
      "torch.Size([128, 2, 2])\n",
      "torch.Size([128, 2, 2])"
     ]
    },
    {
     "name": "stderr",
     "output_type": "stream",
     "text": [
      " 80%|████████  | 181/225 [00:04<00:01, 39.82it/s]"
     ]
    },
    {
     "name": "stdout",
     "output_type": "stream",
     "text": [
      "\n",
      "torch.Size([128, 2, 2])\n",
      "torch.Size([128, 2, 2])\n",
      "torch.Size([128, 2, 2])\n",
      "torch.Size([128, 2, 2])\n",
      "torch.Size([128, 2, 2])\n",
      "torch.Size([128, 2, 2])\n",
      "torch.Size([128, 2, 2])\n",
      "torch.Size([128, 2, 2])"
     ]
    },
    {
     "name": "stderr",
     "output_type": "stream",
     "text": [
      " 84%|████████▍ | 189/225 [00:04<00:00, 39.76it/s]"
     ]
    },
    {
     "name": "stdout",
     "output_type": "stream",
     "text": [
      "\n",
      "torch.Size([128, 2, 2])\n",
      "torch.Size([128, 2, 2])\n",
      "torch.Size([128, 2, 2])\n",
      "torch.Size([128, 2, 2])\n",
      "torch.Size([128, 2, 2])\n",
      "torch.Size([128, 2, 2])\n",
      "torch.Size([128, 2, 2])"
     ]
    },
    {
     "name": "stderr",
     "output_type": "stream",
     "text": [
      " 86%|████████▌ | 194/225 [00:04<00:00, 39.96it/s]"
     ]
    },
    {
     "name": "stdout",
     "output_type": "stream",
     "text": [
      "\n",
      "torch.Size([128, 2, 2])\n",
      "torch.Size([128, 2, 2])\n",
      "torch.Size([128, 2, 2])\n",
      "torch.Size([128, 2, 2])\n",
      "torch.Size([128, 2, 2])\n",
      "torch.Size([128, 2, 2])\n",
      "torch.Size([128, 2, 2])\n",
      "torch.Size([128, 2, 2])"
     ]
    },
    {
     "name": "stderr",
     "output_type": "stream",
     "text": [
      " 91%|█████████ | 204/225 [00:05<00:00, 40.07it/s]"
     ]
    },
    {
     "name": "stdout",
     "output_type": "stream",
     "text": [
      "\n",
      "torch.Size([128, 2, 2])\n",
      "torch.Size([128, 2, 2])\n",
      "torch.Size([128, 2, 2])\n",
      "torch.Size([128, 2, 2])\n",
      "torch.Size([128, 2, 2])\n",
      "torch.Size([128, 2, 2])\n",
      "torch.Size([128, 2, 2])\n",
      "torch.Size([128, 2, 2])"
     ]
    },
    {
     "name": "stderr",
     "output_type": "stream",
     "text": [
      " 95%|█████████▌| 214/225 [00:05<00:00, 40.09it/s]"
     ]
    },
    {
     "name": "stdout",
     "output_type": "stream",
     "text": [
      "\n",
      "torch.Size([128, 2, 2])\n",
      "torch.Size([128, 2, 2])\n",
      "torch.Size([128, 2, 2])\n",
      "torch.Size([128, 2, 2])\n",
      "torch.Size([128, 2, 2])\n",
      "torch.Size([128, 2, 2])\n",
      "torch.Size([128, 2, 2])\n"
     ]
    },
    {
     "name": "stderr",
     "output_type": "stream",
     "text": [
      " 97%|█████████▋| 219/225 [00:05<00:00, 40.29it/s]"
     ]
    },
    {
     "name": "stdout",
     "output_type": "stream",
     "text": [
      "torch.Size([128, 2, 2])\n",
      "torch.Size([128, 2, 2])\n",
      "torch.Size([128, 2, 2])\n",
      "torch.Size([128, 2, 2])\n",
      "torch.Size([128, 2, 2])\n",
      "torch.Size([128, 2, 2])\n",
      "torch.Size([128, 2, 2])\n",
      "torch.Size([128, 2, 2])\n",
      "torch.Size([128, 2, 2])"
     ]
    },
    {
     "name": "stderr",
     "output_type": "stream",
     "text": [
      "100%|██████████| 225/225 [00:05<00:00, 39.74it/s]\n",
      "  2%|▏         | 5/225 [00:00<00:04, 45.99it/s]"
     ]
    },
    {
     "name": "stdout",
     "output_type": "stream",
     "text": [
      "\n",
      "torch.Size([128, 2, 2])\n",
      "torch.Size([128, 2, 2])\n",
      "tensor(0.1287, device='cuda:0', grad_fn=<MseLossBackward>)\n",
      "torch.Size([128, 2, 2])\n",
      "torch.Size([128, 2, 2])\n",
      "torch.Size([128, 2, 2])\n",
      "torch.Size([128, 2, 2])\n",
      "torch.Size([128, 2, 2])\n",
      "torch.Size([128, 2, 2])\n"
     ]
    },
    {
     "name": "stderr",
     "output_type": "stream",
     "text": [
      "  4%|▍         | 10/225 [00:00<00:04, 44.17it/s]"
     ]
    },
    {
     "name": "stdout",
     "output_type": "stream",
     "text": [
      "torch.Size([128, 2, 2])\n",
      "torch.Size([128, 2, 2])\n",
      "torch.Size([128, 2, 2])\n",
      "torch.Size([128, 2, 2])\n",
      "torch.Size([128, 2, 2])\n",
      "torch.Size([128, 2, 2])\n",
      "torch.Size([128, 2, 2])\n",
      "torch.Size([128, 2, 2])\n",
      "torch.Size([128, 2, 2])"
     ]
    },
    {
     "name": "stderr",
     "output_type": "stream",
     "text": [
      "  8%|▊         | 19/225 [00:00<00:04, 41.67it/s]"
     ]
    },
    {
     "name": "stdout",
     "output_type": "stream",
     "text": [
      "\n",
      "torch.Size([128, 2, 2])\n",
      "torch.Size([128, 2, 2])\n",
      "torch.Size([128, 2, 2])\n",
      "torch.Size([128, 2, 2])\n",
      "torch.Size([128, 2, 2])\n",
      "torch.Size([128, 2, 2])\n",
      "torch.Size([128, 2, 2])\n",
      "torch.Size([128, 2, 2])"
     ]
    },
    {
     "name": "stderr",
     "output_type": "stream",
     "text": [
      " 12%|█▏        | 28/225 [00:00<00:04, 40.87it/s]"
     ]
    },
    {
     "name": "stdout",
     "output_type": "stream",
     "text": [
      "\n",
      "torch.Size([128, 2, 2])\n",
      "torch.Size([128, 2, 2])\n",
      "torch.Size([128, 2, 2])\n",
      "torch.Size([128, 2, 2])\n",
      "torch.Size([128, 2, 2])\n",
      "torch.Size([128, 2, 2])\n",
      "torch.Size([128, 2, 2])\n",
      "torch.Size([128, 2, 2])"
     ]
    },
    {
     "name": "stderr",
     "output_type": "stream",
     "text": [
      " 16%|█▌        | 36/225 [00:00<00:04, 39.71it/s]"
     ]
    },
    {
     "name": "stdout",
     "output_type": "stream",
     "text": [
      "\n",
      "torch.Size([128, 2, 2])\n",
      "torch.Size([128, 2, 2])\n",
      "torch.Size([128, 2, 2])\n",
      "torch.Size([128, 2, 2])\n",
      "torch.Size([128, 2, 2])\n",
      "torch.Size([128, 2, 2])\n",
      "torch.Size([128, 2, 2])\n",
      "torch.Size([128, 2, 2])"
     ]
    },
    {
     "name": "stderr",
     "output_type": "stream",
     "text": [
      " 20%|██        | 45/225 [00:01<00:04, 39.79it/s]"
     ]
    },
    {
     "name": "stdout",
     "output_type": "stream",
     "text": [
      "\n",
      "torch.Size([128, 2, 2])\n",
      "torch.Size([128, 2, 2])\n",
      "torch.Size([128, 2, 2])\n",
      "torch.Size([128, 2, 2])\n",
      "torch.Size([128, 2, 2])\n",
      "torch.Size([128, 2, 2])\n",
      "torch.Size([128, 2, 2])\n",
      "torch.Size([128, 2, 2])"
     ]
    },
    {
     "name": "stderr",
     "output_type": "stream",
     "text": [
      " 24%|██▍       | 54/225 [00:01<00:04, 39.70it/s]"
     ]
    },
    {
     "name": "stdout",
     "output_type": "stream",
     "text": [
      "\n",
      "torch.Size([128, 2, 2])\n",
      "torch.Size([128, 2, 2])\n",
      "torch.Size([128, 2, 2])\n",
      "torch.Size([128, 2, 2])\n",
      "torch.Size([128, 2, 2])\n",
      "torch.Size([128, 2, 2])\n",
      "torch.Size([128, 2, 2])\n"
     ]
    },
    {
     "name": "stderr",
     "output_type": "stream",
     "text": [
      " 26%|██▌       | 59/225 [00:01<00:04, 39.82it/s]"
     ]
    },
    {
     "name": "stdout",
     "output_type": "stream",
     "text": [
      "torch.Size([128, 2, 2])\n",
      "torch.Size([128, 2, 2])\n",
      "torch.Size([128, 2, 2])\n",
      "torch.Size([128, 2, 2])\n",
      "torch.Size([128, 2, 2])\n",
      "torch.Size([128, 2, 2])\n",
      "torch.Size([128, 2, 2])\n",
      "torch.Size([128, 2, 2])\n",
      "torch.Size([128, 2, 2])\n"
     ]
    },
    {
     "name": "stderr",
     "output_type": "stream",
     "text": [
      " 30%|███       | 68/225 [00:01<00:03, 39.72it/s]"
     ]
    },
    {
     "name": "stdout",
     "output_type": "stream",
     "text": [
      "torch.Size([128, 2, 2])\n",
      "torch.Size([128, 2, 2])\n",
      "torch.Size([128, 2, 2])\n",
      "torch.Size([128, 2, 2])\n",
      "torch.Size([128, 2, 2])\n",
      "torch.Size([128, 2, 2])\n",
      "torch.Size([128, 2, 2])\n",
      "torch.Size([128, 2, 2])\n",
      "torch.Size([128, 2, 2])"
     ]
    },
    {
     "name": "stderr",
     "output_type": "stream",
     "text": [
      " 34%|███▍      | 76/225 [00:01<00:03, 39.31it/s]"
     ]
    },
    {
     "name": "stdout",
     "output_type": "stream",
     "text": [
      "\n",
      "torch.Size([128, 2, 2])\n",
      "torch.Size([128, 2, 2])\n",
      "torch.Size([128, 2, 2])\n",
      "torch.Size([128, 2, 2])\n",
      "torch.Size([128, 2, 2])\n",
      "torch.Size([128, 2, 2])\n",
      "torch.Size([128, 2, 2])\n",
      "torch.Size([128, 2, 2])"
     ]
    },
    {
     "name": "stderr",
     "output_type": "stream",
     "text": [
      " 38%|███▊      | 85/225 [00:02<00:03, 39.55it/s]"
     ]
    },
    {
     "name": "stdout",
     "output_type": "stream",
     "text": [
      "\n",
      "torch.Size([128, 2, 2])\n",
      "torch.Size([128, 2, 2])\n",
      "torch.Size([128, 2, 2])\n",
      "torch.Size([128, 2, 2])\n",
      "torch.Size([128, 2, 2])\n",
      "torch.Size([128, 2, 2])\n",
      "torch.Size([128, 2, 2])\n",
      "torch.Size([128, 2, 2])"
     ]
    },
    {
     "name": "stderr",
     "output_type": "stream",
     "text": [
      " 41%|████▏     | 93/225 [00:02<00:03, 39.32it/s]"
     ]
    },
    {
     "name": "stdout",
     "output_type": "stream",
     "text": [
      "\n",
      "torch.Size([128, 2, 2])\n",
      "torch.Size([128, 2, 2])\n",
      "torch.Size([128, 2, 2])\n",
      "torch.Size([128, 2, 2])\n",
      "torch.Size([128, 2, 2])\n",
      "torch.Size([128, 2, 2])\n",
      "torch.Size([128, 2, 2])\n",
      "torch.Size([128, 2, 2])"
     ]
    },
    {
     "name": "stderr",
     "output_type": "stream",
     "text": [
      " 45%|████▌     | 102/225 [00:02<00:03, 39.56it/s]"
     ]
    },
    {
     "name": "stdout",
     "output_type": "stream",
     "text": [
      "\n",
      "torch.Size([128, 2, 2])\n",
      "torch.Size([128, 2, 2])\n",
      "torch.Size([128, 2, 2])\n",
      "torch.Size([128, 2, 2])\n",
      "torch.Size([128, 2, 2])\n",
      "torch.Size([128, 2, 2])\n",
      "torch.Size([128, 2, 2])\n",
      "torch.Size([128, 2, 2])"
     ]
    },
    {
     "name": "stderr",
     "output_type": "stream",
     "text": [
      " 48%|████▊     | 107/225 [00:02<00:02, 39.91it/s]"
     ]
    },
    {
     "name": "stdout",
     "output_type": "stream",
     "text": [
      "\n",
      "torch.Size([128, 2, 2])\n",
      "torch.Size([128, 2, 2])\n",
      "torch.Size([128, 2, 2])\n",
      "torch.Size([128, 2, 2])\n",
      "torch.Size([128, 2, 2])\n",
      "torch.Size([128, 2, 2])\n",
      "torch.Size([128, 2, 2])\n",
      "torch.Size([128, 2, 2])"
     ]
    },
    {
     "name": "stderr",
     "output_type": "stream",
     "text": [
      " 52%|█████▏    | 116/225 [00:02<00:02, 39.47it/s]"
     ]
    },
    {
     "name": "stdout",
     "output_type": "stream",
     "text": [
      "\n",
      "torch.Size([128, 2, 2])\n",
      "torch.Size([128, 2, 2])\n",
      "torch.Size([128, 2, 2])\n",
      "torch.Size([128, 2, 2])\n",
      "torch.Size([128, 2, 2])\n",
      "torch.Size([128, 2, 2])\n",
      "torch.Size([128, 2, 2])\n",
      "torch.Size([128, 2, 2])"
     ]
    },
    {
     "name": "stderr",
     "output_type": "stream",
     "text": [
      " 56%|█████▌    | 126/225 [00:03<00:02, 39.82it/s]"
     ]
    },
    {
     "name": "stdout",
     "output_type": "stream",
     "text": [
      "\n",
      "torch.Size([128, 2, 2])\n",
      "torch.Size([128, 2, 2])\n",
      "torch.Size([128, 2, 2])\n",
      "torch.Size([128, 2, 2])\n",
      "torch.Size([128, 2, 2])\n",
      "torch.Size([128, 2, 2])\n",
      "torch.Size([128, 2, 2])\n",
      "torch.Size([128, 2, 2])"
     ]
    },
    {
     "name": "stderr",
     "output_type": "stream",
     "text": [
      " 58%|█████▊    | 130/225 [00:03<00:02, 39.67it/s]"
     ]
    },
    {
     "name": "stdout",
     "output_type": "stream",
     "text": [
      "\n",
      "torch.Size([128, 2, 2])\n",
      "torch.Size([128, 2, 2])\n",
      "torch.Size([128, 2, 2])\n",
      "torch.Size([128, 2, 2])\n",
      "torch.Size([128, 2, 2])\n",
      "torch.Size([128, 2, 2])\n",
      "torch.Size([128, 2, 2])"
     ]
    },
    {
     "name": "stderr",
     "output_type": "stream",
     "text": [
      " 62%|██████▏   | 139/225 [00:03<00:02, 39.84it/s]"
     ]
    },
    {
     "name": "stdout",
     "output_type": "stream",
     "text": [
      "\n",
      "torch.Size([128, 2, 2])\n",
      "torch.Size([128, 2, 2])\n",
      "torch.Size([128, 2, 2])\n",
      "torch.Size([128, 2, 2])\n",
      "torch.Size([128, 2, 2])\n",
      "torch.Size([128, 2, 2])\n",
      "torch.Size([128, 2, 2])\n",
      "torch.Size([128, 2, 2])"
     ]
    },
    {
     "name": "stderr",
     "output_type": "stream",
     "text": [
      " 65%|██████▌   | 147/225 [00:03<00:01, 39.66it/s]"
     ]
    },
    {
     "name": "stdout",
     "output_type": "stream",
     "text": [
      "\n",
      "torch.Size([128, 2, 2])\n",
      "torch.Size([128, 2, 2])\n",
      "torch.Size([128, 2, 2])\n",
      "torch.Size([128, 2, 2])\n",
      "torch.Size([128, 2, 2])\n",
      "torch.Size([128, 2, 2])\n",
      "torch.Size([128, 2, 2])"
     ]
    },
    {
     "name": "stderr",
     "output_type": "stream",
     "text": [
      " 69%|██████▉   | 155/225 [00:03<00:01, 39.57it/s]"
     ]
    },
    {
     "name": "stdout",
     "output_type": "stream",
     "text": [
      "\n",
      "torch.Size([128, 2, 2])\n",
      "torch.Size([128, 2, 2])\n",
      "torch.Size([128, 2, 2])\n",
      "torch.Size([128, 2, 2])\n",
      "torch.Size([128, 2, 2])\n",
      "torch.Size([128, 2, 2])\n",
      "torch.Size([128, 2, 2])\n",
      "torch.Size([128, 2, 2])"
     ]
    },
    {
     "name": "stderr",
     "output_type": "stream",
     "text": [
      " 73%|███████▎  | 164/225 [00:04<00:01, 39.79it/s]"
     ]
    },
    {
     "name": "stdout",
     "output_type": "stream",
     "text": [
      "\n",
      "torch.Size([128, 2, 2])\n",
      "torch.Size([128, 2, 2])\n",
      "torch.Size([128, 2, 2])\n",
      "torch.Size([128, 2, 2])\n",
      "torch.Size([128, 2, 2])\n",
      "torch.Size([128, 2, 2])\n",
      "torch.Size([128, 2, 2])\n",
      "torch.Size([128, 2, 2])"
     ]
    },
    {
     "name": "stderr",
     "output_type": "stream",
     "text": [
      " 77%|███████▋  | 173/225 [00:04<00:01, 39.71it/s]"
     ]
    },
    {
     "name": "stdout",
     "output_type": "stream",
     "text": [
      "\n",
      "torch.Size([128, 2, 2])\n",
      "torch.Size([128, 2, 2])\n",
      "torch.Size([128, 2, 2])\n",
      "torch.Size([128, 2, 2])\n",
      "torch.Size([128, 2, 2])\n",
      "torch.Size([128, 2, 2])\n",
      "torch.Size([128, 2, 2])\n",
      "torch.Size([128, 2, 2])"
     ]
    },
    {
     "name": "stderr",
     "output_type": "stream",
     "text": [
      " 79%|███████▉  | 178/225 [00:04<00:01, 39.83it/s]"
     ]
    },
    {
     "name": "stdout",
     "output_type": "stream",
     "text": [
      "\n",
      "torch.Size([128, 2, 2])\n",
      "torch.Size([128, 2, 2])\n",
      "torch.Size([128, 2, 2])\n",
      "torch.Size([128, 2, 2])\n",
      "torch.Size([128, 2, 2])\n",
      "torch.Size([128, 2, 2])\n",
      "torch.Size([128, 2, 2])\n",
      "torch.Size([128, 2, 2])"
     ]
    },
    {
     "name": "stderr",
     "output_type": "stream",
     "text": [
      " 83%|████████▎ | 187/225 [00:04<00:00, 39.90it/s]"
     ]
    },
    {
     "name": "stdout",
     "output_type": "stream",
     "text": [
      "\n",
      "torch.Size([128, 2, 2])\n",
      "torch.Size([128, 2, 2])\n",
      "torch.Size([128, 2, 2])\n",
      "torch.Size([128, 2, 2])\n",
      "torch.Size([128, 2, 2])\n",
      "torch.Size([128, 2, 2])\n",
      "torch.Size([128, 2, 2])"
     ]
    },
    {
     "name": "stderr",
     "output_type": "stream",
     "text": [
      " 87%|████████▋ | 195/225 [00:04<00:00, 39.49it/s]"
     ]
    },
    {
     "name": "stdout",
     "output_type": "stream",
     "text": [
      "\n",
      "torch.Size([128, 2, 2])\n",
      "torch.Size([128, 2, 2])\n",
      "torch.Size([128, 2, 2])\n",
      "torch.Size([128, 2, 2])\n",
      "torch.Size([128, 2, 2])\n",
      "torch.Size([128, 2, 2])\n",
      "torch.Size([128, 2, 2])\n",
      "torch.Size([128, 2, 2])"
     ]
    },
    {
     "name": "stderr",
     "output_type": "stream",
     "text": [
      " 91%|█████████ | 204/225 [00:05<00:00, 39.62it/s]"
     ]
    },
    {
     "name": "stdout",
     "output_type": "stream",
     "text": [
      "\n",
      "torch.Size([128, 2, 2])\n",
      "torch.Size([128, 2, 2])\n",
      "torch.Size([128, 2, 2])\n",
      "torch.Size([128, 2, 2])\n",
      "torch.Size([128, 2, 2])\n",
      "torch.Size([128, 2, 2])\n",
      "torch.Size([128, 2, 2])\n",
      "torch.Size([128, 2, 2])"
     ]
    },
    {
     "name": "stderr",
     "output_type": "stream",
     "text": [
      " 92%|█████████▏| 208/225 [00:05<00:00, 39.64it/s]"
     ]
    },
    {
     "name": "stdout",
     "output_type": "stream",
     "text": [
      "\n",
      "torch.Size([128, 2, 2])\n",
      "torch.Size([128, 2, 2])\n",
      "torch.Size([128, 2, 2])\n",
      "torch.Size([128, 2, 2])\n",
      "torch.Size([128, 2, 2])\n",
      "torch.Size([128, 2, 2])\n",
      "torch.Size([128, 2, 2])"
     ]
    },
    {
     "name": "stderr",
     "output_type": "stream",
     "text": [
      " 96%|█████████▌| 216/225 [00:05<00:00, 39.60it/s]"
     ]
    },
    {
     "name": "stdout",
     "output_type": "stream",
     "text": [
      "\n",
      "torch.Size([128, 2, 2])\n",
      "torch.Size([128, 2, 2])\n",
      "torch.Size([128, 2, 2])\n",
      "torch.Size([128, 2, 2])\n",
      "torch.Size([128, 2, 2])\n",
      "torch.Size([128, 2, 2])\n",
      "torch.Size([128, 2, 2])\n",
      "torch.Size([128, 2, 2])"
     ]
    },
    {
     "name": "stderr",
     "output_type": "stream",
     "text": [
      "100%|██████████| 225/225 [00:05<00:00, 39.81it/s]"
     ]
    },
    {
     "name": "stdout",
     "output_type": "stream",
     "text": [
      "\n",
      "torch.Size([128, 2, 2])\n",
      "torch.Size([128, 2, 2])\n",
      "torch.Size([128, 2, 2])\n",
      "torch.Size([128, 2, 2])\n",
      "torch.Size([128, 2, 2])\n",
      "tensor(0.1272, device='cuda:0', grad_fn=<MseLossBackward>)\n"
     ]
    },
    {
     "name": "stderr",
     "output_type": "stream",
     "text": [
      "\n"
     ]
    }
   ],
   "source": [
    "def train(net):\n",
    "    \n",
    "    BATCH_SIZE = 100\n",
    "    EPOCHS = 10\n",
    "    optimizer = optim.Adam(net.parameters(), lr=0.001)\n",
    "    loss_function = nn.MSELoss()\n",
    "    for epoch in range(EPOCHS):\n",
    "        for i in tqdm(range(0, len(train_X), BATCH_SIZE)):\n",
    "            batch_X = train_X[i:i+BATCH_SIZE].view(-1,1,50,50)\n",
    "            batch_y = train_y[i:i+BATCH_SIZE]\n",
    "\n",
    "            batch_X, batch_y = batch_X.to(device), batch_y.to(device)\n",
    "\n",
    "            net.zero_grad()\n",
    "            outputs = net(batch_X)\n",
    "            loss = loss_function(outputs, batch_y)\n",
    "            loss.backward()\n",
    "            optimizer.step()\n",
    "        print(loss)\n",
    "        \n",
    "train(net)"
   ]
  },
  {
   "cell_type": "code",
   "execution_count": 48,
   "metadata": {
    "collapsed": true,
    "jupyter": {
     "outputs_hidden": true
    }
   },
   "outputs": [
    {
     "name": "stderr",
     "output_type": "stream",
     "text": [
      "  0%|          | 4/2494 [00:00<01:02, 39.83it/s]"
     ]
    },
    {
     "name": "stdout",
     "output_type": "stream",
     "text": [
      "torch.Size([128, 2, 2])\n",
      "torch.Size([128, 2, 2])\n",
      "torch.Size([128, 2, 2])\n",
      "torch.Size([128, 2, 2])\n",
      "torch.Size([128, 2, 2])\n",
      "torch.Size([128, 2, 2])\n",
      "torch.Size([128, 2, 2])\n",
      "torch.Size([128, 2, 2])\n",
      "torch.Size([128, 2, 2])\n",
      "torch.Size([128, 2, 2])\n",
      "torch.Size([128, 2, 2])\n",
      "torch.Size([128, 2, 2])\n",
      "torch.Size([128, 2, 2])\n",
      "torch.Size([128, 2, 2])\n",
      "torch.Size([128, 2, 2])\n",
      "torch.Size([128, 2, 2])\n",
      "torch.Size([128, 2, 2])\n",
      "torch.Size([128, 2, 2])\n",
      "torch.Size([128, 2, 2])\n",
      "torch.Size([128, 2, 2])\n",
      "torch.Size([128, 2, 2])\n",
      "torch.Size([128, 2, 2])\n",
      "torch.Size([128, 2, 2])\n",
      "torch.Size([128, 2, 2])\n",
      "torch.Size([128, 2, 2])\n",
      "torch.Size([128, 2, 2])\n",
      "torch.Size([128, 2, 2])\n",
      "torch.Size([128, 2, 2])\n",
      "torch.Size([128, 2, 2])\n",
      "torch.Size([128, 2, 2])\n",
      "torch.Size([128, 2, 2])\n",
      "torch.Size([128, 2, 2])\n",
      "torch.Size([128, 2, 2])\n",
      "torch.Size([128, 2, 2])\n",
      "torch.Size([128, 2, 2])\n",
      "torch.Size([128, 2, 2])\n",
      "torch.Size([128, 2, 2])\n",
      "torch.Size([128, 2, 2])\n",
      "torch.Size([128, 2, 2])\n",
      "torch.Size([128, 2, 2])\n",
      "torch.Size([128, 2, 2])\n",
      "torch.Size([128, 2, 2])\n",
      "torch.Size([128, 2, 2])"
     ]
    },
    {
     "name": "stderr",
     "output_type": "stream",
     "text": [
      "  4%|▎         | 90/2494 [00:00<00:32, 74.04it/s]"
     ]
    },
    {
     "name": "stdout",
     "output_type": "stream",
     "text": [
      "\n",
      "torch.Size([128, 2, 2])\n",
      "torch.Size([128, 2, 2])\n",
      "torch.Size([128, 2, 2])\n",
      "torch.Size([128, 2, 2])\n",
      "torch.Size([128, 2, 2])\n",
      "torch.Size([128, 2, 2])\n",
      "torch.Size([128, 2, 2])\n",
      "torch.Size([128, 2, 2])\n",
      "torch.Size([128, 2, 2])\n",
      "torch.Size([128, 2, 2])\n",
      "torch.Size([128, 2, 2])\n",
      "torch.Size([128, 2, 2])\n",
      "torch.Size([128, 2, 2])\n",
      "torch.Size([128, 2, 2])\n",
      "torch.Size([128, 2, 2])\n",
      "torch.Size([128, 2, 2])\n",
      "torch.Size([128, 2, 2])\n",
      "torch.Size([128, 2, 2])\n",
      "torch.Size([128, 2, 2])\n",
      "torch.Size([128, 2, 2])\n",
      "torch.Size([128, 2, 2])\n",
      "torch.Size([128, 2, 2])\n",
      "torch.Size([128, 2, 2])\n",
      "torch.Size([128, 2, 2])\n",
      "torch.Size([128, 2, 2])\n",
      "torch.Size([128, 2, 2])\n",
      "torch.Size([128, 2, 2])\n",
      "torch.Size([128, 2, 2])\n",
      "torch.Size([128, 2, 2])\n",
      "torch.Size([128, 2, 2])\n",
      "torch.Size([128, 2, 2])\n",
      "torch.Size([128, 2, 2])\n",
      "torch.Size([128, 2, 2])\n",
      "torch.Size([128, 2, 2])\n",
      "torch.Size([128, 2, 2])\n",
      "torch.Size([128, 2, 2])\n",
      "torch.Size([128, 2, 2])\n",
      "torch.Size([128, 2, 2])\n",
      "torch.Size([128, 2, 2])\n",
      "torch.Size([128, 2, 2])\n",
      "torch.Size([128, 2, 2])\n",
      "torch.Size([128, 2, 2])\n",
      "torch.Size([128, 2, 2])\n",
      "torch.Size([128, 2, 2])\n",
      "torch.Size([128, 2, 2])\n",
      "torch.Size([128, 2, 2])\n",
      "torch.Size([128, 2, 2])\n",
      "torch.Size([128, 2, 2])\n",
      "torch.Size([128, 2, 2])\n",
      "torch.Size([128, 2, 2])\n",
      "torch.Size([128, 2, 2])\n",
      "torch.Size([128, 2, 2])\n",
      "torch.Size([128, 2, 2])\n",
      "torch.Size([128, 2, 2])\n",
      "torch.Size([128, 2, 2])\n",
      "torch.Size([128, 2, 2])\n",
      "torch.Size([128, 2, 2])\n",
      "torch.Size([128, 2, 2])\n",
      "torch.Size([128, 2, 2])\n",
      "torch.Size([128, 2, 2])\n",
      "torch.Size([128, 2, 2])\n",
      "torch.Size([128, 2, 2])\n",
      "torch.Size([128, 2, 2])\n",
      "torch.Size([128, 2, 2])\n",
      "torch.Size([128, 2, 2])\n",
      "torch.Size([128, 2, 2])\n",
      "torch.Size([128, 2, 2])\n",
      "torch.Size([128, 2, 2])\n",
      "torch.Size([128, 2, 2])\n",
      "torch.Size([128, 2, 2])\n",
      "torch.Size([128, 2, 2])\n",
      "torch.Size([128, 2, 2])\n",
      "torch.Size([128, 2, 2])\n",
      "torch.Size([128, 2, 2])\n",
      "torch.Size([128, 2, 2])\n",
      "torch.Size([128, 2, 2])\n",
      "torch.Size([128, 2, 2])\n",
      "torch.Size([128, 2, 2])\n",
      "torch.Size([128, 2, 2])\n",
      "torch.Size([128, 2, 2])"
     ]
    },
    {
     "name": "stderr",
     "output_type": "stream",
     "text": [
      "  7%|▋         | 179/2494 [00:00<00:17, 128.71it/s]"
     ]
    },
    {
     "name": "stdout",
     "output_type": "stream",
     "text": [
      "\n",
      "torch.Size([128, 2, 2])\n",
      "torch.Size([128, 2, 2])\n",
      "torch.Size([128, 2, 2])\n",
      "torch.Size([128, 2, 2])\n",
      "torch.Size([128, 2, 2])\n",
      "torch.Size([128, 2, 2])\n",
      "torch.Size([128, 2, 2])\n",
      "torch.Size([128, 2, 2])\n",
      "torch.Size([128, 2, 2])\n",
      "torch.Size([128, 2, 2])\n",
      "torch.Size([128, 2, 2])\n",
      "torch.Size([128, 2, 2])\n",
      "torch.Size([128, 2, 2])\n",
      "torch.Size([128, 2, 2])\n",
      "torch.Size([128, 2, 2])\n",
      "torch.Size([128, 2, 2])\n",
      "torch.Size([128, 2, 2])\n",
      "torch.Size([128, 2, 2])\n",
      "torch.Size([128, 2, 2])\n",
      "torch.Size([128, 2, 2])\n",
      "torch.Size([128, 2, 2])\n",
      "torch.Size([128, 2, 2])\n",
      "torch.Size([128, 2, 2])\n",
      "torch.Size([128, 2, 2])\n",
      "torch.Size([128, 2, 2])\n",
      "torch.Size([128, 2, 2])\n",
      "torch.Size([128, 2, 2])\n",
      "torch.Size([128, 2, 2])\n",
      "torch.Size([128, 2, 2])\n",
      "torch.Size([128, 2, 2])\n",
      "torch.Size([128, 2, 2])\n",
      "torch.Size([128, 2, 2])\n",
      "torch.Size([128, 2, 2])\n",
      "torch.Size([128, 2, 2])\n",
      "torch.Size([128, 2, 2])\n",
      "torch.Size([128, 2, 2])\n",
      "torch.Size([128, 2, 2])\n",
      "torch.Size([128, 2, 2])\n",
      "torch.Size([128, 2, 2])\n",
      "torch.Size([128, 2, 2])\n",
      "torch.Size([128, 2, 2])\n",
      "torch.Size([128, 2, 2])\n",
      "torch.Size([128, 2, 2])\n",
      "torch.Size([128, 2, 2])\n",
      "torch.Size([128, 2, 2])\n",
      "torch.Size([128, 2, 2])\n",
      "torch.Size([128, 2, 2])\n",
      "torch.Size([128, 2, 2])\n",
      "torch.Size([128, 2, 2])\n",
      "torch.Size([128, 2, 2])\n",
      "torch.Size([128, 2, 2])\n",
      "torch.Size([128, 2, 2])\n",
      "torch.Size([128, 2, 2])\n",
      "torch.Size([128, 2, 2])\n",
      "torch.Size([128, 2, 2])\n",
      "torch.Size([128, 2, 2])\n",
      "torch.Size([128, 2, 2])\n",
      "torch.Size([128, 2, 2])\n",
      "torch.Size([128, 2, 2])\n",
      "torch.Size([128, 2, 2])\n",
      "torch.Size([128, 2, 2])\n",
      "torch.Size([128, 2, 2])\n",
      "torch.Size([128, 2, 2])\n",
      "torch.Size([128, 2, 2])\n",
      "torch.Size([128, 2, 2])\n",
      "torch.Size([128, 2, 2])\n",
      "torch.Size([128, 2, 2])\n",
      "torch.Size([128, 2, 2])\n",
      "torch.Size([128, 2, 2])\n",
      "torch.Size([128, 2, 2])\n",
      "torch.Size([128, 2, 2])\n",
      "torch.Size([128, 2, 2])\n",
      "torch.Size([128, 2, 2])\n",
      "torch.Size([128, 2, 2])\n",
      "torch.Size([128, 2, 2])\n",
      "torch.Size([128, 2, 2])\n",
      "torch.Size([128, 2, 2])\n",
      "torch.Size([128, 2, 2])\n",
      "torch.Size([128, 2, 2])\n",
      "torch.Size([128, 2, 2])\n",
      "torch.Size([128, 2, 2])\n",
      "torch.Size([128, 2, 2])\n",
      "torch.Size([128, 2, 2])\n",
      "torch.Size([128, 2, 2])\n",
      "torch.Size([128, 2, 2])"
     ]
    },
    {
     "name": "stderr",
     "output_type": "stream",
     "text": [
      " 11%|█         | 270/2494 [00:00<00:10, 202.67it/s]"
     ]
    },
    {
     "name": "stdout",
     "output_type": "stream",
     "text": [
      "\n",
      "torch.Size([128, 2, 2])\n",
      "torch.Size([128, 2, 2])\n",
      "torch.Size([128, 2, 2])\n",
      "torch.Size([128, 2, 2])\n",
      "torch.Size([128, 2, 2])\n",
      "torch.Size([128, 2, 2])\n",
      "torch.Size([128, 2, 2])\n",
      "torch.Size([128, 2, 2])\n",
      "torch.Size([128, 2, 2])\n",
      "torch.Size([128, 2, 2])\n",
      "torch.Size([128, 2, 2])\n",
      "torch.Size([128, 2, 2])\n",
      "torch.Size([128, 2, 2])\n",
      "torch.Size([128, 2, 2])\n",
      "torch.Size([128, 2, 2])\n",
      "torch.Size([128, 2, 2])\n",
      "torch.Size([128, 2, 2])\n",
      "torch.Size([128, 2, 2])\n",
      "torch.Size([128, 2, 2])\n",
      "torch.Size([128, 2, 2])\n",
      "torch.Size([128, 2, 2])\n",
      "torch.Size([128, 2, 2])\n",
      "torch.Size([128, 2, 2])\n",
      "torch.Size([128, 2, 2])\n",
      "torch.Size([128, 2, 2])\n",
      "torch.Size([128, 2, 2])\n",
      "torch.Size([128, 2, 2])\n",
      "torch.Size([128, 2, 2])\n",
      "torch.Size([128, 2, 2])\n",
      "torch.Size([128, 2, 2])\n",
      "torch.Size([128, 2, 2])\n",
      "torch.Size([128, 2, 2])\n",
      "torch.Size([128, 2, 2])\n",
      "torch.Size([128, 2, 2])\n",
      "torch.Size([128, 2, 2])\n",
      "torch.Size([128, 2, 2])\n",
      "torch.Size([128, 2, 2])\n",
      "torch.Size([128, 2, 2])\n",
      "torch.Size([128, 2, 2])\n",
      "torch.Size([128, 2, 2])\n",
      "torch.Size([128, 2, 2])\n",
      "torch.Size([128, 2, 2])\n",
      "torch.Size([128, 2, 2])\n",
      "torch.Size([128, 2, 2])\n",
      "torch.Size([128, 2, 2])\n",
      "torch.Size([128, 2, 2])\n",
      "torch.Size([128, 2, 2])\n",
      "torch.Size([128, 2, 2])\n",
      "torch.Size([128, 2, 2])\n",
      "torch.Size([128, 2, 2])\n",
      "torch.Size([128, 2, 2])\n",
      "torch.Size([128, 2, 2])\n",
      "torch.Size([128, 2, 2])\n",
      "torch.Size([128, 2, 2])\n",
      "torch.Size([128, 2, 2])\n",
      "torch.Size([128, 2, 2])\n",
      "torch.Size([128, 2, 2])\n",
      "torch.Size([128, 2, 2])\n",
      "torch.Size([128, 2, 2])\n",
      "torch.Size([128, 2, 2])\n",
      "torch.Size([128, 2, 2])\n",
      "torch.Size([128, 2, 2])\n",
      "torch.Size([128, 2, 2])\n",
      "torch.Size([128, 2, 2])\n",
      "torch.Size([128, 2, 2])\n",
      "torch.Size([128, 2, 2])\n",
      "torch.Size([128, 2, 2])\n",
      "torch.Size([128, 2, 2])\n",
      "torch.Size([128, 2, 2])\n",
      "torch.Size([128, 2, 2])\n",
      "torch.Size([128, 2, 2])\n",
      "torch.Size([128, 2, 2])\n",
      "torch.Size([128, 2, 2])\n",
      "torch.Size([128, 2, 2])\n",
      "torch.Size([128, 2, 2])\n",
      "torch.Size([128, 2, 2])\n",
      "torch.Size([128, 2, 2])\n",
      "torch.Size([128, 2, 2])\n",
      "torch.Size([128, 2, 2])\n",
      "torch.Size([128, 2, 2])\n",
      "torch.Size([128, 2, 2])\n",
      "torch.Size([128, 2, 2])\n",
      "torch.Size([128, 2, 2])\n"
     ]
    },
    {
     "name": "stderr",
     "output_type": "stream",
     "text": [
      " 14%|█▍        | 360/2494 [00:00<00:07, 281.26it/s]"
     ]
    },
    {
     "name": "stdout",
     "output_type": "stream",
     "text": [
      "torch.Size([128, 2, 2])\n",
      "torch.Size([128, 2, 2])\n",
      "torch.Size([128, 2, 2])\n",
      "torch.Size([128, 2, 2])\n",
      "torch.Size([128, 2, 2])\n",
      "torch.Size([128, 2, 2])\n",
      "torch.Size([128, 2, 2])\n",
      "torch.Size([128, 2, 2])\n",
      "torch.Size([128, 2, 2])\n",
      "torch.Size([128, 2, 2])\n",
      "torch.Size([128, 2, 2])\n",
      "torch.Size([128, 2, 2])\n",
      "torch.Size([128, 2, 2])\n",
      "torch.Size([128, 2, 2])\n",
      "torch.Size([128, 2, 2])\n",
      "torch.Size([128, 2, 2])\n",
      "torch.Size([128, 2, 2])\n",
      "torch.Size([128, 2, 2])\n",
      "torch.Size([128, 2, 2])\n",
      "torch.Size([128, 2, 2])\n",
      "torch.Size([128, 2, 2])\n",
      "torch.Size([128, 2, 2])\n",
      "torch.Size([128, 2, 2])\n",
      "torch.Size([128, 2, 2])\n",
      "torch.Size([128, 2, 2])\n",
      "torch.Size([128, 2, 2])\n",
      "torch.Size([128, 2, 2])\n",
      "torch.Size([128, 2, 2])\n",
      "torch.Size([128, 2, 2])\n",
      "torch.Size([128, 2, 2])\n",
      "torch.Size([128, 2, 2])\n",
      "torch.Size([128, 2, 2])\n",
      "torch.Size([128, 2, 2])\n",
      "torch.Size([128, 2, 2])\n",
      "torch.Size([128, 2, 2])\n",
      "torch.Size([128, 2, 2])\n",
      "torch.Size([128, 2, 2])\n",
      "torch.Size([128, 2, 2])\n",
      "torch.Size([128, 2, 2])\n",
      "torch.Size([128, 2, 2])\n",
      "torch.Size([128, 2, 2])\n",
      "torch.Size([128, 2, 2])\n",
      "torch.Size([128, 2, 2])\n",
      "torch.Size([128, 2, 2])\n",
      "torch.Size([128, 2, 2])\n",
      "torch.Size([128, 2, 2])\n",
      "torch.Size([128, 2, 2])\n",
      "torch.Size([128, 2, 2])\n",
      "torch.Size([128, 2, 2])\n",
      "torch.Size([128, 2, 2])\n",
      "torch.Size([128, 2, 2])\n",
      "torch.Size([128, 2, 2])\n",
      "torch.Size([128, 2, 2])\n",
      "torch.Size([128, 2, 2])\n",
      "torch.Size([128, 2, 2])\n",
      "torch.Size([128, 2, 2])\n",
      "torch.Size([128, 2, 2])\n",
      "torch.Size([128, 2, 2])\n",
      "torch.Size([128, 2, 2])\n",
      "torch.Size([128, 2, 2])\n",
      "torch.Size([128, 2, 2])\n",
      "torch.Size([128, 2, 2])\n",
      "torch.Size([128, 2, 2])\n",
      "torch.Size([128, 2, 2])\n",
      "torch.Size([128, 2, 2])\n",
      "torch.Size([128, 2, 2])\n",
      "torch.Size([128, 2, 2])\n",
      "torch.Size([128, 2, 2])\n",
      "torch.Size([128, 2, 2])\n",
      "torch.Size([128, 2, 2])\n",
      "torch.Size([128, 2, 2])\n",
      "torch.Size([128, 2, 2])\n",
      "torch.Size([128, 2, 2])\n",
      "torch.Size([128, 2, 2])\n",
      "torch.Size([128, 2, 2])\n",
      "torch.Size([128, 2, 2])\n",
      "torch.Size([128, 2, 2])\n",
      "torch.Size([128, 2, 2])\n",
      "torch.Size([128, 2, 2])\n",
      "torch.Size([128, 2, 2])\n",
      "torch.Size([128, 2, 2])\n",
      "torch.Size([128, 2, 2])\n",
      "torch.Size([128, 2, 2])\n",
      "torch.Size([128, 2, 2])\n"
     ]
    },
    {
     "name": "stderr",
     "output_type": "stream",
     "text": [
      " 18%|█▊        | 449/2494 [00:01<00:05, 344.54it/s]"
     ]
    },
    {
     "name": "stdout",
     "output_type": "stream",
     "text": [
      "torch.Size([128, 2, 2])\n",
      "torch.Size([128, 2, 2])\n",
      "torch.Size([128, 2, 2])\n",
      "torch.Size([128, 2, 2])\n",
      "torch.Size([128, 2, 2])\n",
      "torch.Size([128, 2, 2])\n",
      "torch.Size([128, 2, 2])\n",
      "torch.Size([128, 2, 2])\n",
      "torch.Size([128, 2, 2])\n",
      "torch.Size([128, 2, 2])\n",
      "torch.Size([128, 2, 2])\n",
      "torch.Size([128, 2, 2])\n",
      "torch.Size([128, 2, 2])\n",
      "torch.Size([128, 2, 2])\n",
      "torch.Size([128, 2, 2])\n",
      "torch.Size([128, 2, 2])\n",
      "torch.Size([128, 2, 2])\n",
      "torch.Size([128, 2, 2])\n",
      "torch.Size([128, 2, 2])\n",
      "torch.Size([128, 2, 2])\n",
      "torch.Size([128, 2, 2])\n",
      "torch.Size([128, 2, 2])\n",
      "torch.Size([128, 2, 2])\n",
      "torch.Size([128, 2, 2])\n",
      "torch.Size([128, 2, 2])\n",
      "torch.Size([128, 2, 2])\n",
      "torch.Size([128, 2, 2])\n",
      "torch.Size([128, 2, 2])\n",
      "torch.Size([128, 2, 2])\n",
      "torch.Size([128, 2, 2])\n",
      "torch.Size([128, 2, 2])\n",
      "torch.Size([128, 2, 2])\n",
      "torch.Size([128, 2, 2])\n",
      "torch.Size([128, 2, 2])\n",
      "torch.Size([128, 2, 2])\n",
      "torch.Size([128, 2, 2])\n",
      "torch.Size([128, 2, 2])\n",
      "torch.Size([128, 2, 2])\n",
      "torch.Size([128, 2, 2])\n",
      "torch.Size([128, 2, 2])\n",
      "torch.Size([128, 2, 2])\n",
      "torch.Size([128, 2, 2])\n",
      "torch.Size([128, 2, 2])\n",
      "torch.Size([128, 2, 2])\n",
      "torch.Size([128, 2, 2])\n",
      "torch.Size([128, 2, 2])\n",
      "torch.Size([128, 2, 2])\n",
      "torch.Size([128, 2, 2])\n",
      "torch.Size([128, 2, 2])\n",
      "torch.Size([128, 2, 2])\n",
      "torch.Size([128, 2, 2])\n",
      "torch.Size([128, 2, 2])\n",
      "torch.Size([128, 2, 2])\n",
      "torch.Size([128, 2, 2])\n",
      "torch.Size([128, 2, 2])\n",
      "torch.Size([128, 2, 2])\n",
      "torch.Size([128, 2, 2])\n",
      "torch.Size([128, 2, 2])\n",
      "torch.Size([128, 2, 2])\n",
      "torch.Size([128, 2, 2])\n",
      "torch.Size([128, 2, 2])\n",
      "torch.Size([128, 2, 2])\n",
      "torch.Size([128, 2, 2])\n",
      "torch.Size([128, 2, 2])\n",
      "torch.Size([128, 2, 2])\n",
      "torch.Size([128, 2, 2])\n",
      "torch.Size([128, 2, 2])\n",
      "torch.Size([128, 2, 2])\n",
      "torch.Size([128, 2, 2])\n",
      "torch.Size([128, 2, 2])\n",
      "torch.Size([128, 2, 2])\n",
      "torch.Size([128, 2, 2])\n",
      "torch.Size([128, 2, 2])\n",
      "torch.Size([128, 2, 2])\n",
      "torch.Size([128, 2, 2])\n",
      "torch.Size([128, 2, 2])\n",
      "torch.Size([128, 2, 2])\n",
      "torch.Size([128, 2, 2])\n",
      "torch.Size([128, 2, 2])\n",
      "torch.Size([128, 2, 2])\n",
      "torch.Size([128, 2, 2])\n",
      "torch.Size([128, 2, 2])\n",
      "torch.Size([128, 2, 2])"
     ]
    },
    {
     "name": "stderr",
     "output_type": "stream",
     "text": [
      " 22%|██▏       | 537/2494 [00:01<00:05, 384.02it/s]"
     ]
    },
    {
     "name": "stdout",
     "output_type": "stream",
     "text": [
      "\n",
      "torch.Size([128, 2, 2])\n",
      "torch.Size([128, 2, 2])\n",
      "torch.Size([128, 2, 2])\n",
      "torch.Size([128, 2, 2])\n",
      "torch.Size([128, 2, 2])\n",
      "torch.Size([128, 2, 2])\n",
      "torch.Size([128, 2, 2])\n",
      "torch.Size([128, 2, 2])\n",
      "torch.Size([128, 2, 2])\n",
      "torch.Size([128, 2, 2])\n",
      "torch.Size([128, 2, 2])\n",
      "torch.Size([128, 2, 2])\n",
      "torch.Size([128, 2, 2])\n",
      "torch.Size([128, 2, 2])\n",
      "torch.Size([128, 2, 2])\n",
      "torch.Size([128, 2, 2])\n",
      "torch.Size([128, 2, 2])\n",
      "torch.Size([128, 2, 2])\n",
      "torch.Size([128, 2, 2])\n",
      "torch.Size([128, 2, 2])\n",
      "torch.Size([128, 2, 2])\n",
      "torch.Size([128, 2, 2])\n",
      "torch.Size([128, 2, 2])\n",
      "torch.Size([128, 2, 2])\n",
      "torch.Size([128, 2, 2])\n",
      "torch.Size([128, 2, 2])\n",
      "torch.Size([128, 2, 2])\n",
      "torch.Size([128, 2, 2])\n",
      "torch.Size([128, 2, 2])\n",
      "torch.Size([128, 2, 2])\n",
      "torch.Size([128, 2, 2])\n",
      "torch.Size([128, 2, 2])\n",
      "torch.Size([128, 2, 2])\n",
      "torch.Size([128, 2, 2])\n",
      "torch.Size([128, 2, 2])\n",
      "torch.Size([128, 2, 2])\n",
      "torch.Size([128, 2, 2])\n",
      "torch.Size([128, 2, 2])\n",
      "torch.Size([128, 2, 2])\n",
      "torch.Size([128, 2, 2])\n",
      "torch.Size([128, 2, 2])\n",
      "torch.Size([128, 2, 2])\n",
      "torch.Size([128, 2, 2])\n",
      "torch.Size([128, 2, 2])\n",
      "torch.Size([128, 2, 2])\n",
      "torch.Size([128, 2, 2])\n",
      "torch.Size([128, 2, 2])\n",
      "torch.Size([128, 2, 2])\n",
      "torch.Size([128, 2, 2])\n",
      "torch.Size([128, 2, 2])\n",
      "torch.Size([128, 2, 2])\n",
      "torch.Size([128, 2, 2])\n",
      "torch.Size([128, 2, 2])\n",
      "torch.Size([128, 2, 2])\n",
      "torch.Size([128, 2, 2])\n",
      "torch.Size([128, 2, 2])\n",
      "torch.Size([128, 2, 2])\n",
      "torch.Size([128, 2, 2])\n",
      "torch.Size([128, 2, 2])\n",
      "torch.Size([128, 2, 2])\n",
      "torch.Size([128, 2, 2])\n",
      "torch.Size([128, 2, 2])\n",
      "torch.Size([128, 2, 2])\n",
      "torch.Size([128, 2, 2])\n",
      "torch.Size([128, 2, 2])\n",
      "torch.Size([128, 2, 2])\n",
      "torch.Size([128, 2, 2])\n",
      "torch.Size([128, 2, 2])\n",
      "torch.Size([128, 2, 2])\n",
      "torch.Size([128, 2, 2])\n",
      "torch.Size([128, 2, 2])\n",
      "torch.Size([128, 2, 2])\n",
      "torch.Size([128, 2, 2])\n",
      "torch.Size([128, 2, 2])\n",
      "torch.Size([128, 2, 2])\n",
      "torch.Size([128, 2, 2])\n",
      "torch.Size([128, 2, 2])\n",
      "torch.Size([128, 2, 2])\n",
      "torch.Size([128, 2, 2])\n"
     ]
    },
    {
     "name": "stderr",
     "output_type": "stream",
     "text": [
      " 23%|██▎       | 581/2494 [00:01<00:05, 369.44it/s]"
     ]
    },
    {
     "name": "stdout",
     "output_type": "stream",
     "text": [
      "torch.Size([128, 2, 2])\n",
      "torch.Size([128, 2, 2])\n",
      "torch.Size([128, 2, 2])\n",
      "torch.Size([128, 2, 2])\n",
      "torch.Size([128, 2, 2])\n",
      "torch.Size([128, 2, 2])\n",
      "torch.Size([128, 2, 2])\n",
      "torch.Size([128, 2, 2])\n",
      "torch.Size([128, 2, 2])\n",
      "torch.Size([128, 2, 2])\n",
      "torch.Size([128, 2, 2])\n",
      "torch.Size([128, 2, 2])\n",
      "torch.Size([128, 2, 2])\n",
      "torch.Size([128, 2, 2])\n",
      "torch.Size([128, 2, 2])\n",
      "torch.Size([128, 2, 2])\n",
      "torch.Size([128, 2, 2])\n",
      "torch.Size([128, 2, 2])\n",
      "torch.Size([128, 2, 2])\n",
      "torch.Size([128, 2, 2])\n",
      "torch.Size([128, 2, 2])\n",
      "torch.Size([128, 2, 2])\n",
      "torch.Size([128, 2, 2])\n",
      "torch.Size([128, 2, 2])\n",
      "torch.Size([128, 2, 2])\n",
      "torch.Size([128, 2, 2])\n",
      "torch.Size([128, 2, 2])\n",
      "torch.Size([128, 2, 2])\n",
      "torch.Size([128, 2, 2])\n",
      "torch.Size([128, 2, 2])\n",
      "torch.Size([128, 2, 2])\n",
      "torch.Size([128, 2, 2])\n",
      "torch.Size([128, 2, 2])\n",
      "torch.Size([128, 2, 2])\n",
      "torch.Size([128, 2, 2])\n",
      "torch.Size([128, 2, 2])\n",
      "torch.Size([128, 2, 2])\n",
      "torch.Size([128, 2, 2])\n",
      "torch.Size([128, 2, 2])\n",
      "torch.Size([128, 2, 2])\n",
      "torch.Size([128, 2, 2])\n",
      "torch.Size([128, 2, 2])\n",
      "torch.Size([128, 2, 2])\n",
      "torch.Size([128, 2, 2])\n",
      "torch.Size([128, 2, 2])\n",
      "torch.Size([128, 2, 2])\n",
      "torch.Size([128, 2, 2])\n",
      "torch.Size([128, 2, 2])\n",
      "torch.Size([128, 2, 2])\n",
      "torch.Size([128, 2, 2])\n",
      "torch.Size([128, 2, 2])\n",
      "torch.Size([128, 2, 2])\n",
      "torch.Size([128, 2, 2])\n",
      "torch.Size([128, 2, 2])\n",
      "torch.Size([128, 2, 2])\n",
      "torch.Size([128, 2, 2])\n",
      "torch.Size([128, 2, 2])\n",
      "torch.Size([128, 2, 2])\n",
      "torch.Size([128, 2, 2])\n",
      "torch.Size([128, 2, 2])\n",
      "torch.Size([128, 2, 2])\n",
      "torch.Size([128, 2, 2])\n",
      "torch.Size([128, 2, 2])\n",
      "torch.Size([128, 2, 2])\n",
      "torch.Size([128, 2, 2])\n",
      "torch.Size([128, 2, 2])\n",
      "torch.Size([128, 2, 2])\n",
      "torch.Size([128, 2, 2])\n",
      "torch.Size([128, 2, 2])"
     ]
    },
    {
     "name": "stderr",
     "output_type": "stream",
     "text": [
      " 27%|██▋       | 667/2494 [00:01<00:04, 394.81it/s]"
     ]
    },
    {
     "name": "stdout",
     "output_type": "stream",
     "text": [
      "\n",
      "torch.Size([128, 2, 2])\n",
      "torch.Size([128, 2, 2])\n",
      "torch.Size([128, 2, 2])\n",
      "torch.Size([128, 2, 2])\n",
      "torch.Size([128, 2, 2])\n",
      "torch.Size([128, 2, 2])\n",
      "torch.Size([128, 2, 2])\n",
      "torch.Size([128, 2, 2])\n",
      "torch.Size([128, 2, 2])\n",
      "torch.Size([128, 2, 2])\n",
      "torch.Size([128, 2, 2])\n",
      "torch.Size([128, 2, 2])\n",
      "torch.Size([128, 2, 2])\n",
      "torch.Size([128, 2, 2])\n",
      "torch.Size([128, 2, 2])\n",
      "torch.Size([128, 2, 2])\n",
      "torch.Size([128, 2, 2])\n",
      "torch.Size([128, 2, 2])\n",
      "torch.Size([128, 2, 2])\n",
      "torch.Size([128, 2, 2])\n",
      "torch.Size([128, 2, 2])\n",
      "torch.Size([128, 2, 2])\n",
      "torch.Size([128, 2, 2])\n",
      "torch.Size([128, 2, 2])\n",
      "torch.Size([128, 2, 2])\n",
      "torch.Size([128, 2, 2])\n",
      "torch.Size([128, 2, 2])\n",
      "torch.Size([128, 2, 2])\n",
      "torch.Size([128, 2, 2])\n",
      "torch.Size([128, 2, 2])\n",
      "torch.Size([128, 2, 2])\n",
      "torch.Size([128, 2, 2])\n",
      "torch.Size([128, 2, 2])\n",
      "torch.Size([128, 2, 2])\n",
      "torch.Size([128, 2, 2])\n",
      "torch.Size([128, 2, 2])\n",
      "torch.Size([128, 2, 2])\n",
      "torch.Size([128, 2, 2])\n",
      "torch.Size([128, 2, 2])\n",
      "torch.Size([128, 2, 2])\n",
      "torch.Size([128, 2, 2])\n",
      "torch.Size([128, 2, 2])\n",
      "torch.Size([128, 2, 2])\n",
      "torch.Size([128, 2, 2])\n",
      "torch.Size([128, 2, 2])\n",
      "torch.Size([128, 2, 2])\n",
      "torch.Size([128, 2, 2])\n",
      "torch.Size([128, 2, 2])\n",
      "torch.Size([128, 2, 2])\n",
      "torch.Size([128, 2, 2])\n",
      "torch.Size([128, 2, 2])\n",
      "torch.Size([128, 2, 2])\n",
      "torch.Size([128, 2, 2])\n",
      "torch.Size([128, 2, 2])\n",
      "torch.Size([128, 2, 2])\n",
      "torch.Size([128, 2, 2])\n",
      "torch.Size([128, 2, 2])\n",
      "torch.Size([128, 2, 2])\n",
      "torch.Size([128, 2, 2])\n",
      "torch.Size([128, 2, 2])\n",
      "torch.Size([128, 2, 2])\n",
      "torch.Size([128, 2, 2])\n",
      "torch.Size([128, 2, 2])\n",
      "torch.Size([128, 2, 2])\n",
      "torch.Size([128, 2, 2])\n",
      "torch.Size([128, 2, 2])\n",
      "torch.Size([128, 2, 2])\n",
      "torch.Size([128, 2, 2])\n",
      "torch.Size([128, 2, 2])\n",
      "torch.Size([128, 2, 2])\n",
      "torch.Size([128, 2, 2])\n",
      "torch.Size([128, 2, 2])\n",
      "torch.Size([128, 2, 2])\n",
      "torch.Size([128, 2, 2])\n",
      "torch.Size([128, 2, 2])\n",
      "torch.Size([128, 2, 2])\n",
      "torch.Size([128, 2, 2])\n",
      "torch.Size([128, 2, 2])\n",
      "torch.Size([128, 2, 2])\n",
      "torch.Size([128, 2, 2])"
     ]
    },
    {
     "name": "stderr",
     "output_type": "stream",
     "text": [
      " 30%|███       | 758/2494 [00:01<00:04, 421.45it/s]"
     ]
    },
    {
     "name": "stdout",
     "output_type": "stream",
     "text": [
      "\n",
      "torch.Size([128, 2, 2])\n",
      "torch.Size([128, 2, 2])\n",
      "torch.Size([128, 2, 2])\n",
      "torch.Size([128, 2, 2])\n",
      "torch.Size([128, 2, 2])\n",
      "torch.Size([128, 2, 2])\n",
      "torch.Size([128, 2, 2])\n",
      "torch.Size([128, 2, 2])\n",
      "torch.Size([128, 2, 2])\n",
      "torch.Size([128, 2, 2])\n",
      "torch.Size([128, 2, 2])\n",
      "torch.Size([128, 2, 2])\n",
      "torch.Size([128, 2, 2])\n",
      "torch.Size([128, 2, 2])\n",
      "torch.Size([128, 2, 2])\n",
      "torch.Size([128, 2, 2])\n",
      "torch.Size([128, 2, 2])\n",
      "torch.Size([128, 2, 2])\n",
      "torch.Size([128, 2, 2])\n",
      "torch.Size([128, 2, 2])\n",
      "torch.Size([128, 2, 2])\n",
      "torch.Size([128, 2, 2])\n",
      "torch.Size([128, 2, 2])\n",
      "torch.Size([128, 2, 2])\n",
      "torch.Size([128, 2, 2])\n",
      "torch.Size([128, 2, 2])\n",
      "torch.Size([128, 2, 2])\n",
      "torch.Size([128, 2, 2])\n",
      "torch.Size([128, 2, 2])\n",
      "torch.Size([128, 2, 2])\n",
      "torch.Size([128, 2, 2])\n",
      "torch.Size([128, 2, 2])\n",
      "torch.Size([128, 2, 2])\n",
      "torch.Size([128, 2, 2])\n",
      "torch.Size([128, 2, 2])\n",
      "torch.Size([128, 2, 2])\n",
      "torch.Size([128, 2, 2])\n",
      "torch.Size([128, 2, 2])\n",
      "torch.Size([128, 2, 2])\n",
      "torch.Size([128, 2, 2])\n",
      "torch.Size([128, 2, 2])\n",
      "torch.Size([128, 2, 2])\n",
      "torch.Size([128, 2, 2])\n",
      "torch.Size([128, 2, 2])\n",
      "torch.Size([128, 2, 2])\n",
      "torch.Size([128, 2, 2])\n",
      "torch.Size([128, 2, 2])\n",
      "torch.Size([128, 2, 2])\n",
      "torch.Size([128, 2, 2])\n",
      "torch.Size([128, 2, 2])\n",
      "torch.Size([128, 2, 2])\n",
      "torch.Size([128, 2, 2])\n",
      "torch.Size([128, 2, 2])\n",
      "torch.Size([128, 2, 2])\n",
      "torch.Size([128, 2, 2])\n",
      "torch.Size([128, 2, 2])\n",
      "torch.Size([128, 2, 2])\n",
      "torch.Size([128, 2, 2])\n",
      "torch.Size([128, 2, 2])\n",
      "torch.Size([128, 2, 2])\n",
      "torch.Size([128, 2, 2])\n",
      "torch.Size([128, 2, 2])\n",
      "torch.Size([128, 2, 2])\n",
      "torch.Size([128, 2, 2])\n",
      "torch.Size([128, 2, 2])\n",
      "torch.Size([128, 2, 2])\n",
      "torch.Size([128, 2, 2])\n",
      "torch.Size([128, 2, 2])\n",
      "torch.Size([128, 2, 2])\n",
      "torch.Size([128, 2, 2])\n",
      "torch.Size([128, 2, 2])\n",
      "torch.Size([128, 2, 2])\n",
      "torch.Size([128, 2, 2])\n",
      "torch.Size([128, 2, 2])\n",
      "torch.Size([128, 2, 2])\n",
      "torch.Size([128, 2, 2])\n",
      "torch.Size([128, 2, 2])\n",
      "torch.Size([128, 2, 2])\n",
      "torch.Size([128, 2, 2])\n",
      "torch.Size([128, 2, 2])\n",
      "torch.Size([128, 2, 2])\n",
      "torch.Size([128, 2, 2])\n",
      "torch.Size([128, 2, 2])\n",
      "torch.Size([128, 2, 2])"
     ]
    },
    {
     "name": "stderr",
     "output_type": "stream",
     "text": [
      " 34%|███▍      | 849/2494 [00:02<00:03, 437.37it/s]"
     ]
    },
    {
     "name": "stdout",
     "output_type": "stream",
     "text": [
      "\n",
      "torch.Size([128, 2, 2])\n",
      "torch.Size([128, 2, 2])\n",
      "torch.Size([128, 2, 2])\n",
      "torch.Size([128, 2, 2])\n",
      "torch.Size([128, 2, 2])\n",
      "torch.Size([128, 2, 2])\n",
      "torch.Size([128, 2, 2])\n",
      "torch.Size([128, 2, 2])\n",
      "torch.Size([128, 2, 2])\n",
      "torch.Size([128, 2, 2])\n",
      "torch.Size([128, 2, 2])\n",
      "torch.Size([128, 2, 2])\n",
      "torch.Size([128, 2, 2])\n",
      "torch.Size([128, 2, 2])\n",
      "torch.Size([128, 2, 2])\n",
      "torch.Size([128, 2, 2])\n",
      "torch.Size([128, 2, 2])\n",
      "torch.Size([128, 2, 2])\n",
      "torch.Size([128, 2, 2])\n",
      "torch.Size([128, 2, 2])\n",
      "torch.Size([128, 2, 2])\n",
      "torch.Size([128, 2, 2])\n",
      "torch.Size([128, 2, 2])\n",
      "torch.Size([128, 2, 2])\n",
      "torch.Size([128, 2, 2])\n",
      "torch.Size([128, 2, 2])\n",
      "torch.Size([128, 2, 2])\n",
      "torch.Size([128, 2, 2])\n",
      "torch.Size([128, 2, 2])\n",
      "torch.Size([128, 2, 2])\n",
      "torch.Size([128, 2, 2])\n",
      "torch.Size([128, 2, 2])\n",
      "torch.Size([128, 2, 2])\n",
      "torch.Size([128, 2, 2])\n",
      "torch.Size([128, 2, 2])\n",
      "torch.Size([128, 2, 2])\n",
      "torch.Size([128, 2, 2])\n",
      "torch.Size([128, 2, 2])\n",
      "torch.Size([128, 2, 2])\n",
      "torch.Size([128, 2, 2])\n",
      "torch.Size([128, 2, 2])\n",
      "torch.Size([128, 2, 2])\n",
      "torch.Size([128, 2, 2])\n",
      "torch.Size([128, 2, 2])\n",
      "torch.Size([128, 2, 2])\n",
      "torch.Size([128, 2, 2])\n",
      "torch.Size([128, 2, 2])\n",
      "torch.Size([128, 2, 2])\n",
      "torch.Size([128, 2, 2])\n",
      "torch.Size([128, 2, 2])\n",
      "torch.Size([128, 2, 2])\n",
      "torch.Size([128, 2, 2])\n",
      "torch.Size([128, 2, 2])\n",
      "torch.Size([128, 2, 2])\n",
      "torch.Size([128, 2, 2])\n",
      "torch.Size([128, 2, 2])\n",
      "torch.Size([128, 2, 2])\n",
      "torch.Size([128, 2, 2])\n",
      "torch.Size([128, 2, 2])\n",
      "torch.Size([128, 2, 2])\n",
      "torch.Size([128, 2, 2])\n",
      "torch.Size([128, 2, 2])\n",
      "torch.Size([128, 2, 2])\n",
      "torch.Size([128, 2, 2])\n",
      "torch.Size([128, 2, 2])\n",
      "torch.Size([128, 2, 2])\n",
      "torch.Size([128, 2, 2])\n",
      "torch.Size([128, 2, 2])\n",
      "torch.Size([128, 2, 2])\n",
      "torch.Size([128, 2, 2])\n",
      "torch.Size([128, 2, 2])\n",
      "torch.Size([128, 2, 2])\n",
      "torch.Size([128, 2, 2])\n",
      "torch.Size([128, 2, 2])\n",
      "torch.Size([128, 2, 2])\n",
      "torch.Size([128, 2, 2])\n",
      "torch.Size([128, 2, 2])\n",
      "torch.Size([128, 2, 2])\n",
      "torch.Size([128, 2, 2])\n",
      "torch.Size([128, 2, 2])\n",
      "torch.Size([128, 2, 2])\n",
      "torch.Size([128, 2, 2])\n",
      "torch.Size([128, 2, 2])\n",
      "torch.Size([128, 2, 2])\n",
      "torch.Size([128, 2, 2])"
     ]
    },
    {
     "name": "stderr",
     "output_type": "stream",
     "text": [
      " 36%|███▌      | 894/2494 [00:02<00:03, 438.86it/s]"
     ]
    },
    {
     "name": "stdout",
     "output_type": "stream",
     "text": [
      "\n",
      "torch.Size([128, 2, 2])\n",
      "torch.Size([128, 2, 2])\n",
      "torch.Size([128, 2, 2])\n",
      "torch.Size([128, 2, 2])\n",
      "torch.Size([128, 2, 2])\n",
      "torch.Size([128, 2, 2])\n",
      "torch.Size([128, 2, 2])\n",
      "torch.Size([128, 2, 2])\n",
      "torch.Size([128, 2, 2])\n",
      "torch.Size([128, 2, 2])\n",
      "torch.Size([128, 2, 2])\n",
      "torch.Size([128, 2, 2])\n",
      "torch.Size([128, 2, 2])\n",
      "torch.Size([128, 2, 2])\n",
      "torch.Size([128, 2, 2])\n",
      "torch.Size([128, 2, 2])\n",
      "torch.Size([128, 2, 2])\n",
      "torch.Size([128, 2, 2])\n",
      "torch.Size([128, 2, 2])\n",
      "torch.Size([128, 2, 2])\n",
      "torch.Size([128, 2, 2])\n",
      "torch.Size([128, 2, 2])\n",
      "torch.Size([128, 2, 2])\n",
      "torch.Size([128, 2, 2])\n",
      "torch.Size([128, 2, 2])\n",
      "torch.Size([128, 2, 2])\n",
      "torch.Size([128, 2, 2])\n",
      "torch.Size([128, 2, 2])\n",
      "torch.Size([128, 2, 2])\n",
      "torch.Size([128, 2, 2])\n",
      "torch.Size([128, 2, 2])\n",
      "torch.Size([128, 2, 2])\n",
      "torch.Size([128, 2, 2])\n",
      "torch.Size([128, 2, 2])\n",
      "torch.Size([128, 2, 2])\n",
      "torch.Size([128, 2, 2])\n",
      "torch.Size([128, 2, 2])\n",
      "torch.Size([128, 2, 2])\n",
      "torch.Size([128, 2, 2])\n",
      "torch.Size([128, 2, 2])\n",
      "torch.Size([128, 2, 2])\n",
      "torch.Size([128, 2, 2])\n",
      "torch.Size([128, 2, 2])\n",
      "torch.Size([128, 2, 2])\n",
      "torch.Size([128, 2, 2])\n",
      "torch.Size([128, 2, 2])\n",
      "torch.Size([128, 2, 2])\n",
      "torch.Size([128, 2, 2])\n",
      "torch.Size([128, 2, 2])\n",
      "torch.Size([128, 2, 2])\n",
      "torch.Size([128, 2, 2])\n",
      "torch.Size([128, 2, 2])\n",
      "torch.Size([128, 2, 2])\n",
      "torch.Size([128, 2, 2])\n",
      "torch.Size([128, 2, 2])\n",
      "torch.Size([128, 2, 2])\n",
      "torch.Size([128, 2, 2])\n",
      "torch.Size([128, 2, 2])\n",
      "torch.Size([128, 2, 2])\n",
      "torch.Size([128, 2, 2])\n",
      "torch.Size([128, 2, 2])\n",
      "torch.Size([128, 2, 2])\n",
      "torch.Size([128, 2, 2])\n",
      "torch.Size([128, 2, 2])\n",
      "torch.Size([128, 2, 2])\n",
      "torch.Size([128, 2, 2])\n",
      "torch.Size([128, 2, 2])\n",
      "torch.Size([128, 2, 2])\n",
      "torch.Size([128, 2, 2])\n",
      "torch.Size([128, 2, 2])\n",
      "torch.Size([128, 2, 2])\n",
      "torch.Size([128, 2, 2])\n",
      "torch.Size([128, 2, 2])\n",
      "torch.Size([128, 2, 2])\n",
      "torch.Size([128, 2, 2])\n",
      "torch.Size([128, 2, 2])\n",
      "torch.Size([128, 2, 2])"
     ]
    },
    {
     "name": "stderr",
     "output_type": "stream",
     "text": [
      " 39%|███▉      | 982/2494 [00:02<00:03, 393.31it/s]"
     ]
    },
    {
     "name": "stdout",
     "output_type": "stream",
     "text": [
      "\n",
      "torch.Size([128, 2, 2])\n",
      "torch.Size([128, 2, 2])\n",
      "torch.Size([128, 2, 2])\n",
      "torch.Size([128, 2, 2])\n",
      "torch.Size([128, 2, 2])\n",
      "torch.Size([128, 2, 2])\n",
      "torch.Size([128, 2, 2])\n",
      "torch.Size([128, 2, 2])\n",
      "torch.Size([128, 2, 2])\n",
      "torch.Size([128, 2, 2])\n",
      "torch.Size([128, 2, 2])\n",
      "torch.Size([128, 2, 2])\n",
      "torch.Size([128, 2, 2])\n",
      "torch.Size([128, 2, 2])\n",
      "torch.Size([128, 2, 2])\n",
      "torch.Size([128, 2, 2])\n",
      "torch.Size([128, 2, 2])\n",
      "torch.Size([128, 2, 2])\n",
      "torch.Size([128, 2, 2])\n",
      "torch.Size([128, 2, 2])\n",
      "torch.Size([128, 2, 2])\n",
      "torch.Size([128, 2, 2])\n",
      "torch.Size([128, 2, 2])\n",
      "torch.Size([128, 2, 2])\n",
      "torch.Size([128, 2, 2])\n",
      "torch.Size([128, 2, 2])\n",
      "torch.Size([128, 2, 2])\n",
      "torch.Size([128, 2, 2])\n",
      "torch.Size([128, 2, 2])\n",
      "torch.Size([128, 2, 2])\n",
      "torch.Size([128, 2, 2])\n",
      "torch.Size([128, 2, 2])\n",
      "torch.Size([128, 2, 2])\n",
      "torch.Size([128, 2, 2])\n",
      "torch.Size([128, 2, 2])\n",
      "torch.Size([128, 2, 2])\n",
      "torch.Size([128, 2, 2])\n",
      "torch.Size([128, 2, 2])\n",
      "torch.Size([128, 2, 2])\n",
      "torch.Size([128, 2, 2])\n",
      "torch.Size([128, 2, 2])\n",
      "torch.Size([128, 2, 2])\n",
      "torch.Size([128, 2, 2])\n",
      "torch.Size([128, 2, 2])\n",
      "torch.Size([128, 2, 2])\n",
      "torch.Size([128, 2, 2])\n",
      "torch.Size([128, 2, 2])\n",
      "torch.Size([128, 2, 2])\n",
      "torch.Size([128, 2, 2])\n",
      "torch.Size([128, 2, 2])\n",
      "torch.Size([128, 2, 2])\n",
      "torch.Size([128, 2, 2])\n",
      "torch.Size([128, 2, 2])\n",
      "torch.Size([128, 2, 2])\n",
      "torch.Size([128, 2, 2])\n",
      "torch.Size([128, 2, 2])\n",
      "torch.Size([128, 2, 2])\n",
      "torch.Size([128, 2, 2])\n",
      "torch.Size([128, 2, 2])\n",
      "torch.Size([128, 2, 2])\n",
      "torch.Size([128, 2, 2])\n",
      "torch.Size([128, 2, 2])\n",
      "torch.Size([128, 2, 2])\n",
      "torch.Size([128, 2, 2])\n",
      "torch.Size([128, 2, 2])"
     ]
    },
    {
     "name": "stderr",
     "output_type": "stream",
     "text": [
      " 43%|████▎     | 1062/2494 [00:02<00:03, 381.80it/s]"
     ]
    },
    {
     "name": "stdout",
     "output_type": "stream",
     "text": [
      "\n",
      "torch.Size([128, 2, 2])\n",
      "torch.Size([128, 2, 2])\n",
      "torch.Size([128, 2, 2])\n",
      "torch.Size([128, 2, 2])\n",
      "torch.Size([128, 2, 2])\n",
      "torch.Size([128, 2, 2])\n",
      "torch.Size([128, 2, 2])\n",
      "torch.Size([128, 2, 2])\n",
      "torch.Size([128, 2, 2])\n",
      "torch.Size([128, 2, 2])\n",
      "torch.Size([128, 2, 2])\n",
      "torch.Size([128, 2, 2])\n",
      "torch.Size([128, 2, 2])\n",
      "torch.Size([128, 2, 2])\n",
      "torch.Size([128, 2, 2])\n",
      "torch.Size([128, 2, 2])\n",
      "torch.Size([128, 2, 2])\n",
      "torch.Size([128, 2, 2])\n",
      "torch.Size([128, 2, 2])\n",
      "torch.Size([128, 2, 2])\n",
      "torch.Size([128, 2, 2])\n",
      "torch.Size([128, 2, 2])\n",
      "torch.Size([128, 2, 2])\n",
      "torch.Size([128, 2, 2])\n",
      "torch.Size([128, 2, 2])\n",
      "torch.Size([128, 2, 2])\n",
      "torch.Size([128, 2, 2])\n",
      "torch.Size([128, 2, 2])\n",
      "torch.Size([128, 2, 2])\n",
      "torch.Size([128, 2, 2])\n",
      "torch.Size([128, 2, 2])\n",
      "torch.Size([128, 2, 2])\n",
      "torch.Size([128, 2, 2])\n",
      "torch.Size([128, 2, 2])\n",
      "torch.Size([128, 2, 2])\n",
      "torch.Size([128, 2, 2])\n",
      "torch.Size([128, 2, 2])\n",
      "torch.Size([128, 2, 2])\n",
      "torch.Size([128, 2, 2])\n",
      "torch.Size([128, 2, 2])\n",
      "torch.Size([128, 2, 2])\n",
      "torch.Size([128, 2, 2])\n",
      "torch.Size([128, 2, 2])\n",
      "torch.Size([128, 2, 2])\n",
      "torch.Size([128, 2, 2])\n",
      "torch.Size([128, 2, 2])\n",
      "torch.Size([128, 2, 2])\n",
      "torch.Size([128, 2, 2])\n",
      "torch.Size([128, 2, 2])\n",
      "torch.Size([128, 2, 2])\n",
      "torch.Size([128, 2, 2])\n",
      "torch.Size([128, 2, 2])\n",
      "torch.Size([128, 2, 2])\n",
      "torch.Size([128, 2, 2])\n",
      "torch.Size([128, 2, 2])\n",
      "torch.Size([128, 2, 2])\n",
      "torch.Size([128, 2, 2])\n",
      "torch.Size([128, 2, 2])\n",
      "torch.Size([128, 2, 2])\n",
      "torch.Size([128, 2, 2])\n",
      "torch.Size([128, 2, 2])\n",
      "torch.Size([128, 2, 2])\n",
      "torch.Size([128, 2, 2])\n",
      "torch.Size([128, 2, 2])\n",
      "torch.Size([128, 2, 2])\n",
      "torch.Size([128, 2, 2])\n",
      "torch.Size([128, 2, 2])\n",
      "torch.Size([128, 2, 2])\n",
      "torch.Size([128, 2, 2])\n",
      "torch.Size([128, 2, 2])"
     ]
    },
    {
     "name": "stderr",
     "output_type": "stream",
     "text": [
      " 44%|████▍     | 1101/2494 [00:02<00:03, 377.84it/s]"
     ]
    },
    {
     "name": "stdout",
     "output_type": "stream",
     "text": [
      "\n",
      "torch.Size([128, 2, 2])\n",
      "torch.Size([128, 2, 2])\n",
      "torch.Size([128, 2, 2])\n",
      "torch.Size([128, 2, 2])\n",
      "torch.Size([128, 2, 2])\n",
      "torch.Size([128, 2, 2])\n",
      "torch.Size([128, 2, 2])\n",
      "torch.Size([128, 2, 2])\n",
      "torch.Size([128, 2, 2])\n",
      "torch.Size([128, 2, 2])\n",
      "torch.Size([128, 2, 2])\n",
      "torch.Size([128, 2, 2])\n",
      "torch.Size([128, 2, 2])\n",
      "torch.Size([128, 2, 2])\n",
      "torch.Size([128, 2, 2])\n",
      "torch.Size([128, 2, 2])\n",
      "torch.Size([128, 2, 2])\n",
      "torch.Size([128, 2, 2])\n",
      "torch.Size([128, 2, 2])\n",
      "torch.Size([128, 2, 2])\n",
      "torch.Size([128, 2, 2])\n",
      "torch.Size([128, 2, 2])\n",
      "torch.Size([128, 2, 2])\n",
      "torch.Size([128, 2, 2])\n",
      "torch.Size([128, 2, 2])\n",
      "torch.Size([128, 2, 2])\n",
      "torch.Size([128, 2, 2])\n",
      "torch.Size([128, 2, 2])\n",
      "torch.Size([128, 2, 2])\n",
      "torch.Size([128, 2, 2])\n",
      "torch.Size([128, 2, 2])\n",
      "torch.Size([128, 2, 2])\n",
      "torch.Size([128, 2, 2])\n",
      "torch.Size([128, 2, 2])\n",
      "torch.Size([128, 2, 2])\n",
      "torch.Size([128, 2, 2])\n",
      "torch.Size([128, 2, 2])\n",
      "torch.Size([128, 2, 2])\n",
      "torch.Size([128, 2, 2])\n",
      "torch.Size([128, 2, 2])\n",
      "torch.Size([128, 2, 2])\n",
      "torch.Size([128, 2, 2])\n",
      "torch.Size([128, 2, 2])\n",
      "torch.Size([128, 2, 2])\n",
      "torch.Size([128, 2, 2])\n",
      "torch.Size([128, 2, 2])\n",
      "torch.Size([128, 2, 2])\n",
      "torch.Size([128, 2, 2])\n",
      "torch.Size([128, 2, 2])\n",
      "torch.Size([128, 2, 2])\n",
      "torch.Size([128, 2, 2])\n",
      "torch.Size([128, 2, 2])\n",
      "torch.Size([128, 2, 2])\n",
      "torch.Size([128, 2, 2])\n",
      "torch.Size([128, 2, 2])\n",
      "torch.Size([128, 2, 2])\n",
      "torch.Size([128, 2, 2])\n",
      "torch.Size([128, 2, 2])\n",
      "torch.Size([128, 2, 2])\n",
      "torch.Size([128, 2, 2])\n",
      "torch.Size([128, 2, 2])\n",
      "torch.Size([128, 2, 2])\n",
      "torch.Size([128, 2, 2])\n",
      "torch.Size([128, 2, 2])\n",
      "torch.Size([128, 2, 2])\n",
      "torch.Size([128, 2, 2])\n",
      "torch.Size([128, 2, 2])\n",
      "torch.Size([128, 2, 2])\n",
      "torch.Size([128, 2, 2])"
     ]
    },
    {
     "name": "stderr",
     "output_type": "stream",
     "text": [
      " 47%|████▋     | 1178/2494 [00:02<00:03, 374.28it/s]"
     ]
    },
    {
     "name": "stdout",
     "output_type": "stream",
     "text": [
      "\n",
      "torch.Size([128, 2, 2])\n",
      "torch.Size([128, 2, 2])\n",
      "torch.Size([128, 2, 2])\n",
      "torch.Size([128, 2, 2])\n",
      "torch.Size([128, 2, 2])\n",
      "torch.Size([128, 2, 2])\n",
      "torch.Size([128, 2, 2])\n",
      "torch.Size([128, 2, 2])\n",
      "torch.Size([128, 2, 2])\n",
      "torch.Size([128, 2, 2])\n",
      "torch.Size([128, 2, 2])\n",
      "torch.Size([128, 2, 2])\n",
      "torch.Size([128, 2, 2])\n",
      "torch.Size([128, 2, 2])\n",
      "torch.Size([128, 2, 2])\n",
      "torch.Size([128, 2, 2])\n",
      "torch.Size([128, 2, 2])\n",
      "torch.Size([128, 2, 2])\n",
      "torch.Size([128, 2, 2])\n",
      "torch.Size([128, 2, 2])\n",
      "torch.Size([128, 2, 2])\n",
      "torch.Size([128, 2, 2])\n",
      "torch.Size([128, 2, 2])\n",
      "torch.Size([128, 2, 2])\n",
      "torch.Size([128, 2, 2])\n",
      "torch.Size([128, 2, 2])\n",
      "torch.Size([128, 2, 2])\n",
      "torch.Size([128, 2, 2])\n",
      "torch.Size([128, 2, 2])\n",
      "torch.Size([128, 2, 2])\n",
      "torch.Size([128, 2, 2])\n",
      "torch.Size([128, 2, 2])\n",
      "torch.Size([128, 2, 2])\n",
      "torch.Size([128, 2, 2])\n",
      "torch.Size([128, 2, 2])\n",
      "torch.Size([128, 2, 2])\n",
      "torch.Size([128, 2, 2])\n",
      "torch.Size([128, 2, 2])\n",
      "torch.Size([128, 2, 2])\n",
      "torch.Size([128, 2, 2])\n",
      "torch.Size([128, 2, 2])\n",
      "torch.Size([128, 2, 2])\n",
      "torch.Size([128, 2, 2])\n",
      "torch.Size([128, 2, 2])\n",
      "torch.Size([128, 2, 2])\n",
      "torch.Size([128, 2, 2])\n",
      "torch.Size([128, 2, 2])\n",
      "torch.Size([128, 2, 2])\n",
      "torch.Size([128, 2, 2])\n",
      "torch.Size([128, 2, 2])\n",
      "torch.Size([128, 2, 2])\n",
      "torch.Size([128, 2, 2])\n",
      "torch.Size([128, 2, 2])\n",
      "torch.Size([128, 2, 2])\n",
      "torch.Size([128, 2, 2])\n",
      "torch.Size([128, 2, 2])\n",
      "torch.Size([128, 2, 2])\n",
      "torch.Size([128, 2, 2])\n",
      "torch.Size([128, 2, 2])\n",
      "torch.Size([128, 2, 2])\n",
      "torch.Size([128, 2, 2])\n",
      "torch.Size([128, 2, 2])\n",
      "torch.Size([128, 2, 2])\n",
      "torch.Size([128, 2, 2])\n",
      "torch.Size([128, 2, 2])\n",
      "torch.Size([128, 2, 2])\n",
      "torch.Size([128, 2, 2])\n",
      "torch.Size([128, 2, 2])\n",
      "torch.Size([128, 2, 2])\n",
      "torch.Size([128, 2, 2])"
     ]
    },
    {
     "name": "stderr",
     "output_type": "stream",
     "text": [
      " 50%|█████     | 1257/2494 [00:03<00:03, 378.60it/s]"
     ]
    },
    {
     "name": "stdout",
     "output_type": "stream",
     "text": [
      "\n",
      "torch.Size([128, 2, 2])\n",
      "torch.Size([128, 2, 2])\n",
      "torch.Size([128, 2, 2])\n",
      "torch.Size([128, 2, 2])\n",
      "torch.Size([128, 2, 2])\n",
      "torch.Size([128, 2, 2])\n",
      "torch.Size([128, 2, 2])\n",
      "torch.Size([128, 2, 2])\n",
      "torch.Size([128, 2, 2])\n",
      "torch.Size([128, 2, 2])\n",
      "torch.Size([128, 2, 2])\n",
      "torch.Size([128, 2, 2])\n",
      "torch.Size([128, 2, 2])\n",
      "torch.Size([128, 2, 2])\n",
      "torch.Size([128, 2, 2])\n",
      "torch.Size([128, 2, 2])\n",
      "torch.Size([128, 2, 2])\n",
      "torch.Size([128, 2, 2])\n",
      "torch.Size([128, 2, 2])\n",
      "torch.Size([128, 2, 2])\n",
      "torch.Size([128, 2, 2])\n",
      "torch.Size([128, 2, 2])\n",
      "torch.Size([128, 2, 2])\n",
      "torch.Size([128, 2, 2])\n",
      "torch.Size([128, 2, 2])\n",
      "torch.Size([128, 2, 2])\n",
      "torch.Size([128, 2, 2])\n",
      "torch.Size([128, 2, 2])\n",
      "torch.Size([128, 2, 2])\n",
      "torch.Size([128, 2, 2])\n",
      "torch.Size([128, 2, 2])\n",
      "torch.Size([128, 2, 2])\n",
      "torch.Size([128, 2, 2])\n",
      "torch.Size([128, 2, 2])\n",
      "torch.Size([128, 2, 2])\n",
      "torch.Size([128, 2, 2])\n",
      "torch.Size([128, 2, 2])\n",
      "torch.Size([128, 2, 2])\n",
      "torch.Size([128, 2, 2])\n",
      "torch.Size([128, 2, 2])\n",
      "torch.Size([128, 2, 2])\n",
      "torch.Size([128, 2, 2])\n",
      "torch.Size([128, 2, 2])\n",
      "torch.Size([128, 2, 2])\n",
      "torch.Size([128, 2, 2])\n",
      "torch.Size([128, 2, 2])\n",
      "torch.Size([128, 2, 2])\n",
      "torch.Size([128, 2, 2])\n",
      "torch.Size([128, 2, 2])\n",
      "torch.Size([128, 2, 2])\n",
      "torch.Size([128, 2, 2])\n",
      "torch.Size([128, 2, 2])\n",
      "torch.Size([128, 2, 2])\n",
      "torch.Size([128, 2, 2])\n",
      "torch.Size([128, 2, 2])\n",
      "torch.Size([128, 2, 2])\n",
      "torch.Size([128, 2, 2])\n",
      "torch.Size([128, 2, 2])\n",
      "torch.Size([128, 2, 2])\n",
      "torch.Size([128, 2, 2])\n",
      "torch.Size([128, 2, 2])\n",
      "torch.Size([128, 2, 2])\n",
      "torch.Size([128, 2, 2])\n",
      "torch.Size([128, 2, 2])\n",
      "torch.Size([128, 2, 2])\n",
      "torch.Size([128, 2, 2])\n",
      "torch.Size([128, 2, 2])\n",
      "torch.Size([128, 2, 2])\n",
      "torch.Size([128, 2, 2])\n",
      "torch.Size([128, 2, 2])\n",
      "torch.Size([128, 2, 2])\n",
      "torch.Size([128, 2, 2])\n",
      "torch.Size([128, 2, 2])\n",
      "torch.Size([128, 2, 2])"
     ]
    },
    {
     "name": "stderr",
     "output_type": "stream",
     "text": [
      " 54%|█████▍    | 1342/2494 [00:03<00:02, 397.96it/s]"
     ]
    },
    {
     "name": "stdout",
     "output_type": "stream",
     "text": [
      "\n",
      "torch.Size([128, 2, 2])\n",
      "torch.Size([128, 2, 2])\n",
      "torch.Size([128, 2, 2])\n",
      "torch.Size([128, 2, 2])\n",
      "torch.Size([128, 2, 2])\n",
      "torch.Size([128, 2, 2])\n",
      "torch.Size([128, 2, 2])\n",
      "torch.Size([128, 2, 2])\n",
      "torch.Size([128, 2, 2])\n",
      "torch.Size([128, 2, 2])\n",
      "torch.Size([128, 2, 2])\n",
      "torch.Size([128, 2, 2])\n",
      "torch.Size([128, 2, 2])\n",
      "torch.Size([128, 2, 2])\n",
      "torch.Size([128, 2, 2])\n",
      "torch.Size([128, 2, 2])\n",
      "torch.Size([128, 2, 2])\n",
      "torch.Size([128, 2, 2])\n",
      "torch.Size([128, 2, 2])\n",
      "torch.Size([128, 2, 2])\n",
      "torch.Size([128, 2, 2])\n",
      "torch.Size([128, 2, 2])\n",
      "torch.Size([128, 2, 2])\n",
      "torch.Size([128, 2, 2])\n",
      "torch.Size([128, 2, 2])\n",
      "torch.Size([128, 2, 2])\n",
      "torch.Size([128, 2, 2])\n",
      "torch.Size([128, 2, 2])\n",
      "torch.Size([128, 2, 2])\n",
      "torch.Size([128, 2, 2])\n",
      "torch.Size([128, 2, 2])\n",
      "torch.Size([128, 2, 2])\n",
      "torch.Size([128, 2, 2])\n",
      "torch.Size([128, 2, 2])\n",
      "torch.Size([128, 2, 2])\n",
      "torch.Size([128, 2, 2])\n",
      "torch.Size([128, 2, 2])\n",
      "torch.Size([128, 2, 2])\n",
      "torch.Size([128, 2, 2])\n",
      "torch.Size([128, 2, 2])\n",
      "torch.Size([128, 2, 2])\n",
      "torch.Size([128, 2, 2])\n",
      "torch.Size([128, 2, 2])\n",
      "torch.Size([128, 2, 2])\n",
      "torch.Size([128, 2, 2])\n",
      "torch.Size([128, 2, 2])\n",
      "torch.Size([128, 2, 2])\n",
      "torch.Size([128, 2, 2])\n",
      "torch.Size([128, 2, 2])\n",
      "torch.Size([128, 2, 2])\n",
      "torch.Size([128, 2, 2])\n",
      "torch.Size([128, 2, 2])\n",
      "torch.Size([128, 2, 2])\n",
      "torch.Size([128, 2, 2])\n",
      "torch.Size([128, 2, 2])\n",
      "torch.Size([128, 2, 2])\n",
      "torch.Size([128, 2, 2])\n",
      "torch.Size([128, 2, 2])\n",
      "torch.Size([128, 2, 2])\n",
      "torch.Size([128, 2, 2])\n",
      "torch.Size([128, 2, 2])\n",
      "torch.Size([128, 2, 2])\n",
      "torch.Size([128, 2, 2])\n",
      "torch.Size([128, 2, 2])\n",
      "torch.Size([128, 2, 2])\n",
      "torch.Size([128, 2, 2])\n",
      "torch.Size([128, 2, 2])\n",
      "torch.Size([128, 2, 2])\n",
      "torch.Size([128, 2, 2])\n",
      "torch.Size([128, 2, 2])\n",
      "torch.Size([128, 2, 2])\n",
      "torch.Size([128, 2, 2])\n",
      "torch.Size([128, 2, 2])\n",
      "torch.Size([128, 2, 2])\n",
      "torch.Size([128, 2, 2])\n",
      "torch.Size([128, 2, 2])\n",
      "torch.Size([128, 2, 2])\n",
      "torch.Size([128, 2, 2])"
     ]
    },
    {
     "name": "stderr",
     "output_type": "stream",
     "text": [
      " 57%|█████▋    | 1423/2494 [00:03<00:02, 396.47it/s]"
     ]
    },
    {
     "name": "stdout",
     "output_type": "stream",
     "text": [
      "\n",
      "torch.Size([128, 2, 2])\n",
      "torch.Size([128, 2, 2])\n",
      "torch.Size([128, 2, 2])\n",
      "torch.Size([128, 2, 2])\n",
      "torch.Size([128, 2, 2])\n",
      "torch.Size([128, 2, 2])\n",
      "torch.Size([128, 2, 2])\n",
      "torch.Size([128, 2, 2])\n",
      "torch.Size([128, 2, 2])\n",
      "torch.Size([128, 2, 2])\n",
      "torch.Size([128, 2, 2])\n",
      "torch.Size([128, 2, 2])\n",
      "torch.Size([128, 2, 2])\n",
      "torch.Size([128, 2, 2])\n",
      "torch.Size([128, 2, 2])\n",
      "torch.Size([128, 2, 2])\n",
      "torch.Size([128, 2, 2])\n",
      "torch.Size([128, 2, 2])\n",
      "torch.Size([128, 2, 2])\n",
      "torch.Size([128, 2, 2])\n",
      "torch.Size([128, 2, 2])\n",
      "torch.Size([128, 2, 2])\n",
      "torch.Size([128, 2, 2])\n",
      "torch.Size([128, 2, 2])\n",
      "torch.Size([128, 2, 2])\n",
      "torch.Size([128, 2, 2])\n",
      "torch.Size([128, 2, 2])\n",
      "torch.Size([128, 2, 2])\n",
      "torch.Size([128, 2, 2])\n",
      "torch.Size([128, 2, 2])\n",
      "torch.Size([128, 2, 2])\n",
      "torch.Size([128, 2, 2])\n",
      "torch.Size([128, 2, 2])\n",
      "torch.Size([128, 2, 2])\n",
      "torch.Size([128, 2, 2])\n",
      "torch.Size([128, 2, 2])\n",
      "torch.Size([128, 2, 2])\n",
      "torch.Size([128, 2, 2])\n",
      "torch.Size([128, 2, 2])\n",
      "torch.Size([128, 2, 2])\n",
      "torch.Size([128, 2, 2])\n",
      "torch.Size([128, 2, 2])\n",
      "torch.Size([128, 2, 2])\n",
      "torch.Size([128, 2, 2])\n",
      "torch.Size([128, 2, 2])\n",
      "torch.Size([128, 2, 2])\n",
      "torch.Size([128, 2, 2])\n",
      "torch.Size([128, 2, 2])\n",
      "torch.Size([128, 2, 2])\n",
      "torch.Size([128, 2, 2])\n",
      "torch.Size([128, 2, 2])\n",
      "torch.Size([128, 2, 2])\n",
      "torch.Size([128, 2, 2])\n",
      "torch.Size([128, 2, 2])\n",
      "torch.Size([128, 2, 2])\n",
      "torch.Size([128, 2, 2])\n",
      "torch.Size([128, 2, 2])\n",
      "torch.Size([128, 2, 2])\n",
      "torch.Size([128, 2, 2])\n",
      "torch.Size([128, 2, 2])\n",
      "torch.Size([128, 2, 2])\n",
      "torch.Size([128, 2, 2])\n",
      "torch.Size([128, 2, 2])\n",
      "torch.Size([128, 2, 2])\n",
      "torch.Size([128, 2, 2])\n",
      "torch.Size([128, 2, 2])\n",
      "torch.Size([128, 2, 2])\n",
      "torch.Size([128, 2, 2])\n",
      "torch.Size([128, 2, 2])\n",
      "torch.Size([128, 2, 2])\n",
      "torch.Size([128, 2, 2])\n",
      "torch.Size([128, 2, 2])\n",
      "torch.Size([128, 2, 2])\n",
      "torch.Size([128, 2, 2])"
     ]
    },
    {
     "name": "stderr",
     "output_type": "stream",
     "text": [
      " 60%|██████    | 1507/2494 [00:03<00:02, 407.04it/s]"
     ]
    },
    {
     "name": "stdout",
     "output_type": "stream",
     "text": [
      "\n",
      "torch.Size([128, 2, 2])\n",
      "torch.Size([128, 2, 2])\n",
      "torch.Size([128, 2, 2])\n",
      "torch.Size([128, 2, 2])\n",
      "torch.Size([128, 2, 2])\n",
      "torch.Size([128, 2, 2])\n",
      "torch.Size([128, 2, 2])\n",
      "torch.Size([128, 2, 2])\n",
      "torch.Size([128, 2, 2])\n",
      "torch.Size([128, 2, 2])\n",
      "torch.Size([128, 2, 2])\n",
      "torch.Size([128, 2, 2])\n",
      "torch.Size([128, 2, 2])\n",
      "torch.Size([128, 2, 2])\n",
      "torch.Size([128, 2, 2])\n",
      "torch.Size([128, 2, 2])\n",
      "torch.Size([128, 2, 2])\n",
      "torch.Size([128, 2, 2])\n",
      "torch.Size([128, 2, 2])\n",
      "torch.Size([128, 2, 2])\n",
      "torch.Size([128, 2, 2])\n",
      "torch.Size([128, 2, 2])\n",
      "torch.Size([128, 2, 2])\n",
      "torch.Size([128, 2, 2])\n",
      "torch.Size([128, 2, 2])\n",
      "torch.Size([128, 2, 2])\n",
      "torch.Size([128, 2, 2])\n",
      "torch.Size([128, 2, 2])\n",
      "torch.Size([128, 2, 2])\n",
      "torch.Size([128, 2, 2])\n",
      "torch.Size([128, 2, 2])\n",
      "torch.Size([128, 2, 2])\n",
      "torch.Size([128, 2, 2])\n",
      "torch.Size([128, 2, 2])\n",
      "torch.Size([128, 2, 2])\n",
      "torch.Size([128, 2, 2])\n",
      "torch.Size([128, 2, 2])\n",
      "torch.Size([128, 2, 2])\n",
      "torch.Size([128, 2, 2])\n",
      "torch.Size([128, 2, 2])\n",
      "torch.Size([128, 2, 2])\n",
      "torch.Size([128, 2, 2])\n",
      "torch.Size([128, 2, 2])\n",
      "torch.Size([128, 2, 2])\n",
      "torch.Size([128, 2, 2])\n",
      "torch.Size([128, 2, 2])\n",
      "torch.Size([128, 2, 2])\n",
      "torch.Size([128, 2, 2])\n",
      "torch.Size([128, 2, 2])\n",
      "torch.Size([128, 2, 2])\n",
      "torch.Size([128, 2, 2])\n",
      "torch.Size([128, 2, 2])\n",
      "torch.Size([128, 2, 2])\n",
      "torch.Size([128, 2, 2])\n",
      "torch.Size([128, 2, 2])\n",
      "torch.Size([128, 2, 2])\n",
      "torch.Size([128, 2, 2])\n",
      "torch.Size([128, 2, 2])\n",
      "torch.Size([128, 2, 2])\n",
      "torch.Size([128, 2, 2])\n",
      "torch.Size([128, 2, 2])\n",
      "torch.Size([128, 2, 2])\n",
      "torch.Size([128, 2, 2])\n",
      "torch.Size([128, 2, 2])\n",
      "torch.Size([128, 2, 2])\n",
      "torch.Size([128, 2, 2])\n",
      "torch.Size([128, 2, 2])\n",
      "torch.Size([128, 2, 2])\n",
      "torch.Size([128, 2, 2])\n",
      "torch.Size([128, 2, 2])\n",
      "torch.Size([128, 2, 2])\n",
      "torch.Size([128, 2, 2])\n",
      "torch.Size([128, 2, 2])\n",
      "torch.Size([128, 2, 2])\n",
      "torch.Size([128, 2, 2])\n",
      "torch.Size([128, 2, 2])\n",
      "torch.Size([128, 2, 2])"
     ]
    },
    {
     "name": "stderr",
     "output_type": "stream",
     "text": [
      " 62%|██████▏   | 1548/2494 [00:03<00:02, 403.44it/s]"
     ]
    },
    {
     "name": "stdout",
     "output_type": "stream",
     "text": [
      "\n",
      "torch.Size([128, 2, 2])\n",
      "torch.Size([128, 2, 2])\n",
      "torch.Size([128, 2, 2])\n",
      "torch.Size([128, 2, 2])\n",
      "torch.Size([128, 2, 2])\n",
      "torch.Size([128, 2, 2])\n",
      "torch.Size([128, 2, 2])\n",
      "torch.Size([128, 2, 2])\n",
      "torch.Size([128, 2, 2])\n",
      "torch.Size([128, 2, 2])\n",
      "torch.Size([128, 2, 2])\n",
      "torch.Size([128, 2, 2])\n",
      "torch.Size([128, 2, 2])\n",
      "torch.Size([128, 2, 2])\n",
      "torch.Size([128, 2, 2])\n",
      "torch.Size([128, 2, 2])\n",
      "torch.Size([128, 2, 2])\n",
      "torch.Size([128, 2, 2])\n",
      "torch.Size([128, 2, 2])\n",
      "torch.Size([128, 2, 2])\n",
      "torch.Size([128, 2, 2])\n",
      "torch.Size([128, 2, 2])\n",
      "torch.Size([128, 2, 2])\n",
      "torch.Size([128, 2, 2])\n",
      "torch.Size([128, 2, 2])\n",
      "torch.Size([128, 2, 2])\n",
      "torch.Size([128, 2, 2])\n",
      "torch.Size([128, 2, 2])\n",
      "torch.Size([128, 2, 2])\n",
      "torch.Size([128, 2, 2])\n",
      "torch.Size([128, 2, 2])\n",
      "torch.Size([128, 2, 2])\n",
      "torch.Size([128, 2, 2])\n",
      "torch.Size([128, 2, 2])\n",
      "torch.Size([128, 2, 2])\n",
      "torch.Size([128, 2, 2])\n",
      "torch.Size([128, 2, 2])\n",
      "torch.Size([128, 2, 2])\n",
      "torch.Size([128, 2, 2])\n",
      "torch.Size([128, 2, 2])\n",
      "torch.Size([128, 2, 2])\n",
      "torch.Size([128, 2, 2])\n",
      "torch.Size([128, 2, 2])\n",
      "torch.Size([128, 2, 2])\n",
      "torch.Size([128, 2, 2])\n",
      "torch.Size([128, 2, 2])\n",
      "torch.Size([128, 2, 2])\n",
      "torch.Size([128, 2, 2])\n",
      "torch.Size([128, 2, 2])\n",
      "torch.Size([128, 2, 2])\n",
      "torch.Size([128, 2, 2])\n",
      "torch.Size([128, 2, 2])\n",
      "torch.Size([128, 2, 2])\n",
      "torch.Size([128, 2, 2])\n",
      "torch.Size([128, 2, 2])\n",
      "torch.Size([128, 2, 2])\n",
      "torch.Size([128, 2, 2])\n",
      "torch.Size([128, 2, 2])\n",
      "torch.Size([128, 2, 2])\n",
      "torch.Size([128, 2, 2])\n",
      "torch.Size([128, 2, 2])\n",
      "torch.Size([128, 2, 2])\n",
      "torch.Size([128, 2, 2])\n",
      "torch.Size([128, 2, 2])\n",
      "torch.Size([128, 2, 2])\n",
      "torch.Size([128, 2, 2])\n",
      "torch.Size([128, 2, 2])\n",
      "torch.Size([128, 2, 2])\n",
      "torch.Size([128, 2, 2])\n",
      "torch.Size([128, 2, 2])\n",
      "torch.Size([128, 2, 2])\n",
      "torch.Size([128, 2, 2])\n",
      "torch.Size([128, 2, 2])\n",
      "torch.Size([128, 2, 2])\n",
      "torch.Size([128, 2, 2])\n",
      "torch.Size([128, 2, 2])\n",
      "torch.Size([128, 2, 2])\n",
      "torch.Size([128, 2, 2])\n",
      "torch.Size([128, 2, 2])\n",
      "torch.Size([128, 2, 2])\n",
      "torch.Size([128, 2, 2])\n"
     ]
    },
    {
     "name": "stderr",
     "output_type": "stream",
     "text": [
      " 66%|██████▌   | 1639/2494 [00:04<00:02, 425.06it/s]"
     ]
    },
    {
     "name": "stdout",
     "output_type": "stream",
     "text": [
      "torch.Size([128, 2, 2])\n",
      "torch.Size([128, 2, 2])\n",
      "torch.Size([128, 2, 2])\n",
      "torch.Size([128, 2, 2])\n",
      "torch.Size([128, 2, 2])\n",
      "torch.Size([128, 2, 2])\n",
      "torch.Size([128, 2, 2])\n",
      "torch.Size([128, 2, 2])\n",
      "torch.Size([128, 2, 2])\n",
      "torch.Size([128, 2, 2])\n",
      "torch.Size([128, 2, 2])\n",
      "torch.Size([128, 2, 2])\n",
      "torch.Size([128, 2, 2])\n",
      "torch.Size([128, 2, 2])\n",
      "torch.Size([128, 2, 2])\n",
      "torch.Size([128, 2, 2])\n",
      "torch.Size([128, 2, 2])\n",
      "torch.Size([128, 2, 2])\n",
      "torch.Size([128, 2, 2])\n",
      "torch.Size([128, 2, 2])\n",
      "torch.Size([128, 2, 2])\n",
      "torch.Size([128, 2, 2])\n",
      "torch.Size([128, 2, 2])\n",
      "torch.Size([128, 2, 2])\n",
      "torch.Size([128, 2, 2])\n",
      "torch.Size([128, 2, 2])\n",
      "torch.Size([128, 2, 2])\n",
      "torch.Size([128, 2, 2])\n",
      "torch.Size([128, 2, 2])\n",
      "torch.Size([128, 2, 2])\n",
      "torch.Size([128, 2, 2])\n",
      "torch.Size([128, 2, 2])\n",
      "torch.Size([128, 2, 2])\n",
      "torch.Size([128, 2, 2])\n",
      "torch.Size([128, 2, 2])\n",
      "torch.Size([128, 2, 2])\n",
      "torch.Size([128, 2, 2])\n",
      "torch.Size([128, 2, 2])\n",
      "torch.Size([128, 2, 2])\n",
      "torch.Size([128, 2, 2])\n",
      "torch.Size([128, 2, 2])\n",
      "torch.Size([128, 2, 2])\n",
      "torch.Size([128, 2, 2])\n",
      "torch.Size([128, 2, 2])\n",
      "torch.Size([128, 2, 2])\n",
      "torch.Size([128, 2, 2])\n",
      "torch.Size([128, 2, 2])\n",
      "torch.Size([128, 2, 2])\n",
      "torch.Size([128, 2, 2])\n",
      "torch.Size([128, 2, 2])\n",
      "torch.Size([128, 2, 2])\n",
      "torch.Size([128, 2, 2])\n",
      "torch.Size([128, 2, 2])\n",
      "torch.Size([128, 2, 2])\n",
      "torch.Size([128, 2, 2])\n",
      "torch.Size([128, 2, 2])\n",
      "torch.Size([128, 2, 2])\n",
      "torch.Size([128, 2, 2])\n",
      "torch.Size([128, 2, 2])\n",
      "torch.Size([128, 2, 2])\n",
      "torch.Size([128, 2, 2])\n",
      "torch.Size([128, 2, 2])\n",
      "torch.Size([128, 2, 2])\n",
      "torch.Size([128, 2, 2])\n",
      "torch.Size([128, 2, 2])\n",
      "torch.Size([128, 2, 2])\n",
      "torch.Size([128, 2, 2])\n",
      "torch.Size([128, 2, 2])\n",
      "torch.Size([128, 2, 2])\n",
      "torch.Size([128, 2, 2])\n",
      "torch.Size([128, 2, 2])\n",
      "torch.Size([128, 2, 2])\n",
      "torch.Size([128, 2, 2])\n",
      "torch.Size([128, 2, 2])\n",
      "torch.Size([128, 2, 2])\n",
      "torch.Size([128, 2, 2])\n",
      "torch.Size([128, 2, 2])\n",
      "torch.Size([128, 2, 2])\n",
      "torch.Size([128, 2, 2])\n",
      "torch.Size([128, 2, 2])\n",
      "torch.Size([128, 2, 2])\n",
      "torch.Size([128, 2, 2])\n",
      "torch.Size([128, 2, 2])\n"
     ]
    },
    {
     "name": "stderr",
     "output_type": "stream",
     "text": [
      " 69%|██████▉   | 1726/2494 [00:04<00:01, 421.75it/s]"
     ]
    },
    {
     "name": "stdout",
     "output_type": "stream",
     "text": [
      "torch.Size([128, 2, 2])\n",
      "torch.Size([128, 2, 2])\n",
      "torch.Size([128, 2, 2])\n",
      "torch.Size([128, 2, 2])\n",
      "torch.Size([128, 2, 2])\n",
      "torch.Size([128, 2, 2])\n",
      "torch.Size([128, 2, 2])\n",
      "torch.Size([128, 2, 2])\n",
      "torch.Size([128, 2, 2])\n",
      "torch.Size([128, 2, 2])\n",
      "torch.Size([128, 2, 2])\n",
      "torch.Size([128, 2, 2])\n",
      "torch.Size([128, 2, 2])\n",
      "torch.Size([128, 2, 2])\n",
      "torch.Size([128, 2, 2])\n",
      "torch.Size([128, 2, 2])\n",
      "torch.Size([128, 2, 2])\n",
      "torch.Size([128, 2, 2])\n",
      "torch.Size([128, 2, 2])\n",
      "torch.Size([128, 2, 2])\n",
      "torch.Size([128, 2, 2])\n",
      "torch.Size([128, 2, 2])\n",
      "torch.Size([128, 2, 2])\n",
      "torch.Size([128, 2, 2])\n",
      "torch.Size([128, 2, 2])\n",
      "torch.Size([128, 2, 2])\n",
      "torch.Size([128, 2, 2])\n",
      "torch.Size([128, 2, 2])\n",
      "torch.Size([128, 2, 2])\n",
      "torch.Size([128, 2, 2])\n",
      "torch.Size([128, 2, 2])\n",
      "torch.Size([128, 2, 2])\n",
      "torch.Size([128, 2, 2])\n",
      "torch.Size([128, 2, 2])\n",
      "torch.Size([128, 2, 2])\n",
      "torch.Size([128, 2, 2])\n",
      "torch.Size([128, 2, 2])\n",
      "torch.Size([128, 2, 2])\n",
      "torch.Size([128, 2, 2])\n",
      "torch.Size([128, 2, 2])\n",
      "torch.Size([128, 2, 2])\n",
      "torch.Size([128, 2, 2])\n",
      "torch.Size([128, 2, 2])\n",
      "torch.Size([128, 2, 2])\n",
      "torch.Size([128, 2, 2])\n",
      "torch.Size([128, 2, 2])\n",
      "torch.Size([128, 2, 2])\n",
      "torch.Size([128, 2, 2])\n",
      "torch.Size([128, 2, 2])\n",
      "torch.Size([128, 2, 2])\n",
      "torch.Size([128, 2, 2])\n",
      "torch.Size([128, 2, 2])\n",
      "torch.Size([128, 2, 2])\n",
      "torch.Size([128, 2, 2])\n",
      "torch.Size([128, 2, 2])\n",
      "torch.Size([128, 2, 2])\n",
      "torch.Size([128, 2, 2])\n",
      "torch.Size([128, 2, 2])\n",
      "torch.Size([128, 2, 2])\n",
      "torch.Size([128, 2, 2])\n",
      "torch.Size([128, 2, 2])\n",
      "torch.Size([128, 2, 2])\n",
      "torch.Size([128, 2, 2])\n",
      "torch.Size([128, 2, 2])\n",
      "torch.Size([128, 2, 2])\n",
      "torch.Size([128, 2, 2])\n",
      "torch.Size([128, 2, 2])\n",
      "torch.Size([128, 2, 2])\n",
      "torch.Size([128, 2, 2])\n",
      "torch.Size([128, 2, 2])\n",
      "torch.Size([128, 2, 2])\n",
      "torch.Size([128, 2, 2])\n",
      "torch.Size([128, 2, 2])\n",
      "torch.Size([128, 2, 2])\n",
      "torch.Size([128, 2, 2])\n",
      "torch.Size([128, 2, 2])\n",
      "torch.Size([128, 2, 2])\n",
      "torch.Size([128, 2, 2])"
     ]
    },
    {
     "name": "stderr",
     "output_type": "stream",
     "text": [
      " 73%|███████▎  | 1813/2494 [00:04<00:01, 421.98it/s]"
     ]
    },
    {
     "name": "stdout",
     "output_type": "stream",
     "text": [
      "\n",
      "torch.Size([128, 2, 2])\n",
      "torch.Size([128, 2, 2])\n",
      "torch.Size([128, 2, 2])\n",
      "torch.Size([128, 2, 2])\n",
      "torch.Size([128, 2, 2])\n",
      "torch.Size([128, 2, 2])\n",
      "torch.Size([128, 2, 2])\n",
      "torch.Size([128, 2, 2])\n",
      "torch.Size([128, 2, 2])\n",
      "torch.Size([128, 2, 2])\n",
      "torch.Size([128, 2, 2])\n",
      "torch.Size([128, 2, 2])\n",
      "torch.Size([128, 2, 2])\n",
      "torch.Size([128, 2, 2])\n",
      "torch.Size([128, 2, 2])\n",
      "torch.Size([128, 2, 2])\n",
      "torch.Size([128, 2, 2])\n",
      "torch.Size([128, 2, 2])\n",
      "torch.Size([128, 2, 2])\n",
      "torch.Size([128, 2, 2])\n",
      "torch.Size([128, 2, 2])\n",
      "torch.Size([128, 2, 2])\n",
      "torch.Size([128, 2, 2])\n",
      "torch.Size([128, 2, 2])\n",
      "torch.Size([128, 2, 2])\n",
      "torch.Size([128, 2, 2])\n",
      "torch.Size([128, 2, 2])\n",
      "torch.Size([128, 2, 2])\n",
      "torch.Size([128, 2, 2])\n",
      "torch.Size([128, 2, 2])\n",
      "torch.Size([128, 2, 2])\n",
      "torch.Size([128, 2, 2])\n",
      "torch.Size([128, 2, 2])\n",
      "torch.Size([128, 2, 2])\n",
      "torch.Size([128, 2, 2])\n",
      "torch.Size([128, 2, 2])\n",
      "torch.Size([128, 2, 2])\n",
      "torch.Size([128, 2, 2])\n",
      "torch.Size([128, 2, 2])\n",
      "torch.Size([128, 2, 2])\n",
      "torch.Size([128, 2, 2])\n",
      "torch.Size([128, 2, 2])\n",
      "torch.Size([128, 2, 2])\n",
      "torch.Size([128, 2, 2])\n",
      "torch.Size([128, 2, 2])\n",
      "torch.Size([128, 2, 2])\n",
      "torch.Size([128, 2, 2])\n",
      "torch.Size([128, 2, 2])\n",
      "torch.Size([128, 2, 2])\n",
      "torch.Size([128, 2, 2])\n",
      "torch.Size([128, 2, 2])\n",
      "torch.Size([128, 2, 2])\n",
      "torch.Size([128, 2, 2])\n",
      "torch.Size([128, 2, 2])\n",
      "torch.Size([128, 2, 2])\n",
      "torch.Size([128, 2, 2])\n",
      "torch.Size([128, 2, 2])\n",
      "torch.Size([128, 2, 2])\n",
      "torch.Size([128, 2, 2])\n",
      "torch.Size([128, 2, 2])\n",
      "torch.Size([128, 2, 2])\n",
      "torch.Size([128, 2, 2])\n",
      "torch.Size([128, 2, 2])\n",
      "torch.Size([128, 2, 2])\n",
      "torch.Size([128, 2, 2])\n",
      "torch.Size([128, 2, 2])\n",
      "torch.Size([128, 2, 2])\n",
      "torch.Size([128, 2, 2])\n",
      "torch.Size([128, 2, 2])\n",
      "torch.Size([128, 2, 2])\n",
      "torch.Size([128, 2, 2])\n",
      "torch.Size([128, 2, 2])\n",
      "torch.Size([128, 2, 2])\n",
      "torch.Size([128, 2, 2])\n"
     ]
    },
    {
     "name": "stderr",
     "output_type": "stream",
     "text": [
      " 76%|███████▋  | 1903/2494 [00:04<00:01, 427.71it/s]"
     ]
    },
    {
     "name": "stdout",
     "output_type": "stream",
     "text": [
      "torch.Size([128, 2, 2])\n",
      "torch.Size([128, 2, 2])\n",
      "torch.Size([128, 2, 2])\n",
      "torch.Size([128, 2, 2])\n",
      "torch.Size([128, 2, 2])\n",
      "torch.Size([128, 2, 2])\n",
      "torch.Size([128, 2, 2])\n",
      "torch.Size([128, 2, 2])\n",
      "torch.Size([128, 2, 2])\n",
      "torch.Size([128, 2, 2])\n",
      "torch.Size([128, 2, 2])\n",
      "torch.Size([128, 2, 2])\n",
      "torch.Size([128, 2, 2])\n",
      "torch.Size([128, 2, 2])\n",
      "torch.Size([128, 2, 2])\n",
      "torch.Size([128, 2, 2])\n",
      "torch.Size([128, 2, 2])\n",
      "torch.Size([128, 2, 2])\n",
      "torch.Size([128, 2, 2])\n",
      "torch.Size([128, 2, 2])\n",
      "torch.Size([128, 2, 2])\n",
      "torch.Size([128, 2, 2])\n",
      "torch.Size([128, 2, 2])\n",
      "torch.Size([128, 2, 2])\n",
      "torch.Size([128, 2, 2])\n",
      "torch.Size([128, 2, 2])\n",
      "torch.Size([128, 2, 2])\n",
      "torch.Size([128, 2, 2])\n",
      "torch.Size([128, 2, 2])\n",
      "torch.Size([128, 2, 2])\n",
      "torch.Size([128, 2, 2])\n",
      "torch.Size([128, 2, 2])\n",
      "torch.Size([128, 2, 2])\n",
      "torch.Size([128, 2, 2])\n",
      "torch.Size([128, 2, 2])\n",
      "torch.Size([128, 2, 2])\n",
      "torch.Size([128, 2, 2])\n",
      "torch.Size([128, 2, 2])\n",
      "torch.Size([128, 2, 2])\n",
      "torch.Size([128, 2, 2])\n",
      "torch.Size([128, 2, 2])\n",
      "torch.Size([128, 2, 2])\n",
      "torch.Size([128, 2, 2])\n",
      "torch.Size([128, 2, 2])\n",
      "torch.Size([128, 2, 2])\n",
      "torch.Size([128, 2, 2])\n",
      "torch.Size([128, 2, 2])\n",
      "torch.Size([128, 2, 2])\n",
      "torch.Size([128, 2, 2])\n",
      "torch.Size([128, 2, 2])\n",
      "torch.Size([128, 2, 2])\n",
      "torch.Size([128, 2, 2])\n",
      "torch.Size([128, 2, 2])\n",
      "torch.Size([128, 2, 2])\n",
      "torch.Size([128, 2, 2])\n",
      "torch.Size([128, 2, 2])\n",
      "torch.Size([128, 2, 2])\n",
      "torch.Size([128, 2, 2])\n",
      "torch.Size([128, 2, 2])\n",
      "torch.Size([128, 2, 2])\n",
      "torch.Size([128, 2, 2])\n",
      "torch.Size([128, 2, 2])\n",
      "torch.Size([128, 2, 2])\n",
      "torch.Size([128, 2, 2])\n",
      "torch.Size([128, 2, 2])\n",
      "torch.Size([128, 2, 2])\n",
      "torch.Size([128, 2, 2])\n",
      "torch.Size([128, 2, 2])\n",
      "torch.Size([128, 2, 2])\n",
      "torch.Size([128, 2, 2])\n",
      "torch.Size([128, 2, 2])\n",
      "torch.Size([128, 2, 2])\n",
      "torch.Size([128, 2, 2])\n",
      "torch.Size([128, 2, 2])\n",
      "torch.Size([128, 2, 2])\n",
      "torch.Size([128, 2, 2])\n",
      "torch.Size([128, 2, 2])\n",
      "torch.Size([128, 2, 2])\n",
      "torch.Size([128, 2, 2])\n",
      "torch.Size([128, 2, 2])\n",
      "torch.Size([128, 2, 2])\n",
      "torch.Size([128, 2, 2])\n",
      "torch.Size([128, 2, 2])"
     ]
    },
    {
     "name": "stderr",
     "output_type": "stream",
     "text": [
      " 78%|███████▊  | 1946/2494 [00:04<00:01, 422.43it/s]"
     ]
    },
    {
     "name": "stdout",
     "output_type": "stream",
     "text": [
      "\n",
      "torch.Size([128, 2, 2])\n",
      "torch.Size([128, 2, 2])\n",
      "torch.Size([128, 2, 2])\n",
      "torch.Size([128, 2, 2])\n",
      "torch.Size([128, 2, 2])\n",
      "torch.Size([128, 2, 2])\n",
      "torch.Size([128, 2, 2])\n",
      "torch.Size([128, 2, 2])\n",
      "torch.Size([128, 2, 2])\n",
      "torch.Size([128, 2, 2])\n",
      "torch.Size([128, 2, 2])\n",
      "torch.Size([128, 2, 2])\n",
      "torch.Size([128, 2, 2])\n",
      "torch.Size([128, 2, 2])\n",
      "torch.Size([128, 2, 2])\n",
      "torch.Size([128, 2, 2])\n",
      "torch.Size([128, 2, 2])\n",
      "torch.Size([128, 2, 2])\n",
      "torch.Size([128, 2, 2])\n",
      "torch.Size([128, 2, 2])\n",
      "torch.Size([128, 2, 2])\n",
      "torch.Size([128, 2, 2])\n",
      "torch.Size([128, 2, 2])\n",
      "torch.Size([128, 2, 2])\n",
      "torch.Size([128, 2, 2])\n",
      "torch.Size([128, 2, 2])\n",
      "torch.Size([128, 2, 2])\n",
      "torch.Size([128, 2, 2])\n",
      "torch.Size([128, 2, 2])\n",
      "torch.Size([128, 2, 2])\n",
      "torch.Size([128, 2, 2])\n",
      "torch.Size([128, 2, 2])\n",
      "torch.Size([128, 2, 2])\n",
      "torch.Size([128, 2, 2])\n",
      "torch.Size([128, 2, 2])\n",
      "torch.Size([128, 2, 2])\n",
      "torch.Size([128, 2, 2])\n",
      "torch.Size([128, 2, 2])\n",
      "torch.Size([128, 2, 2])\n",
      "torch.Size([128, 2, 2])\n",
      "torch.Size([128, 2, 2])\n",
      "torch.Size([128, 2, 2])\n",
      "torch.Size([128, 2, 2])\n",
      "torch.Size([128, 2, 2])\n",
      "torch.Size([128, 2, 2])\n",
      "torch.Size([128, 2, 2])\n",
      "torch.Size([128, 2, 2])\n",
      "torch.Size([128, 2, 2])\n",
      "torch.Size([128, 2, 2])\n",
      "torch.Size([128, 2, 2])\n",
      "torch.Size([128, 2, 2])\n",
      "torch.Size([128, 2, 2])\n",
      "torch.Size([128, 2, 2])\n",
      "torch.Size([128, 2, 2])\n",
      "torch.Size([128, 2, 2])\n",
      "torch.Size([128, 2, 2])\n",
      "torch.Size([128, 2, 2])\n",
      "torch.Size([128, 2, 2])\n",
      "torch.Size([128, 2, 2])\n",
      "torch.Size([128, 2, 2])\n",
      "torch.Size([128, 2, 2])\n",
      "torch.Size([128, 2, 2])\n",
      "torch.Size([128, 2, 2])\n",
      "torch.Size([128, 2, 2])\n",
      "torch.Size([128, 2, 2])\n",
      "torch.Size([128, 2, 2])\n",
      "torch.Size([128, 2, 2])\n",
      "torch.Size([128, 2, 2])\n",
      "torch.Size([128, 2, 2])\n",
      "torch.Size([128, 2, 2])\n",
      "torch.Size([128, 2, 2])\n",
      "torch.Size([128, 2, 2])\n",
      "torch.Size([128, 2, 2])\n",
      "torch.Size([128, 2, 2])\n",
      "torch.Size([128, 2, 2])\n",
      "torch.Size([128, 2, 2])\n",
      "torch.Size([128, 2, 2])\n",
      "torch.Size([128, 2, 2])\n",
      "torch.Size([128, 2, 2])\n",
      "torch.Size([128, 2, 2])\n",
      "torch.Size([128, 2, 2])\n",
      "torch.Size([128, 2, 2])\n",
      "torch.Size([128, 2, 2])\n",
      "torch.Size([128, 2, 2])"
     ]
    },
    {
     "name": "stderr",
     "output_type": "stream",
     "text": [
      " 82%|████████▏ | 2037/2494 [00:05<00:01, 416.88it/s]"
     ]
    },
    {
     "name": "stdout",
     "output_type": "stream",
     "text": [
      "\n",
      "torch.Size([128, 2, 2])\n",
      "torch.Size([128, 2, 2])\n",
      "torch.Size([128, 2, 2])\n",
      "torch.Size([128, 2, 2])\n",
      "torch.Size([128, 2, 2])\n",
      "torch.Size([128, 2, 2])\n",
      "torch.Size([128, 2, 2])\n",
      "torch.Size([128, 2, 2])\n",
      "torch.Size([128, 2, 2])\n",
      "torch.Size([128, 2, 2])\n",
      "torch.Size([128, 2, 2])\n",
      "torch.Size([128, 2, 2])\n",
      "torch.Size([128, 2, 2])\n",
      "torch.Size([128, 2, 2])\n",
      "torch.Size([128, 2, 2])\n",
      "torch.Size([128, 2, 2])\n",
      "torch.Size([128, 2, 2])\n",
      "torch.Size([128, 2, 2])\n",
      "torch.Size([128, 2, 2])\n",
      "torch.Size([128, 2, 2])\n",
      "torch.Size([128, 2, 2])\n",
      "torch.Size([128, 2, 2])\n",
      "torch.Size([128, 2, 2])\n",
      "torch.Size([128, 2, 2])\n",
      "torch.Size([128, 2, 2])\n",
      "torch.Size([128, 2, 2])\n",
      "torch.Size([128, 2, 2])\n",
      "torch.Size([128, 2, 2])\n",
      "torch.Size([128, 2, 2])\n",
      "torch.Size([128, 2, 2])\n",
      "torch.Size([128, 2, 2])\n",
      "torch.Size([128, 2, 2])\n",
      "torch.Size([128, 2, 2])\n",
      "torch.Size([128, 2, 2])\n",
      "torch.Size([128, 2, 2])\n",
      "torch.Size([128, 2, 2])\n",
      "torch.Size([128, 2, 2])\n",
      "torch.Size([128, 2, 2])\n",
      "torch.Size([128, 2, 2])\n",
      "torch.Size([128, 2, 2])\n",
      "torch.Size([128, 2, 2])\n",
      "torch.Size([128, 2, 2])\n",
      "torch.Size([128, 2, 2])\n",
      "torch.Size([128, 2, 2])\n",
      "torch.Size([128, 2, 2])\n",
      "torch.Size([128, 2, 2])\n",
      "torch.Size([128, 2, 2])\n",
      "torch.Size([128, 2, 2])\n",
      "torch.Size([128, 2, 2])\n",
      "torch.Size([128, 2, 2])\n",
      "torch.Size([128, 2, 2])\n",
      "torch.Size([128, 2, 2])\n",
      "torch.Size([128, 2, 2])\n",
      "torch.Size([128, 2, 2])\n",
      "torch.Size([128, 2, 2])\n",
      "torch.Size([128, 2, 2])\n",
      "torch.Size([128, 2, 2])\n",
      "torch.Size([128, 2, 2])\n",
      "torch.Size([128, 2, 2])\n",
      "torch.Size([128, 2, 2])\n",
      "torch.Size([128, 2, 2])\n",
      "torch.Size([128, 2, 2])\n",
      "torch.Size([128, 2, 2])\n",
      "torch.Size([128, 2, 2])\n",
      "torch.Size([128, 2, 2])\n",
      "torch.Size([128, 2, 2])\n",
      "torch.Size([128, 2, 2])\n",
      "torch.Size([128, 2, 2])\n",
      "torch.Size([128, 2, 2])\n",
      "torch.Size([128, 2, 2])\n",
      "torch.Size([128, 2, 2])\n",
      "torch.Size([128, 2, 2])\n",
      "torch.Size([128, 2, 2])\n",
      "torch.Size([128, 2, 2])\n",
      "torch.Size([128, 2, 2])\n",
      "torch.Size([128, 2, 2])"
     ]
    },
    {
     "name": "stderr",
     "output_type": "stream",
     "text": [
      " 85%|████████▌ | 2126/2494 [00:05<00:00, 427.91it/s]"
     ]
    },
    {
     "name": "stdout",
     "output_type": "stream",
     "text": [
      "\n",
      "torch.Size([128, 2, 2])\n",
      "torch.Size([128, 2, 2])\n",
      "torch.Size([128, 2, 2])\n",
      "torch.Size([128, 2, 2])\n",
      "torch.Size([128, 2, 2])\n",
      "torch.Size([128, 2, 2])\n",
      "torch.Size([128, 2, 2])\n",
      "torch.Size([128, 2, 2])\n",
      "torch.Size([128, 2, 2])\n",
      "torch.Size([128, 2, 2])\n",
      "torch.Size([128, 2, 2])\n",
      "torch.Size([128, 2, 2])\n",
      "torch.Size([128, 2, 2])\n",
      "torch.Size([128, 2, 2])\n",
      "torch.Size([128, 2, 2])\n",
      "torch.Size([128, 2, 2])\n",
      "torch.Size([128, 2, 2])\n",
      "torch.Size([128, 2, 2])\n",
      "torch.Size([128, 2, 2])\n",
      "torch.Size([128, 2, 2])\n",
      "torch.Size([128, 2, 2])\n",
      "torch.Size([128, 2, 2])\n",
      "torch.Size([128, 2, 2])\n",
      "torch.Size([128, 2, 2])\n",
      "torch.Size([128, 2, 2])\n",
      "torch.Size([128, 2, 2])\n",
      "torch.Size([128, 2, 2])\n",
      "torch.Size([128, 2, 2])\n",
      "torch.Size([128, 2, 2])\n",
      "torch.Size([128, 2, 2])\n",
      "torch.Size([128, 2, 2])\n",
      "torch.Size([128, 2, 2])\n",
      "torch.Size([128, 2, 2])\n",
      "torch.Size([128, 2, 2])\n",
      "torch.Size([128, 2, 2])\n",
      "torch.Size([128, 2, 2])\n",
      "torch.Size([128, 2, 2])\n",
      "torch.Size([128, 2, 2])\n",
      "torch.Size([128, 2, 2])\n",
      "torch.Size([128, 2, 2])\n",
      "torch.Size([128, 2, 2])\n",
      "torch.Size([128, 2, 2])\n",
      "torch.Size([128, 2, 2])\n",
      "torch.Size([128, 2, 2])\n",
      "torch.Size([128, 2, 2])\n",
      "torch.Size([128, 2, 2])\n",
      "torch.Size([128, 2, 2])\n",
      "torch.Size([128, 2, 2])\n",
      "torch.Size([128, 2, 2])\n",
      "torch.Size([128, 2, 2])\n",
      "torch.Size([128, 2, 2])\n",
      "torch.Size([128, 2, 2])\n",
      "torch.Size([128, 2, 2])\n",
      "torch.Size([128, 2, 2])\n",
      "torch.Size([128, 2, 2])\n",
      "torch.Size([128, 2, 2])\n",
      "torch.Size([128, 2, 2])\n",
      "torch.Size([128, 2, 2])\n",
      "torch.Size([128, 2, 2])\n",
      "torch.Size([128, 2, 2])\n",
      "torch.Size([128, 2, 2])\n",
      "torch.Size([128, 2, 2])\n",
      "torch.Size([128, 2, 2])\n",
      "torch.Size([128, 2, 2])\n",
      "torch.Size([128, 2, 2])\n",
      "torch.Size([128, 2, 2])\n",
      "torch.Size([128, 2, 2])\n",
      "torch.Size([128, 2, 2])\n",
      "torch.Size([128, 2, 2])\n",
      "torch.Size([128, 2, 2])\n",
      "torch.Size([128, 2, 2])\n",
      "torch.Size([128, 2, 2])\n",
      "torch.Size([128, 2, 2])\n",
      "torch.Size([128, 2, 2])\n",
      "torch.Size([128, 2, 2])\n",
      "torch.Size([128, 2, 2])\n",
      "torch.Size([128, 2, 2])\n",
      "torch.Size([128, 2, 2])\n",
      "torch.Size([128, 2, 2])\n",
      "torch.Size([128, 2, 2])\n",
      "torch.Size([128, 2, 2])\n",
      "torch.Size([128, 2, 2])"
     ]
    },
    {
     "name": "stderr",
     "output_type": "stream",
     "text": [
      " 89%|████████▉ | 2215/2494 [00:05<00:00, 418.72it/s]"
     ]
    },
    {
     "name": "stdout",
     "output_type": "stream",
     "text": [
      "\n",
      "torch.Size([128, 2, 2])\n",
      "torch.Size([128, 2, 2])\n",
      "torch.Size([128, 2, 2])\n",
      "torch.Size([128, 2, 2])\n",
      "torch.Size([128, 2, 2])\n",
      "torch.Size([128, 2, 2])\n",
      "torch.Size([128, 2, 2])\n",
      "torch.Size([128, 2, 2])\n",
      "torch.Size([128, 2, 2])\n",
      "torch.Size([128, 2, 2])\n",
      "torch.Size([128, 2, 2])\n",
      "torch.Size([128, 2, 2])\n",
      "torch.Size([128, 2, 2])\n",
      "torch.Size([128, 2, 2])\n",
      "torch.Size([128, 2, 2])\n",
      "torch.Size([128, 2, 2])\n",
      "torch.Size([128, 2, 2])\n",
      "torch.Size([128, 2, 2])\n",
      "torch.Size([128, 2, 2])\n",
      "torch.Size([128, 2, 2])\n",
      "torch.Size([128, 2, 2])\n",
      "torch.Size([128, 2, 2])\n",
      "torch.Size([128, 2, 2])\n",
      "torch.Size([128, 2, 2])\n",
      "torch.Size([128, 2, 2])\n",
      "torch.Size([128, 2, 2])\n",
      "torch.Size([128, 2, 2])\n",
      "torch.Size([128, 2, 2])\n",
      "torch.Size([128, 2, 2])\n",
      "torch.Size([128, 2, 2])\n",
      "torch.Size([128, 2, 2])\n",
      "torch.Size([128, 2, 2])\n",
      "torch.Size([128, 2, 2])\n",
      "torch.Size([128, 2, 2])\n",
      "torch.Size([128, 2, 2])\n",
      "torch.Size([128, 2, 2])\n",
      "torch.Size([128, 2, 2])\n",
      "torch.Size([128, 2, 2])\n",
      "torch.Size([128, 2, 2])\n",
      "torch.Size([128, 2, 2])\n",
      "torch.Size([128, 2, 2])\n",
      "torch.Size([128, 2, 2])\n",
      "torch.Size([128, 2, 2])\n",
      "torch.Size([128, 2, 2])\n",
      "torch.Size([128, 2, 2])\n",
      "torch.Size([128, 2, 2])\n",
      "torch.Size([128, 2, 2])\n",
      "torch.Size([128, 2, 2])\n",
      "torch.Size([128, 2, 2])\n",
      "torch.Size([128, 2, 2])\n",
      "torch.Size([128, 2, 2])\n",
      "torch.Size([128, 2, 2])\n",
      "torch.Size([128, 2, 2])\n",
      "torch.Size([128, 2, 2])\n",
      "torch.Size([128, 2, 2])\n",
      "torch.Size([128, 2, 2])\n",
      "torch.Size([128, 2, 2])\n",
      "torch.Size([128, 2, 2])\n",
      "torch.Size([128, 2, 2])\n",
      "torch.Size([128, 2, 2])\n",
      "torch.Size([128, 2, 2])\n",
      "torch.Size([128, 2, 2])\n",
      "torch.Size([128, 2, 2])\n",
      "torch.Size([128, 2, 2])\n",
      "torch.Size([128, 2, 2])\n",
      "torch.Size([128, 2, 2])\n",
      "torch.Size([128, 2, 2])\n",
      "torch.Size([128, 2, 2])\n",
      "torch.Size([128, 2, 2])\n",
      "torch.Size([128, 2, 2])\n",
      "torch.Size([128, 2, 2])\n",
      "torch.Size([128, 2, 2])\n",
      "torch.Size([128, 2, 2])\n",
      "torch.Size([128, 2, 2])\n",
      "torch.Size([128, 2, 2])\n",
      "torch.Size([128, 2, 2])\n",
      "torch.Size([128, 2, 2])"
     ]
    },
    {
     "name": "stderr",
     "output_type": "stream",
     "text": [
      " 92%|█████████▏| 2306/2494 [00:05<00:00, 433.83it/s]"
     ]
    },
    {
     "name": "stdout",
     "output_type": "stream",
     "text": [
      "\n",
      "torch.Size([128, 2, 2])\n",
      "torch.Size([128, 2, 2])\n",
      "torch.Size([128, 2, 2])\n",
      "torch.Size([128, 2, 2])\n",
      "torch.Size([128, 2, 2])\n",
      "torch.Size([128, 2, 2])\n",
      "torch.Size([128, 2, 2])\n",
      "torch.Size([128, 2, 2])\n",
      "torch.Size([128, 2, 2])\n",
      "torch.Size([128, 2, 2])\n",
      "torch.Size([128, 2, 2])\n",
      "torch.Size([128, 2, 2])\n",
      "torch.Size([128, 2, 2])\n",
      "torch.Size([128, 2, 2])\n",
      "torch.Size([128, 2, 2])\n",
      "torch.Size([128, 2, 2])\n",
      "torch.Size([128, 2, 2])\n",
      "torch.Size([128, 2, 2])\n",
      "torch.Size([128, 2, 2])\n",
      "torch.Size([128, 2, 2])\n",
      "torch.Size([128, 2, 2])\n",
      "torch.Size([128, 2, 2])\n",
      "torch.Size([128, 2, 2])\n",
      "torch.Size([128, 2, 2])\n",
      "torch.Size([128, 2, 2])\n",
      "torch.Size([128, 2, 2])\n",
      "torch.Size([128, 2, 2])\n",
      "torch.Size([128, 2, 2])\n",
      "torch.Size([128, 2, 2])\n",
      "torch.Size([128, 2, 2])\n",
      "torch.Size([128, 2, 2])\n",
      "torch.Size([128, 2, 2])\n",
      "torch.Size([128, 2, 2])\n",
      "torch.Size([128, 2, 2])\n",
      "torch.Size([128, 2, 2])\n",
      "torch.Size([128, 2, 2])\n",
      "torch.Size([128, 2, 2])\n",
      "torch.Size([128, 2, 2])\n",
      "torch.Size([128, 2, 2])\n",
      "torch.Size([128, 2, 2])\n",
      "torch.Size([128, 2, 2])\n",
      "torch.Size([128, 2, 2])\n",
      "torch.Size([128, 2, 2])\n",
      "torch.Size([128, 2, 2])\n",
      "torch.Size([128, 2, 2])\n",
      "torch.Size([128, 2, 2])\n",
      "torch.Size([128, 2, 2])\n",
      "torch.Size([128, 2, 2])\n",
      "torch.Size([128, 2, 2])\n",
      "torch.Size([128, 2, 2])\n",
      "torch.Size([128, 2, 2])\n",
      "torch.Size([128, 2, 2])\n",
      "torch.Size([128, 2, 2])\n",
      "torch.Size([128, 2, 2])\n",
      "torch.Size([128, 2, 2])\n",
      "torch.Size([128, 2, 2])\n",
      "torch.Size([128, 2, 2])\n",
      "torch.Size([128, 2, 2])\n",
      "torch.Size([128, 2, 2])\n",
      "torch.Size([128, 2, 2])\n",
      "torch.Size([128, 2, 2])\n",
      "torch.Size([128, 2, 2])\n",
      "torch.Size([128, 2, 2])\n",
      "torch.Size([128, 2, 2])\n",
      "torch.Size([128, 2, 2])\n",
      "torch.Size([128, 2, 2])\n",
      "torch.Size([128, 2, 2])\n",
      "torch.Size([128, 2, 2])\n",
      "torch.Size([128, 2, 2])\n",
      "torch.Size([128, 2, 2])\n",
      "torch.Size([128, 2, 2])\n",
      "torch.Size([128, 2, 2])\n",
      "torch.Size([128, 2, 2])\n",
      "torch.Size([128, 2, 2])\n",
      "torch.Size([128, 2, 2])\n",
      "torch.Size([128, 2, 2])\n",
      "torch.Size([128, 2, 2])\n",
      "torch.Size([128, 2, 2])\n",
      "torch.Size([128, 2, 2])\n",
      "torch.Size([128, 2, 2])\n",
      "torch.Size([128, 2, 2])\n",
      "torch.Size([128, 2, 2])\n",
      "torch.Size([128, 2, 2])"
     ]
    },
    {
     "name": "stderr",
     "output_type": "stream",
     "text": [
      " 94%|█████████▍| 2350/2494 [00:05<00:00, 423.45it/s]"
     ]
    },
    {
     "name": "stdout",
     "output_type": "stream",
     "text": [
      "\n",
      "torch.Size([128, 2, 2])\n",
      "torch.Size([128, 2, 2])\n",
      "torch.Size([128, 2, 2])\n",
      "torch.Size([128, 2, 2])\n",
      "torch.Size([128, 2, 2])\n",
      "torch.Size([128, 2, 2])\n",
      "torch.Size([128, 2, 2])\n",
      "torch.Size([128, 2, 2])\n",
      "torch.Size([128, 2, 2])\n",
      "torch.Size([128, 2, 2])\n",
      "torch.Size([128, 2, 2])\n",
      "torch.Size([128, 2, 2])\n",
      "torch.Size([128, 2, 2])\n",
      "torch.Size([128, 2, 2])\n",
      "torch.Size([128, 2, 2])\n",
      "torch.Size([128, 2, 2])\n",
      "torch.Size([128, 2, 2])\n",
      "torch.Size([128, 2, 2])\n",
      "torch.Size([128, 2, 2])\n",
      "torch.Size([128, 2, 2])\n",
      "torch.Size([128, 2, 2])\n",
      "torch.Size([128, 2, 2])\n",
      "torch.Size([128, 2, 2])\n",
      "torch.Size([128, 2, 2])\n",
      "torch.Size([128, 2, 2])\n",
      "torch.Size([128, 2, 2])\n",
      "torch.Size([128, 2, 2])\n",
      "torch.Size([128, 2, 2])\n",
      "torch.Size([128, 2, 2])\n",
      "torch.Size([128, 2, 2])\n",
      "torch.Size([128, 2, 2])\n",
      "torch.Size([128, 2, 2])\n",
      "torch.Size([128, 2, 2])\n",
      "torch.Size([128, 2, 2])\n",
      "torch.Size([128, 2, 2])\n",
      "torch.Size([128, 2, 2])\n",
      "torch.Size([128, 2, 2])\n",
      "torch.Size([128, 2, 2])\n",
      "torch.Size([128, 2, 2])\n",
      "torch.Size([128, 2, 2])\n",
      "torch.Size([128, 2, 2])\n",
      "torch.Size([128, 2, 2])\n",
      "torch.Size([128, 2, 2])\n",
      "torch.Size([128, 2, 2])\n",
      "torch.Size([128, 2, 2])\n",
      "torch.Size([128, 2, 2])\n",
      "torch.Size([128, 2, 2])\n",
      "torch.Size([128, 2, 2])\n",
      "torch.Size([128, 2, 2])\n",
      "torch.Size([128, 2, 2])\n",
      "torch.Size([128, 2, 2])\n",
      "torch.Size([128, 2, 2])\n",
      "torch.Size([128, 2, 2])\n",
      "torch.Size([128, 2, 2])\n",
      "torch.Size([128, 2, 2])\n",
      "torch.Size([128, 2, 2])\n",
      "torch.Size([128, 2, 2])\n",
      "torch.Size([128, 2, 2])\n",
      "torch.Size([128, 2, 2])\n",
      "torch.Size([128, 2, 2])\n",
      "torch.Size([128, 2, 2])\n",
      "torch.Size([128, 2, 2])\n",
      "torch.Size([128, 2, 2])\n",
      "torch.Size([128, 2, 2])\n",
      "torch.Size([128, 2, 2])\n",
      "torch.Size([128, 2, 2])\n",
      "torch.Size([128, 2, 2])\n",
      "torch.Size([128, 2, 2])\n",
      "torch.Size([128, 2, 2])\n",
      "torch.Size([128, 2, 2])\n",
      "torch.Size([128, 2, 2])\n",
      "torch.Size([128, 2, 2])\n",
      "torch.Size([128, 2, 2])\n",
      "torch.Size([128, 2, 2])\n",
      "torch.Size([128, 2, 2])\n",
      "torch.Size([128, 2, 2])\n",
      "torch.Size([128, 2, 2])\n",
      "torch.Size([128, 2, 2])\n",
      "torch.Size([128, 2, 2])\n",
      "torch.Size([128, 2, 2])\n",
      "torch.Size([128, 2, 2])"
     ]
    },
    {
     "name": "stderr",
     "output_type": "stream",
     "text": [
      " 98%|█████████▊| 2440/2494 [00:05<00:00, 432.79it/s]"
     ]
    },
    {
     "name": "stdout",
     "output_type": "stream",
     "text": [
      "\n",
      "torch.Size([128, 2, 2])\n",
      "torch.Size([128, 2, 2])\n",
      "torch.Size([128, 2, 2])\n",
      "torch.Size([128, 2, 2])\n",
      "torch.Size([128, 2, 2])\n",
      "torch.Size([128, 2, 2])\n",
      "torch.Size([128, 2, 2])\n",
      "torch.Size([128, 2, 2])\n",
      "torch.Size([128, 2, 2])\n",
      "torch.Size([128, 2, 2])\n",
      "torch.Size([128, 2, 2])\n",
      "torch.Size([128, 2, 2])\n",
      "torch.Size([128, 2, 2])\n",
      "torch.Size([128, 2, 2])\n",
      "torch.Size([128, 2, 2])\n",
      "torch.Size([128, 2, 2])\n",
      "torch.Size([128, 2, 2])\n",
      "torch.Size([128, 2, 2])\n",
      "torch.Size([128, 2, 2])\n",
      "torch.Size([128, 2, 2])\n",
      "torch.Size([128, 2, 2])\n",
      "torch.Size([128, 2, 2])\n",
      "torch.Size([128, 2, 2])\n",
      "torch.Size([128, 2, 2])\n",
      "torch.Size([128, 2, 2])\n",
      "torch.Size([128, 2, 2])\n",
      "torch.Size([128, 2, 2])\n",
      "torch.Size([128, 2, 2])\n",
      "torch.Size([128, 2, 2])\n",
      "torch.Size([128, 2, 2])\n",
      "torch.Size([128, 2, 2])\n",
      "torch.Size([128, 2, 2])\n",
      "torch.Size([128, 2, 2])\n",
      "torch.Size([128, 2, 2])\n",
      "torch.Size([128, 2, 2])\n",
      "torch.Size([128, 2, 2])\n",
      "torch.Size([128, 2, 2])\n",
      "torch.Size([128, 2, 2])\n",
      "torch.Size([128, 2, 2])\n",
      "torch.Size([128, 2, 2])\n",
      "torch.Size([128, 2, 2])\n",
      "torch.Size([128, 2, 2])\n",
      "torch.Size([128, 2, 2])\n",
      "torch.Size([128, 2, 2])\n",
      "torch.Size([128, 2, 2])\n",
      "torch.Size([128, 2, 2])\n",
      "torch.Size([128, 2, 2])\n",
      "torch.Size([128, 2, 2])\n",
      "torch.Size([128, 2, 2])\n",
      "torch.Size([128, 2, 2])\n",
      "torch.Size([128, 2, 2])\n",
      "torch.Size([128, 2, 2])\n",
      "torch.Size([128, 2, 2])\n",
      "torch.Size([128, 2, 2])\n",
      "torch.Size([128, 2, 2])\n",
      "torch.Size([128, 2, 2])\n",
      "torch.Size([128, 2, 2])\n",
      "torch.Size([128, 2, 2])\n",
      "torch.Size([128, 2, 2])\n",
      "torch.Size([128, 2, 2])\n",
      "torch.Size([128, 2, 2])\n",
      "torch.Size([128, 2, 2])\n",
      "torch.Size([128, 2, 2])\n",
      "torch.Size([128, 2, 2])\n",
      "torch.Size([128, 2, 2])\n",
      "torch.Size([128, 2, 2])\n",
      "torch.Size([128, 2, 2])\n",
      "torch.Size([128, 2, 2])\n",
      "torch.Size([128, 2, 2])\n",
      "torch.Size([128, 2, 2])\n",
      "torch.Size([128, 2, 2])\n",
      "torch.Size([128, 2, 2])\n",
      "torch.Size([128, 2, 2])\n",
      "torch.Size([128, 2, 2])\n",
      "torch.Size([128, 2, 2])\n",
      "torch.Size([128, 2, 2])\n",
      "torch.Size([128, 2, 2])\n",
      "torch.Size([128, 2, 2])\n",
      "torch.Size([128, 2, 2])\n",
      "torch.Size([128, 2, 2])\n",
      "torch.Size([128, 2, 2])\n",
      "torch.Size([128, 2, 2])"
     ]
    },
    {
     "name": "stderr",
     "output_type": "stream",
     "text": [
      "100%|██████████| 2494/2494 [00:06<00:00, 411.45it/s]"
     ]
    },
    {
     "name": "stdout",
     "output_type": "stream",
     "text": [
      "\n",
      "torch.Size([128, 2, 2])\n",
      "torch.Size([128, 2, 2])\n",
      "torch.Size([128, 2, 2])\n",
      "torch.Size([128, 2, 2])\n",
      "torch.Size([128, 2, 2])\n",
      "torch.Size([128, 2, 2])\n",
      "torch.Size([128, 2, 2])\n",
      "torch.Size([128, 2, 2])\n",
      "torch.Size([128, 2, 2])\n",
      "torch.Size([128, 2, 2])\n",
      "torch.Size([128, 2, 2])\n",
      "torch.Size([128, 2, 2])\n",
      "torch.Size([128, 2, 2])\n",
      "torch.Size([128, 2, 2])\n",
      "torch.Size([128, 2, 2])\n",
      "torch.Size([128, 2, 2])\n",
      "torch.Size([128, 2, 2])\n",
      "torch.Size([128, 2, 2])\n",
      "torch.Size([128, 2, 2])\n",
      "torch.Size([128, 2, 2])\n",
      "torch.Size([128, 2, 2])\n",
      "Accuracy: 0.736\n"
     ]
    },
    {
     "name": "stderr",
     "output_type": "stream",
     "text": [
      "\n"
     ]
    }
   ],
   "source": [
    "def test(net):\n",
    "    correct = 0 \n",
    "    total = 0\n",
    "    with torch.no_grad():\n",
    "        for i in tqdm(range(len(test_X))):\n",
    "            real_class = torch.argmax(test_y[i])\n",
    "            net_out = net(test_X[i].view(-1,1,50,50).to(device))[0]\n",
    "            predicted_class = torch.argmax(net_out)\n",
    "            \n",
    "            if predicted_class == real_class:\n",
    "                correct += 1\n",
    "            total += 1 \n",
    "        \n",
    "    print(\"Accuracy:\", round(correct/total,3))\n",
    "        \n",
    "test(net)"
   ]
  },
  {
   "cell_type": "code",
   "execution_count": 20,
   "metadata": {},
   "outputs": [],
   "source": [
    "def fwd_pass(X,y,train=False):\n",
    "    loss_function = nn.MSELoss()\n",
    "    if train:\n",
    "        net.zero_grad()\n",
    "    outputs = net(X)\n",
    "    matches = [torch.argmax(i) == torch.argmax(j) for i, j in zip(outputs, y)]#comparing the argmax of both the vectors and if same then true else false\n",
    "    acc = matches.count(True)/len(matches)\n",
    "    loss = loss_function(outputs, y)\n",
    "    \n",
    "    if train:\n",
    "        loss.backward()\n",
    "        optimizer.step()\n",
    "    return acc, loss\n",
    "    \n",
    "    "
   ]
  },
  {
   "cell_type": "code",
   "execution_count": 21,
   "metadata": {
    "tags": []
   },
   "outputs": [
    {
     "output_type": "stream",
     "name": "stdout",
     "text": "torch.Size([128, 2, 2])\n0.4375tensor(0.2508, device='cuda:0')\n"
    }
   ],
   "source": [
    "def test (size= 32):\n",
    "    \n",
    "    random_start = np.random.randint(len(test_X)-size)\n",
    "    X ,y = test_X[random_start:random_start+size], test_y[random_start:random_start+size]\n",
    "    with torch.no_grad():\n",
    "        val_acc, val_loss = fwd_pass(X.view(-1,1,50,50).to(device),y.to(device))\n",
    "    return val_acc, val_loss\n",
    "\n",
    "val_acc, val_loss = test(size=32)\n",
    "\n",
    "print(val_acc, val_loss)\n",
    "    "
   ]
  },
  {
   "cell_type": "code",
   "execution_count": 22,
   "metadata": {
    "collapsed": true,
    "jupyter": {
     "outputs_hidden": true
    },
    "tags": [
     "outputPrepend"
    ]
   },
   "outputs": [
    {
     "output_type": "stream",
     "name": "stderr",
     "text": ".Size([128, 2, 2])\ntorch.Size([128, 2, 2])\ntorch.Size([128, 2, 2])\n 79%|███████▊  | 177/225 [00:20<00:05,  8.83it/s]torch.Size([128, 2, 2])\ntorch.Size([128, 2, 2])\ntorch.Size([128, 2, 2])\n 80%|███████▉  | 179/225 [00:20<00:05,  8.26it/s]\ntorch.Size([128, 2, 2])\ntorch.Size([128, 2, 2])\n 80%|████████  | 180/225 [00:20<00:05,  8.12it/s]\ntorch.Size([128, 2, 2])\ntorch.Size([128, 2, 2])\n 81%|████████  | 182/225 [00:21<00:05,  8.28it/s]torch.Size([128, 2, 2])\ntorch.Size([128, 2, 2])\ntorch.Size([128, 2, 2])\ntorch.Size([128, 2, 2])\n 81%|████████▏ | 183/225 [00:21<00:05,  7.91it/s]torch.Size([128, 2, 2])\ntorch.Size([128, 2, 2])\ntorch.Size([128, 2, 2])\n 82%|████████▏ | 185/225 [00:21<00:04,  8.22it/s]torch.Size([128, 2, 2])\ntorch.Size([128, 2, 2])\ntorch.Size([128, 2, 2])\ntorch.Size([128, 2, 2])\n 83%|████████▎ | 187/225 [00:21<00:04,  8.58it/s]torch.Size([128, 2, 2])\ntorch.Size([128, 2, 2])\ntorch.Size([128, 2, 2])\n 84%|████████▍ | 189/225 [00:21<00:04,  8.27it/s]\ntorch.Size([128, 2, 2])\ntorch.Size([128, 2, 2])\n 84%|████████▍ | 190/225 [00:22<00:04,  8.25it/s]\ntorch.Size([128, 2, 2])\ntorch.Size([128, 2, 2])\ntorch.Size([128, 2, 2])\n 85%|████████▌ | 192/225 [00:22<00:03,  8.43it/s]torch.Size([128, 2, 2])\ntorch.Size([128, 2, 2])\ntorch.Size([128, 2, 2])\ntorch.Size([128, 2, 2])\n 86%|████████▌ | 194/225 [00:22<00:03,  8.82it/s]torch.Size([128, 2, 2])\ntorch.Size([128, 2, 2])\ntorch.Size([128, 2, 2])\ntorch.Size([128, 2, 2])\n 87%|████████▋ | 196/225 [00:22<00:03,  8.73it/s]torch.Size([128, 2, 2])\ntorch.Size([128, 2, 2])\ntorch.Size([128, 2, 2])\n 88%|████████▊ | 197/225 [00:22<00:03,  8.19it/s]torch.Size([128, 2, 2])\ntorch.Size([128, 2, 2])\ntorch.Size([128, 2, 2])\n 88%|████████▊ | 199/225 [00:23<00:03,  8.21it/s]torch.Size([128, 2, 2])\ntorch.Size([128, 2, 2])\ntorch.Size([128, 2, 2])\n 89%|████████▉ | 201/225 [00:23<00:02,  8.68it/s]\ntorch.Size([128, 2, 2])\ntorch.Size([128, 2, 2])\ntorch.Size([128, 2, 2])\n 90%|█████████ | 203/225 [00:23<00:02,  8.60it/s]torch.Size([128, 2, 2])\ntorch.Size([128, 2, 2])\ntorch.Size([128, 2, 2])\ntorch.Size([128, 2, 2])\n 91%|█████████ | 205/225 [00:23<00:02,  8.76it/s]torch.Size([128, 2, 2])\ntorch.Size([128, 2, 2])\ntorch.Size([128, 2, 2])\ntorch.Size([128, 2, 2])\n 92%|█████████▏| 207/225 [00:24<00:02,  8.30it/s]torch.Size([128, 2, 2])\ntorch.Size([128, 2, 2])\ntorch.Size([128, 2, 2])\ntorch.Size([128, 2, 2])\n 93%|█████████▎| 209/225 [00:24<00:01,  8.64it/s]torch.Size([128, 2, 2])\ntorch.Size([128, 2, 2])\ntorch.Size([128, 2, 2])\ntorch.Size([128, 2, 2])\n 94%|█████████▍| 211/225 [00:24<00:01,  9.00it/s]torch.Size([128, 2, 2])\ntorch.Size([128, 2, 2])\ntorch.Size([128, 2, 2])\ntorch.Size([128, 2, 2])\n 95%|█████████▍| 213/225 [00:24<00:01,  8.68it/s]torch.Size([128, 2, 2])\ntorch.Size([128, 2, 2])\ntorch.Size([128, 2, 2])\ntorch.Size([128, 2, 2])\n 96%|█████████▌| 215/225 [00:24<00:01,  8.46it/s]torch.Size([128, 2, 2])\ntorch.Size([128, 2, 2])\ntorch.Size([128, 2, 2])\ntorch.Size([128, 2, 2])\n 96%|█████████▋| 217/225 [00:25<00:00,  8.32it/s]torch.Size([128, 2, 2])\ntorch.Size([128, 2, 2])\ntorch.Size([128, 2, 2])\ntorch.Size([128, 2, 2])\n 97%|█████████▋| 219/225 [00:25<00:00,  8.82it/s]torch.Size([128, 2, 2])\ntorch.Size([128, 2, 2])\ntorch.Size([128, 2, 2])\ntorch.Size([128, 2, 2])\n 98%|█████████▊| 221/225 [00:25<00:00,  8.92it/s]torch.Size([128, 2, 2])\ntorch.Size([128, 2, 2])\ntorch.Size([128, 2, 2])\ntorch.Size([128, 2, 2])\n 99%|█████████▉| 223/225 [00:25<00:00,  8.85it/s]torch.Size([128, 2, 2])\ntorch.Size([128, 2, 2])\ntorch.Size([128, 2, 2])\ntorch.Size([128, 2, 2])\n100%|██████████| 225/225 [00:26<00:00,  8.62it/s]\n  0%|          | 0/225 [00:00<?, ?it/s]torch.Size([128, 2, 2])\ntorch.Size([128, 2, 2])\ntorch.Size([128, 2, 2])\ntorch.Size([128, 2, 2])\n  1%|          | 2/225 [00:00<00:27,  8.07it/s]torch.Size([128, 2, 2])\ntorch.Size([128, 2, 2])\ntorch.Size([128, 2, 2])\ntorch.Size([128, 2, 2])\n  2%|▏         | 4/225 [00:00<00:25,  8.66it/s]torch.Size([128, 2, 2])\ntorch.Size([128, 2, 2])\ntorch.Size([128, 2, 2])\ntorch.Size([128, 2, 2])\n  3%|▎         | 6/225 [00:00<00:24,  8.88it/s]torch.Size([128, 2, 2])\ntorch.Size([128, 2, 2])\ntorch.Size([128, 2, 2])\ntorch.Size([128, 2, 2])\n  3%|▎         | 7/225 [00:00<00:26,  8.24it/s]torch.Size([128, 2, 2])\ntorch.Size([128, 2, 2])\ntorch.Size([128, 2, 2])\n  4%|▍         | 9/225 [00:01<00:26,  8.28it/s]torch.Size([128, 2, 2])\ntorch.Size([128, 2, 2])\ntorch.Size([128, 2, 2])\n  5%|▍         | 11/225 [00:01<00:25,  8.41it/s]\ntorch.Size([128, 2, 2])\ntorch.Size([128, 2, 2])\ntorch.Size([128, 2, 2])\n  6%|▌         | 13/225 [00:01<00:24,  8.77it/s]torch.Size([128, 2, 2])\ntorch.Size([128, 2, 2])\ntorch.Size([128, 2, 2])\ntorch.Size([128, 2, 2])\n  7%|▋         | 15/225 [00:01<00:23,  8.96it/s]torch.Size([128, 2, 2])\ntorch.Size([128, 2, 2])\ntorch.Size([128, 2, 2])\ntorch.Size([128, 2, 2])\n  8%|▊         | 17/225 [00:01<00:24,  8.60it/s]torch.Size([128, 2, 2])\ntorch.Size([128, 2, 2])\ntorch.Size([128, 2, 2])\ntorch.Size([128, 2, 2])\n  8%|▊         | 19/225 [00:02<00:24,  8.38it/s]torch.Size([128, 2, 2])\ntorch.Size([128, 2, 2])\ntorch.Size([128, 2, 2])\ntorch.Size([128, 2, 2])\n  9%|▉         | 21/225 [00:02<00:23,  8.76it/s]torch.Size([128, 2, 2])\ntorch.Size([128, 2, 2])\ntorch.Size([128, 2, 2])\ntorch.Size([128, 2, 2])\n 10%|█         | 23/225 [00:02<00:22,  8.92it/s]torch.Size([128, 2, 2])\ntorch.Size([128, 2, 2])\ntorch.Size([128, 2, 2])\ntorch.Size([128, 2, 2])\n 11%|█         | 25/225 [00:02<00:22,  9.06it/s]torch.Size([128, 2, 2])\ntorch.Size([128, 2, 2])\ntorch.Size([128, 2, 2])\ntorch.Size([128, 2, 2])\n 12%|█▏        | 27/225 [00:03<00:23,  8.55it/s]torch.Size([128, 2, 2])\ntorch.Size([128, 2, 2])\ntorch.Size([128, 2, 2])\ntorch.Size([128, 2, 2])\n 13%|█▎        | 29/225 [00:03<00:24,  8.14it/s]torch.Size([128, 2, 2])\ntorch.Size([128, 2, 2])\ntorch.Size([128, 2, 2])\n 13%|█▎        | 30/225 [00:03<00:23,  8.45it/s]\ntorch.Size([128, 2, 2])\ntorch.Size([128, 2, 2])\n 14%|█▍        | 32/225 [00:03<00:22,  8.48it/s]\ntorch.Size([128, 2, 2])\ntorch.Size([128, 2, 2])\ntorch.Size([128, 2, 2])\n 15%|█▌        | 34/225 [00:03<00:21,  8.85it/s]torch.Size([128, 2, 2])\ntorch.Size([128, 2, 2])\ntorch.Size([128, 2, 2])\ntorch.Size([128, 2, 2])\n 16%|█▌        | 36/225 [00:04<00:22,  8.42it/s]torch.Size([128, 2, 2])\ntorch.Size([128, 2, 2])\ntorch.Size([128, 2, 2])\ntorch.Size([128, 2, 2])\n 17%|█▋        | 38/225 [00:04<00:22,  8.41it/s]torch.Size([128, 2, 2])\ntorch.Size([128, 2, 2])\ntorch.Size([128, 2, 2])\ntorch.Size([128, 2, 2])\n 18%|█▊        | 40/225 [00:04<00:21,  8.53it/s]torch.Size([128, 2, 2])\ntorch.Size([128, 2, 2])\ntorch.Size([128, 2, 2])\ntorch.Size([128, 2, 2])\n 19%|█▊        | 42/225 [00:04<00:20,  8.81it/s]torch.Size([128, 2, 2])\ntorch.Size([128, 2, 2])\ntorch.Size([128, 2, 2])\ntorch.Size([128, 2, 2])\n 20%|█▉        | 44/225 [00:05<00:21,  8.51it/s]torch.Size([128, 2, 2])\ntorch.Size([128, 2, 2])\ntorch.Size([128, 2, 2])\ntorch.Size([128, 2, 2])\n 20%|██        | 46/225 [00:05<00:21,  8.32it/s]torch.Size([128, 2, 2])\ntorch.Size([128, 2, 2])\ntorch.Size([128, 2, 2])\ntorch.Size([128, 2, 2])\n 21%|██▏       | 48/225 [00:05<00:20,  8.73it/s]torch.Size([128, 2, 2])\ntorch.Size([128, 2, 2])\ntorch.Size([128, 2, 2])\ntorch.Size([128, 2, 2])\n 22%|██▏       | 50/225 [00:05<00:20,  8.69it/s]torch.Size([128, 2, 2])\ntorch.Size([128, 2, 2])\ntorch.Size([128, 2, 2])\ntorch.Size([128, 2, 2])\n 23%|██▎       | 52/225 [00:06<00:19,  8.96it/s]torch.Size([128, 2, 2])\ntorch.Size([128, 2, 2])\ntorch.Size([128, 2, 2])\ntorch.Size([128, 2, 2])\n 24%|██▎       | 53/225 [00:06<00:20,  8.29it/s]torch.Size([128, 2, 2])\ntorch.Size([128, 2, 2])\ntorch.Size([128, 2, 2])\n 24%|██▍       | 55/225 [00:06<00:20,  8.20it/s]torch.Size([128, 2, 2])\ntorch.Size([128, 2, 2])\ntorch.Size([128, 2, 2])\n 25%|██▌       | 57/225 [00:06<00:19,  8.74it/s]\ntorch.Size([128, 2, 2])\ntorch.Size([128, 2, 2])\ntorch.Size([128, 2, 2])\n 26%|██▌       | 59/225 [00:06<00:19,  8.45it/s]torch.Size([128, 2, 2])\ntorch.Size([128, 2, 2])\ntorch.Size([128, 2, 2])\ntorch.Size([128, 2, 2])\n 27%|██▋       | 61/225 [00:07<00:19,  8.50it/s]torch.Size([128, 2, 2])\ntorch.Size([128, 2, 2])\ntorch.Size([128, 2, 2])\ntorch.Size([128, 2, 2])\n 28%|██▊       | 62/225 [00:07<00:19,  8.33it/s]torch.Size([128, 2, 2])\ntorch.Size([128, 2, 2])\ntorch.Size([128, 2, 2])\n 28%|██▊       | 64/225 [00:07<00:19,  8.30it/s]torch.Size([128, 2, 2])\ntorch.Size([128, 2, 2])\ntorch.Size([128, 2, 2])\ntorch.Size([128, 2, 2])\n 29%|██▉       | 66/225 [00:07<00:18,  8.67it/s]torch.Size([128, 2, 2])\ntorch.Size([128, 2, 2])\ntorch.Size([128, 2, 2])\ntorch.Size([128, 2, 2])\n 30%|███       | 68/225 [00:07<00:17,  9.04it/s]torch.Size([128, 2, 2])\ntorch.Size([128, 2, 2])\ntorch.Size([128, 2, 2])\n 31%|███       | 70/225 [00:08<00:18,  8.34it/s]\ntorch.Size([128, 2, 2])\ntorch.Size([128, 2, 2])\ntorch.Size([128, 2, 2])\n 32%|███▏      | 71/225 [00:08<00:19,  7.91it/s]torch.Size([128, 2, 2])\ntorch.Size([128, 2, 2])\ntorch.Size([128, 2, 2])\n 32%|███▏      | 73/225 [00:08<00:18,  8.18it/s]torch.Size([128, 2, 2])\ntorch.Size([128, 2, 2])\ntorch.Size([128, 2, 2])\ntorch.Size([128, 2, 2])\n 33%|███▎      | 75/225 [00:08<00:17,  8.52it/s]torch.Size([128, 2, 2])\ntorch.Size([128, 2, 2])\ntorch.Size([128, 2, 2])\n 34%|███▍      | 77/225 [00:09<00:17,  8.31it/s]torch.Size([128, 2, 2])\ntorch.Size([128, 2, 2])\ntorch.Size([128, 2, 2])\ntorch.Size([128, 2, 2])\n 35%|███▌      | 79/225 [00:09<00:17,  8.18it/s]torch.Size([128, 2, 2])\ntorch.Size([128, 2, 2])\ntorch.Size([128, 2, 2])\ntorch.Size([128, 2, 2])\n 36%|███▌      | 81/225 [00:09<00:17,  8.03it/s]torch.Size([128, 2, 2])\ntorch.Size([128, 2, 2])\ntorch.Size([128, 2, 2])\ntorch.Size([128, 2, 2])\n 37%|███▋      | 83/225 [00:09<00:16,  8.46it/s]torch.Size([128, 2, 2])\ntorch.Size([128, 2, 2])\ntorch.Size([128, 2, 2])\ntorch.Size([128, 2, 2])\n 38%|███▊      | 85/225 [00:09<00:15,  8.79it/s]torch.Size([128, 2, 2])\ntorch.Size([128, 2, 2])\ntorch.Size([128, 2, 2])\ntorch.Size([128, 2, 2])\n 39%|███▊      | 87/225 [00:10<00:16,  8.56it/s]torch.Size([128, 2, 2])\ntorch.Size([128, 2, 2])\ntorch.Size([128, 2, 2])\n 39%|███▉      | 88/225 [00:10<00:16,  8.44it/s]\ntorch.Size([128, 2, 2])\ntorch.Size([128, 2, 2])\n 40%|████      | 90/225 [00:10<00:16,  8.43it/s]\ntorch.Size([128, 2, 2])\ntorch.Size([128, 2, 2])\ntorch.Size([128, 2, 2])\n 41%|████      | 92/225 [00:10<00:15,  8.73it/s]torch.Size([128, 2, 2])\ntorch.Size([128, 2, 2])\ntorch.Size([128, 2, 2])\ntorch.Size([128, 2, 2])\n 42%|████▏     | 94/225 [00:11<00:15,  8.27it/s]torch.Size([128, 2, 2])\ntorch.Size([128, 2, 2])\ntorch.Size([128, 2, 2])\ntorch.Size([128, 2, 2])\n 42%|████▏     | 95/225 [00:11<00:15,  8.38it/s]torch.Size([128, 2, 2])\ntorch.Size([128, 2, 2])\ntorch.Size([128, 2, 2])\n 43%|████▎     | 97/225 [00:11<00:16,  7.91it/s]torch.Size([128, 2, 2])\ntorch.Size([128, 2, 2])\ntorch.Size([128, 2, 2])\n 44%|████▍     | 99/225 [00:11<00:15,  8.25it/s]\ntorch.Size([128, 2, 2])\ntorch.Size([128, 2, 2])\ntorch.Size([128, 2, 2])\n 45%|████▍     | 101/225 [00:11<00:14,  8.64it/s]torch.Size([128, 2, 2])\ntorch.Size([128, 2, 2])\ntorch.Size([128, 2, 2])\ntorch.Size([128, 2, 2])\n 46%|████▌     | 103/225 [00:12<00:14,  8.51it/s]torch.Size([128, 2, 2])\ntorch.Size([128, 2, 2])\ntorch.Size([128, 2, 2])\ntorch.Size([128, 2, 2])\n 46%|████▌     | 104/225 [00:12<00:14,  8.15it/s]torch.Size([128, 2, 2])\ntorch.Size([128, 2, 2])\ntorch.Size([128, 2, 2])\n 47%|████▋     | 106/225 [00:12<00:15,  7.73it/s]torch.Size([128, 2, 2])\ntorch.Size([128, 2, 2])\ntorch.Size([128, 2, 2])\n 48%|████▊     | 108/225 [00:12<00:14,  8.17it/s]torch.Size([128, 2, 2])\ntorch.Size([128, 2, 2])\ntorch.Size([128, 2, 2])\ntorch.Size([128, 2, 2])\n 49%|████▉     | 110/225 [00:13<00:13,  8.29it/s]torch.Size([128, 2, 2])\ntorch.Size([128, 2, 2])\ntorch.Size([128, 2, 2])\ntorch.Size([128, 2, 2])\n 50%|████▉     | 112/225 [00:13<00:12,  8.72it/s]torch.Size([128, 2, 2])\ntorch.Size([128, 2, 2])\ntorch.Size([128, 2, 2])\ntorch.Size([128, 2, 2])\n 50%|█████     | 113/225 [00:13<00:13,  8.07it/s]torch.Size([128, 2, 2])\ntorch.Size([128, 2, 2])\ntorch.Size([128, 2, 2])\n 51%|█████     | 115/225 [00:13<00:13,  7.96it/s]torch.Size([128, 2, 2])\ntorch.Size([128, 2, 2])\ntorch.Size([128, 2, 2])\n 52%|█████▏    | 117/225 [00:13<00:13,  8.03it/s]\ntorch.Size([128, 2, 2])\ntorch.Size([128, 2, 2])\n 52%|█████▏    | 118/225 [00:13<00:12,  8.37it/s]\ntorch.Size([128, 2, 2])\ntorch.Size([128, 2, 2])\ntorch.Size([128, 2, 2])\n 53%|█████▎    | 120/225 [00:14<00:12,  8.74it/s]torch.Size([128, 2, 2])\ntorch.Size([128, 2, 2])\ntorch.Size([128, 2, 2])\n 54%|█████▍    | 122/225 [00:14<00:12,  8.43it/s]\ntorch.Size([128, 2, 2])\ntorch.Size([128, 2, 2])\ntorch.Size([128, 2, 2])\n 55%|█████▌    | 124/225 [00:14<00:11,  8.42it/s]torch.Size([128, 2, 2])\ntorch.Size([128, 2, 2])\ntorch.Size([128, 2, 2])\ntorch.Size([128, 2, 2])\n 56%|█████▌    | 126/225 [00:14<00:11,  8.52it/s]torch.Size([128, 2, 2])\ntorch.Size([128, 2, 2])\ntorch.Size([128, 2, 2])\ntorch.Size([128, 2, 2])\n 57%|█████▋    | 128/225 [00:15<00:10,  8.87it/s]torch.Size([128, 2, 2])\ntorch.Size([128, 2, 2])\ntorch.Size([128, 2, 2])\ntorch.Size([128, 2, 2])\n 58%|█████▊    | 130/225 [00:15<00:11,  8.61it/s]torch.Size([128, 2, 2])\ntorch.Size([128, 2, 2])\ntorch.Size([128, 2, 2])\ntorch.Size([128, 2, 2])\n 59%|█████▊    | 132/225 [00:15<00:11,  8.24it/s]torch.Size([128, 2, 2])\ntorch.Size([128, 2, 2])\ntorch.Size([128, 2, 2])\ntorch.Size([128, 2, 2])\n 60%|█████▉    | 134/225 [00:15<00:10,  8.67it/s]torch.Size([128, 2, 2])\ntorch.Size([128, 2, 2])\ntorch.Size([128, 2, 2])\ntorch.Size([128, 2, 2])\n 60%|██████    | 136/225 [00:16<00:10,  8.76it/s]torch.Size([128, 2, 2])\ntorch.Size([128, 2, 2])\ntorch.Size([128, 2, 2])\ntorch.Size([128, 2, 2])\n 61%|██████▏   | 138/225 [00:16<00:09,  8.92it/s]torch.Size([128, 2, 2])\ntorch.Size([128, 2, 2])\ntorch.Size([128, 2, 2])\ntorch.Size([128, 2, 2])\n 62%|██████▏   | 140/225 [00:16<00:10,  8.45it/s]torch.Size([128, 2, 2])\ntorch.Size([128, 2, 2])\ntorch.Size([128, 2, 2])\n 63%|██████▎   | 141/225 [00:16<00:09,  8.40it/s]\ntorch.Size([128, 2, 2])\ntorch.Size([128, 2, 2])\n 64%|██████▎   | 143/225 [00:16<00:09,  8.78it/s]\ntorch.Size([128, 2, 2])\ntorch.Size([128, 2, 2])\ntorch.Size([128, 2, 2])\n 64%|██████▍   | 145/225 [00:17<00:08,  8.99it/s]torch.Size([128, 2, 2])\ntorch.Size([128, 2, 2])\ntorch.Size([128, 2, 2])\ntorch.Size([128, 2, 2])\n 65%|██████▌   | 147/225 [00:17<00:09,  8.63it/s]torch.Size([128, 2, 2])\ntorch.Size([128, 2, 2])\ntorch.Size([128, 2, 2])\ntorch.Size([128, 2, 2])\n 66%|██████▌   | 148/225 [00:17<00:09,  8.17it/s]torch.Size([128, 2, 2])\ntorch.Size([128, 2, 2])\ntorch.Size([128, 2, 2])\n 67%|██████▋   | 150/225 [00:17<00:09,  7.92it/s]torch.Size([128, 2, 2])\ntorch.Size([128, 2, 2])\ntorch.Size([128, 2, 2])\ntorch.Size([128, 2, 2])\n 68%|██████▊   | 152/225 [00:17<00:08,  8.32it/s]torch.Size([128, 2, 2])\ntorch.Size([128, 2, 2])\ntorch.Size([128, 2, 2])\ntorch.Size([128, 2, 2])\n 68%|██████▊   | 154/225 [00:18<00:08,  8.57it/s]torch.Size([128, 2, 2])\ntorch.Size([128, 2, 2])\ntorch.Size([128, 2, 2])\ntorch.Size([128, 2, 2])\n 69%|██████▉   | 156/225 [00:18<00:08,  8.50it/s]torch.Size([128, 2, 2])\ntorch.Size([128, 2, 2])\ntorch.Size([128, 2, 2])\n 70%|██████▉   | 157/225 [00:18<00:08,  7.94it/s]torch.Size([128, 2, 2])\ntorch.Size([128, 2, 2])\ntorch.Size([128, 2, 2])\n 71%|███████   | 159/225 [00:18<00:08,  8.11it/s]torch.Size([128, 2, 2])\ntorch.Size([128, 2, 2])\ntorch.Size([128, 2, 2])\n 71%|███████   | 160/225 [00:18<00:07,  8.28it/s]\ntorch.Size([128, 2, 2])\ntorch.Size([128, 2, 2])\n 72%|███████▏  | 162/225 [00:19<00:08,  7.80it/s]torch.Size([128, 2, 2])\ntorch.Size([128, 2, 2])\ntorch.Size([128, 2, 2])\n 73%|███████▎  | 164/225 [00:19<00:07,  7.98it/s]\ntorch.Size([128, 2, 2])\ntorch.Size([128, 2, 2])\ntorch.Size([128, 2, 2])\n 74%|███████▍  | 166/225 [00:19<00:07,  7.97it/s]torch.Size([128, 2, 2])\ntorch.Size([128, 2, 2])\ntorch.Size([128, 2, 2])\ntorch.Size([128, 2, 2])\n 74%|███████▍  | 167/225 [00:19<00:07,  8.14it/s]torch.Size([128, 2, 2])\ntorch.Size([128, 2, 2])\ntorch.Size([128, 2, 2])\n 75%|███████▌  | 169/225 [00:20<00:06,  8.29it/s]torch.Size([128, 2, 2])\ntorch.Size([128, 2, 2])\ntorch.Size([128, 2, 2])\ntorch.Size([128, 2, 2])\n 76%|███████▌  | 171/225 [00:20<00:06,  8.46it/s]torch.Size([128, 2, 2])\ntorch.Size([128, 2, 2])\ntorch.Size([128, 2, 2])\ntorch.Size([128, 2, 2])\n 77%|███████▋  | 173/225 [00:20<00:06,  7.92it/s]torch.Size([128, 2, 2])\ntorch.Size([128, 2, 2])\ntorch.Size([128, 2, 2])\n 77%|███████▋  | 174/225 [00:20<00:07,  6.47it/s]torch.Size([128, 2, 2])\ntorch.Size([128, 2, 2])\n 78%|███████▊  | 175/225 [00:20<00:07,  6.40it/s]\ntorch.Size([128, 2, 2])\n 78%|███████▊  | 176/225 [00:21<00:08,  5.77it/s]\ntorch.Size([128, 2, 2])\n 79%|███████▊  | 177/225 [00:21<00:08,  5.96it/s]torch.Size([128, 2, 2])\ntorch.Size([128, 2, 2])\ntorch.Size([128, 2, 2])\n 80%|███████▉  | 179/225 [00:21<00:07,  6.37it/s]torch.Size([128, 2, 2])\ntorch.Size([128, 2, 2])\ntorch.Size([128, 2, 2])\n 80%|████████  | 180/225 [00:21<00:06,  6.58it/s]torch.Size([128, 2, 2])\ntorch.Size([128, 2, 2])\ntorch.Size([128, 2, 2])\n 81%|████████  | 182/225 [00:21<00:05,  7.38it/s]torch.Size([128, 2, 2])\ntorch.Size([128, 2, 2])\ntorch.Size([128, 2, 2])\ntorch.Size([128, 2, 2])\n 82%|████████▏ | 184/225 [00:22<00:04,  8.28it/s]torch.Size([128, 2, 2])\ntorch.Size([128, 2, 2])\ntorch.Size([128, 2, 2])\ntorch.Size([128, 2, 2])\n 83%|████████▎ | 186/225 [00:22<00:04,  8.76it/s]torch.Size([128, 2, 2])\ntorch.Size([128, 2, 2])\ntorch.Size([128, 2, 2])\ntorch.Size([128, 2, 2])\n 84%|████████▎ | 188/225 [00:22<00:04,  8.69it/s]torch.Size([128, 2, 2])\ntorch.Size([128, 2, 2])\ntorch.Size([128, 2, 2])\n 84%|████████▍ | 190/225 [00:22<00:03,  8.78it/s]\ntorch.Size([128, 2, 2])\ntorch.Size([128, 2, 2])\ntorch.Size([128, 2, 2])\n 85%|████████▌ | 192/225 [00:23<00:03,  9.12it/s]torch.Size([128, 2, 2])\ntorch.Size([128, 2, 2])\ntorch.Size([128, 2, 2])\ntorch.Size([128, 2, 2])\n 86%|████████▌ | 194/225 [00:23<00:03,  9.32it/s]torch.Size([128, 2, 2])\ntorch.Size([128, 2, 2])\ntorch.Size([128, 2, 2])\ntorch.Size([128, 2, 2])\n 87%|████████▋ | 196/225 [00:23<00:03,  9.45it/s]torch.Size([128, 2, 2])\ntorch.Size([128, 2, 2])\ntorch.Size([128, 2, 2])\ntorch.Size([128, 2, 2])\n 88%|████████▊ | 198/225 [00:23<00:03,  8.57it/s]torch.Size([128, 2, 2])\ntorch.Size([128, 2, 2])\ntorch.Size([128, 2, 2])\ntorch.Size([128, 2, 2])\n 89%|████████▉ | 200/225 [00:23<00:02,  8.88it/s]torch.Size([128, 2, 2])\ntorch.Size([128, 2, 2])\ntorch.Size([128, 2, 2])\ntorch.Size([128, 2, 2])\n 90%|████████▉ | 202/225 [00:24<00:02,  9.17it/s]torch.Size([128, 2, 2])\ntorch.Size([128, 2, 2])\ntorch.Size([128, 2, 2])\ntorch.Size([128, 2, 2])\n 91%|█████████ | 204/225 [00:24<00:02,  9.40it/s]torch.Size([128, 2, 2])\ntorch.Size([128, 2, 2])\ntorch.Size([128, 2, 2])\ntorch.Size([128, 2, 2])\n 92%|█████████▏| 206/225 [00:24<00:02,  9.45it/s]torch.Size([128, 2, 2])\ntorch.Size([128, 2, 2])\ntorch.Size([128, 2, 2])\ntorch.Size([128, 2, 2])\n 92%|█████████▏| 208/225 [00:24<00:01,  9.05it/s]torch.Size([128, 2, 2])\ntorch.Size([128, 2, 2])\ntorch.Size([128, 2, 2])\ntorch.Size([128, 2, 2])\n 93%|█████████▎| 210/225 [00:25<00:01,  9.26it/s]torch.Size([128, 2, 2])\ntorch.Size([128, 2, 2])\ntorch.Size([128, 2, 2])\ntorch.Size([128, 2, 2])\n 94%|█████████▍| 212/225 [00:25<00:01,  9.01it/s]torch.Size([128, 2, 2])\ntorch.Size([128, 2, 2])\ntorch.Size([128, 2, 2])\ntorch.Size([128, 2, 2])\n 95%|█████████▌| 214/225 [00:25<00:01,  8.78it/s]torch.Size([128, 2, 2])\ntorch.Size([128, 2, 2])\ntorch.Size([128, 2, 2])\ntorch.Size([128, 2, 2])\n 96%|█████████▌| 216/225 [00:25<00:01,  8.41it/s]torch.Size([128, 2, 2])\ntorch.Size([128, 2, 2])\ntorch.Size([128, 2, 2])\ntorch.Size([128, 2, 2])\n 97%|█████████▋| 218/225 [00:25<00:00,  8.53it/s]torch.Size([128, 2, 2])\ntorch.Size([128, 2, 2])\ntorch.Size([128, 2, 2])\ntorch.Size([128, 2, 2])\n 98%|█████████▊| 220/225 [00:26<00:00,  9.01it/s]torch.Size([128, 2, 2])\ntorch.Size([128, 2, 2])\ntorch.Size([128, 2, 2])\ntorch.Size([128, 2, 2])\n 99%|█████████▊| 222/225 [00:26<00:00,  9.32it/s]torch.Size([128, 2, 2])\ntorch.Size([128, 2, 2])\ntorch.Size([128, 2, 2])\ntorch.Size([128, 2, 2])\n100%|█████████▉| 224/225 [00:26<00:00,  9.49it/s]torch.Size([128, 2, 2])\ntorch.Size([128, 2, 2])\ntorch.Size([128, 2, 2])\ntorch.Size([128, 2, 2])\n100%|██████████| 225/225 [00:26<00:00,  8.43it/s]\n\n"
    }
   ],
   "source": [
    "import time\n",
    "\n",
    "MODEL_NAME = f\"model-{int(time.time())}\"\n",
    "\n",
    "net= Net().to(device)\n",
    "optimizer = optim.Adam(net.parameters(), lr=0.001)\n",
    "loss_function = nn.MSELoss()\n",
    "\n",
    "print(MODEL_NAME)\n",
    "\n",
    "def train():\n",
    "    BATCH_SIZE = 100\n",
    "    EPOCHS = 5\n",
    "    with open(\"model.log\", \"a\") as f:\n",
    "        for epoch in range(EPOCHS):\n",
    "            for i in tqdm(range(0, len(train_X), BATCH_SIZE)):\n",
    "                batch_X = train_X[i:i+BATCH_SIZE].view(-1,1,50,50)\n",
    "                batch_y = train_y[i:i+BATCH_SIZE]\n",
    "\n",
    "                batch_X, batch_y = batch_X.to(device), batch_y.to(device)\n",
    "\n",
    "                acc, loss = fwd_pass(batch_X, batch_y, train=True)\n",
    "\n",
    "                #print(f\"Acc: {round(float(acc),2)}  Loss: {round(float(loss),4)}\")\n",
    "                #f.write(f\"{MODEL_NAME},{round(time.time(),3)},train,{round(float(acc),2)},{round(float(loss),4)}\\n\")\n",
    "                # just to show the above working, and then get out:\n",
    "                if i % 10 == 0:\n",
    "                    val_acc, val_loss = test(size=100)\n",
    "                    f.write(f\"{MODEL_NAME},{round(time.time(),3)},{round(float(acc),2)},{round(float(loss), 4)},{round(float(val_acc),2)},{round(float(val_loss),4)}\\n\")\n",
    "                    \n",
    "train()"
   ]
  },
  {
   "cell_type": "code",
   "execution_count": 34,
   "metadata": {},
   "outputs": [
    {
     "output_type": "display_data",
     "data": {
      "text/plain": "<Figure size 432x288 with 2 Axes>",
      "image/svg+xml": "<?xml version=\"1.0\" encoding=\"utf-8\" standalone=\"no\"?>\r\n<!DOCTYPE svg PUBLIC \"-//W3C//DTD SVG 1.1//EN\"\r\n  \"http://www.w3.org/Graphics/SVG/1.1/DTD/svg11.dtd\">\r\n<!-- Created with matplotlib (https://matplotlib.org/) -->\r\n<svg height=\"261.19625pt\" version=\"1.1\" viewBox=\"0 0 372.103126 261.19625\" width=\"372.103126pt\" xmlns=\"http://www.w3.org/2000/svg\" xmlns:xlink=\"http://www.w3.org/1999/xlink\">\r\n <defs>\r\n  <style type=\"text/css\">\r\n*{stroke-linecap:butt;stroke-linejoin:round;}\r\n  </style>\r\n </defs>\r\n <g id=\"figure_1\">\r\n  <g id=\"patch_1\">\r\n   <path d=\"M 0 261.19625 \r\nL 372.103126 261.19625 \r\nL 372.103126 0 \r\nL 0 0 \r\nz\r\n\" style=\"fill:#ffffff;\"/>\r\n  </g>\r\n  <g id=\"axes_1\">\r\n   <g id=\"patch_2\">\r\n    <path d=\"M 30.103125 106.036364 \r\nL 364.903125 106.036364 \r\nL 364.903125 7.2 \r\nL 30.103125 7.2 \r\nz\r\n\" style=\"fill:#e5e5e5;\"/>\r\n   </g>\r\n   <g id=\"matplotlib.axis_1\">\r\n    <g id=\"xtick_1\">\r\n     <g id=\"line2d_1\">\r\n      <path clip-path=\"url(#p8546fd5638)\" d=\"M 71.960538 106.036364 \r\nL 71.960538 7.2 \r\n\" style=\"fill:none;stroke:#ffffff;stroke-linecap:square;stroke-width:0.8;\"/>\r\n     </g>\r\n     <g id=\"line2d_2\">\r\n      <defs>\r\n       <path d=\"M 0 0 \r\nL 0 3.5 \r\n\" id=\"m308fd1feae\" style=\"stroke:#555555;stroke-width:0.8;\"/>\r\n      </defs>\r\n      <g>\r\n       <use style=\"fill:#555555;stroke:#555555;stroke-width:0.8;\" x=\"71.960538\" xlink:href=\"#m308fd1feae\" y=\"106.036364\"/>\r\n      </g>\r\n     </g>\r\n     <g id=\"text_1\">\r\n      <!-- 400 -->\r\n      <defs>\r\n       <path d=\"M 37.796875 64.3125 \r\nL 12.890625 25.390625 \r\nL 37.796875 25.390625 \r\nz\r\nM 35.203125 72.90625 \r\nL 47.609375 72.90625 \r\nL 47.609375 25.390625 \r\nL 58.015625 25.390625 \r\nL 58.015625 17.1875 \r\nL 47.609375 17.1875 \r\nL 47.609375 0 \r\nL 37.796875 0 \r\nL 37.796875 17.1875 \r\nL 4.890625 17.1875 \r\nL 4.890625 26.703125 \r\nz\r\n\" id=\"DejaVuSans-52\"/>\r\n       <path d=\"M 31.78125 66.40625 \r\nQ 24.171875 66.40625 20.328125 58.90625 \r\nQ 16.5 51.421875 16.5 36.375 \r\nQ 16.5 21.390625 20.328125 13.890625 \r\nQ 24.171875 6.390625 31.78125 6.390625 \r\nQ 39.453125 6.390625 43.28125 13.890625 \r\nQ 47.125 21.390625 47.125 36.375 \r\nQ 47.125 51.421875 43.28125 58.90625 \r\nQ 39.453125 66.40625 31.78125 66.40625 \r\nz\r\nM 31.78125 74.21875 \r\nQ 44.046875 74.21875 50.515625 64.515625 \r\nQ 56.984375 54.828125 56.984375 36.375 \r\nQ 56.984375 17.96875 50.515625 8.265625 \r\nQ 44.046875 -1.421875 31.78125 -1.421875 \r\nQ 19.53125 -1.421875 13.0625 8.265625 \r\nQ 6.59375 17.96875 6.59375 36.375 \r\nQ 6.59375 54.828125 13.0625 64.515625 \r\nQ 19.53125 74.21875 31.78125 74.21875 \r\nz\r\n\" id=\"DejaVuSans-48\"/>\r\n      </defs>\r\n      <g style=\"fill:#555555;\" transform=\"translate(62.416788 120.634801)scale(0.1 -0.1)\">\r\n       <use xlink:href=\"#DejaVuSans-52\"/>\r\n       <use x=\"63.623047\" xlink:href=\"#DejaVuSans-48\"/>\r\n       <use x=\"127.246094\" xlink:href=\"#DejaVuSans-48\"/>\r\n      </g>\r\n     </g>\r\n    </g>\r\n    <g id=\"xtick_2\">\r\n     <g id=\"line2d_3\">\r\n      <path clip-path=\"url(#p8546fd5638)\" d=\"M 122.213755 106.036364 \r\nL 122.213755 7.2 \r\n\" style=\"fill:none;stroke:#ffffff;stroke-linecap:square;stroke-width:0.8;\"/>\r\n     </g>\r\n     <g id=\"line2d_4\">\r\n      <g>\r\n       <use style=\"fill:#555555;stroke:#555555;stroke-width:0.8;\" x=\"122.213755\" xlink:href=\"#m308fd1feae\" y=\"106.036364\"/>\r\n      </g>\r\n     </g>\r\n     <g id=\"text_2\">\r\n      <!-- 420 -->\r\n      <defs>\r\n       <path d=\"M 19.1875 8.296875 \r\nL 53.609375 8.296875 \r\nL 53.609375 0 \r\nL 7.328125 0 \r\nL 7.328125 8.296875 \r\nQ 12.9375 14.109375 22.625 23.890625 \r\nQ 32.328125 33.6875 34.8125 36.53125 \r\nQ 39.546875 41.84375 41.421875 45.53125 \r\nQ 43.3125 49.21875 43.3125 52.78125 \r\nQ 43.3125 58.59375 39.234375 62.25 \r\nQ 35.15625 65.921875 28.609375 65.921875 \r\nQ 23.96875 65.921875 18.8125 64.3125 \r\nQ 13.671875 62.703125 7.8125 59.421875 \r\nL 7.8125 69.390625 \r\nQ 13.765625 71.78125 18.9375 73 \r\nQ 24.125 74.21875 28.421875 74.21875 \r\nQ 39.75 74.21875 46.484375 68.546875 \r\nQ 53.21875 62.890625 53.21875 53.421875 \r\nQ 53.21875 48.921875 51.53125 44.890625 \r\nQ 49.859375 40.875 45.40625 35.40625 \r\nQ 44.1875 33.984375 37.640625 27.21875 \r\nQ 31.109375 20.453125 19.1875 8.296875 \r\nz\r\n\" id=\"DejaVuSans-50\"/>\r\n      </defs>\r\n      <g style=\"fill:#555555;\" transform=\"translate(112.670005 120.634801)scale(0.1 -0.1)\">\r\n       <use xlink:href=\"#DejaVuSans-52\"/>\r\n       <use x=\"63.623047\" xlink:href=\"#DejaVuSans-50\"/>\r\n       <use x=\"127.246094\" xlink:href=\"#DejaVuSans-48\"/>\r\n      </g>\r\n     </g>\r\n    </g>\r\n    <g id=\"xtick_3\">\r\n     <g id=\"line2d_5\">\r\n      <path clip-path=\"url(#p8546fd5638)\" d=\"M 172.466972 106.036364 \r\nL 172.466972 7.2 \r\n\" style=\"fill:none;stroke:#ffffff;stroke-linecap:square;stroke-width:0.8;\"/>\r\n     </g>\r\n     <g id=\"line2d_6\">\r\n      <g>\r\n       <use style=\"fill:#555555;stroke:#555555;stroke-width:0.8;\" x=\"172.466972\" xlink:href=\"#m308fd1feae\" y=\"106.036364\"/>\r\n      </g>\r\n     </g>\r\n     <g id=\"text_3\">\r\n      <!-- 440 -->\r\n      <g style=\"fill:#555555;\" transform=\"translate(162.923222 120.634801)scale(0.1 -0.1)\">\r\n       <use xlink:href=\"#DejaVuSans-52\"/>\r\n       <use x=\"63.623047\" xlink:href=\"#DejaVuSans-52\"/>\r\n       <use x=\"127.246094\" xlink:href=\"#DejaVuSans-48\"/>\r\n      </g>\r\n     </g>\r\n    </g>\r\n    <g id=\"xtick_4\">\r\n     <g id=\"line2d_7\">\r\n      <path clip-path=\"url(#p8546fd5638)\" d=\"M 222.72019 106.036364 \r\nL 222.72019 7.2 \r\n\" style=\"fill:none;stroke:#ffffff;stroke-linecap:square;stroke-width:0.8;\"/>\r\n     </g>\r\n     <g id=\"line2d_8\">\r\n      <g>\r\n       <use style=\"fill:#555555;stroke:#555555;stroke-width:0.8;\" x=\"222.72019\" xlink:href=\"#m308fd1feae\" y=\"106.036364\"/>\r\n      </g>\r\n     </g>\r\n     <g id=\"text_4\">\r\n      <!-- 460 -->\r\n      <defs>\r\n       <path d=\"M 33.015625 40.375 \r\nQ 26.375 40.375 22.484375 35.828125 \r\nQ 18.609375 31.296875 18.609375 23.390625 \r\nQ 18.609375 15.53125 22.484375 10.953125 \r\nQ 26.375 6.390625 33.015625 6.390625 \r\nQ 39.65625 6.390625 43.53125 10.953125 \r\nQ 47.40625 15.53125 47.40625 23.390625 \r\nQ 47.40625 31.296875 43.53125 35.828125 \r\nQ 39.65625 40.375 33.015625 40.375 \r\nz\r\nM 52.59375 71.296875 \r\nL 52.59375 62.3125 \r\nQ 48.875 64.0625 45.09375 64.984375 \r\nQ 41.3125 65.921875 37.59375 65.921875 \r\nQ 27.828125 65.921875 22.671875 59.328125 \r\nQ 17.53125 52.734375 16.796875 39.40625 \r\nQ 19.671875 43.65625 24.015625 45.921875 \r\nQ 28.375 48.1875 33.59375 48.1875 \r\nQ 44.578125 48.1875 50.953125 41.515625 \r\nQ 57.328125 34.859375 57.328125 23.390625 \r\nQ 57.328125 12.15625 50.6875 5.359375 \r\nQ 44.046875 -1.421875 33.015625 -1.421875 \r\nQ 20.359375 -1.421875 13.671875 8.265625 \r\nQ 6.984375 17.96875 6.984375 36.375 \r\nQ 6.984375 53.65625 15.1875 63.9375 \r\nQ 23.390625 74.21875 37.203125 74.21875 \r\nQ 40.921875 74.21875 44.703125 73.484375 \r\nQ 48.484375 72.75 52.59375 71.296875 \r\nz\r\n\" id=\"DejaVuSans-54\"/>\r\n      </defs>\r\n      <g style=\"fill:#555555;\" transform=\"translate(213.17644 120.634801)scale(0.1 -0.1)\">\r\n       <use xlink:href=\"#DejaVuSans-52\"/>\r\n       <use x=\"63.623047\" xlink:href=\"#DejaVuSans-54\"/>\r\n       <use x=\"127.246094\" xlink:href=\"#DejaVuSans-48\"/>\r\n      </g>\r\n     </g>\r\n    </g>\r\n    <g id=\"xtick_5\">\r\n     <g id=\"line2d_9\">\r\n      <path clip-path=\"url(#p8546fd5638)\" d=\"M 272.973407 106.036364 \r\nL 272.973407 7.2 \r\n\" style=\"fill:none;stroke:#ffffff;stroke-linecap:square;stroke-width:0.8;\"/>\r\n     </g>\r\n     <g id=\"line2d_10\">\r\n      <g>\r\n       <use style=\"fill:#555555;stroke:#555555;stroke-width:0.8;\" x=\"272.973407\" xlink:href=\"#m308fd1feae\" y=\"106.036364\"/>\r\n      </g>\r\n     </g>\r\n     <g id=\"text_5\">\r\n      <!-- 480 -->\r\n      <defs>\r\n       <path d=\"M 31.78125 34.625 \r\nQ 24.75 34.625 20.71875 30.859375 \r\nQ 16.703125 27.09375 16.703125 20.515625 \r\nQ 16.703125 13.921875 20.71875 10.15625 \r\nQ 24.75 6.390625 31.78125 6.390625 \r\nQ 38.8125 6.390625 42.859375 10.171875 \r\nQ 46.921875 13.96875 46.921875 20.515625 \r\nQ 46.921875 27.09375 42.890625 30.859375 \r\nQ 38.875 34.625 31.78125 34.625 \r\nz\r\nM 21.921875 38.8125 \r\nQ 15.578125 40.375 12.03125 44.71875 \r\nQ 8.5 49.078125 8.5 55.328125 \r\nQ 8.5 64.0625 14.71875 69.140625 \r\nQ 20.953125 74.21875 31.78125 74.21875 \r\nQ 42.671875 74.21875 48.875 69.140625 \r\nQ 55.078125 64.0625 55.078125 55.328125 \r\nQ 55.078125 49.078125 51.53125 44.71875 \r\nQ 48 40.375 41.703125 38.8125 \r\nQ 48.828125 37.15625 52.796875 32.3125 \r\nQ 56.78125 27.484375 56.78125 20.515625 \r\nQ 56.78125 9.90625 50.3125 4.234375 \r\nQ 43.84375 -1.421875 31.78125 -1.421875 \r\nQ 19.734375 -1.421875 13.25 4.234375 \r\nQ 6.78125 9.90625 6.78125 20.515625 \r\nQ 6.78125 27.484375 10.78125 32.3125 \r\nQ 14.796875 37.15625 21.921875 38.8125 \r\nz\r\nM 18.3125 54.390625 \r\nQ 18.3125 48.734375 21.84375 45.5625 \r\nQ 25.390625 42.390625 31.78125 42.390625 \r\nQ 38.140625 42.390625 41.71875 45.5625 \r\nQ 45.3125 48.734375 45.3125 54.390625 \r\nQ 45.3125 60.0625 41.71875 63.234375 \r\nQ 38.140625 66.40625 31.78125 66.40625 \r\nQ 25.390625 66.40625 21.84375 63.234375 \r\nQ 18.3125 60.0625 18.3125 54.390625 \r\nz\r\n\" id=\"DejaVuSans-56\"/>\r\n      </defs>\r\n      <g style=\"fill:#555555;\" transform=\"translate(263.429657 120.634801)scale(0.1 -0.1)\">\r\n       <use xlink:href=\"#DejaVuSans-52\"/>\r\n       <use x=\"63.623047\" xlink:href=\"#DejaVuSans-56\"/>\r\n       <use x=\"127.246094\" xlink:href=\"#DejaVuSans-48\"/>\r\n      </g>\r\n     </g>\r\n    </g>\r\n    <g id=\"xtick_6\">\r\n     <g id=\"line2d_11\">\r\n      <path clip-path=\"url(#p8546fd5638)\" d=\"M 323.226624 106.036364 \r\nL 323.226624 7.2 \r\n\" style=\"fill:none;stroke:#ffffff;stroke-linecap:square;stroke-width:0.8;\"/>\r\n     </g>\r\n     <g id=\"line2d_12\">\r\n      <g>\r\n       <use style=\"fill:#555555;stroke:#555555;stroke-width:0.8;\" x=\"323.226624\" xlink:href=\"#m308fd1feae\" y=\"106.036364\"/>\r\n      </g>\r\n     </g>\r\n     <g id=\"text_6\">\r\n      <!-- 500 -->\r\n      <defs>\r\n       <path d=\"M 10.796875 72.90625 \r\nL 49.515625 72.90625 \r\nL 49.515625 64.59375 \r\nL 19.828125 64.59375 \r\nL 19.828125 46.734375 \r\nQ 21.96875 47.46875 24.109375 47.828125 \r\nQ 26.265625 48.1875 28.421875 48.1875 \r\nQ 40.625 48.1875 47.75 41.5 \r\nQ 54.890625 34.8125 54.890625 23.390625 \r\nQ 54.890625 11.625 47.5625 5.09375 \r\nQ 40.234375 -1.421875 26.90625 -1.421875 \r\nQ 22.3125 -1.421875 17.546875 -0.640625 \r\nQ 12.796875 0.140625 7.71875 1.703125 \r\nL 7.71875 11.625 \r\nQ 12.109375 9.234375 16.796875 8.0625 \r\nQ 21.484375 6.890625 26.703125 6.890625 \r\nQ 35.15625 6.890625 40.078125 11.328125 \r\nQ 45.015625 15.765625 45.015625 23.390625 \r\nQ 45.015625 31 40.078125 35.4375 \r\nQ 35.15625 39.890625 26.703125 39.890625 \r\nQ 22.75 39.890625 18.8125 39.015625 \r\nQ 14.890625 38.140625 10.796875 36.28125 \r\nz\r\n\" id=\"DejaVuSans-53\"/>\r\n      </defs>\r\n      <g style=\"fill:#555555;\" transform=\"translate(313.682874 120.634801)scale(0.1 -0.1)\">\r\n       <use xlink:href=\"#DejaVuSans-53\"/>\r\n       <use x=\"63.623047\" xlink:href=\"#DejaVuSans-48\"/>\r\n       <use x=\"127.246094\" xlink:href=\"#DejaVuSans-48\"/>\r\n      </g>\r\n     </g>\r\n    </g>\r\n    <g id=\"text_7\">\r\n     <!-- +1.598174e9 -->\r\n     <defs>\r\n      <path d=\"M 46 62.703125 \r\nL 46 35.5 \r\nL 73.1875 35.5 \r\nL 73.1875 27.203125 \r\nL 46 27.203125 \r\nL 46 0 \r\nL 37.796875 0 \r\nL 37.796875 27.203125 \r\nL 10.59375 27.203125 \r\nL 10.59375 35.5 \r\nL 37.796875 35.5 \r\nL 37.796875 62.703125 \r\nz\r\n\" id=\"DejaVuSans-43\"/>\r\n      <path d=\"M 12.40625 8.296875 \r\nL 28.515625 8.296875 \r\nL 28.515625 63.921875 \r\nL 10.984375 60.40625 \r\nL 10.984375 69.390625 \r\nL 28.421875 72.90625 \r\nL 38.28125 72.90625 \r\nL 38.28125 8.296875 \r\nL 54.390625 8.296875 \r\nL 54.390625 0 \r\nL 12.40625 0 \r\nz\r\n\" id=\"DejaVuSans-49\"/>\r\n      <path d=\"M 10.6875 12.40625 \r\nL 21 12.40625 \r\nL 21 0 \r\nL 10.6875 0 \r\nz\r\n\" id=\"DejaVuSans-46\"/>\r\n      <path d=\"M 10.984375 1.515625 \r\nL 10.984375 10.5 \r\nQ 14.703125 8.734375 18.5 7.8125 \r\nQ 22.3125 6.890625 25.984375 6.890625 \r\nQ 35.75 6.890625 40.890625 13.453125 \r\nQ 46.046875 20.015625 46.78125 33.40625 \r\nQ 43.953125 29.203125 39.59375 26.953125 \r\nQ 35.25 24.703125 29.984375 24.703125 \r\nQ 19.046875 24.703125 12.671875 31.3125 \r\nQ 6.296875 37.9375 6.296875 49.421875 \r\nQ 6.296875 60.640625 12.9375 67.421875 \r\nQ 19.578125 74.21875 30.609375 74.21875 \r\nQ 43.265625 74.21875 49.921875 64.515625 \r\nQ 56.59375 54.828125 56.59375 36.375 \r\nQ 56.59375 19.140625 48.40625 8.859375 \r\nQ 40.234375 -1.421875 26.421875 -1.421875 \r\nQ 22.703125 -1.421875 18.890625 -0.6875 \r\nQ 15.09375 0.046875 10.984375 1.515625 \r\nz\r\nM 30.609375 32.421875 \r\nQ 37.25 32.421875 41.125 36.953125 \r\nQ 45.015625 41.5 45.015625 49.421875 \r\nQ 45.015625 57.28125 41.125 61.84375 \r\nQ 37.25 66.40625 30.609375 66.40625 \r\nQ 23.96875 66.40625 20.09375 61.84375 \r\nQ 16.21875 57.28125 16.21875 49.421875 \r\nQ 16.21875 41.5 20.09375 36.953125 \r\nQ 23.96875 32.421875 30.609375 32.421875 \r\nz\r\n\" id=\"DejaVuSans-57\"/>\r\n      <path d=\"M 8.203125 72.90625 \r\nL 55.078125 72.90625 \r\nL 55.078125 68.703125 \r\nL 28.609375 0 \r\nL 18.3125 0 \r\nL 43.21875 64.59375 \r\nL 8.203125 64.59375 \r\nz\r\n\" id=\"DejaVuSans-55\"/>\r\n      <path d=\"M 56.203125 29.59375 \r\nL 56.203125 25.203125 \r\nL 14.890625 25.203125 \r\nQ 15.484375 15.921875 20.484375 11.0625 \r\nQ 25.484375 6.203125 34.421875 6.203125 \r\nQ 39.59375 6.203125 44.453125 7.46875 \r\nQ 49.3125 8.734375 54.109375 11.28125 \r\nL 54.109375 2.78125 \r\nQ 49.265625 0.734375 44.1875 -0.34375 \r\nQ 39.109375 -1.421875 33.890625 -1.421875 \r\nQ 20.796875 -1.421875 13.15625 6.1875 \r\nQ 5.515625 13.8125 5.515625 26.8125 \r\nQ 5.515625 40.234375 12.765625 48.109375 \r\nQ 20.015625 56 32.328125 56 \r\nQ 43.359375 56 49.78125 48.890625 \r\nQ 56.203125 41.796875 56.203125 29.59375 \r\nz\r\nM 47.21875 32.234375 \r\nQ 47.125 39.59375 43.09375 43.984375 \r\nQ 39.0625 48.390625 32.421875 48.390625 \r\nQ 24.90625 48.390625 20.390625 44.140625 \r\nQ 15.875 39.890625 15.1875 32.171875 \r\nz\r\n\" id=\"DejaVuSans-101\"/>\r\n     </defs>\r\n     <g style=\"fill:#555555;\" transform=\"translate(296.292188 133.312926)scale(0.1 -0.1)\">\r\n      <use xlink:href=\"#DejaVuSans-43\"/>\r\n      <use x=\"83.789062\" xlink:href=\"#DejaVuSans-49\"/>\r\n      <use x=\"147.412109\" xlink:href=\"#DejaVuSans-46\"/>\r\n      <use x=\"179.199219\" xlink:href=\"#DejaVuSans-53\"/>\r\n      <use x=\"242.822266\" xlink:href=\"#DejaVuSans-57\"/>\r\n      <use x=\"306.445312\" xlink:href=\"#DejaVuSans-56\"/>\r\n      <use x=\"370.068359\" xlink:href=\"#DejaVuSans-49\"/>\r\n      <use x=\"433.691406\" xlink:href=\"#DejaVuSans-55\"/>\r\n      <use x=\"497.314453\" xlink:href=\"#DejaVuSans-52\"/>\r\n      <use x=\"560.9375\" xlink:href=\"#DejaVuSans-101\"/>\r\n      <use x=\"622.460938\" xlink:href=\"#DejaVuSans-57\"/>\r\n     </g>\r\n    </g>\r\n   </g>\r\n   <g id=\"matplotlib.axis_2\">\r\n    <g id=\"ytick_1\">\r\n     <g id=\"line2d_13\">\r\n      <path clip-path=\"url(#p8546fd5638)\" d=\"M 30.103125 98.215978 \r\nL 364.903125 98.215978 \r\n\" style=\"fill:none;stroke:#ffffff;stroke-linecap:square;stroke-width:0.8;\"/>\r\n     </g>\r\n     <g id=\"line2d_14\">\r\n      <defs>\r\n       <path d=\"M 0 0 \r\nL -3.5 0 \r\n\" id=\"m9be3790502\" style=\"stroke:#555555;stroke-width:0.8;\"/>\r\n      </defs>\r\n      <g>\r\n       <use style=\"fill:#555555;stroke:#555555;stroke-width:0.8;\" x=\"30.103125\" xlink:href=\"#m9be3790502\" y=\"98.215978\"/>\r\n      </g>\r\n     </g>\r\n     <g id=\"text_8\">\r\n      <!-- 0.4 -->\r\n      <g style=\"fill:#555555;\" transform=\"translate(7.2 102.015197)scale(0.1 -0.1)\">\r\n       <use xlink:href=\"#DejaVuSans-48\"/>\r\n       <use x=\"63.623047\" xlink:href=\"#DejaVuSans-46\"/>\r\n       <use x=\"95.410156\" xlink:href=\"#DejaVuSans-52\"/>\r\n      </g>\r\n     </g>\r\n    </g>\r\n    <g id=\"ytick_2\">\r\n     <g id=\"line2d_15\">\r\n      <path clip-path=\"url(#p8546fd5638)\" d=\"M 30.103125 64.937741 \r\nL 364.903125 64.937741 \r\n\" style=\"fill:none;stroke:#ffffff;stroke-linecap:square;stroke-width:0.8;\"/>\r\n     </g>\r\n     <g id=\"line2d_16\">\r\n      <g>\r\n       <use style=\"fill:#555555;stroke:#555555;stroke-width:0.8;\" x=\"30.103125\" xlink:href=\"#m9be3790502\" y=\"64.937741\"/>\r\n      </g>\r\n     </g>\r\n     <g id=\"text_9\">\r\n      <!-- 0.6 -->\r\n      <g style=\"fill:#555555;\" transform=\"translate(7.2 68.73696)scale(0.1 -0.1)\">\r\n       <use xlink:href=\"#DejaVuSans-48\"/>\r\n       <use x=\"63.623047\" xlink:href=\"#DejaVuSans-46\"/>\r\n       <use x=\"95.410156\" xlink:href=\"#DejaVuSans-54\"/>\r\n      </g>\r\n     </g>\r\n    </g>\r\n    <g id=\"ytick_3\">\r\n     <g id=\"line2d_17\">\r\n      <path clip-path=\"url(#p8546fd5638)\" d=\"M 30.103125 31.659504 \r\nL 364.903125 31.659504 \r\n\" style=\"fill:none;stroke:#ffffff;stroke-linecap:square;stroke-width:0.8;\"/>\r\n     </g>\r\n     <g id=\"line2d_18\">\r\n      <g>\r\n       <use style=\"fill:#555555;stroke:#555555;stroke-width:0.8;\" x=\"30.103125\" xlink:href=\"#m9be3790502\" y=\"31.659504\"/>\r\n      </g>\r\n     </g>\r\n     <g id=\"text_10\">\r\n      <!-- 0.8 -->\r\n      <g style=\"fill:#555555;\" transform=\"translate(7.2 35.458723)scale(0.1 -0.1)\">\r\n       <use xlink:href=\"#DejaVuSans-48\"/>\r\n       <use x=\"63.623047\" xlink:href=\"#DejaVuSans-46\"/>\r\n       <use x=\"95.410156\" xlink:href=\"#DejaVuSans-56\"/>\r\n      </g>\r\n     </g>\r\n    </g>\r\n   </g>\r\n   <g id=\"line2d_19\">\r\n    <path clip-path=\"url(#p8546fd5638)\" d=\"M 45.321308 86.568595 \r\nL 45.617802 74.921212 \r\nL 45.934397 76.585124 \r\nL 46.243454 66.601653 \r\nL 46.504771 73.2573 \r\nL 46.773625 84.904683 \r\nL 47.037455 81.57686 \r\nL 47.349025 88.232507 \r\nL 47.630443 83.240771 \r\nL 47.90181 81.57686 \r\nL 48.163127 88.232507 \r\nL 48.444545 89.896419 \r\nL 48.718425 81.57686 \r\nL 49.002356 86.568595 \r\nL 49.283773 88.232507 \r\nL 49.552629 66.601653 \r\nL 49.813945 66.601653 \r\nL 50.374268 81.57686 \r\nL 50.899415 81.57686 \r\nL 51.203447 68.265565 \r\nL 51.477327 71.593388 \r\nL 51.751207 101.543802 \r\nL 52.027599 84.904683 \r\nL 52.296454 84.904683 \r\nL 52.552745 69.929477 \r\nL 52.854264 69.929477 \r\nL 53.110556 91.560331 \r\nL 53.381923 79.912948 \r\nL 53.904557 71.593388 \r\nL 54.165874 68.265565 \r\nL 54.761374 88.232507 \r\nL 55.085507 73.2573 \r\nL 55.371951 78.249036 \r\nL 55.633268 73.2573 \r\nL 55.894584 64.937741 \r\nL 56.158414 73.2573 \r\nL 56.422243 66.601653 \r\nL 56.686072 81.57686 \r\nL 56.95744 74.921212 \r\nL 57.226295 83.240771 \r\nL 57.485099 78.249036 \r\nL 57.771542 94.888154 \r\nL 58.075574 83.240771 \r\nL 58.336891 56.618182 \r\nL 58.635898 84.904683 \r\nL 58.894701 66.601653 \r\nL 59.158531 63.273829 \r\nL 59.41231 78.249036 \r\nL 59.673626 78.249036 \r\nL 59.932431 76.585124 \r\nL 60.20631 99.87989 \r\nL 60.47014 78.249036 \r\nL 60.769146 84.904683 \r\nL 61.304343 64.937741 \r\nL 61.625964 64.937741 \r\nL 61.899844 66.601653 \r\nL 62.422477 86.568595 \r\nL 62.681281 94.888154 \r\nL 62.942598 73.2573 \r\nL 63.20894 93.224242 \r\nL 63.507946 76.585124 \r\nL 63.789364 78.249036 \r\nL 64.055707 63.273829 \r\nL 64.613517 93.224242 \r\nL 64.879859 86.568595 \r\nL 65.161277 74.921212 \r\nL 65.432645 79.912948 \r\nL 65.706525 76.585124 \r\nL 65.960304 71.593388 \r\nL 66.234184 83.240771 \r\nL 66.498013 74.921212 \r\nL 66.756817 78.249036 \r\nL 67.058337 84.904683 \r\nL 67.319654 84.904683 \r\nL 67.58097 86.568595 \r\nL 67.887515 83.240771 \r\nL 68.148831 83.240771 \r\nL 68.415174 91.560331 \r\nL 68.679003 71.593388 \r\nL 69.254403 78.249036 \r\nL 69.538333 89.896419 \r\nL 69.814725 86.568595 \r\nL 70.08358 76.585124 \r\nL 70.613752 76.585124 \r\nL 70.880094 78.249036 \r\nL 71.148949 78.249036 \r\nL 71.412778 89.896419 \r\nL 71.676608 79.912948 \r\nL 71.937924 64.937741 \r\nL 72.206779 71.593388 \r\nL 72.465583 68.265565 \r\nL 72.731925 71.593388 \r\nL 73.035957 66.601653 \r\nL 73.329938 64.937741 \r\nL 73.603818 68.265565 \r\nL 73.885236 64.937741 \r\nL 74.139015 84.904683 \r\nL 74.400331 76.585124 \r\nL 74.948092 88.232507 \r\nL 75.20187 68.265565 \r\nL 75.714453 81.57686 \r\nL 75.968232 63.273829 \r\nL 76.237086 86.568595 \r\nL 76.543631 61.609917 \r\nL 77.066265 78.249036 \r\nL 77.347683 69.929477 \r\nL 77.611512 71.593388 \r\nL 77.880367 71.593388 \r\nL 78.169323 88.232507 \r\nL 78.458279 81.57686 \r\nL 78.769849 83.240771 \r\nL 79.149261 73.2573 \r\nL 79.433191 73.2573 \r\nL 79.691995 78.249036 \r\nL 80.199553 71.593388 \r\nL 80.455844 76.585124 \r\nL 80.805104 78.249036 \r\nL 81.066421 74.921212 \r\nL 81.332763 93.224242 \r\nL 81.629257 84.904683 \r\nL 81.888061 73.2573 \r\nL 82.14184 79.912948 \r\nL 82.400644 74.921212 \r\nL 82.65191 83.240771 \r\nL 82.903176 61.609917 \r\nL 83.159468 74.921212 \r\nL 83.415759 81.57686 \r\nL 83.67205 78.249036 \r\nL 83.940905 68.265565 \r\nL 84.194684 83.240771 \r\nL 84.707266 64.937741 \r\nL 85.126881 56.618182 \r\nL 85.405787 78.249036 \r\nL 85.717356 68.265565 \r\nL 86.270142 79.912948 \r\nL 86.533971 61.609917 \r\nL 86.800313 71.593388 \r\nL 87.056604 74.921212 \r\nL 87.310383 76.585124 \r\nL 87.564162 63.273829 \r\nL 87.817941 71.593388 \r\nL 88.071719 69.929477 \r\nL 88.584302 86.568595 \r\nL 88.855669 58.282094 \r\nL 89.109448 73.2573 \r\nL 89.36574 74.921212 \r\nL 89.885861 71.593388 \r\nL 90.137126 61.609917 \r\nL 90.405982 81.57686 \r\nL 90.664785 86.568595 \r\nL 90.918564 83.240771 \r\nL 91.179881 81.57686 \r\nL 91.43366 64.937741 \r\nL 91.692463 81.57686 \r\nL 91.953781 76.585124 \r\nL 92.210072 64.937741 \r\nL 92.473901 68.265565 \r\nL 92.747781 63.273829 \r\nL 93.021661 61.609917 \r\nL 93.300567 71.593388 \r\nL 93.604599 73.2573 \r\nL 93.976473 66.601653 \r\nL 94.28553 73.2573 \r\nL 94.602125 61.609917 \r\nL 94.911182 69.929477 \r\nL 95.217727 74.921212 \r\nL 95.639854 78.249036 \r\nL 95.961474 54.95427 \r\nL 96.280582 76.585124 \r\nL 96.582102 73.2573 \r\nL 96.923823 73.2573 \r\nL 97.227856 71.593388 \r\nL 97.5344 71.593388 \r\nL 97.856021 69.929477 \r\nL 98.175129 79.912948 \r\nL 98.443984 63.273829 \r\nL 98.722889 88.232507 \r\nL 98.991743 89.896419 \r\nL 99.248034 66.601653 \r\nL 99.509352 61.609917 \r\nL 99.770669 66.601653 \r\nL 100.02696 81.57686 \r\nL 100.363656 71.593388 \r\nL 100.647587 76.585124 \r\nL 100.908904 66.601653 \r\nL 101.165195 83.240771 \r\nL 101.43405 68.265565 \r\nL 101.697879 76.585124 \r\nL 101.979297 79.912948 \r\nL 102.245639 54.95427 \r\nL 102.504443 76.585124 \r\nL 102.76576 68.265565 \r\nL 103.027077 68.265565 \r\nL 103.328596 73.2573 \r\nL 103.718059 74.921212 \r\nL 104.074856 53.290358 \r\nL 104.401503 61.609917 \r\nL 104.750762 54.95427 \r\nL 105.034693 83.240771 \r\nL 105.695523 56.618182 \r\nL 106.007092 73.2573 \r\nL 106.336251 58.282094 \r\nL 106.745815 61.609917 \r\nL 107.067435 78.249036 \r\nL 107.358904 59.946006 \r\nL 107.627759 74.921212 \r\nL 107.818721 61.609917 \r\nL 108.097626 58.282094 \r\nL 108.361456 58.282094 \r\nL 108.612722 83.240771 \r\nL 109.424312 46.634711 \r\nL 109.680603 69.929477 \r\nL 109.931869 66.601653 \r\nL 110.190673 86.568595 \r\nL 110.467066 69.929477 \r\nL 110.72587 69.929477 \r\nL 110.984674 56.618182 \r\nL 111.248503 69.929477 \r\nL 111.50982 63.273829 \r\nL 111.816365 68.265565 \r\nL 112.080194 63.273829 \r\nL 112.421916 53.290358 \r\nL 112.685745 69.929477 \r\nL 112.949574 76.585124 \r\nL 113.210892 79.912948 \r\nL 113.999867 54.95427 \r\nL 114.256158 79.912948 \r\nL 114.567729 79.912948 \r\nL 115.085337 58.282094 \r\nL 115.339115 54.95427 \r\nL 115.597919 53.290358 \r\nL 115.856723 53.290358 \r\nL 116.115527 78.249036 \r\nL 116.409509 58.282094 \r\nL 116.670825 63.273829 \r\nL 116.92963 64.937741 \r\nL 117.190946 68.265565 \r\nL 117.447237 46.634711 \r\nL 117.703529 74.921212 \r\nL 117.974896 76.585124 \r\nL 118.238726 68.265565 \r\nL 118.502555 64.937741 \r\nL 118.799049 63.273829 \r\nL 119.057853 68.265565 \r\nL 119.316657 68.265565 \r\nL 119.575461 64.937741 \r\nL 119.834265 74.921212 \r\nL 120.083019 58.282094 \r\nL 120.412178 68.265565 \r\nL 120.706159 54.95427 \r\nL 121.108184 76.585124 \r\nL 121.397141 53.290358 \r\nL 121.678558 56.618182 \r\nL 122.030331 64.937741 \r\nL 122.389641 61.609917 \r\nL 122.686135 73.2573 \r\nL 123.324351 56.618182 \r\nL 123.658535 64.937741 \r\nL 124.264087 61.609917 \r\nL 124.520378 88.232507 \r\nL 124.784207 64.937741 \r\nL 125.560619 49.962534 \r\nL 125.816911 69.929477 \r\nL 126.073203 64.937741 \r\nL 126.362158 69.929477 \r\nL 126.633526 59.946006 \r\nL 126.89233 73.2573 \r\nL 127.146109 66.601653 \r\nL 127.4024 64.937741 \r\nL 127.658691 71.593388 \r\nL 127.922521 68.265565 \r\nL 128.188863 68.265565 \r\nL 128.492895 71.593388 \r\nL 128.749187 68.265565 \r\nL 129.015528 58.282094 \r\nL 129.269307 53.290358 \r\nL 129.540674 56.618182 \r\nL 129.799479 61.609917 \r\nL 130.063308 63.273829 \r\nL 130.324625 63.273829 \r\nL 130.585941 54.95427 \r\nL 130.844745 64.937741 \r\nL 131.106062 63.273829 \r\nL 131.379942 69.929477 \r\nL 131.636233 53.290358 \r\nL 131.895037 61.609917 \r\nL 132.153842 58.282094 \r\nL 132.420184 66.601653 \r\nL 132.970456 43.306887 \r\nL 133.2569 51.626446 \r\nL 133.510679 74.921212 \r\nL 133.761944 44.970799 \r\nL 134.023262 44.970799 \r\nL 134.287091 73.2573 \r\nL 134.540869 54.95427 \r\nL 134.794648 58.282094 \r\nL 135.05094 48.298623 \r\nL 135.319795 58.282094 \r\nL 135.576086 56.618182 \r\nL 135.832377 64.937741 \r\nL 136.131384 63.273829 \r\nL 136.397726 58.282094 \r\nL 136.671606 46.634711 \r\nL 136.945486 79.912948 \r\nL 137.450531 51.626446 \r\nL 137.704309 58.282094 \r\nL 137.995778 61.609917 \r\nL 138.249557 69.929477 \r\nL 138.503336 66.601653 \r\nL 138.767165 53.290358 \r\nL 139.028481 51.626446 \r\nL 139.304874 76.585124 \r\nL 139.573729 58.282094 \r\nL 139.827508 64.937741 \r\nL 140.078774 63.273829 \r\nL 140.598895 81.57686 \r\nL 140.855186 61.609917 \r\nL 141.124041 61.609917 \r\nL 141.382845 76.585124 \r\nL 141.649187 61.609917 \r\nL 141.913016 61.609917 \r\nL 142.186896 54.95427 \r\nL 142.448213 69.929477 \r\nL 142.722093 61.609917 \r\nL 142.988435 63.273829 \r\nL 143.24724 61.609917 \r\nL 143.506043 54.95427 \r\nL 144.111595 51.626446 \r\nL 144.387988 58.282094 \r\nL 144.669405 54.95427 \r\nL 144.978463 53.290358 \r\nL 145.254856 49.962534 \r\nL 145.531248 63.273829 \r\nL 145.805128 46.634711 \r\nL 146.053881 69.929477 \r\nL 146.305148 49.962534 \r\nL 146.601642 61.609917 \r\nL 146.898135 53.290358 \r\nL 147.257446 56.618182 \r\nL 147.687111 51.626446 \r\nL 148.13939 61.609917 \r\nL 148.506238 54.95427 \r\nL 148.797707 41.642975 \r\nL 149.340442 59.946006 \r\nL 149.614322 61.609917 \r\nL 149.878151 43.306887 \r\nL 150.144493 49.962534 \r\nL 150.410835 48.298623 \r\nL 150.677178 61.609917 \r\nL 151.212374 44.970799 \r\nL 151.493793 56.618182 \r\nL 152.023964 64.937741 \r\nL 152.28528 51.626446 \r\nL 152.561673 48.298623 \r\nL 152.828015 58.282094 \r\nL 153.104408 54.95427 \r\nL 153.373263 61.609917 \r\nL 153.647143 61.609917 \r\nL 153.910972 64.937741 \r\nL 154.179827 56.618182 \r\nL 154.451194 58.282094 \r\nL 154.993929 69.929477 \r\nL 155.260271 64.937741 \r\nL 155.51405 51.626446 \r\nL 155.772854 49.962534 \r\nL 156.036683 56.618182 \r\nL 156.295487 51.626446 \r\nL 156.576906 69.929477 \r\nL 156.868374 71.593388 \r\nL 157.14728 51.626446 \r\nL 157.411108 54.95427 \r\nL 157.6674 48.298623 \r\nL 157.928717 58.282094 \r\nL 158.192546 58.282094 \r\nL 158.45135 38.315152 \r\nL 158.730256 59.946006 \r\nL 159.069465 58.282094 \r\nL 159.383547 43.306887 \r\nL 159.707681 38.315152 \r\nL 160.270516 68.265565 \r\nL 160.534346 44.970799 \r\nL 160.820789 43.306887 \r\nL 161.144923 64.937741 \r\nL 161.436391 49.962534 \r\nL 161.707758 61.609917 \r\nL 161.976614 58.282094 \r\nL 162.247981 53.290358 \r\nL 162.514323 61.609917 \r\nL 162.783177 56.618182 \r\nL 163.069621 59.946006 \r\nL 163.335963 48.298623 \r\nL 163.59728 53.290358 \r\nL 163.861109 41.642975 \r\nL 164.132477 56.618182 \r\nL 164.401331 51.626446 \r\nL 164.670186 56.618182 \r\nL 164.92899 53.290358 \r\nL 165.20287 46.634711 \r\nL 165.459161 53.290358 \r\nL 165.722991 53.290358 \r\nL 165.991846 54.95427 \r\nL 166.255675 46.634711 \r\nL 166.524529 48.298623 \r\nL 166.785847 41.642975 \r\nL 167.084853 44.970799 \r\nL 167.343657 53.290358 \r\nL 167.602461 53.290358 \r\nL 167.873828 66.601653 \r\nL 168.150221 39.979063 \r\nL 168.67788 54.95427 \r\nL 168.956785 53.290358 \r\nL 169.265843 49.962534 \r\nL 169.46183 59.946006 \r\nL 169.738223 49.962534 \r\nL 169.997027 51.626446 \r\nL 170.263369 58.282094 \r\nL 170.522173 51.626446 \r\nL 170.786003 36.65124 \r\nL 171.313661 63.273829 \r\nL 171.580003 61.609917 \r\nL 171.846345 68.265565 \r\nL 172.366466 48.298623 \r\nL 172.62527 38.315152 \r\nL 172.891612 43.306887 \r\nL 173.145391 41.642975 \r\nL 173.454448 54.95427 \r\nL 173.71074 54.95427 \r\nL 173.977082 48.298623 \r\nL 174.245936 49.962534 \r\nL 174.512278 64.937741 \r\nL 174.768569 61.609917 \r\nL 175.029887 41.642975 \r\nL 175.291203 53.290358 \r\nL 175.55252 33.323416 \r\nL 175.871628 46.634711 \r\nL 176.198274 54.95427 \r\nL 176.45959 56.618182 \r\nL 176.730958 53.290358 \r\nL 176.994788 46.634711 \r\nL 177.256104 51.626446 \r\nL 177.519933 43.306887 \r\nL 177.778738 69.929477 \r\nL 178.040054 49.962534 \r\nL 178.298859 44.970799 \r\nL 178.565201 46.634711 \r\nL 178.831542 46.634711 \r\nL 179.095372 43.306887 \r\nL 179.366739 56.618182 \r\nL 179.630569 51.626446 \r\nL 179.889373 63.273829 \r\nL 180.195917 44.970799 \r\nL 180.459747 43.306887 \r\nL 180.721064 53.290358 \r\nL 180.98238 48.298623 \r\nL 181.241185 49.962534 \r\nL 181.507526 58.282094 \r\nL 181.776381 51.626446 \r\nL 182.042723 33.323416 \r\nL 182.30404 58.282094 \r\nL 182.562844 68.265565 \r\nL 182.819135 41.642975 \r\nL 183.080452 56.618182 \r\nL 183.605598 48.298623 \r\nL 183.902092 68.265565 \r\nL 184.198586 34.987328 \r\nL 184.472466 61.609917 \r\nL 184.738809 51.626446 \r\nL 185.060429 34.987328 \r\nL 185.588088 69.929477 \r\nL 185.856942 51.626446 \r\nL 186.133335 58.282094 \r\nL 186.417266 46.634711 \r\nL 186.708735 51.626446 \r\nL 186.980102 58.282094 \r\nL 187.284134 44.970799 \r\nL 187.547963 44.970799 \r\nL 187.811793 41.642975 \r\nL 188.133413 53.290358 \r\nL 188.397242 44.970799 \r\nL 188.663585 51.626446 \r\nL 188.937465 46.634711 \r\nL 189.467636 59.946006 \r\nL 189.781719 68.265565 \r\nL 190.035498 49.962534 \r\nL 190.558131 33.323416 \r\nL 190.824473 48.298623 \r\nL 191.083277 46.634711 \r\nL 191.354644 51.626446 \r\nL 191.618474 38.315152 \r\nL 191.889841 48.298623 \r\nL 192.414987 44.970799 \r\nL 192.716506 71.593388 \r\nL 192.977824 49.962534 \r\nL 193.510507 71.593388 \r\nL 193.771824 53.290358 \r\nL 194.038166 44.970799 \r\nL 194.301996 51.626446 \r\nL 194.57085 43.306887 \r\nL 194.837193 49.962534 \r\nL 195.101021 28.33168 \r\nL 195.62868 61.609917 \r\nL 195.889997 51.626446 \r\nL 196.156339 36.65124 \r\nL 196.417656 44.970799 \r\nL 196.683998 58.282094 \r\nL 196.95034 41.642975 \r\nL 197.211657 44.970799 \r\nL 197.467948 46.634711 \r\nL 197.726752 51.626446 \r\nL 197.985556 43.306887 \r\nL 198.246873 44.970799 \r\nL 198.510703 49.962534 \r\nL 198.797146 41.642975 \r\nL 199.058463 49.962534 \r\nL 199.319779 39.979063 \r\nL 199.581096 41.642975 \r\nL 199.87759 61.609917 \r\nL 200.133881 41.642975 \r\nL 200.392685 44.970799 \r\nL 200.654002 44.970799 \r\nL 200.917831 58.282094 \r\nL 201.176636 53.290358 \r\nL 201.465591 56.618182 \r\nL 201.729421 53.290358 \r\nL 201.998276 54.95427 \r\nL 202.262105 41.642975 \r\nL 202.523422 48.298623 \r\nL 202.799815 61.609917 \r\nL 203.322448 36.65124 \r\nL 203.583765 38.315152 \r\nL 203.850107 48.298623 \r\nL 204.113936 46.634711 \r\nL 204.380278 43.306887 \r\nL 204.679285 51.626446 \r\nL 204.938089 39.979063 \r\nL 205.204431 53.290358 \r\nL 205.463235 46.634711 \r\nL 205.729577 53.290358 \r\nL 205.985868 43.306887 \r\nL 206.254723 41.642975 \r\nL 206.518553 31.659504 \r\nL 206.792433 41.642975 \r\nL 207.066313 43.306887 \r\nL 207.330142 46.634711 \r\nL 207.593972 43.306887 \r\nL 207.855289 44.970799 \r\nL 208.116605 33.323416 \r\nL 208.377922 49.962534 \r\nL 208.634213 41.642975 \r\nL 208.900555 46.634711 \r\nL 209.156847 33.323416 \r\nL 209.433239 39.979063 \r\nL 209.702094 29.995592 \r\nL 209.963411 58.282094 \r\nL 210.483532 41.642975 \r\nL 210.792589 49.962534 \r\nL 211.053906 49.962534 \r\nL 211.31271 46.634711 \r\nL 211.576539 48.298623 \r\nL 211.842881 31.659504 \r\nL 212.114248 39.979063 \r\nL 212.373053 41.642975 \r\nL 212.636882 39.979063 \r\nL 212.893173 53.290358 \r\nL 213.157002 41.642975 \r\nL 213.413294 43.306887 \r\nL 213.674611 38.315152 \r\nL 213.953516 39.979063 \r\nL 214.222371 53.290358 \r\nL 214.528915 39.979063 \r\nL 214.827922 39.979063 \r\nL 215.096777 56.618182 \r\nL 215.360607 51.626446 \r\nL 215.621923 63.273829 \r\nL 215.88324 46.634711 \r\nL 216.147069 46.634711 \r\nL 216.405873 43.306887 \r\nL 216.662165 38.315152 \r\nL 216.920969 48.298623 \r\nL 217.179773 39.979063 \r\nL 217.441089 56.618182 \r\nL 217.702406 54.95427 \r\nL 217.966236 38.315152 \r\nL 218.237603 33.323416 \r\nL 218.50897 44.970799 \r\nL 218.775312 33.323416 \r\nL 219.036629 36.65124 \r\nL 219.313022 53.290358 \r\nL 219.576851 51.626446 \r\nL 219.848219 38.315152 \r\nL 220.365827 48.298623 \r\nL 220.64222 56.618182 \r\nL 220.911074 46.634711 \r\nL 221.172391 46.634711 \r\nL 221.431195 53.290358 \r\nL 221.697537 43.306887 \r\nL 221.968904 56.618182 \r\nL 222.230221 43.306887 \r\nL 222.509126 43.306887 \r\nL 222.783007 39.979063 \r\nL 223.044323 54.95427 \r\nL 223.325741 51.626446 \r\nL 223.587058 38.315152 \r\nL 224.12728 38.315152 \r\nL 224.406185 53.290358 \r\nL 224.682578 34.987328 \r\nL 224.984097 31.659504 \r\nL 225.303205 36.65124 \r\nL 225.58211 36.65124 \r\nL 225.896193 43.306887 \r\nL 226.172586 38.315152 \r\nL 226.43139 46.634711 \r\nL 226.690194 39.979063 \r\nL 226.951511 41.642975 \r\nL 227.519372 34.987328 \r\nL 227.815866 43.306887 \r\nL 228.072158 44.970799 \r\nL 228.330962 44.970799 \r\nL 228.607354 34.987328 \r\nL 228.863646 41.642975 \r\nL 229.119937 34.987328 \r\nL 229.391304 39.979063 \r\nL 229.655134 39.979063 \r\nL 229.888811 29.995592 \r\nL 230.195356 39.979063 \r\nL 230.459185 31.659504 \r\nL 230.717989 48.298623 \r\nL 230.979306 46.634711 \r\nL 231.233085 25.003857 \r\nL 231.494402 41.642975 \r\nL 231.760744 34.987328 \r\nL 232.024573 38.315152 \r\nL 232.290915 51.626446 \r\nL 232.557257 51.626446 \r\nL 232.808524 38.315152 \r\nL 233.06984 34.987328 \r\nL 233.328644 46.634711 \r\nL 233.587448 39.979063 \r\nL 233.856303 43.306887 \r\nL 234.135208 41.642975 \r\nL 234.406576 44.970799 \r\nL 234.936747 64.937741 \r\nL 235.456868 41.642975 \r\nL 235.718185 41.642975 \r\nL 235.979501 43.306887 \r\nL 236.235793 33.323416 \r\nL 236.755913 49.962534 \r\nL 237.022255 39.979063 \r\nL 237.283572 39.979063 \r\nL 237.547402 46.634711 \r\nL 237.811231 44.970799 \r\nL 238.070035 59.946006 \r\nL 238.328839 56.618182 \r\nL 238.587644 61.609917 \r\nL 238.851473 41.642975 \r\nL 239.391695 26.667769 \r\nL 239.690701 43.306887 \r\nL 239.952018 34.987328 \r\nL 240.210822 61.609917 \r\nL 240.472139 43.306887 \r\nL 240.738481 38.315152 \r\nL 240.999798 44.970799 \r\nL 241.261114 39.979063 \r\nL 241.512381 39.979063 \r\nL 241.778723 48.298623 \r\nL 242.326483 29.995592 \r\nL 242.5878 46.634711 \r\nL 242.849116 49.962534 \r\nL 243.110433 36.65124 \r\nL 243.369237 46.634711 \r\nL 243.630554 38.315152 \r\nL 243.896895 36.65124 \r\nL 244.170775 53.290358 \r\nL 244.434605 26.667769 \r\nL 244.690897 46.634711 \r\nL 244.97734 34.987328 \r\nL 245.238657 44.970799 \r\nL 245.499973 49.962534 \r\nL 245.756265 59.946006 \r\nL 246.020094 41.642975 \r\nL 246.276385 48.298623 \r\nL 246.537703 44.970799 \r\nL 246.793994 36.65124 \r\nL 247.062848 54.95427 \r\nL 247.577943 23.339945 \r\nL 247.839261 41.642975 \r\nL 248.098064 29.995592 \r\nL 248.392046 34.987328 \r\nL 248.65085 44.970799 \r\nL 248.907141 31.659504 \r\nL 249.173484 41.642975 \r\nL 249.449876 46.634711 \r\nL 249.706168 41.642975 \r\nL 250.256441 25.003857 \r\nL 250.522782 25.003857 \r\nL 250.786612 36.65124 \r\nL 251.04039 33.323416 \r\nL 251.294169 38.315152 \r\nL 251.590663 33.323416 \r\nL 251.85198 39.979063 \r\nL 252.118322 38.315152 \r\nL 252.384664 43.306887 \r\nL 252.676133 54.95427 \r\nL 253.007804 29.995592 \r\nL 253.289222 53.290358 \r\nL 253.593254 59.946006 \r\nL 253.867134 28.33168 \r\nL 254.146039 41.642975 \r\nL 254.457609 36.65124 \r\nL 255.020445 33.323416 \r\nL 255.314426 26.667769 \r\nL 255.573231 34.987328 \r\nL 255.882288 56.618182 \r\nL 256.193858 43.306887 \r\nL 256.457687 25.003857 \r\nL 256.711466 41.642975 \r\nL 257.309479 33.323416 \r\nL 257.565771 36.65124 \r\nL 257.81955 33.323416 \r\nL 258.339671 41.642975 \r\nL 258.600987 43.306887 \r\nL 258.867329 46.634711 \r\nL 259.128646 39.979063 \r\nL 259.389963 48.298623 \r\nL 259.651279 43.306887 \r\nL 259.927672 29.995592 \r\nL 260.191502 48.298623 \r\nL 260.45533 36.65124 \r\nL 260.716648 33.323416 \r\nL 260.985502 44.970799 \r\nL 261.545825 36.65124 \r\nL 261.809655 39.979063 \r\nL 262.075997 44.970799 \r\nL 262.339826 46.634711 \r\nL 262.59863 39.979063 \r\nL 262.864973 39.979063 \r\nL 263.126289 51.626446 \r\nL 263.390119 48.298623 \r\nL 263.651435 41.642975 \r\nL 263.910239 44.970799 \r\nL 264.164018 41.642975 \r\nL 264.478101 31.659504 \r\nL 264.759519 33.323416 \r\nL 265.025861 48.298623 \r\nL 265.287178 28.33168 \r\nL 265.661564 43.306887 \r\nL 265.925393 33.323416 \r\nL 266.2244 33.323416 \r\nL 266.488229 44.970799 \r\nL 267.046041 31.659504 \r\nL 267.307357 36.65124 \r\nL 267.571186 29.995592 \r\nL 267.835016 34.987328 \r\nL 268.098845 33.323416 \r\nL 268.365187 43.306887 \r\nL 268.907922 28.33168 \r\nL 269.211954 43.306887 \r\nL 269.475783 29.995592 \r\nL 269.732075 28.33168 \r\nL 269.995904 29.995592 \r\nL 270.249682 34.987328 \r\nL 270.513512 44.970799 \r\nL 271.028608 23.339945 \r\nL 271.287412 28.33168 \r\nL 271.543703 41.642975 \r\nL 271.802507 31.659504 \r\nL 272.063824 39.979063 \r\nL 272.325141 31.659504 \r\nL 272.586457 41.642975 \r\nL 272.845261 33.323416 \r\nL 273.109091 38.315152 \r\nL 273.365382 38.315152 \r\nL 273.626699 34.987328 \r\nL 273.88299 39.979063 \r\nL 274.141794 34.987328 \r\nL 274.398086 36.65124 \r\nL 274.654377 43.306887 \r\nL 274.908156 38.315152 \r\nL 275.171986 36.65124 \r\nL 275.435815 36.65124 \r\nL 275.955936 49.962534 \r\nL 276.209715 34.987328 \r\nL 276.46098 31.659504 \r\nL 276.968538 34.987328 \r\nL 277.229855 39.979063 \r\nL 277.488658 34.987328 \r\nL 277.747463 41.642975 \r\nL 278.001241 29.995592 \r\nL 278.302761 29.995592 \r\nL 278.559052 26.667769 \r\nL 278.832932 33.323416 \r\nL 279.101787 28.33168 \r\nL 279.629446 38.315152 \r\nL 279.88825 48.298623 \r\nL 280.15208 38.315152 \r\nL 280.415908 36.65124 \r\nL 280.674713 39.979063 \r\nL 280.933517 49.962534 \r\nL 281.189808 31.659504 \r\nL 281.453638 34.987328 \r\nL 281.712441 39.979063 \r\nL 281.971246 38.315152 \r\nL 282.23005 48.298623 \r\nL 282.493879 29.995592 \r\nL 282.747658 34.987328 \r\nL 282.998924 31.659504 \r\nL 283.25019 48.298623 \r\nL 283.569298 36.65124 \r\nL 283.828102 36.65124 \r\nL 284.084394 41.642975 \r\nL 284.34571 25.003857 \r\nL 284.60954 39.979063 \r\nL 284.875882 29.995592 \r\nL 285.139711 41.642975 \r\nL 285.664857 26.667769 \r\nL 285.921149 36.65124 \r\nL 286.179953 38.315152 \r\nL 286.438757 38.315152 \r\nL 286.702586 28.33168 \r\nL 286.953852 43.306887 \r\nL 287.217681 25.003857 \r\nL 287.484024 29.995592 \r\nL 287.783031 33.323416 \r\nL 288.044347 34.987328 \r\nL 288.300638 31.659504 \r\nL 288.564468 20.012121 \r\nL 288.838347 31.659504 \r\nL 289.159968 34.987328 \r\nL 289.423798 31.659504 \r\nL 289.695165 26.667769 \r\nL 289.923818 11.692562 \r\nL 290.195185 28.33168 \r\nL 290.459014 26.667769 \r\nL 290.715306 36.65124 \r\nL 290.976622 38.315152 \r\nL 291.230401 21.676033 \r\nL 291.494231 34.987328 \r\nL 291.750522 23.339945 \r\nL 292.011838 46.634711 \r\nL 292.270643 48.298623 \r\nL 292.534472 43.306887 \r\nL 293.057106 26.667769 \r\nL 293.320935 36.65124 \r\nL 293.594815 38.315152 \r\nL 293.916436 41.642975 \r\nL 294.44912 33.323416 \r\nL 294.745614 29.995592 \r\nL 295.024519 49.962534 \r\nL 295.333576 44.970799 \r\nL 295.599918 36.65124 \r\nL 296.122552 29.995592 \r\nL 296.381356 34.987328 \r\nL 296.645185 34.987328 \r\nL 296.906502 41.642975 \r\nL 297.167819 31.659504 \r\nL 297.429135 29.995592 \r\nL 297.69799 41.642975 \r\nL 297.959307 29.995592 \r\nL 298.220624 46.634711 \r\nL 298.474402 49.962534 \r\nL 298.733207 39.979063 \r\nL 298.989498 34.987328 \r\nL 299.248302 36.65124 \r\nL 299.502081 21.676033 \r\nL 299.768423 38.315152 \r\nL 300.027226 23.339945 \r\nL 300.286031 46.634711 \r\nL 300.542322 41.642975 \r\nL 300.826253 25.003857 \r\nL 301.087569 25.003857 \r\nL 301.338836 34.987328 \r\nL 301.595127 34.987328 \r\nL 301.853931 28.33168 \r\nL 302.110222 41.642975 \r\nL 302.374052 25.003857 \r\nL 302.635369 44.970799 \r\nL 302.946939 28.33168 \r\nL 303.208255 34.987328 \r\nL 303.47711 36.65124 \r\nL 303.75099 21.676033 \r\nL 304.012307 26.667769 \r\nL 304.316339 44.970799 \r\nL 304.605295 25.003857 \r\nL 304.909327 36.65124 \r\nL 305.487239 29.995592 \r\nL 305.758606 36.65124 \r\nL 306.042537 36.65124 \r\nL 306.32898 31.659504 \r\nL 306.60286 38.315152 \r\nL 306.859152 34.987328 \r\nL 307.120468 29.995592 \r\nL 307.409424 41.642975 \r\nL 307.932058 25.003857 \r\nL 308.185836 33.323416 \r\nL 308.447154 29.995592 \r\nL 308.703445 13.356474 \r\nL 308.957224 36.65124 \r\nL 309.211002 23.339945 \r\nL 309.464781 28.33168 \r\nL 309.721072 48.298623 \r\nL 310.580402 21.676033 \r\nL 310.841719 20.012121 \r\nL 311.105549 39.979063 \r\nL 311.36184 29.995592 \r\nL 311.620644 33.323416 \r\nL 311.876935 25.003857 \r\nL 312.399569 34.987328 \r\nL 312.665911 48.298623 \r\nL 312.922202 43.306887 \r\nL 313.186032 21.676033 \r\nL 313.43981 44.970799 \r\nL 313.711178 48.298623 \r\nL 313.967469 25.003857 \r\nL 314.226273 38.315152 \r\nL 314.485077 29.995592 \r\nL 314.743882 33.323416 \r\nL 315.007711 34.987328 \r\nL 315.276566 20.012121 \r\nL 315.794174 43.306887 \r\nL 316.047952 44.970799 \r\nL 316.304244 21.676033 \r\nL 316.558022 43.306887 \r\nL 316.814314 33.323416 \r\nL 317.075631 31.659504 \r\nL 317.33946 28.33168 \r\nL 317.598264 21.676033 \r\nL 317.857068 31.659504 \r\nL 318.379702 31.659504 \r\nL 318.641018 38.315152 \r\nL 318.902335 28.33168 \r\nL 319.161139 33.323416 \r\nL 319.414918 33.323416 \r\nL 319.673722 25.003857 \r\nL 319.935039 44.970799 \r\nL 320.457672 29.995592 \r\nL 320.713964 33.323416 \r\nL 320.975281 28.33168 \r\nL 321.226546 33.323416 \r\nL 321.492888 33.323416 \r\nL 321.754205 43.306887 \r\nL 322.053212 29.995592 \r\nL 322.568307 29.995592 \r\nL 322.827112 46.634711 \r\nL 323.374872 29.995592 \r\nL 323.631163 31.659504 \r\nL 323.887455 36.65124 \r\nL 324.146258 23.339945 \r\nL 324.400037 29.995592 \r\nL 324.658841 33.323416 \r\nL 324.910108 28.33168 \r\nL 325.183988 38.315152 \r\nL 325.69657 21.676033 \r\nL 325.952862 34.987328 \r\nL 326.465445 21.676033 \r\nL 326.726761 34.987328 \r\nL 326.98054 25.003857 \r\nL 327.261958 38.315152 \r\nL 327.5283 28.33168 \r\nL 327.797154 34.987328 \r\nL 328.101187 25.003857 \r\nL 328.367528 25.003857 \r\nL 328.621307 31.659504 \r\nL 329.136403 18.348209 \r\nL 329.395207 23.339945 \r\nL 329.925378 39.979063 \r\nL 330.189208 25.003857 \r\nL 330.744506 21.676033 \r\nL 330.998284 44.970799 \r\nL 331.254576 26.667769 \r\nL 331.561121 31.659504 \r\nL 331.819925 26.667769 \r\nL 332.12647 34.987328 \r\nL 332.392811 26.667769 \r\nL 332.699356 33.323416 \r\nL 332.985799 36.65124 \r\nL 333.254654 23.339945 \r\nL 333.518483 25.003857 \r\nL 333.774775 33.323416 \r\nL 334.038604 28.33168 \r\nL 334.297408 41.642975 \r\nL 334.558725 33.323416 \r\nL 334.812504 33.323416 \r\nL 335.078846 36.65124 \r\nL 335.335137 31.659504 \r\nL 335.639169 46.634711 \r\nL 335.945714 31.659504 \r\nL 336.20703 33.323416 \r\nL 336.463322 23.339945 \r\nL 336.724638 33.323416 \r\nL 336.983442 28.33168 \r\nL 337.239734 28.33168 \r\nL 337.496026 38.315152 \r\nL 337.759855 34.987328 \r\nL 338.274951 20.012121 \r\nL 338.531242 29.995592 \r\nL 338.795072 20.012121 \r\nL 339.04885 31.659504 \r\nL 339.312679 31.659504 \r\nL 339.573996 43.306887 \r\nL 339.850389 31.659504 \r\nL 340.114218 26.667769 \r\nL 340.629314 41.642975 \r\nL 340.898169 23.339945 \r\nL 341.161998 39.979063 \r\nL 341.420802 33.323416 \r\nL 341.714783 33.323416 \r\nL 341.973587 43.306887 \r\nL 342.224854 29.995592 \r\nL 342.488682 34.987328 \r\nL 342.762563 34.987328 \r\nL 343.026392 41.642975 \r\nL 343.541488 29.995592 \r\nL 343.830444 38.315152 \r\nL 344.094273 21.676033 \r\nL 344.358103 31.659504 \r\nL 344.619419 23.339945 \r\nL 344.895812 26.667769 \r\nL 345.179742 26.667769 \r\nL 345.453622 23.339945 \r\nL 345.732528 25.003857 \r\nL 345.99887 33.323416 \r\nL 346.277775 28.33168 \r\nL 346.606934 31.659504 \r\nL 346.883327 36.65124 \r\nL 347.159719 25.003857 \r\nL 347.418523 29.995592 \r\nL 347.936132 29.995592 \r\nL 348.192423 26.667769 \r\nL 348.45374 18.348209 \r\nL 348.705006 21.676033 \r\nL 348.966322 28.33168 \r\nL 349.222614 28.33168 \r\nL 349.499007 23.339945 \r\nL 349.684943 11.692562 \r\nL 349.684943 11.692562 \r\n\" style=\"fill:none;stroke:#e24a33;stroke-linecap:square;stroke-width:1.5;\"/>\r\n   </g>\r\n   <g id=\"line2d_20\">\r\n    <path clip-path=\"url(#p8546fd5638)\" d=\"M 45.321308 86.568595 \r\nL 45.617802 76.585124 \r\nL 45.934397 89.896419 \r\nL 46.504771 81.57686 \r\nL 46.773625 73.2573 \r\nL 47.037455 93.224242 \r\nL 47.349025 73.2573 \r\nL 47.630443 84.904683 \r\nL 47.90181 71.593388 \r\nL 48.163127 78.249036 \r\nL 48.444545 78.249036 \r\nL 48.718425 86.568595 \r\nL 49.002356 78.249036 \r\nL 49.283773 78.249036 \r\nL 49.552629 69.929477 \r\nL 49.813945 76.585124 \r\nL 50.0828 86.568595 \r\nL 50.374268 83.240771 \r\nL 50.638098 86.568595 \r\nL 50.899415 84.904683 \r\nL 51.203447 78.249036 \r\nL 51.477327 91.560331 \r\nL 51.751207 79.912948 \r\nL 52.027599 78.249036 \r\nL 52.296454 81.57686 \r\nL 52.552745 71.593388 \r\nL 52.854264 71.593388 \r\nL 53.110556 91.560331 \r\nL 53.381923 79.912948 \r\nL 53.650778 76.585124 \r\nL 54.165874 66.601653 \r\nL 54.459855 81.57686 \r\nL 54.761374 83.240771 \r\nL 55.085507 71.593388 \r\nL 55.371951 74.921212 \r\nL 55.633268 71.593388 \r\nL 55.894584 81.57686 \r\nL 56.158414 71.593388 \r\nL 56.422243 68.265565 \r\nL 56.686072 84.904683 \r\nL 56.95744 83.240771 \r\nL 57.226295 98.215978 \r\nL 57.485099 83.240771 \r\nL 58.075574 71.593388 \r\nL 58.336891 76.585124 \r\nL 58.635898 64.937741 \r\nL 58.894701 93.224242 \r\nL 59.158531 76.585124 \r\nL 59.41231 74.921212 \r\nL 59.673626 74.921212 \r\nL 59.932431 69.929477 \r\nL 60.20631 88.232507 \r\nL 60.47014 81.57686 \r\nL 60.769146 86.568595 \r\nL 61.035489 69.929477 \r\nL 61.304343 64.937741 \r\nL 62.158648 79.912948 \r\nL 62.422477 71.593388 \r\nL 62.681281 94.888154 \r\nL 62.942598 71.593388 \r\nL 63.20894 86.568595 \r\nL 63.789364 86.568595 \r\nL 64.055707 79.912948 \r\nL 64.311998 84.904683 \r\nL 64.613517 71.593388 \r\nL 64.879859 89.896419 \r\nL 65.161277 93.224242 \r\nL 65.432645 93.224242 \r\nL 65.706525 71.593388 \r\nL 65.960304 76.585124 \r\nL 66.234184 93.224242 \r\nL 66.498013 74.921212 \r\nL 66.756817 83.240771 \r\nL 67.058337 86.568595 \r\nL 67.319654 86.568595 \r\nL 67.58097 76.585124 \r\nL 67.887515 83.240771 \r\nL 68.148831 84.904683 \r\nL 68.415174 81.57686 \r\nL 68.679003 86.568595 \r\nL 68.965446 74.921212 \r\nL 69.538333 64.937741 \r\nL 69.814725 79.912948 \r\nL 70.08358 84.904683 \r\nL 70.344897 84.904683 \r\nL 70.613752 89.896419 \r\nL 70.880094 84.904683 \r\nL 71.148949 93.224242 \r\nL 71.412778 88.232507 \r\nL 71.676608 71.593388 \r\nL 71.937924 74.921212 \r\nL 72.206779 76.585124 \r\nL 72.465583 63.273829 \r\nL 72.731925 84.904683 \r\nL 73.329938 56.618182 \r\nL 73.885236 76.585124 \r\nL 74.139015 66.601653 \r\nL 74.400331 73.2573 \r\nL 74.674212 64.937741 \r\nL 74.948092 68.265565 \r\nL 75.20187 86.568595 \r\nL 75.458162 71.593388 \r\nL 75.714453 68.265565 \r\nL 75.968232 76.585124 \r\nL 76.237086 76.585124 \r\nL 76.799923 64.937741 \r\nL 77.066265 79.912948 \r\nL 77.347683 86.568595 \r\nL 77.611512 66.601653 \r\nL 78.169323 58.282094 \r\nL 78.458279 74.921212 \r\nL 78.769849 59.946006 \r\nL 79.149261 89.896419 \r\nL 79.433191 78.249036 \r\nL 79.691995 76.585124 \r\nL 79.943262 63.273829 \r\nL 80.199553 73.2573 \r\nL 80.455844 61.609917 \r\nL 80.805104 91.560331 \r\nL 81.066421 74.921212 \r\nL 81.332763 78.249036 \r\nL 81.629257 78.249036 \r\nL 81.888061 68.265565 \r\nL 82.14184 83.240771 \r\nL 82.400644 76.585124 \r\nL 82.65191 81.57686 \r\nL 82.903176 74.921212 \r\nL 83.415759 68.265565 \r\nL 83.67205 88.232507 \r\nL 83.940905 63.273829 \r\nL 84.194684 84.904683 \r\nL 84.707266 68.265565 \r\nL 85.126881 61.609917 \r\nL 85.405787 81.57686 \r\nL 85.717356 69.929477 \r\nL 85.991237 76.585124 \r\nL 86.270142 63.273829 \r\nL 86.533971 73.2573 \r\nL 86.800313 71.593388 \r\nL 87.056604 71.593388 \r\nL 87.310383 69.929477 \r\nL 87.817941 69.929477 \r\nL 88.071719 66.601653 \r\nL 88.328011 74.921212 \r\nL 88.584302 69.929477 \r\nL 88.855669 83.240771 \r\nL 89.109448 68.265565 \r\nL 89.36574 64.937741 \r\nL 89.624544 69.929477 \r\nL 89.885861 69.929477 \r\nL 90.137126 66.601653 \r\nL 90.405982 68.265565 \r\nL 90.664785 76.585124 \r\nL 90.918564 68.265565 \r\nL 91.43366 68.265565 \r\nL 91.692463 56.618182 \r\nL 91.953781 58.282094 \r\nL 92.210072 76.585124 \r\nL 92.473901 71.593388 \r\nL 92.747781 69.929477 \r\nL 93.021661 71.593388 \r\nL 93.300567 83.240771 \r\nL 93.604599 76.585124 \r\nL 93.976473 74.921212 \r\nL 94.28553 69.929477 \r\nL 94.602125 83.240771 \r\nL 94.911182 51.626446 \r\nL 95.217727 83.240771 \r\nL 95.961474 63.273829 \r\nL 96.280582 84.904683 \r\nL 96.582102 83.240771 \r\nL 96.923823 54.95427 \r\nL 97.227856 81.57686 \r\nL 97.5344 79.912948 \r\nL 98.175129 56.618182 \r\nL 98.443984 83.240771 \r\nL 98.722889 54.95427 \r\nL 99.248034 88.232507 \r\nL 99.509352 79.912948 \r\nL 99.770669 79.912948 \r\nL 100.02696 74.921212 \r\nL 100.363656 76.585124 \r\nL 100.647587 63.273829 \r\nL 100.908904 68.265565 \r\nL 101.165195 76.585124 \r\nL 101.43405 64.937741 \r\nL 101.697879 73.2573 \r\nL 101.979297 66.601653 \r\nL 102.245639 71.593388 \r\nL 102.504443 83.240771 \r\nL 102.76576 73.2573 \r\nL 103.027077 79.912948 \r\nL 103.328596 68.265565 \r\nL 103.718059 76.585124 \r\nL 104.074856 79.912948 \r\nL 104.401503 53.290358 \r\nL 104.750762 63.273829 \r\nL 105.034693 56.618182 \r\nL 105.348776 56.618182 \r\nL 105.695523 66.601653 \r\nL 106.007092 49.962534 \r\nL 106.336251 59.946006 \r\nL 106.745815 81.57686 \r\nL 107.067435 74.921212 \r\nL 107.358904 71.593388 \r\nL 107.818721 68.265565 \r\nL 108.097626 64.937741 \r\nL 108.361456 73.2573 \r\nL 108.612722 86.568595 \r\nL 108.911729 59.946006 \r\nL 109.170533 63.273829 \r\nL 109.424312 59.946006 \r\nL 109.680603 76.585124 \r\nL 109.931869 64.937741 \r\nL 110.190673 73.2573 \r\nL 110.72587 76.585124 \r\nL 110.984674 63.273829 \r\nL 111.248503 64.937741 \r\nL 111.50982 61.609917 \r\nL 111.816365 59.946006 \r\nL 112.080194 73.2573 \r\nL 112.685745 59.946006 \r\nL 112.949574 79.912948 \r\nL 113.210892 69.929477 \r\nL 113.474721 73.2573 \r\nL 113.736037 56.618182 \r\nL 113.999867 63.273829 \r\nL 114.567729 56.618182 \r\nL 114.829045 61.609917 \r\nL 115.085337 59.946006 \r\nL 115.339115 41.642975 \r\nL 115.597919 64.937741 \r\nL 115.856723 71.593388 \r\nL 116.115527 63.273829 \r\nL 116.409509 73.2573 \r\nL 116.670825 56.618182 \r\nL 116.92963 71.593388 \r\nL 117.190946 69.929477 \r\nL 117.447237 63.273829 \r\nL 117.703529 74.921212 \r\nL 117.974896 46.634711 \r\nL 118.502555 64.937741 \r\nL 118.799049 64.937741 \r\nL 119.057853 66.601653 \r\nL 119.316657 66.601653 \r\nL 120.412178 59.946006 \r\nL 120.706159 64.937741 \r\nL 121.108184 66.601653 \r\nL 121.397141 63.273829 \r\nL 122.030331 59.946006 \r\nL 122.389641 66.601653 \r\nL 122.686135 66.601653 \r\nL 123.007756 68.265565 \r\nL 123.324351 71.593388 \r\nL 123.658535 86.568595 \r\nL 123.962567 78.249036 \r\nL 124.264087 59.946006 \r\nL 124.520378 68.265565 \r\nL 124.784207 61.609917 \r\nL 125.040499 58.282094 \r\nL 125.304328 68.265565 \r\nL 125.560619 56.618182 \r\nL 125.816911 56.618182 \r\nL 126.073203 78.249036 \r\nL 126.633526 53.290358 \r\nL 126.89233 59.946006 \r\nL 127.146109 59.946006 \r\nL 127.4024 61.609917 \r\nL 127.658691 61.609917 \r\nL 127.922521 56.618182 \r\nL 128.188863 56.618182 \r\nL 128.492895 54.95427 \r\nL 128.749187 51.626446 \r\nL 129.015528 54.95427 \r\nL 129.269307 59.946006 \r\nL 129.540674 53.290358 \r\nL 129.799479 58.282094 \r\nL 130.063308 51.626446 \r\nL 130.324625 66.601653 \r\nL 130.585941 53.290358 \r\nL 130.844745 69.929477 \r\nL 131.106062 56.618182 \r\nL 131.636233 64.937741 \r\nL 131.895037 56.618182 \r\nL 132.153842 59.946006 \r\nL 132.420184 53.290358 \r\nL 132.676475 56.618182 \r\nL 132.970456 53.290358 \r\nL 133.2569 56.618182 \r\nL 133.510679 68.265565 \r\nL 133.761944 54.95427 \r\nL 134.023262 49.962534 \r\nL 134.287091 66.601653 \r\nL 134.540869 51.626446 \r\nL 134.794648 69.929477 \r\nL 135.05094 48.298623 \r\nL 135.576086 63.273829 \r\nL 135.832377 58.282094 \r\nL 136.131384 59.946006 \r\nL 136.397726 54.95427 \r\nL 136.671606 63.273829 \r\nL 136.945486 54.95427 \r\nL 137.199265 51.626446 \r\nL 137.995778 79.912948 \r\nL 138.249557 64.937741 \r\nL 138.503336 68.265565 \r\nL 138.767165 59.946006 \r\nL 139.304874 63.273829 \r\nL 139.573729 59.946006 \r\nL 140.078774 78.249036 \r\nL 140.337578 58.282094 \r\nL 140.598895 69.929477 \r\nL 140.855186 61.609917 \r\nL 141.124041 48.298623 \r\nL 141.382845 68.265565 \r\nL 141.913016 59.946006 \r\nL 142.186896 61.609917 \r\nL 142.448213 59.946006 \r\nL 142.722093 54.95427 \r\nL 142.988435 58.282094 \r\nL 143.506043 46.634711 \r\nL 143.817614 48.298623 \r\nL 144.111595 53.290358 \r\nL 144.387988 51.626446 \r\nL 144.669405 51.626446 \r\nL 144.978463 63.273829 \r\nL 145.254856 58.282094 \r\nL 145.531248 63.273829 \r\nL 145.805128 59.946006 \r\nL 146.053881 39.979063 \r\nL 146.305148 44.970799 \r\nL 146.601642 34.987328 \r\nL 146.898135 73.2573 \r\nL 147.257446 66.601653 \r\nL 147.687111 49.962534 \r\nL 148.13939 63.273829 \r\nL 148.506238 64.937741 \r\nL 148.797707 56.618182 \r\nL 149.071587 59.946006 \r\nL 149.340442 56.618182 \r\nL 149.614322 46.634711 \r\nL 149.878151 43.306887 \r\nL 150.144493 46.634711 \r\nL 150.410835 51.626446 \r\nL 150.677178 63.273829 \r\nL 150.946032 49.962534 \r\nL 151.212374 49.962534 \r\nL 151.493793 56.618182 \r\nL 151.757621 56.618182 \r\nL 152.023964 69.929477 \r\nL 152.28528 53.290358 \r\nL 152.561673 51.626446 \r\nL 152.828015 54.95427 \r\nL 153.104408 56.618182 \r\nL 153.373263 61.609917 \r\nL 153.647143 54.95427 \r\nL 153.910972 58.282094 \r\nL 154.179827 53.290358 \r\nL 154.451194 71.593388 \r\nL 154.993929 49.962534 \r\nL 155.260271 59.946006 \r\nL 155.772854 41.642975 \r\nL 156.036683 68.265565 \r\nL 156.295487 44.970799 \r\nL 156.576906 43.306887 \r\nL 157.14728 59.946006 \r\nL 157.411108 51.626446 \r\nL 157.6674 53.290358 \r\nL 157.928717 53.290358 \r\nL 158.192546 74.921212 \r\nL 158.45135 48.298623 \r\nL 158.730256 53.290358 \r\nL 159.069465 54.95427 \r\nL 159.383547 46.634711 \r\nL 159.707681 54.95427 \r\nL 160.001662 51.626446 \r\nL 160.270516 49.962534 \r\nL 160.534346 49.962534 \r\nL 160.820789 56.618182 \r\nL 161.144923 51.626446 \r\nL 161.436391 44.970799 \r\nL 161.976614 64.937741 \r\nL 162.247981 64.937741 \r\nL 162.514323 76.585124 \r\nL 162.783177 53.290358 \r\nL 163.069621 44.970799 \r\nL 163.335963 51.626446 \r\nL 163.59728 41.642975 \r\nL 163.861109 39.979063 \r\nL 164.132477 49.962534 \r\nL 164.401331 51.626446 \r\nL 164.670186 59.946006 \r\nL 164.92899 48.298623 \r\nL 165.459161 44.970799 \r\nL 165.722991 51.626446 \r\nL 165.991846 44.970799 \r\nL 166.255675 49.962534 \r\nL 166.524529 48.298623 \r\nL 166.785847 43.306887 \r\nL 167.084853 44.970799 \r\nL 167.343657 58.282094 \r\nL 167.602461 56.618182 \r\nL 167.873828 48.298623 \r\nL 168.150221 51.626446 \r\nL 168.419076 58.282094 \r\nL 168.956785 49.962534 \r\nL 169.265843 66.601653 \r\nL 169.46183 54.95427 \r\nL 169.738223 48.298623 \r\nL 169.997027 56.618182 \r\nL 170.263369 59.946006 \r\nL 170.522173 56.618182 \r\nL 170.786003 58.282094 \r\nL 171.047319 51.626446 \r\nL 171.313661 56.618182 \r\nL 171.846345 53.290358 \r\nL 172.100124 38.315152 \r\nL 172.366466 43.306887 \r\nL 172.62527 56.618182 \r\nL 172.891612 49.962534 \r\nL 173.145391 48.298623 \r\nL 173.454448 44.970799 \r\nL 173.71074 54.95427 \r\nL 173.977082 51.626446 \r\nL 174.245936 46.634711 \r\nL 174.512278 71.593388 \r\nL 174.768569 43.306887 \r\nL 175.029887 56.618182 \r\nL 175.291203 51.626446 \r\nL 175.55252 39.979063 \r\nL 175.871628 59.946006 \r\nL 176.198274 49.962534 \r\nL 176.45959 54.95427 \r\nL 176.730958 68.265565 \r\nL 177.256104 34.987328 \r\nL 177.778738 48.298623 \r\nL 178.040054 46.634711 \r\nL 178.298859 53.290358 \r\nL 178.565201 54.95427 \r\nL 178.831542 46.634711 \r\nL 179.095372 51.626446 \r\nL 179.366739 53.290358 \r\nL 179.630569 63.273829 \r\nL 179.889373 46.634711 \r\nL 180.195917 54.95427 \r\nL 180.459747 51.626446 \r\nL 180.721064 51.626446 \r\nL 180.98238 54.95427 \r\nL 181.507526 54.95427 \r\nL 181.776381 48.298623 \r\nL 182.042723 51.626446 \r\nL 182.30404 53.290358 \r\nL 182.562844 53.290358 \r\nL 182.819135 56.618182 \r\nL 183.080452 54.95427 \r\nL 183.339256 36.65124 \r\nL 183.902092 48.298623 \r\nL 184.198586 53.290358 \r\nL 184.472466 39.979063 \r\nL 184.738809 58.282094 \r\nL 185.060429 31.659504 \r\nL 185.324258 49.962534 \r\nL 185.588088 41.642975 \r\nL 185.856942 51.626446 \r\nL 186.133335 53.290358 \r\nL 186.417266 43.306887 \r\nL 186.708735 48.298623 \r\nL 187.284134 36.65124 \r\nL 187.547963 49.962534 \r\nL 187.811793 54.95427 \r\nL 188.133413 43.306887 \r\nL 188.397242 48.298623 \r\nL 188.663585 48.298623 \r\nL 188.937465 31.659504 \r\nL 189.201294 56.618182 \r\nL 189.467636 51.626446 \r\nL 189.781719 41.642975 \r\nL 190.035498 38.315152 \r\nL 190.294302 39.979063 \r\nL 190.558131 58.282094 \r\nL 190.824473 61.609917 \r\nL 191.083277 41.642975 \r\nL 191.354644 46.634711 \r\nL 191.618474 39.979063 \r\nL 191.889841 48.298623 \r\nL 192.153671 48.298623 \r\nL 192.414987 49.962534 \r\nL 192.716506 63.273829 \r\nL 193.236628 54.95427 \r\nL 193.510507 39.979063 \r\nL 193.771824 38.315152 \r\nL 194.038166 48.298623 \r\nL 194.301996 53.290358 \r\nL 194.57085 36.65124 \r\nL 194.837193 61.609917 \r\nL 195.101021 44.970799 \r\nL 195.359826 53.290358 \r\nL 195.62868 44.970799 \r\nL 195.889997 46.634711 \r\nL 196.156339 53.290358 \r\nL 196.417656 49.962534 \r\nL 196.683998 53.290358 \r\nL 196.95034 46.634711 \r\nL 197.211657 54.95427 \r\nL 197.467948 43.306887 \r\nL 197.726752 48.298623 \r\nL 197.985556 39.979063 \r\nL 198.246873 54.95427 \r\nL 198.510703 39.979063 \r\nL 198.797146 39.979063 \r\nL 199.058463 36.65124 \r\nL 199.319779 43.306887 \r\nL 199.581096 46.634711 \r\nL 199.87759 54.95427 \r\nL 200.133881 56.618182 \r\nL 200.392685 46.634711 \r\nL 200.654002 49.962534 \r\nL 200.917831 38.315152 \r\nL 201.176636 63.273829 \r\nL 201.465591 41.642975 \r\nL 201.729421 44.970799 \r\nL 201.998276 39.979063 \r\nL 202.262105 43.306887 \r\nL 202.523422 43.306887 \r\nL 202.799815 51.626446 \r\nL 203.583765 38.315152 \r\nL 203.850107 49.962534 \r\nL 204.380278 36.65124 \r\nL 204.679285 33.323416 \r\nL 204.938089 53.290358 \r\nL 205.204431 39.979063 \r\nL 205.463235 33.323416 \r\nL 205.729577 54.95427 \r\nL 206.254723 33.323416 \r\nL 206.518553 48.298623 \r\nL 206.792433 46.634711 \r\nL 207.066313 41.642975 \r\nL 207.330142 49.962534 \r\nL 207.593972 36.65124 \r\nL 207.855289 48.298623 \r\nL 208.116605 51.626446 \r\nL 208.377922 38.315152 \r\nL 208.634213 64.937741 \r\nL 208.900555 48.298623 \r\nL 209.156847 43.306887 \r\nL 209.433239 53.290358 \r\nL 209.702094 44.970799 \r\nL 209.963411 51.626446 \r\nL 210.217189 53.290358 \r\nL 210.483532 44.970799 \r\nL 210.792589 54.95427 \r\nL 211.053906 31.659504 \r\nL 211.31271 48.298623 \r\nL 211.576539 46.634711 \r\nL 212.373053 46.634711 \r\nL 212.636882 39.979063 \r\nL 212.893173 41.642975 \r\nL 213.157002 49.962534 \r\nL 213.674611 33.323416 \r\nL 213.953516 53.290358 \r\nL 214.222371 43.306887 \r\nL 214.528915 54.95427 \r\nL 214.827922 49.962534 \r\nL 215.096777 49.962534 \r\nL 215.360607 54.95427 \r\nL 215.88324 43.306887 \r\nL 216.147069 56.618182 \r\nL 216.405873 46.634711 \r\nL 216.662165 46.634711 \r\nL 216.920969 56.618182 \r\nL 217.179773 39.979063 \r\nL 217.441089 54.95427 \r\nL 217.702406 36.65124 \r\nL 217.966236 34.987328 \r\nL 218.237603 59.946006 \r\nL 218.775312 43.306887 \r\nL 219.036629 56.618182 \r\nL 219.313022 39.979063 \r\nL 219.576851 46.634711 \r\nL 219.848219 38.315152 \r\nL 220.10451 36.65124 \r\nL 220.365827 63.273829 \r\nL 220.64222 39.979063 \r\nL 220.911074 58.282094 \r\nL 221.172391 33.323416 \r\nL 221.431195 36.65124 \r\nL 221.697537 54.95427 \r\nL 221.968904 58.282094 \r\nL 222.230221 49.962534 \r\nL 222.509126 59.946006 \r\nL 222.783007 29.995592 \r\nL 223.044323 44.970799 \r\nL 223.325741 43.306887 \r\nL 223.587058 31.659504 \r\nL 223.848374 51.626446 \r\nL 224.12728 34.987328 \r\nL 224.406185 44.970799 \r\nL 224.682578 38.315152 \r\nL 224.984097 46.634711 \r\nL 225.303205 41.642975 \r\nL 225.58211 44.970799 \r\nL 225.896193 41.642975 \r\nL 226.172586 44.970799 \r\nL 226.43139 31.659504 \r\nL 226.690194 31.659504 \r\nL 226.951511 33.323416 \r\nL 227.519372 48.298623 \r\nL 228.072158 41.642975 \r\nL 228.330962 56.618182 \r\nL 228.607354 39.979063 \r\nL 228.863646 41.642975 \r\nL 229.119937 41.642975 \r\nL 229.391304 43.306887 \r\nL 229.655134 43.306887 \r\nL 229.888811 48.298623 \r\nL 230.195356 33.323416 \r\nL 230.459185 33.323416 \r\nL 230.717989 48.298623 \r\nL 230.979306 44.970799 \r\nL 231.233085 39.979063 \r\nL 231.494402 39.979063 \r\nL 231.760744 48.298623 \r\nL 232.024573 38.315152 \r\nL 232.290915 41.642975 \r\nL 232.557257 49.962534 \r\nL 233.06984 39.979063 \r\nL 233.328644 53.290358 \r\nL 233.587448 39.979063 \r\nL 233.856303 51.626446 \r\nL 234.135208 43.306887 \r\nL 234.406576 59.946006 \r\nL 234.670405 48.298623 \r\nL 235.190526 39.979063 \r\nL 235.979501 44.970799 \r\nL 236.235793 53.290358 \r\nL 236.492084 56.618182 \r\nL 236.755913 43.306887 \r\nL 237.022255 39.979063 \r\nL 237.283572 53.290358 \r\nL 237.547402 44.970799 \r\nL 238.070035 58.282094 \r\nL 238.328839 46.634711 \r\nL 238.587644 53.290358 \r\nL 238.851473 46.634711 \r\nL 239.125353 28.33168 \r\nL 239.690701 54.95427 \r\nL 239.952018 36.65124 \r\nL 240.210822 58.282094 \r\nL 240.472139 34.987328 \r\nL 240.738481 44.970799 \r\nL 240.999798 29.995592 \r\nL 241.261114 48.298623 \r\nL 241.778723 36.65124 \r\nL 242.065166 39.979063 \r\nL 242.326483 34.987328 \r\nL 242.5878 44.970799 \r\nL 242.849116 34.987328 \r\nL 243.110433 43.306887 \r\nL 243.369237 34.987328 \r\nL 243.630554 33.323416 \r\nL 243.896895 38.315152 \r\nL 244.170775 39.979063 \r\nL 244.434605 36.65124 \r\nL 244.690897 44.970799 \r\nL 244.97734 44.970799 \r\nL 245.238657 36.65124 \r\nL 245.499973 39.979063 \r\nL 245.756265 48.298623 \r\nL 246.276385 34.987328 \r\nL 246.537703 38.315152 \r\nL 246.793994 46.634711 \r\nL 247.062848 43.306887 \r\nL 247.321652 34.987328 \r\nL 247.839261 34.987328 \r\nL 248.098064 41.642975 \r\nL 248.392046 43.306887 \r\nL 248.65085 39.979063 \r\nL 248.907141 41.642975 \r\nL 249.173484 34.987328 \r\nL 249.449876 49.962534 \r\nL 249.706168 36.65124 \r\nL 249.995124 41.642975 \r\nL 250.256441 41.642975 \r\nL 250.786612 49.962534 \r\nL 251.04039 26.667769 \r\nL 251.294169 36.65124 \r\nL 251.590663 54.95427 \r\nL 251.85198 41.642975 \r\nL 252.118322 41.642975 \r\nL 252.384664 36.65124 \r\nL 252.676133 49.962534 \r\nL 253.007804 48.298623 \r\nL 253.289222 34.987328 \r\nL 253.593254 33.323416 \r\nL 254.146039 59.946006 \r\nL 254.457609 33.323416 \r\nL 254.754104 33.323416 \r\nL 255.020445 39.979063 \r\nL 255.314426 36.65124 \r\nL 255.573231 43.306887 \r\nL 255.882288 39.979063 \r\nL 256.193858 41.642975 \r\nL 256.457687 48.298623 \r\nL 256.711466 36.65124 \r\nL 256.977808 34.987328 \r\nL 257.309479 44.970799 \r\nL 257.565771 36.65124 \r\nL 257.81955 41.642975 \r\nL 258.078354 43.306887 \r\nL 258.339671 49.962534 \r\nL 258.600987 38.315152 \r\nL 258.867329 46.634711 \r\nL 259.128646 44.970799 \r\nL 259.389963 49.962534 \r\nL 259.651279 49.962534 \r\nL 259.927672 44.970799 \r\nL 260.191502 53.290358 \r\nL 260.45533 38.315152 \r\nL 260.716648 31.659504 \r\nL 260.985502 44.970799 \r\nL 261.244307 51.626446 \r\nL 261.545825 39.979063 \r\nL 261.809655 39.979063 \r\nL 262.075997 41.642975 \r\nL 262.339826 38.315152 \r\nL 262.59863 44.970799 \r\nL 262.864973 36.65124 \r\nL 263.126289 34.987328 \r\nL 263.390119 43.306887 \r\nL 263.651435 36.65124 \r\nL 263.910239 39.979063 \r\nL 264.164018 34.987328 \r\nL 264.478101 31.659504 \r\nL 264.759519 33.323416 \r\nL 265.025861 44.970799 \r\nL 265.287178 31.659504 \r\nL 265.661564 53.290358 \r\nL 265.925393 44.970799 \r\nL 266.2244 29.995592 \r\nL 266.488229 33.323416 \r\nL 266.754572 38.315152 \r\nL 267.046041 41.642975 \r\nL 267.307357 29.995592 \r\nL 267.571186 41.642975 \r\nL 267.835016 28.33168 \r\nL 268.098845 38.315152 \r\nL 268.365187 36.65124 \r\nL 268.634042 36.65124 \r\nL 268.907922 38.315152 \r\nL 269.211954 29.995592 \r\nL 269.475783 26.667769 \r\nL 269.732075 33.323416 \r\nL 269.995904 34.987328 \r\nL 270.249682 39.979063 \r\nL 270.513512 39.979063 \r\nL 270.769804 49.962534 \r\nL 271.028608 41.642975 \r\nL 271.287412 44.970799 \r\nL 271.543703 39.979063 \r\nL 271.802507 43.306887 \r\nL 272.063824 44.970799 \r\nL 272.325141 38.315152 \r\nL 272.586457 25.003857 \r\nL 272.845261 44.970799 \r\nL 273.365382 28.33168 \r\nL 273.626699 31.659504 \r\nL 273.88299 23.339945 \r\nL 274.141794 39.979063 \r\nL 274.398086 48.298623 \r\nL 274.654377 43.306887 \r\nL 274.908156 44.970799 \r\nL 275.171986 53.290358 \r\nL 275.435815 34.987328 \r\nL 275.694619 31.659504 \r\nL 275.955936 31.659504 \r\nL 276.209715 28.33168 \r\nL 276.46098 33.323416 \r\nL 276.717272 44.970799 \r\nL 276.968538 36.65124 \r\nL 277.488658 39.979063 \r\nL 278.001241 39.979063 \r\nL 278.302761 41.642975 \r\nL 278.559052 38.315152 \r\nL 278.832932 38.315152 \r\nL 279.101787 34.987328 \r\nL 279.365616 38.315152 \r\nL 279.629446 33.323416 \r\nL 279.88825 44.970799 \r\nL 280.15208 41.642975 \r\nL 280.415908 56.618182 \r\nL 280.933517 38.315152 \r\nL 281.189808 38.315152 \r\nL 281.453638 31.659504 \r\nL 281.712441 33.323416 \r\nL 281.971246 39.979063 \r\nL 282.23005 39.979063 \r\nL 282.493879 38.315152 \r\nL 282.747658 39.979063 \r\nL 282.998924 39.979063 \r\nL 283.569298 53.290358 \r\nL 283.828102 41.642975 \r\nL 284.084394 44.970799 \r\nL 284.34571 38.315152 \r\nL 284.60954 36.65124 \r\nL 284.875882 43.306887 \r\nL 285.139711 29.995592 \r\nL 285.403541 28.33168 \r\nL 285.664857 49.962534 \r\nL 285.921149 39.979063 \r\nL 286.179953 44.970799 \r\nL 286.702586 41.642975 \r\nL 287.484024 25.003857 \r\nL 287.783031 39.979063 \r\nL 288.044347 31.659504 \r\nL 288.300638 28.33168 \r\nL 288.564468 34.987328 \r\nL 288.838347 38.315152 \r\nL 289.159968 34.987328 \r\nL 289.423798 46.634711 \r\nL 289.695165 33.323416 \r\nL 289.923818 34.987328 \r\nL 290.195185 31.659504 \r\nL 290.459014 53.290358 \r\nL 290.976622 29.995592 \r\nL 291.230401 33.323416 \r\nL 291.750522 33.323416 \r\nL 292.011838 36.65124 \r\nL 292.270643 48.298623 \r\nL 292.534472 28.33168 \r\nL 292.795789 33.323416 \r\nL 293.057106 44.970799 \r\nL 293.320935 31.659504 \r\nL 293.594815 36.65124 \r\nL 293.916436 49.962534 \r\nL 294.187803 48.298623 \r\nL 294.44912 28.33168 \r\nL 294.745614 56.618182 \r\nL 295.333576 41.642975 \r\nL 295.858723 33.323416 \r\nL 296.381356 44.970799 \r\nL 296.645185 44.970799 \r\nL 296.906502 46.634711 \r\nL 297.167819 41.642975 \r\nL 297.429135 28.33168 \r\nL 297.69799 44.970799 \r\nL 297.959307 34.987328 \r\nL 298.220624 44.970799 \r\nL 298.474402 34.987328 \r\nL 298.733207 44.970799 \r\nL 298.989498 38.315152 \r\nL 299.502081 38.315152 \r\nL 299.768423 34.987328 \r\nL 300.027226 33.323416 \r\nL 300.286031 36.65124 \r\nL 300.542322 26.667769 \r\nL 301.087569 44.970799 \r\nL 301.338836 38.315152 \r\nL 301.595127 44.970799 \r\nL 301.853931 39.979063 \r\nL 302.110222 38.315152 \r\nL 302.374052 33.323416 \r\nL 302.635369 44.970799 \r\nL 302.946939 28.33168 \r\nL 303.208255 28.33168 \r\nL 303.47711 44.970799 \r\nL 303.75099 34.987328 \r\nL 304.012307 34.987328 \r\nL 304.316339 44.970799 \r\nL 304.605295 29.995592 \r\nL 304.909327 36.65124 \r\nL 305.228435 28.33168 \r\nL 305.758606 39.979063 \r\nL 306.042537 36.65124 \r\nL 306.32898 31.659504 \r\nL 306.60286 38.315152 \r\nL 306.859152 34.987328 \r\nL 307.120468 29.995592 \r\nL 307.409424 43.306887 \r\nL 307.675766 28.33168 \r\nL 307.932058 36.65124 \r\nL 308.185836 34.987328 \r\nL 308.447154 38.315152 \r\nL 308.703445 31.659504 \r\nL 308.957224 33.323416 \r\nL 309.211002 28.33168 \r\nL 309.464781 48.298623 \r\nL 309.721072 41.642975 \r\nL 310.580402 31.659504 \r\nL 310.841719 53.290358 \r\nL 311.105549 39.979063 \r\nL 311.620644 28.33168 \r\nL 311.876935 43.306887 \r\nL 312.140765 36.65124 \r\nL 312.399569 41.642975 \r\nL 312.665911 43.306887 \r\nL 312.922202 39.979063 \r\nL 313.186032 44.970799 \r\nL 313.43981 46.634711 \r\nL 313.711178 33.323416 \r\nL 313.967469 26.667769 \r\nL 314.226273 34.987328 \r\nL 314.485077 36.65124 \r\nL 314.743882 29.995592 \r\nL 315.007711 41.642975 \r\nL 315.276566 43.306887 \r\nL 315.532857 38.315152 \r\nL 315.794174 41.642975 \r\nL 316.047952 53.290358 \r\nL 316.304244 39.979063 \r\nL 316.558022 39.979063 \r\nL 316.814314 38.315152 \r\nL 317.075631 39.979063 \r\nL 317.33946 31.659504 \r\nL 317.598264 33.323416 \r\nL 317.857068 39.979063 \r\nL 318.110847 39.979063 \r\nL 318.379702 43.306887 \r\nL 318.641018 34.987328 \r\nL 318.902335 38.315152 \r\nL 319.161139 31.659504 \r\nL 319.414918 44.970799 \r\nL 319.673722 44.970799 \r\nL 319.935039 29.995592 \r\nL 320.198868 44.970799 \r\nL 320.457672 26.667769 \r\nL 320.975281 48.298623 \r\nL 321.226546 38.315152 \r\nL 321.492888 38.315152 \r\nL 321.754205 36.65124 \r\nL 322.053212 46.634711 \r\nL 322.309503 34.987328 \r\nL 322.568307 41.642975 \r\nL 322.827112 34.987328 \r\nL 323.10853 46.634711 \r\nL 323.631163 38.315152 \r\nL 323.887455 28.33168 \r\nL 324.146258 38.315152 \r\nL 324.400037 31.659504 \r\nL 324.658841 38.315152 \r\nL 324.910108 41.642975 \r\nL 325.183988 39.979063 \r\nL 325.442791 48.298623 \r\nL 325.69657 28.33168 \r\nL 325.952862 31.659504 \r\nL 326.206641 38.315152 \r\nL 326.465445 36.65124 \r\nL 326.726761 36.65124 \r\nL 326.98054 43.306887 \r\nL 327.261958 44.970799 \r\nL 327.5283 25.003857 \r\nL 327.797154 29.995592 \r\nL 328.101187 44.970799 \r\nL 328.367528 29.995592 \r\nL 328.621307 38.315152 \r\nL 329.395207 28.33168 \r\nL 329.651498 23.339945 \r\nL 329.925378 43.306887 \r\nL 330.189208 41.642975 \r\nL 330.483189 38.315152 \r\nL 330.744506 44.970799 \r\nL 330.998284 31.659504 \r\nL 331.254576 39.979063 \r\nL 331.561121 25.003857 \r\nL 331.819925 33.323416 \r\nL 332.12647 36.65124 \r\nL 332.392811 25.003857 \r\nL 332.699356 26.667769 \r\nL 332.985799 34.987328 \r\nL 333.254654 34.987328 \r\nL 333.518483 38.315152 \r\nL 333.774775 38.315152 \r\nL 334.038604 31.659504 \r\nL 334.297408 31.659504 \r\nL 334.558725 38.315152 \r\nL 334.812504 38.315152 \r\nL 335.078846 31.659504 \r\nL 335.335137 43.306887 \r\nL 335.639169 36.65124 \r\nL 335.945714 46.634711 \r\nL 336.463322 20.012121 \r\nL 336.724638 51.626446 \r\nL 336.983442 34.987328 \r\nL 337.496026 46.634711 \r\nL 337.759855 33.323416 \r\nL 338.274951 43.306887 \r\nL 338.531242 33.323416 \r\nL 338.795072 28.33168 \r\nL 339.04885 36.65124 \r\nL 339.312679 38.315152 \r\nL 339.573996 48.298623 \r\nL 339.850389 31.659504 \r\nL 340.114218 44.970799 \r\nL 340.37051 48.298623 \r\nL 340.629314 43.306887 \r\nL 340.898169 31.659504 \r\nL 341.161998 36.65124 \r\nL 341.420802 38.315152 \r\nL 341.714783 36.65124 \r\nL 341.973587 33.323416 \r\nL 342.224854 33.323416 \r\nL 342.488682 44.970799 \r\nL 342.762563 39.979063 \r\nL 343.285196 36.65124 \r\nL 343.541488 26.667769 \r\nL 343.830444 38.315152 \r\nL 344.094273 33.323416 \r\nL 344.358103 38.315152 \r\nL 344.619419 36.65124 \r\nL 344.895812 29.995592 \r\nL 345.179742 31.659504 \r\nL 345.453622 36.65124 \r\nL 345.732528 29.995592 \r\nL 345.99887 31.659504 \r\nL 346.277775 28.33168 \r\nL 346.606934 33.323416 \r\nL 346.883327 28.33168 \r\nL 347.159719 26.667769 \r\nL 347.418523 39.979063 \r\nL 347.677327 41.642975 \r\nL 347.936132 36.65124 \r\nL 348.192423 43.306887 \r\nL 348.45374 36.65124 \r\nL 348.705006 36.65124 \r\nL 348.966322 33.323416 \r\nL 349.222614 43.306887 \r\nL 349.499007 38.315152 \r\nL 349.684943 31.659504 \r\nL 349.684943 31.659504 \r\n\" style=\"fill:none;stroke:#348abd;stroke-linecap:square;stroke-width:1.5;\"/>\r\n   </g>\r\n   <g id=\"patch_3\">\r\n    <path d=\"M 30.103125 106.036364 \r\nL 30.103125 7.2 \r\n\" style=\"fill:none;stroke:#ffffff;stroke-linecap:square;stroke-linejoin:miter;\"/>\r\n   </g>\r\n   <g id=\"patch_4\">\r\n    <path d=\"M 364.903125 106.036364 \r\nL 364.903125 7.2 \r\n\" style=\"fill:none;stroke:#ffffff;stroke-linecap:square;stroke-linejoin:miter;\"/>\r\n   </g>\r\n   <g id=\"patch_5\">\r\n    <path d=\"M 30.103126 106.036364 \r\nL 364.903125 106.036364 \r\n\" style=\"fill:none;stroke:#ffffff;stroke-linecap:square;stroke-linejoin:miter;\"/>\r\n   </g>\r\n   <g id=\"patch_6\">\r\n    <path d=\"M 30.103126 7.2 \r\nL 364.903125 7.2 \r\n\" style=\"fill:none;stroke:#ffffff;stroke-linecap:square;stroke-linejoin:miter;\"/>\r\n   </g>\r\n   <g id=\"legend_1\">\r\n    <g id=\"patch_7\">\r\n     <path d=\"M 37.103125 44.834375 \r\nL 106.053125 44.834375 \r\nQ 108.053125 44.834375 108.053125 42.834375 \r\nL 108.053125 14.2 \r\nQ 108.053125 12.2 106.053125 12.2 \r\nL 37.103125 12.2 \r\nQ 35.103125 12.2 35.103125 14.2 \r\nL 35.103125 42.834375 \r\nQ 35.103125 44.834375 37.103125 44.834375 \r\nz\r\n\" style=\"fill:#e5e5e5;opacity:0.8;stroke:#cccccc;stroke-linejoin:miter;stroke-width:0.5;\"/>\r\n    </g>\r\n    <g id=\"line2d_21\">\r\n     <path d=\"M 39.103125 20.298437 \r\nL 59.103125 20.298437 \r\n\" style=\"fill:none;stroke:#e24a33;stroke-linecap:square;stroke-width:1.5;\"/>\r\n    </g>\r\n    <g id=\"line2d_22\"/>\r\n    <g id=\"text_11\">\r\n     <!-- acc -->\r\n     <defs>\r\n      <path d=\"M 34.28125 27.484375 \r\nQ 23.390625 27.484375 19.1875 25 \r\nQ 14.984375 22.515625 14.984375 16.5 \r\nQ 14.984375 11.71875 18.140625 8.90625 \r\nQ 21.296875 6.109375 26.703125 6.109375 \r\nQ 34.1875 6.109375 38.703125 11.40625 \r\nQ 43.21875 16.703125 43.21875 25.484375 \r\nL 43.21875 27.484375 \r\nz\r\nM 52.203125 31.203125 \r\nL 52.203125 0 \r\nL 43.21875 0 \r\nL 43.21875 8.296875 \r\nQ 40.140625 3.328125 35.546875 0.953125 \r\nQ 30.953125 -1.421875 24.3125 -1.421875 \r\nQ 15.921875 -1.421875 10.953125 3.296875 \r\nQ 6 8.015625 6 15.921875 \r\nQ 6 25.140625 12.171875 29.828125 \r\nQ 18.359375 34.515625 30.609375 34.515625 \r\nL 43.21875 34.515625 \r\nL 43.21875 35.40625 \r\nQ 43.21875 41.609375 39.140625 45 \r\nQ 35.0625 48.390625 27.6875 48.390625 \r\nQ 23 48.390625 18.546875 47.265625 \r\nQ 14.109375 46.140625 10.015625 43.890625 \r\nL 10.015625 52.203125 \r\nQ 14.9375 54.109375 19.578125 55.046875 \r\nQ 24.21875 56 28.609375 56 \r\nQ 40.484375 56 46.34375 49.84375 \r\nQ 52.203125 43.703125 52.203125 31.203125 \r\nz\r\n\" id=\"DejaVuSans-97\"/>\r\n      <path d=\"M 48.78125 52.59375 \r\nL 48.78125 44.1875 \r\nQ 44.96875 46.296875 41.140625 47.34375 \r\nQ 37.3125 48.390625 33.40625 48.390625 \r\nQ 24.65625 48.390625 19.8125 42.84375 \r\nQ 14.984375 37.3125 14.984375 27.296875 \r\nQ 14.984375 17.28125 19.8125 11.734375 \r\nQ 24.65625 6.203125 33.40625 6.203125 \r\nQ 37.3125 6.203125 41.140625 7.25 \r\nQ 44.96875 8.296875 48.78125 10.40625 \r\nL 48.78125 2.09375 \r\nQ 45.015625 0.34375 40.984375 -0.53125 \r\nQ 36.96875 -1.421875 32.421875 -1.421875 \r\nQ 20.0625 -1.421875 12.78125 6.34375 \r\nQ 5.515625 14.109375 5.515625 27.296875 \r\nQ 5.515625 40.671875 12.859375 48.328125 \r\nQ 20.21875 56 33.015625 56 \r\nQ 37.15625 56 41.109375 55.140625 \r\nQ 45.0625 54.296875 48.78125 52.59375 \r\nz\r\n\" id=\"DejaVuSans-99\"/>\r\n     </defs>\r\n     <g transform=\"translate(67.103125 23.798437)scale(0.1 -0.1)\">\r\n      <use xlink:href=\"#DejaVuSans-97\"/>\r\n      <use x=\"61.279297\" xlink:href=\"#DejaVuSans-99\"/>\r\n      <use x=\"116.259766\" xlink:href=\"#DejaVuSans-99\"/>\r\n     </g>\r\n    </g>\r\n    <g id=\"line2d_23\">\r\n     <path d=\"M 39.103125 34.976562 \r\nL 59.103125 34.976562 \r\n\" style=\"fill:none;stroke:#348abd;stroke-linecap:square;stroke-width:1.5;\"/>\r\n    </g>\r\n    <g id=\"line2d_24\"/>\r\n    <g id=\"text_12\">\r\n     <!-- val_acc -->\r\n     <defs>\r\n      <path d=\"M 2.984375 54.6875 \r\nL 12.5 54.6875 \r\nL 29.59375 8.796875 \r\nL 46.6875 54.6875 \r\nL 56.203125 54.6875 \r\nL 35.6875 0 \r\nL 23.484375 0 \r\nz\r\n\" id=\"DejaVuSans-118\"/>\r\n      <path d=\"M 9.421875 75.984375 \r\nL 18.40625 75.984375 \r\nL 18.40625 0 \r\nL 9.421875 0 \r\nz\r\n\" id=\"DejaVuSans-108\"/>\r\n      <path d=\"M 50.984375 -16.609375 \r\nL 50.984375 -23.578125 \r\nL -0.984375 -23.578125 \r\nL -0.984375 -16.609375 \r\nz\r\n\" id=\"DejaVuSans-95\"/>\r\n     </defs>\r\n     <g transform=\"translate(67.103125 38.476562)scale(0.1 -0.1)\">\r\n      <use xlink:href=\"#DejaVuSans-118\"/>\r\n      <use x=\"59.179688\" xlink:href=\"#DejaVuSans-97\"/>\r\n      <use x=\"120.458984\" xlink:href=\"#DejaVuSans-108\"/>\r\n      <use x=\"148.242188\" xlink:href=\"#DejaVuSans-95\"/>\r\n      <use x=\"198.242188\" xlink:href=\"#DejaVuSans-97\"/>\r\n      <use x=\"259.521484\" xlink:href=\"#DejaVuSans-99\"/>\r\n      <use x=\"314.501953\" xlink:href=\"#DejaVuSans-99\"/>\r\n     </g>\r\n    </g>\r\n   </g>\r\n  </g>\r\n  <g id=\"axes_2\">\r\n   <g id=\"patch_8\">\r\n    <path d=\"M 30.103125 224.64 \r\nL 364.903125 224.64 \r\nL 364.903125 125.803636 \r\nL 30.103125 125.803636 \r\nz\r\n\" style=\"fill:#e5e5e5;\"/>\r\n   </g>\r\n   <g id=\"matplotlib.axis_3\">\r\n    <g id=\"xtick_7\">\r\n     <g id=\"line2d_25\">\r\n      <path clip-path=\"url(#p9f9aa9caae)\" d=\"M 71.960538 224.64 \r\nL 71.960538 125.803636 \r\n\" style=\"fill:none;stroke:#ffffff;stroke-linecap:square;stroke-width:0.8;\"/>\r\n     </g>\r\n     <g id=\"line2d_26\">\r\n      <g>\r\n       <use style=\"fill:#555555;stroke:#555555;stroke-width:0.8;\" x=\"71.960538\" xlink:href=\"#m308fd1feae\" y=\"224.64\"/>\r\n      </g>\r\n     </g>\r\n     <g id=\"text_13\">\r\n      <!-- 400 -->\r\n      <g style=\"fill:#555555;\" transform=\"translate(62.416788 239.238437)scale(0.1 -0.1)\">\r\n       <use xlink:href=\"#DejaVuSans-52\"/>\r\n       <use x=\"63.623047\" xlink:href=\"#DejaVuSans-48\"/>\r\n       <use x=\"127.246094\" xlink:href=\"#DejaVuSans-48\"/>\r\n      </g>\r\n     </g>\r\n    </g>\r\n    <g id=\"xtick_8\">\r\n     <g id=\"line2d_27\">\r\n      <path clip-path=\"url(#p9f9aa9caae)\" d=\"M 122.213755 224.64 \r\nL 122.213755 125.803636 \r\n\" style=\"fill:none;stroke:#ffffff;stroke-linecap:square;stroke-width:0.8;\"/>\r\n     </g>\r\n     <g id=\"line2d_28\">\r\n      <g>\r\n       <use style=\"fill:#555555;stroke:#555555;stroke-width:0.8;\" x=\"122.213755\" xlink:href=\"#m308fd1feae\" y=\"224.64\"/>\r\n      </g>\r\n     </g>\r\n     <g id=\"text_14\">\r\n      <!-- 420 -->\r\n      <g style=\"fill:#555555;\" transform=\"translate(112.670005 239.238437)scale(0.1 -0.1)\">\r\n       <use xlink:href=\"#DejaVuSans-52\"/>\r\n       <use x=\"63.623047\" xlink:href=\"#DejaVuSans-50\"/>\r\n       <use x=\"127.246094\" xlink:href=\"#DejaVuSans-48\"/>\r\n      </g>\r\n     </g>\r\n    </g>\r\n    <g id=\"xtick_9\">\r\n     <g id=\"line2d_29\">\r\n      <path clip-path=\"url(#p9f9aa9caae)\" d=\"M 172.466972 224.64 \r\nL 172.466972 125.803636 \r\n\" style=\"fill:none;stroke:#ffffff;stroke-linecap:square;stroke-width:0.8;\"/>\r\n     </g>\r\n     <g id=\"line2d_30\">\r\n      <g>\r\n       <use style=\"fill:#555555;stroke:#555555;stroke-width:0.8;\" x=\"172.466972\" xlink:href=\"#m308fd1feae\" y=\"224.64\"/>\r\n      </g>\r\n     </g>\r\n     <g id=\"text_15\">\r\n      <!-- 440 -->\r\n      <g style=\"fill:#555555;\" transform=\"translate(162.923222 239.238437)scale(0.1 -0.1)\">\r\n       <use xlink:href=\"#DejaVuSans-52\"/>\r\n       <use x=\"63.623047\" xlink:href=\"#DejaVuSans-52\"/>\r\n       <use x=\"127.246094\" xlink:href=\"#DejaVuSans-48\"/>\r\n      </g>\r\n     </g>\r\n    </g>\r\n    <g id=\"xtick_10\">\r\n     <g id=\"line2d_31\">\r\n      <path clip-path=\"url(#p9f9aa9caae)\" d=\"M 222.72019 224.64 \r\nL 222.72019 125.803636 \r\n\" style=\"fill:none;stroke:#ffffff;stroke-linecap:square;stroke-width:0.8;\"/>\r\n     </g>\r\n     <g id=\"line2d_32\">\r\n      <g>\r\n       <use style=\"fill:#555555;stroke:#555555;stroke-width:0.8;\" x=\"222.72019\" xlink:href=\"#m308fd1feae\" y=\"224.64\"/>\r\n      </g>\r\n     </g>\r\n     <g id=\"text_16\">\r\n      <!-- 460 -->\r\n      <g style=\"fill:#555555;\" transform=\"translate(213.17644 239.238437)scale(0.1 -0.1)\">\r\n       <use xlink:href=\"#DejaVuSans-52\"/>\r\n       <use x=\"63.623047\" xlink:href=\"#DejaVuSans-54\"/>\r\n       <use x=\"127.246094\" xlink:href=\"#DejaVuSans-48\"/>\r\n      </g>\r\n     </g>\r\n    </g>\r\n    <g id=\"xtick_11\">\r\n     <g id=\"line2d_33\">\r\n      <path clip-path=\"url(#p9f9aa9caae)\" d=\"M 272.973407 224.64 \r\nL 272.973407 125.803636 \r\n\" style=\"fill:none;stroke:#ffffff;stroke-linecap:square;stroke-width:0.8;\"/>\r\n     </g>\r\n     <g id=\"line2d_34\">\r\n      <g>\r\n       <use style=\"fill:#555555;stroke:#555555;stroke-width:0.8;\" x=\"272.973407\" xlink:href=\"#m308fd1feae\" y=\"224.64\"/>\r\n      </g>\r\n     </g>\r\n     <g id=\"text_17\">\r\n      <!-- 480 -->\r\n      <g style=\"fill:#555555;\" transform=\"translate(263.429657 239.238437)scale(0.1 -0.1)\">\r\n       <use xlink:href=\"#DejaVuSans-52\"/>\r\n       <use x=\"63.623047\" xlink:href=\"#DejaVuSans-56\"/>\r\n       <use x=\"127.246094\" xlink:href=\"#DejaVuSans-48\"/>\r\n      </g>\r\n     </g>\r\n    </g>\r\n    <g id=\"xtick_12\">\r\n     <g id=\"line2d_35\">\r\n      <path clip-path=\"url(#p9f9aa9caae)\" d=\"M 323.226624 224.64 \r\nL 323.226624 125.803636 \r\n\" style=\"fill:none;stroke:#ffffff;stroke-linecap:square;stroke-width:0.8;\"/>\r\n     </g>\r\n     <g id=\"line2d_36\">\r\n      <g>\r\n       <use style=\"fill:#555555;stroke:#555555;stroke-width:0.8;\" x=\"323.226624\" xlink:href=\"#m308fd1feae\" y=\"224.64\"/>\r\n      </g>\r\n     </g>\r\n     <g id=\"text_18\">\r\n      <!-- 500 -->\r\n      <g style=\"fill:#555555;\" transform=\"translate(313.682874 239.238437)scale(0.1 -0.1)\">\r\n       <use xlink:href=\"#DejaVuSans-53\"/>\r\n       <use x=\"63.623047\" xlink:href=\"#DejaVuSans-48\"/>\r\n       <use x=\"127.246094\" xlink:href=\"#DejaVuSans-48\"/>\r\n      </g>\r\n     </g>\r\n    </g>\r\n    <g id=\"text_19\">\r\n     <!-- +1.598174e9 -->\r\n     <g style=\"fill:#555555;\" transform=\"translate(296.292188 251.916562)scale(0.1 -0.1)\">\r\n      <use xlink:href=\"#DejaVuSans-43\"/>\r\n      <use x=\"83.789062\" xlink:href=\"#DejaVuSans-49\"/>\r\n      <use x=\"147.412109\" xlink:href=\"#DejaVuSans-46\"/>\r\n      <use x=\"179.199219\" xlink:href=\"#DejaVuSans-53\"/>\r\n      <use x=\"242.822266\" xlink:href=\"#DejaVuSans-57\"/>\r\n      <use x=\"306.445312\" xlink:href=\"#DejaVuSans-56\"/>\r\n      <use x=\"370.068359\" xlink:href=\"#DejaVuSans-49\"/>\r\n      <use x=\"433.691406\" xlink:href=\"#DejaVuSans-55\"/>\r\n      <use x=\"497.314453\" xlink:href=\"#DejaVuSans-52\"/>\r\n      <use x=\"560.9375\" xlink:href=\"#DejaVuSans-101\"/>\r\n      <use x=\"622.460938\" xlink:href=\"#DejaVuSans-57\"/>\r\n     </g>\r\n    </g>\r\n   </g>\r\n   <g id=\"matplotlib.axis_4\">\r\n    <g id=\"ytick_4\">\r\n     <g id=\"line2d_37\">\r\n      <path clip-path=\"url(#p9f9aa9caae)\" d=\"M 30.103125 212.671301 \r\nL 364.903125 212.671301 \r\n\" style=\"fill:none;stroke:#ffffff;stroke-linecap:square;stroke-width:0.8;\"/>\r\n     </g>\r\n     <g id=\"line2d_38\">\r\n      <g>\r\n       <use style=\"fill:#555555;stroke:#555555;stroke-width:0.8;\" x=\"30.103125\" xlink:href=\"#m9be3790502\" y=\"212.671301\"/>\r\n      </g>\r\n     </g>\r\n     <g id=\"text_20\">\r\n      <!-- 0.1 -->\r\n      <g style=\"fill:#555555;\" transform=\"translate(7.2 216.47052)scale(0.1 -0.1)\">\r\n       <use xlink:href=\"#DejaVuSans-48\"/>\r\n       <use x=\"63.623047\" xlink:href=\"#DejaVuSans-46\"/>\r\n       <use x=\"95.410156\" xlink:href=\"#DejaVuSans-49\"/>\r\n      </g>\r\n     </g>\r\n    </g>\r\n    <g id=\"ytick_5\">\r\n     <g id=\"line2d_39\">\r\n      <path clip-path=\"url(#p9f9aa9caae)\" d=\"M 30.103125 166.805431 \r\nL 364.903125 166.805431 \r\n\" style=\"fill:none;stroke:#ffffff;stroke-linecap:square;stroke-width:0.8;\"/>\r\n     </g>\r\n     <g id=\"line2d_40\">\r\n      <g>\r\n       <use style=\"fill:#555555;stroke:#555555;stroke-width:0.8;\" x=\"30.103125\" xlink:href=\"#m9be3790502\" y=\"166.805431\"/>\r\n      </g>\r\n     </g>\r\n     <g id=\"text_21\">\r\n      <!-- 0.2 -->\r\n      <g style=\"fill:#555555;\" transform=\"translate(7.2 170.60465)scale(0.1 -0.1)\">\r\n       <use xlink:href=\"#DejaVuSans-48\"/>\r\n       <use x=\"63.623047\" xlink:href=\"#DejaVuSans-46\"/>\r\n       <use x=\"95.410156\" xlink:href=\"#DejaVuSans-50\"/>\r\n      </g>\r\n     </g>\r\n    </g>\r\n   </g>\r\n   <g id=\"line2d_41\">\r\n    <path clip-path=\"url(#p9f9aa9caae)\" d=\"M 45.321308 143.918362 \r\nL 45.617802 145.065009 \r\nL 45.934397 144.239423 \r\nL 46.243454 147.771095 \r\nL 46.504771 139.240043 \r\nL 46.773625 138.82725 \r\nL 47.037455 143.413837 \r\nL 47.349025 143.184508 \r\nL 47.630443 143.918362 \r\nL 48.444545 143.643167 \r\nL 48.718425 143.872496 \r\nL 49.002356 143.918362 \r\nL 49.283773 143.780764 \r\nL 49.552629 144.331155 \r\nL 49.813945 145.202606 \r\nL 50.0828 144.698082 \r\nL 50.374268 143.322105 \r\nL 50.638098 142.817581 \r\nL 50.899415 143.322105 \r\nL 51.203447 146.440985 \r\nL 51.477327 145.38607 \r\nL 51.751207 139.423507 \r\nL 52.027599 143.230374 \r\nL 52.296454 143.551435 \r\nL 52.552745 144.468752 \r\nL 52.854264 144.37702 \r\nL 53.110556 143.689032 \r\nL 54.165874 144.514618 \r\nL 54.761374 143.780764 \r\nL 55.085507 144.514618 \r\nL 55.371951 144.239423 \r\nL 55.633268 145.15674 \r\nL 56.158414 146.349253 \r\nL 56.422243 146.395119 \r\nL 56.686072 140.019763 \r\nL 56.95744 144.147691 \r\nL 57.226295 141.854398 \r\nL 57.485099 146.257521 \r\nL 57.771542 140.982946 \r\nL 58.075574 144.514618 \r\nL 58.336891 145.294338 \r\nL 58.635898 143.505569 \r\nL 58.894701 145.38607 \r\nL 59.158531 146.165789 \r\nL 59.41231 144.331155 \r\nL 59.673626 144.193557 \r\nL 59.932431 144.743947 \r\nL 60.20631 137.49714 \r\nL 60.47014 144.422886 \r\nL 60.769146 143.551435 \r\nL 61.035489 145.340204 \r\nL 61.304343 145.431936 \r\nL 61.625964 144.652216 \r\nL 61.899844 145.248472 \r\nL 62.158648 143.27624 \r\nL 62.422477 142.221325 \r\nL 62.681281 139.05658 \r\nL 62.942598 144.147691 \r\nL 63.20894 143.001044 \r\nL 63.507946 143.918362 \r\nL 63.789364 144.055959 \r\nL 64.055707 144.652216 \r\nL 64.311998 143.82663 \r\nL 64.613517 143.459703 \r\nL 64.879859 143.689032 \r\nL 65.161277 144.193557 \r\nL 65.432645 143.780764 \r\nL 65.960304 144.331155 \r\nL 66.234184 143.964228 \r\nL 66.498013 144.193557 \r\nL 66.756817 144.147691 \r\nL 67.058337 143.964228 \r\nL 68.415174 144.193557 \r\nL 68.679003 144.101825 \r\nL 68.965446 145.15674 \r\nL 69.254403 144.514618 \r\nL 69.538333 144.560484 \r\nL 69.814725 143.689032 \r\nL 70.344897 144.835679 \r\nL 70.613752 145.661265 \r\nL 70.880094 144.193557 \r\nL 71.148949 145.340204 \r\nL 71.676608 141.670934 \r\nL 71.937924 146.807912 \r\nL 72.206779 148.000424 \r\nL 72.465583 145.340204 \r\nL 72.731925 145.798862 \r\nL 73.035957 150.614779 \r\nL 73.329938 151.394499 \r\nL 73.603818 144.698082 \r\nL 73.885236 150.247852 \r\nL 74.139015 140.891214 \r\nL 74.400331 147.771095 \r\nL 74.674212 144.101825 \r\nL 74.948092 145.065009 \r\nL 75.20187 146.945509 \r\nL 75.458162 144.147691 \r\nL 75.714453 144.60635 \r\nL 75.968232 148.183888 \r\nL 76.237086 140.845348 \r\nL 76.543631 154.421646 \r\nL 76.799923 143.597301 \r\nL 77.066265 142.634117 \r\nL 77.347683 144.193557 \r\nL 77.611512 141.533337 \r\nL 77.880367 141.487471 \r\nL 78.169323 142.588252 \r\nL 78.458279 141.670934 \r\nL 78.769849 143.82663 \r\nL 79.433191 145.569533 \r\nL 79.691995 144.743947 \r\nL 79.943262 144.789813 \r\nL 80.199553 145.569533 \r\nL 80.455844 143.964228 \r\nL 80.805104 144.239423 \r\nL 81.066421 144.652216 \r\nL 81.332763 141.7168 \r\nL 81.888061 144.560484 \r\nL 82.14184 144.331155 \r\nL 82.400644 144.698082 \r\nL 82.65191 144.055959 \r\nL 82.903176 146.853777 \r\nL 83.159468 144.652216 \r\nL 83.415759 144.789813 \r\nL 83.67205 143.551435 \r\nL 83.940905 145.615399 \r\nL 84.194684 145.248472 \r\nL 84.450975 146.532716 \r\nL 84.707266 143.872496 \r\nL 85.126881 147.083107 \r\nL 85.405787 144.37702 \r\nL 85.717356 143.918362 \r\nL 86.270142 145.844728 \r\nL 86.533971 148.321485 \r\nL 87.310383 152.082487 \r\nL 87.564162 148.963608 \r\nL 87.817941 143.551435 \r\nL 88.071719 142.221325 \r\nL 88.584302 144.652216 \r\nL 88.855669 141.991995 \r\nL 89.109448 144.835679 \r\nL 89.36574 149.789193 \r\nL 89.624544 147.174839 \r\nL 89.885861 146.624448 \r\nL 90.137126 148.000424 \r\nL 90.405982 142.083727 \r\nL 90.664785 141.670934 \r\nL 90.918564 144.37702 \r\nL 91.179881 143.459703 \r\nL 91.43366 147.358302 \r\nL 91.692463 141.487471 \r\nL 91.953781 143.964228 \r\nL 92.210072 147.679363 \r\nL 92.473901 147.128973 \r\nL 92.747781 143.505569 \r\nL 93.300567 147.174839 \r\nL 93.604599 145.752997 \r\nL 93.976473 148.688412 \r\nL 94.28553 145.110874 \r\nL 94.602125 149.972657 \r\nL 94.911182 148.459083 \r\nL 95.217727 144.147691 \r\nL 95.639854 144.835679 \r\nL 95.961474 148.229754 \r\nL 96.280582 144.055959 \r\nL 96.582102 144.468752 \r\nL 97.227856 149.926791 \r\nL 97.5344 145.982326 \r\nL 97.856021 145.844728 \r\nL 98.175129 142.771715 \r\nL 98.443984 147.083107 \r\nL 98.722889 146.578582 \r\nL 98.991743 139.744568 \r\nL 99.248034 151.211035 \r\nL 99.509352 148.642546 \r\nL 99.770669 151.807291 \r\nL 100.02696 144.010094 \r\nL 100.363656 147.083107 \r\nL 100.647587 145.569533 \r\nL 100.908904 151.669694 \r\nL 101.165195 143.322105 \r\nL 101.43405 149.101205 \r\nL 101.697879 139.240043 \r\nL 101.979297 149.192937 \r\nL 102.245639 154.467512 \r\nL 102.504443 142.221325 \r\nL 102.76576 151.623828 \r\nL 103.027077 148.963608 \r\nL 103.328596 148.04629 \r\nL 103.718059 148.275619 \r\nL 104.074856 155.247232 \r\nL 104.401503 143.872496 \r\nL 104.750762 153.917121 \r\nL 105.034693 142.037861 \r\nL 105.348776 148.04629 \r\nL 105.695523 159.237562 \r\nL 106.007092 145.294338 \r\nL 106.336251 153.550195 \r\nL 106.745815 154.926171 \r\nL 107.067435 141.854398 \r\nL 107.358904 150.339584 \r\nL 107.627759 146.670314 \r\nL 107.818721 152.403548 \r\nL 108.097626 155.797622 \r\nL 108.361456 152.541145 \r\nL 108.612722 138.414457 \r\nL 108.911729 140.891214 \r\nL 109.170533 152.770475 \r\nL 109.424312 152.770475 \r\nL 109.680603 148.459083 \r\nL 109.931869 147.312436 \r\nL 110.190673 141.900264 \r\nL 110.984674 156.531476 \r\nL 111.248503 146.165789 \r\nL 111.50982 149.422266 \r\nL 111.816365 149.330534 \r\nL 112.421916 155.568293 \r\nL 112.949574 139.05658 \r\nL 113.210892 138.230994 \r\nL 113.474721 151.073438 \r\nL 113.736037 154.788573 \r\nL 113.999867 151.853157 \r\nL 114.256158 144.560484 \r\nL 114.567729 146.762046 \r\nL 114.829045 144.422886 \r\nL 115.085337 148.734278 \r\nL 115.339115 149.651596 \r\nL 115.597919 151.440364 \r\nL 115.856723 157.081867 \r\nL 116.115527 137.405408 \r\nL 116.409509 151.165169 \r\nL 116.670825 149.192937 \r\nL 116.92963 152.632877 \r\nL 117.190946 148.000424 \r\nL 117.447237 159.512758 \r\nL 117.703529 146.211655 \r\nL 117.974896 147.220704 \r\nL 118.238726 149.559864 \r\nL 118.502555 148.275619 \r\nL 119.057853 154.788573 \r\nL 119.316657 152.082487 \r\nL 119.575461 146.71618 \r\nL 119.834265 151.807291 \r\nL 120.083019 151.853157 \r\nL 120.412178 154.880305 \r\nL 120.706159 161.668454 \r\nL 121.108184 132.772955 \r\nL 121.397141 154.284048 \r\nL 121.678558 149.468132 \r\nL 122.030331 149.651596 \r\nL 122.389641 148.780144 \r\nL 122.686135 144.331155 \r\nL 123.007756 152.036621 \r\nL 123.324351 155.338963 \r\nL 123.658535 153.641926 \r\nL 123.962567 154.146451 \r\nL 124.264087 157.311196 \r\nL 124.520378 140.707751 \r\nL 124.784207 156.164549 \r\nL 125.040499 150.385449 \r\nL 125.304328 162.127112 \r\nL 125.560619 160.980465 \r\nL 125.816911 141.212275 \r\nL 126.073203 155.247232 \r\nL 126.362158 148.459083 \r\nL 126.633526 150.706511 \r\nL 126.89233 140.982946 \r\nL 127.146109 150.981706 \r\nL 127.4024 147.404168 \r\nL 127.922521 154.054719 \r\nL 128.188863 153.183268 \r\nL 128.492895 142.679983 \r\nL 129.015528 154.421646 \r\nL 129.269307 153.917121 \r\nL 129.540674 150.523047 \r\nL 129.799479 151.623828 \r\nL 130.063308 148.871876 \r\nL 130.585941 154.559244 \r\nL 130.844745 153.550195 \r\nL 131.106062 151.669694 \r\nL 131.379942 143.001044 \r\nL 131.636233 162.081246 \r\nL 131.895037 151.211035 \r\nL 132.153842 158.274379 \r\nL 132.420184 143.643167 \r\nL 132.970456 168.915261 \r\nL 133.2569 160.751136 \r\nL 133.510679 136.900884 \r\nL 133.761944 171.942408 \r\nL 134.023262 165.70465 \r\nL 134.287091 139.836299 \r\nL 134.540869 165.337723 \r\nL 134.794648 161.209795 \r\nL 135.05094 164.741467 \r\nL 135.319795 161.530856 \r\nL 135.576086 162.952698 \r\nL 135.832377 151.623828 \r\nL 136.131384 154.284048 \r\nL 136.397726 160.567673 \r\nL 136.671606 157.494659 \r\nL 136.945486 141.579202 \r\nL 137.199265 144.789813 \r\nL 137.450531 159.879685 \r\nL 138.249557 153.458463 \r\nL 138.503336 149.835059 \r\nL 138.767165 154.972037 \r\nL 139.028481 163.04443 \r\nL 139.304874 154.37578 \r\nL 139.573729 155.109634 \r\nL 139.827508 153.504329 \r\nL 140.078774 148.642546 \r\nL 140.337578 146.119924 \r\nL 140.598895 140.15736 \r\nL 140.855186 153.917121 \r\nL 141.124041 150.431315 \r\nL 141.382845 138.643787 \r\nL 141.649187 155.293098 \r\nL 141.913016 159.879685 \r\nL 142.448213 149.60573 \r\nL 142.722093 145.202606 \r\nL 142.988435 154.329914 \r\nL 143.24724 155.201366 \r\nL 143.506043 159.099965 \r\nL 144.111595 155.751756 \r\nL 144.387988 149.60573 \r\nL 144.669405 159.696221 \r\nL 144.978463 160.70527 \r\nL 145.254856 162.494039 \r\nL 145.531248 154.37578 \r\nL 145.805128 163.503088 \r\nL 146.053881 148.550815 \r\nL 146.305148 167.126492 \r\nL 146.601642 157.540525 \r\nL 146.898135 158.59544 \r\nL 147.257446 156.072817 \r\nL 147.687111 165.796382 \r\nL 148.13939 150.568913 \r\nL 148.506238 170.061908 \r\nL 148.797707 172.81386 \r\nL 149.340442 146.899643 \r\nL 149.878151 169.740847 \r\nL 150.144493 167.218224 \r\nL 150.410835 169.465651 \r\nL 150.677178 155.751756 \r\nL 151.212374 166.163309 \r\nL 151.493793 163.59482 \r\nL 152.023964 154.37578 \r\nL 152.561673 166.943029 \r\nL 152.828015 151.990755 \r\nL 153.104408 160.797002 \r\nL 153.647143 147.128973 \r\nL 153.910972 157.494659 \r\nL 154.179827 163.136161 \r\nL 154.451194 154.329914 \r\nL 154.715024 152.220084 \r\nL 154.993929 145.431936 \r\nL 155.260271 147.358302 \r\nL 155.51405 158.962367 \r\nL 155.772854 157.586391 \r\nL 156.036683 158.182647 \r\nL 156.295487 161.897783 \r\nL 156.576906 151.623828 \r\nL 156.868374 150.477181 \r\nL 157.14728 159.696221 \r\nL 157.411108 157.219464 \r\nL 157.6674 169.14459 \r\nL 157.928717 151.71556 \r\nL 158.45135 169.649115 \r\nL 158.730256 157.402928 \r\nL 159.069465 157.081867 \r\nL 159.383547 170.15364 \r\nL 159.707681 168.273139 \r\nL 160.001662 161.576722 \r\nL 160.270516 147.220704 \r\nL 160.534346 168.181407 \r\nL 160.820789 166.988894 \r\nL 161.144923 154.146451 \r\nL 161.436391 158.733038 \r\nL 161.707758 154.972037 \r\nL 161.976614 158.870635 \r\nL 162.247981 159.099965 \r\nL 162.514323 153.917121 \r\nL 162.783177 154.650975 \r\nL 163.069621 154.834439 \r\nL 163.335963 166.300906 \r\nL 163.59728 158.457843 \r\nL 163.861109 174.14397 \r\nL 164.132477 156.439744 \r\nL 164.401331 170.428835 \r\nL 164.92899 156.806671 \r\nL 165.20287 172.538665 \r\nL 165.722991 163.870015 \r\nL 165.991846 166.071577 \r\nL 166.255675 173.501848 \r\nL 166.524529 167.768614 \r\nL 166.785847 176.116203 \r\nL 167.343657 164.420406 \r\nL 167.602461 165.933979 \r\nL 167.873828 148.688412 \r\nL 168.150221 179.968936 \r\nL 168.419076 162.356442 \r\nL 168.67788 155.1555 \r\nL 169.265843 173.501848 \r\nL 169.46183 162.952698 \r\nL 169.738223 166.071577 \r\nL 169.997027 166.209175 \r\nL 170.263369 156.026952 \r\nL 170.522173 160.017282 \r\nL 170.786003 177.125252 \r\nL 171.047319 159.742087 \r\nL 171.313661 163.961747 \r\nL 171.580003 151.302767 \r\nL 171.846345 150.293718 \r\nL 172.366466 169.786713 \r\nL 172.62527 170.795762 \r\nL 172.891612 169.052859 \r\nL 173.145391 172.81386 \r\nL 173.454448 161.714319 \r\nL 173.71074 161.209795 \r\nL 173.977082 172.81386 \r\nL 174.512278 158.82477 \r\nL 174.768569 156.71494 \r\nL 175.029887 175.244751 \r\nL 175.291203 160.70527 \r\nL 175.55252 177.721508 \r\nL 175.871628 167.355821 \r\nL 176.198274 162.998564 \r\nL 176.45959 167.585151 \r\nL 176.730958 169.649115 \r\nL 176.994788 175.70341 \r\nL 177.256104 161.163929 \r\nL 177.519933 180.060667 \r\nL 177.778738 146.624448 \r\nL 178.040054 164.236942 \r\nL 178.298859 172.355201 \r\nL 178.565201 169.052859 \r\nL 178.831542 171.575482 \r\nL 179.095372 177.400447 \r\nL 179.366739 162.677503 \r\nL 179.630569 173.36425 \r\nL 179.889373 156.026952 \r\nL 180.195917 170.612298 \r\nL 180.459747 177.58391 \r\nL 180.721064 166.851297 \r\nL 180.98238 168.869395 \r\nL 181.241185 159.696221 \r\nL 181.507526 164.236942 \r\nL 181.776381 166.851297 \r\nL 182.042723 184.647255 \r\nL 182.30404 161.301527 \r\nL 182.562844 151.165169 \r\nL 182.819135 170.337103 \r\nL 183.080452 159.558624 \r\nL 183.339256 159.099965 \r\nL 183.605598 168.823529 \r\nL 183.902092 147.220704 \r\nL 184.198586 177.675642 \r\nL 184.472466 161.897783 \r\nL 184.738809 172.309335 \r\nL 185.060429 180.427594 \r\nL 185.324258 172.171738 \r\nL 185.588088 153.59606 \r\nL 185.856942 159.742087 \r\nL 186.417266 166.071577 \r\nL 186.708735 173.731177 \r\nL 186.980102 151.440364 \r\nL 187.284134 173.089055 \r\nL 187.547963 180.152399 \r\nL 187.811793 176.48313 \r\nL 188.133413 165.979845 \r\nL 188.397242 172.26347 \r\nL 188.663585 165.70465 \r\nL 188.937465 172.355201 \r\nL 189.201294 170.15364 \r\nL 189.781719 147.174839 \r\nL 190.035498 172.309335 \r\nL 190.294302 173.410116 \r\nL 190.558131 182.537424 \r\nL 191.354644 158.136782 \r\nL 191.618474 180.060667 \r\nL 191.889841 171.025091 \r\nL 192.153671 176.345532 \r\nL 192.414987 173.868775 \r\nL 192.716506 141.120544 \r\nL 192.977824 173.272519 \r\nL 193.510507 144.60635 \r\nL 193.771824 169.006993 \r\nL 194.038166 167.447553 \r\nL 194.301996 177.675642 \r\nL 194.57085 171.48375 \r\nL 194.837193 170.979225 \r\nL 195.101021 193.728697 \r\nL 195.359826 175.886873 \r\nL 195.62868 149.284669 \r\nL 196.156339 191.02261 \r\nL 196.683998 156.577342 \r\nL 196.95034 180.565192 \r\nL 197.211657 172.217604 \r\nL 197.467948 172.125872 \r\nL 197.985556 167.126492 \r\nL 198.246873 170.061908 \r\nL 198.510703 166.117443 \r\nL 198.797146 171.804811 \r\nL 199.058463 162.494039 \r\nL 199.319779 176.712459 \r\nL 199.581096 177.400447 \r\nL 199.87759 160.521807 \r\nL 200.133881 175.382349 \r\nL 200.392685 174.006373 \r\nL 200.917831 169.786713 \r\nL 201.176636 168.227273 \r\nL 201.465591 157.861586 \r\nL 201.729421 158.687172 \r\nL 201.998276 157.769855 \r\nL 202.262105 169.14459 \r\nL 202.523422 161.026331 \r\nL 202.799815 146.899643 \r\nL 203.066156 171.25442 \r\nL 203.322448 182.904351 \r\nL 203.583765 169.098725 \r\nL 203.850107 173.318385 \r\nL 204.113936 167.126492 \r\nL 204.380278 174.098104 \r\nL 204.679285 166.988894 \r\nL 204.938089 175.932739 \r\nL 205.204431 166.163309 \r\nL 205.463235 171.529616 \r\nL 205.729577 163.778284 \r\nL 205.985868 173.089055 \r\nL 206.254723 174.694361 \r\nL 206.518553 181.390778 \r\nL 206.792433 172.03414 \r\nL 207.066313 181.161448 \r\nL 207.330142 170.016042 \r\nL 207.593972 182.491559 \r\nL 207.855289 174.556763 \r\nL 208.116605 178.088435 \r\nL 208.377922 172.03414 \r\nL 208.634213 184.188596 \r\nL 208.900555 172.26347 \r\nL 209.156847 187.307475 \r\nL 209.433239 180.289997 \r\nL 209.702094 188.224792 \r\nL 209.963411 154.696841 \r\nL 210.217189 181.528375 \r\nL 210.483532 183.36301 \r\nL 210.792589 172.355201 \r\nL 211.053906 172.355201 \r\nL 211.31271 165.567053 \r\nL 211.576539 165.383589 \r\nL 211.842881 187.078146 \r\nL 212.114248 178.134301 \r\nL 212.373053 173.318385 \r\nL 212.636882 178.180167 \r\nL 212.893173 164.787333 \r\nL 213.157002 181.620107 \r\nL 213.413294 172.997323 \r\nL 213.674611 180.794521 \r\nL 213.953516 174.556763 \r\nL 214.222371 158.962367 \r\nL 214.528915 181.390778 \r\nL 214.827922 183.546474 \r\nL 215.096777 157.127732 \r\nL 215.360607 162.448173 \r\nL 215.621923 155.017902 \r\nL 215.88324 175.244751 \r\nL 216.147069 176.2538 \r\nL 216.405873 173.501848 \r\nL 216.662165 177.950837 \r\nL 216.920969 167.676883 \r\nL 217.179773 174.235702 \r\nL 217.441089 158.687172 \r\nL 217.702406 167.401687 \r\nL 217.966236 182.216363 \r\nL 218.237603 186.757085 \r\nL 218.50897 169.052859 \r\nL 218.775312 187.536804 \r\nL 219.036629 185.748035 \r\nL 219.313022 167.309956 \r\nL 219.576851 163.136161 \r\nL 219.848219 183.913401 \r\nL 220.10451 178.638826 \r\nL 220.64222 154.60511 \r\nL 220.911074 179.418545 \r\nL 221.172391 172.401067 \r\nL 221.431195 174.235702 \r\nL 221.697537 181.849436 \r\nL 221.968904 168.135541 \r\nL 222.230221 177.354581 \r\nL 222.509126 175.153019 \r\nL 223.044323 164.833199 \r\nL 223.325741 167.722748 \r\nL 223.587058 181.849436 \r\nL 223.848374 177.216984 \r\nL 224.12728 187.353341 \r\nL 224.406185 165.612918 \r\nL 224.682578 188.316524 \r\nL 224.984097 182.353961 \r\nL 225.303205 179.235082 \r\nL 225.58211 185.335243 \r\nL 225.896193 177.81324 \r\nL 226.172586 179.510277 \r\nL 226.43139 175.244751 \r\nL 226.690194 183.775803 \r\nL 226.951511 172.722128 \r\nL 227.21534 185.885633 \r\nL 227.519372 183.684071 \r\nL 227.815866 172.492799 \r\nL 228.330962 175.978605 \r\nL 228.607354 190.242891 \r\nL 228.863646 180.611058 \r\nL 229.119937 176.299666 \r\nL 229.391304 183.041949 \r\nL 229.655134 181.987034 \r\nL 229.888811 188.775183 \r\nL 230.195356 178.868155 \r\nL 230.459185 183.087815 \r\nL 230.717989 170.016042 \r\nL 230.979306 173.089055 \r\nL 231.233085 202.443212 \r\nL 231.494402 182.308095 \r\nL 231.760744 184.417925 \r\nL 232.024573 183.592339 \r\nL 232.290915 165.933979 \r\nL 232.557257 158.228513 \r\nL 232.808524 176.345532 \r\nL 233.06984 185.610438 \r\nL 233.328644 167.768614 \r\nL 233.587448 178.822289 \r\nL 233.856303 162.448173 \r\nL 234.135208 175.198885 \r\nL 234.406576 174.740227 \r\nL 234.670405 164.512137 \r\nL 234.936747 138.689653 \r\nL 235.456868 186.848816 \r\nL 235.718185 178.317764 \r\nL 235.979501 187.674402 \r\nL 236.235793 184.876584 \r\nL 236.492084 175.290617 \r\nL 237.022255 178.684691 \r\nL 237.283572 182.629156 \r\nL 237.547402 171.162689 \r\nL 237.811231 186.344292 \r\nL 238.070035 155.1555 \r\nL 238.328839 160.70527 \r\nL 238.587644 171.529616 \r\nL 238.851473 177.262849 \r\nL 239.125353 179.418545 \r\nL 239.391695 189.371439 \r\nL 239.690701 172.03414 \r\nL 239.952018 188.041329 \r\nL 240.210822 164.512137 \r\nL 240.738481 189.004512 \r\nL 240.999798 177.81324 \r\nL 241.512381 172.630397 \r\nL 241.778723 180.840387 \r\nL 242.065166 179.92307 \r\nL 242.326483 190.334622 \r\nL 242.5878 169.14459 \r\nL 242.849116 171.667213 \r\nL 243.110433 180.70279 \r\nL 243.630554 176.987654 \r\nL 243.896895 189.14211 \r\nL 244.170775 162.310576 \r\nL 244.434605 194.921209 \r\nL 244.690897 176.574861 \r\nL 244.97734 184.005132 \r\nL 245.238657 185.793901 \r\nL 245.499973 174.189836 \r\nL 245.756265 157.127732 \r\nL 246.020094 172.03414 \r\nL 246.276385 178.959887 \r\nL 246.537703 173.960507 \r\nL 246.793994 192.077525 \r\nL 247.062848 160.70527 \r\nL 247.577943 200.47098 \r\nL 247.839261 184.830718 \r\nL 248.098064 185.014181 \r\nL 248.392046 189.233842 \r\nL 248.65085 175.428215 \r\nL 248.907141 190.426354 \r\nL 249.173484 186.711219 \r\nL 249.449876 168.869395 \r\nL 249.706168 167.676883 \r\nL 249.995124 190.839147 \r\nL 250.256441 197.535564 \r\nL 250.522782 200.195784 \r\nL 250.786612 188.499988 \r\nL 251.04039 188.178927 \r\nL 251.294169 180.381729 \r\nL 251.590663 196.664112 \r\nL 251.85198 179.92307 \r\nL 252.118322 180.014802 \r\nL 252.384664 175.611678 \r\nL 252.676133 155.93522 \r\nL 253.007804 192.903111 \r\nL 253.289222 166.163309 \r\nL 253.593254 163.686552 \r\nL 253.867134 188.545853 \r\nL 254.146039 169.006993 \r\nL 254.457609 186.757085 \r\nL 254.754104 182.766754 \r\nL 255.020445 189.233842 \r\nL 255.314426 206.02075 \r\nL 255.882288 163.824149 \r\nL 256.193858 176.299666 \r\nL 256.457687 201.709358 \r\nL 256.711466 182.353961 \r\nL 256.977808 179.785472 \r\nL 257.309479 192.352721 \r\nL 257.565771 182.078766 \r\nL 257.81955 191.435403 \r\nL 258.078354 186.481889 \r\nL 258.339671 176.895922 \r\nL 258.600987 178.088435 \r\nL 258.867329 172.538665 \r\nL 259.128646 184.601389 \r\nL 259.389963 178.36363 \r\nL 259.651279 182.537424 \r\nL 259.927672 191.206074 \r\nL 260.191502 170.933359 \r\nL 260.45533 185.656304 \r\nL 260.716648 187.949597 \r\nL 260.985502 181.161448 \r\nL 261.244307 182.445693 \r\nL 261.545825 181.436644 \r\nL 261.809655 177.950837 \r\nL 262.075997 177.721508 \r\nL 262.339826 172.997323 \r\nL 262.59863 177.859106 \r\nL 262.864973 177.58391 \r\nL 263.126289 169.786713 \r\nL 263.390119 174.189836 \r\nL 263.651435 180.932119 \r\nL 263.910239 178.684691 \r\nL 264.164018 184.876584 \r\nL 264.478101 186.069096 \r\nL 264.759519 182.491559 \r\nL 265.025861 176.437264 \r\nL 265.287178 194.737746 \r\nL 265.661564 172.355201 \r\nL 266.2244 191.573001 \r\nL 266.488229 176.116203 \r\nL 266.754572 189.646634 \r\nL 267.046041 189.187976 \r\nL 267.307357 189.14211 \r\nL 267.571186 199.553662 \r\nL 267.835016 190.563952 \r\nL 268.098845 193.636965 \r\nL 268.365187 178.226033 \r\nL 268.634042 187.536804 \r\nL 268.907922 192.811379 \r\nL 269.211954 186.986414 \r\nL 269.475783 199.461931 \r\nL 269.732075 200.24165 \r\nL 270.249682 190.885013 \r\nL 270.513512 173.960507 \r\nL 270.769804 196.572381 \r\nL 271.028608 204.598908 \r\nL 271.287412 194.737746 \r\nL 271.543703 179.464411 \r\nL 271.802507 183.317144 \r\nL 272.063824 176.987654 \r\nL 272.325141 199.140869 \r\nL 272.586457 177.171118 \r\nL 272.845261 186.160828 \r\nL 273.109091 184.830718 \r\nL 273.365382 176.666593 \r\nL 273.626699 191.206074 \r\nL 273.88299 181.803571 \r\nL 274.398086 189.554903 \r\nL 274.654377 171.070957 \r\nL 274.908156 183.225413 \r\nL 275.171986 187.766134 \r\nL 275.435815 176.437264 \r\nL 275.694619 175.382349 \r\nL 275.955936 166.025711 \r\nL 276.209715 186.711219 \r\nL 276.46098 191.297806 \r\nL 276.717272 189.050378 \r\nL 276.968538 191.206074 \r\nL 277.229855 181.436644 \r\nL 277.488658 185.977365 \r\nL 277.747463 173.547714 \r\nL 278.302761 198.177686 \r\nL 278.559052 200.929638 \r\nL 278.832932 186.573621 \r\nL 279.101787 206.57114 \r\nL 279.88825 173.226653 \r\nL 280.15208 186.573621 \r\nL 280.415908 188.454122 \r\nL 280.933517 171.346152 \r\nL 281.189808 193.040709 \r\nL 281.453638 176.620727 \r\nL 281.712441 177.538045 \r\nL 281.971246 186.436023 \r\nL 282.23005 176.804191 \r\nL 282.493879 187.628536 \r\nL 282.747658 186.481889 \r\nL 282.998924 186.573621 \r\nL 283.25019 171.988274 \r\nL 283.569298 180.014802 \r\nL 283.828102 191.527135 \r\nL 284.084394 183.546474 \r\nL 284.34571 196.939308 \r\nL 284.60954 182.445693 \r\nL 284.875882 201.663492 \r\nL 285.139711 186.573621 \r\nL 285.403541 189.509037 \r\nL 285.664857 198.544613 \r\nL 285.921149 181.849436 \r\nL 286.179953 186.80295 \r\nL 286.438757 188.133061 \r\nL 286.702586 195.838527 \r\nL 286.953852 181.482509 \r\nL 287.217681 201.80109 \r\nL 287.783031 184.280328 \r\nL 288.300638 195.012941 \r\nL 288.564468 205.607957 \r\nL 288.838347 192.169257 \r\nL 289.159968 185.47284 \r\nL 289.423798 185.151779 \r\nL 289.923818 211.753984 \r\nL 290.195185 191.985794 \r\nL 290.459014 194.003892 \r\nL 290.715306 188.683451 \r\nL 290.976622 194.967075 \r\nL 291.230401 212.075045 \r\nL 291.494231 189.509037 \r\nL 291.750522 199.507796 \r\nL 292.270643 169.14459 \r\nL 292.534472 166.117443 \r\nL 293.057106 193.407636 \r\nL 293.320935 177.262849 \r\nL 293.594815 188.270658 \r\nL 293.916436 168.043809 \r\nL 294.187803 181.528375 \r\nL 294.44912 181.115582 \r\nL 294.745614 187.215743 \r\nL 295.024519 158.411977 \r\nL 295.858723 195.792661 \r\nL 296.122552 205.149298 \r\nL 296.381356 189.6925 \r\nL 296.645185 185.151779 \r\nL 296.906502 185.014181 \r\nL 297.167819 186.894682 \r\nL 297.429135 192.58205 \r\nL 297.69799 180.106533 \r\nL 297.959307 201.204834 \r\nL 298.220624 171.392018 \r\nL 298.474402 174.969556 \r\nL 298.733207 186.206694 \r\nL 298.989498 184.968316 \r\nL 299.248302 185.656304 \r\nL 299.502081 203.956786 \r\nL 299.768423 190.151159 \r\nL 300.027226 202.305615 \r\nL 300.286031 171.896543 \r\nL 300.826253 204.002652 \r\nL 301.087569 189.830098 \r\nL 301.338836 182.675022 \r\nL 301.595127 187.995463 \r\nL 301.853931 197.489698 \r\nL 302.110222 182.537424 \r\nL 302.374052 204.002652 \r\nL 302.635369 177.03352 \r\nL 302.946939 188.499988 \r\nL 303.208255 191.80233 \r\nL 303.47711 187.949597 \r\nL 303.75099 195.425734 \r\nL 304.012307 195.104673 \r\nL 304.316339 179.831338 \r\nL 304.605295 204.965835 \r\nL 304.909327 188.729317 \r\nL 305.487239 199.874723 \r\nL 305.758606 194.921209 \r\nL 306.042537 171.116823 \r\nL 306.32898 194.003892 \r\nL 306.60286 189.554903 \r\nL 306.859152 180.335863 \r\nL 307.120468 198.865674 \r\nL 307.409424 175.519946 \r\nL 307.932058 208.176446 \r\nL 308.185836 192.215123 \r\nL 308.447154 199.003272 \r\nL 308.703445 212.808899 \r\nL 308.957224 186.390158 \r\nL 309.211002 202.672541 \r\nL 309.464781 204.874103 \r\nL 309.721072 174.877824 \r\nL 310.027617 178.317764 \r\nL 310.283908 198.819808 \r\nL 310.580402 209.323093 \r\nL 310.841719 206.938067 \r\nL 311.105549 192.03166 \r\nL 311.36184 186.573621 \r\nL 311.876935 200.195784 \r\nL 312.140765 195.425734 \r\nL 312.399569 198.223552 \r\nL 312.922202 171.529616 \r\nL 313.186032 203.635725 \r\nL 313.43981 178.914021 \r\nL 313.711178 177.58391 \r\nL 313.967469 195.746795 \r\nL 314.226273 176.345532 \r\nL 314.485077 197.122771 \r\nL 315.007711 186.940548 \r\nL 315.276566 212.763033 \r\nL 315.794174 170.428835 \r\nL 316.047952 178.226033 \r\nL 316.304244 203.452261 \r\nL 316.558022 182.445693 \r\nL 316.814314 182.81262 \r\nL 317.075631 194.370819 \r\nL 317.33946 188.591719 \r\nL 317.598264 208.497507 \r\nL 317.857068 195.563332 \r\nL 318.110847 190.380488 \r\nL 318.379702 190.197025 \r\nL 318.641018 188.958646 \r\nL 318.902335 197.122771 \r\nL 319.414918 190.563952 \r\nL 319.673722 204.002652 \r\nL 319.935039 180.014802 \r\nL 320.198868 196.618247 \r\nL 320.713964 190.885013 \r\nL 320.975281 195.4716 \r\nL 321.226546 184.326193 \r\nL 321.492888 188.270658 \r\nL 321.754205 188.821049 \r\nL 322.053212 187.261609 \r\nL 322.309503 191.756464 \r\nL 322.568307 190.976745 \r\nL 322.827112 175.290617 \r\nL 323.10853 188.316524 \r\nL 323.374872 195.425734 \r\nL 323.631163 188.316524 \r\nL 323.887455 189.92183 \r\nL 324.146258 205.011701 \r\nL 324.400037 187.353341 \r\nL 324.658841 189.233842 \r\nL 324.910108 197.168637 \r\nL 325.183988 183.638205 \r\nL 325.69657 204.828237 \r\nL 325.952862 189.463171 \r\nL 326.465445 202.626676 \r\nL 326.726761 197.397966 \r\nL 326.98054 213.588619 \r\nL 327.261958 194.003892 \r\nL 327.5283 198.590479 \r\nL 327.797154 195.4716 \r\nL 328.101187 197.443832 \r\nL 328.367528 197.902491 \r\nL 328.621307 195.196405 \r\nL 328.885137 209.644154 \r\nL 329.136403 213.267557 \r\nL 329.651498 192.765514 \r\nL 329.925378 177.216984 \r\nL 330.189208 204.553042 \r\nL 330.483189 209.185495 \r\nL 330.744506 209.414824 \r\nL 330.998284 181.161448 \r\nL 331.254576 195.563332 \r\nL 331.561121 182.170498 \r\nL 331.819925 206.892202 \r\nL 332.12647 191.894062 \r\nL 332.392811 198.36115 \r\nL 332.985799 180.289997 \r\nL 333.254654 202.35148 \r\nL 333.518483 193.91216 \r\nL 333.774775 189.646634 \r\nL 334.038604 200.608577 \r\nL 334.297408 178.317764 \r\nL 334.812504 190.242891 \r\nL 335.078846 190.426354 \r\nL 335.335137 185.47284 \r\nL 335.639169 176.299666 \r\nL 335.945714 194.69188 \r\nL 336.20703 197.489698 \r\nL 336.463322 197.58143 \r\nL 336.724638 193.270038 \r\nL 336.983442 192.765514 \r\nL 337.496026 182.537424 \r\nL 338.011121 205.103433 \r\nL 338.274951 211.111862 \r\nL 338.531242 196.618247 \r\nL 338.795072 219.000791 \r\nL 339.04885 201.984553 \r\nL 339.312679 192.215123 \r\nL 339.573996 177.629776 \r\nL 340.114218 201.892822 \r\nL 340.37051 186.390158 \r\nL 340.629314 181.436644 \r\nL 340.898169 201.984553 \r\nL 341.161998 181.344912 \r\nL 341.714783 194.783612 \r\nL 341.973587 181.390778 \r\nL 342.224854 192.719648 \r\nL 342.762563 190.701549 \r\nL 343.026392 181.161448 \r\nL 343.285196 186.436023 \r\nL 343.541488 196.709978 \r\nL 343.830444 191.894062 \r\nL 344.094273 204.965835 \r\nL 344.358103 193.958026 \r\nL 344.619419 209.093763 \r\nL 345.179742 195.976124 \r\nL 345.453622 209.139629 \r\nL 345.732528 197.031039 \r\nL 345.99887 192.444452 \r\nL 346.277775 200.654443 \r\nL 346.606934 196.25132 \r\nL 346.883327 188.729317 \r\nL 347.159719 204.69064 \r\nL 347.677327 191.114342 \r\nL 347.936132 192.765514 \r\nL 348.192423 197.719028 \r\nL 348.45374 209.185495 \r\nL 348.705006 206.066616 \r\nL 348.966322 194.554282 \r\nL 349.222614 195.930259 \r\nL 349.684943 220.147438 \r\nL 349.684943 220.147438 \r\n\" style=\"fill:none;stroke:#e24a33;stroke-linecap:square;stroke-width:1.5;\"/>\r\n   </g>\r\n   <g id=\"line2d_42\">\r\n    <path clip-path=\"url(#p9f9aa9caae)\" d=\"M 45.321308 139.515238 \r\nL 45.617802 144.147691 \r\nL 46.243454 130.296198 \r\nL 46.504771 139.836299 \r\nL 46.773625 144.743947 \r\nL 47.037455 142.863447 \r\nL 47.349025 144.010094 \r\nL 47.630443 143.780764 \r\nL 47.90181 144.147691 \r\nL 48.444545 143.872496 \r\nL 49.002356 143.964228 \r\nL 49.283773 144.147691 \r\nL 49.552629 144.973277 \r\nL 49.813945 144.193557 \r\nL 50.0828 142.083727 \r\nL 50.374268 141.808532 \r\nL 50.638098 142.129593 \r\nL 51.203447 144.147691 \r\nL 51.477327 141.670934 \r\nL 51.751207 144.101825 \r\nL 52.027599 143.918362 \r\nL 52.552745 144.101825 \r\nL 52.854264 144.147691 \r\nL 53.110556 143.551435 \r\nL 53.904557 144.239423 \r\nL 54.165874 144.422886 \r\nL 54.761374 144.193557 \r\nL 55.085507 144.468752 \r\nL 55.371951 144.468752 \r\nL 55.633268 144.789813 \r\nL 55.894584 144.560484 \r\nL 56.422243 147.862827 \r\nL 56.686072 139.882165 \r\nL 56.95744 142.129593 \r\nL 57.485099 144.055959 \r\nL 57.771542 145.844728 \r\nL 58.075574 144.331155 \r\nL 58.336891 144.60635 \r\nL 58.635898 145.93646 \r\nL 58.894701 143.689032 \r\nL 59.158531 144.835679 \r\nL 59.41231 144.881545 \r\nL 59.673626 145.202606 \r\nL 59.932431 147.450034 \r\nL 60.20631 142.450654 \r\nL 60.47014 144.101825 \r\nL 60.769146 143.780764 \r\nL 61.035489 145.202606 \r\nL 61.304343 144.468752 \r\nL 61.625964 144.698082 \r\nL 61.899844 145.110874 \r\nL 62.158648 142.817581 \r\nL 62.422477 145.248472 \r\nL 62.681281 142.634117 \r\nL 62.942598 145.065009 \r\nL 63.20894 143.643167 \r\nL 63.507946 144.193557 \r\nL 63.789364 143.82663 \r\nL 64.055707 144.147691 \r\nL 64.311998 143.780764 \r\nL 64.613517 144.285289 \r\nL 64.879859 143.734898 \r\nL 65.161277 143.643167 \r\nL 65.432645 143.734898 \r\nL 65.706525 144.285289 \r\nL 65.960304 144.239423 \r\nL 66.234184 143.643167 \r\nL 66.498013 144.331155 \r\nL 66.756817 143.780764 \r\nL 67.058337 143.964228 \r\nL 67.319654 143.964228 \r\nL 67.58097 144.468752 \r\nL 67.887515 144.285289 \r\nL 68.148831 144.652216 \r\nL 68.679003 144.652216 \r\nL 68.965446 144.881545 \r\nL 69.254403 144.331155 \r\nL 69.538333 145.202606 \r\nL 69.814725 143.413837 \r\nL 70.08358 144.468752 \r\nL 70.344897 144.055959 \r\nL 70.613752 145.615399 \r\nL 70.880094 145.93646 \r\nL 71.148949 146.670314 \r\nL 71.412778 146.257521 \r\nL 71.676608 146.899643 \r\nL 72.206779 144.881545 \r\nL 72.465583 145.93646 \r\nL 72.731925 144.835679 \r\nL 73.035957 144.468752 \r\nL 73.329938 149.743327 \r\nL 73.603818 141.808532 \r\nL 73.885236 148.321485 \r\nL 74.139015 149.468132 \r\nL 74.400331 146.991375 \r\nL 74.674212 146.532716 \r\nL 74.948092 150.431315 \r\nL 75.20187 145.569533 \r\nL 75.458162 146.853777 \r\nL 75.714453 149.055339 \r\nL 75.968232 145.615399 \r\nL 76.237086 144.514618 \r\nL 76.543631 146.532716 \r\nL 76.799923 149.559864 \r\nL 77.066265 145.38607 \r\nL 77.347683 143.138642 \r\nL 77.611512 148.550815 \r\nL 77.880367 148.504949 \r\nL 78.169323 147.633497 \r\nL 78.458279 146.028192 \r\nL 78.769849 147.679363 \r\nL 79.149261 142.817581 \r\nL 79.433191 143.918362 \r\nL 79.691995 144.468752 \r\nL 79.943262 146.670314 \r\nL 80.199553 144.652216 \r\nL 80.455844 147.174839 \r\nL 80.805104 142.404788 \r\nL 81.066421 144.973277 \r\nL 81.332763 144.652216 \r\nL 81.629257 144.514618 \r\nL 81.888061 145.065009 \r\nL 82.14184 143.322105 \r\nL 82.400644 145.065009 \r\nL 82.65191 144.514618 \r\nL 82.903176 143.459703 \r\nL 83.159468 145.202606 \r\nL 83.415759 145.523667 \r\nL 83.67205 145.202606 \r\nL 83.940905 147.26657 \r\nL 84.194684 143.689032 \r\nL 84.450975 144.60635 \r\nL 84.707266 146.257521 \r\nL 85.126881 146.486851 \r\nL 85.717356 147.26657 \r\nL 85.991237 144.927411 \r\nL 86.270142 149.789193 \r\nL 86.533971 146.945509 \r\nL 86.800313 145.477801 \r\nL 87.056604 147.908692 \r\nL 87.310383 144.835679 \r\nL 87.564162 146.899643 \r\nL 87.817941 147.954558 \r\nL 88.071719 149.926791 \r\nL 88.328011 142.725849 \r\nL 88.584302 146.303387 \r\nL 88.855669 143.367971 \r\nL 89.109448 149.880925 \r\nL 89.36574 149.651596 \r\nL 89.885861 146.578582 \r\nL 90.137126 150.201986 \r\nL 90.664785 144.60635 \r\nL 90.918564 148.963608 \r\nL 91.179881 147.174839 \r\nL 91.692463 149.651596 \r\nL 91.953781 147.771095 \r\nL 92.210072 147.541766 \r\nL 92.473901 145.065009 \r\nL 92.747781 145.431936 \r\nL 93.021661 146.532716 \r\nL 93.300567 145.798862 \r\nL 93.604599 146.71618 \r\nL 93.976473 143.184508 \r\nL 94.28553 148.04629 \r\nL 94.602125 145.798862 \r\nL 94.911182 149.60573 \r\nL 95.217727 144.560484 \r\nL 95.961474 148.550815 \r\nL 96.280582 143.184508 \r\nL 96.582102 143.551435 \r\nL 96.923823 151.71556 \r\nL 97.227856 140.478422 \r\nL 97.5344 143.689032 \r\nL 98.175129 153.779524 \r\nL 98.443984 142.221325 \r\nL 98.722889 152.770475 \r\nL 99.248034 146.578582 \r\nL 99.509352 145.248472 \r\nL 99.770669 145.752997 \r\nL 100.02696 148.183888 \r\nL 100.363656 141.854398 \r\nL 100.647587 152.128353 \r\nL 100.908904 145.844728 \r\nL 101.165195 145.248472 \r\nL 101.43405 149.3764 \r\nL 101.697879 147.908692 \r\nL 101.979297 151.165169 \r\nL 102.245639 151.256901 \r\nL 102.504443 145.661265 \r\nL 102.76576 146.257521 \r\nL 103.027077 143.964228 \r\nL 103.328596 148.413217 \r\nL 103.718059 146.670314 \r\nL 104.074856 147.220704 \r\nL 104.401503 156.944269 \r\nL 104.750762 150.706511 \r\nL 105.348776 152.357682 \r\nL 105.695523 152.541145 \r\nL 106.007092 159.008233 \r\nL 106.745815 139.423507 \r\nL 107.067435 142.588252 \r\nL 107.358904 151.256901 \r\nL 107.627759 148.459083 \r\nL 107.818721 148.596681 \r\nL 108.097626 148.183888 \r\nL 108.361456 147.037241 \r\nL 108.612722 141.258141 \r\nL 108.911729 152.908072 \r\nL 109.170533 152.724609 \r\nL 109.680603 140.707751 \r\nL 109.931869 149.238803 \r\nL 110.190673 146.028192 \r\nL 110.72587 149.697461 \r\nL 110.984674 152.770475 \r\nL 111.248503 146.165789 \r\nL 111.816365 154.146451 \r\nL 112.080194 147.128973 \r\nL 112.421916 146.395119 \r\nL 112.685745 154.880305 \r\nL 112.949574 138.414457 \r\nL 113.210892 149.468132 \r\nL 113.474721 154.467512 \r\nL 113.736037 153.550195 \r\nL 113.999867 153.137402 \r\nL 114.256158 152.220084 \r\nL 114.567729 153.229133 \r\nL 114.829045 146.670314 \r\nL 115.085337 149.3764 \r\nL 115.339115 154.880305 \r\nL 115.597919 148.459083 \r\nL 115.856723 146.349253 \r\nL 116.115527 150.477181 \r\nL 116.409509 147.725229 \r\nL 116.670825 153.274999 \r\nL 117.190946 147.404168 \r\nL 117.447237 150.889974 \r\nL 117.703529 143.413837 \r\nL 117.974896 160.70527 \r\nL 118.238726 156.302147 \r\nL 118.502555 147.541766 \r\nL 118.799049 149.284669 \r\nL 119.057853 148.82601 \r\nL 119.316657 145.340204 \r\nL 119.575461 152.128353 \r\nL 119.834265 154.60511 \r\nL 120.083019 153.229133 \r\nL 120.412178 149.192937 \r\nL 120.706159 147.312436 \r\nL 121.397141 156.348013 \r\nL 121.678558 149.789193 \r\nL 122.030331 153.917121 \r\nL 122.686135 148.780144 \r\nL 123.007756 153.366731 \r\nL 123.658535 135.800103 \r\nL 123.962567 140.661885 \r\nL 124.520378 155.1555 \r\nL 124.784207 156.760805 \r\nL 125.304328 148.183888 \r\nL 125.560619 156.072817 \r\nL 125.816911 155.430695 \r\nL 126.073203 143.918362 \r\nL 126.633526 158.687172 \r\nL 126.89233 151.119303 \r\nL 127.146109 156.439744 \r\nL 127.4024 152.082487 \r\nL 127.658691 151.669694 \r\nL 127.922521 156.990135 \r\nL 128.188863 157.219464 \r\nL 128.492895 154.329914 \r\nL 128.749187 157.999184 \r\nL 129.015528 154.559244 \r\nL 129.269307 152.953938 \r\nL 129.799479 152.082487 \r\nL 130.063308 154.37578 \r\nL 130.324625 152.541145 \r\nL 130.585941 157.907452 \r\nL 131.106062 153.137402 \r\nL 131.379942 159.466892 \r\nL 131.636233 149.330534 \r\nL 131.895037 163.870015 \r\nL 132.153842 156.71494 \r\nL 132.420184 158.090916 \r\nL 132.676475 158.04505 \r\nL 132.970456 166.346772 \r\nL 133.2569 162.494039 \r\nL 133.510679 155.522427 \r\nL 133.761944 165.979845 \r\nL 134.023262 163.59482 \r\nL 134.287091 151.440364 \r\nL 134.540869 167.401687 \r\nL 134.794648 149.238803 \r\nL 135.05094 161.530856 \r\nL 135.319795 158.733038 \r\nL 135.576086 145.661265 \r\nL 135.832377 152.449414 \r\nL 136.131384 164.236942 \r\nL 136.671606 155.751756 \r\nL 137.199265 162.585771 \r\nL 137.450531 153.82539 \r\nL 137.704309 140.478422 \r\nL 138.503336 147.358302 \r\nL 138.767165 151.669694 \r\nL 139.028481 157.907452 \r\nL 139.304874 159.92555 \r\nL 139.573729 158.182647 \r\nL 139.827508 146.762046 \r\nL 140.078774 141.487471 \r\nL 140.337578 157.173598 \r\nL 140.598895 149.880925 \r\nL 140.855186 155.568293 \r\nL 141.124041 158.549574 \r\nL 141.382845 146.807912 \r\nL 141.649187 147.725229 \r\nL 141.913016 159.054099 \r\nL 142.186896 154.467512 \r\nL 142.448213 152.770475 \r\nL 142.988435 157.723989 \r\nL 143.24724 156.072817 \r\nL 143.817614 164.236942 \r\nL 144.387988 161.072197 \r\nL 144.669405 166.48437 \r\nL 144.978463 157.357062 \r\nL 145.254856 162.127112 \r\nL 145.531248 152.541145 \r\nL 145.805128 152.908072 \r\nL 146.305148 171.346152 \r\nL 146.601642 177.079386 \r\nL 146.898135 147.358302 \r\nL 147.257446 158.090916 \r\nL 147.687111 166.255041 \r\nL 148.13939 150.981706 \r\nL 148.506238 157.999184 \r\nL 149.071587 148.04629 \r\nL 149.340442 167.631017 \r\nL 149.614322 164.236942 \r\nL 149.878151 166.805431 \r\nL 150.144493 172.767994 \r\nL 150.410835 161.118063 \r\nL 150.677178 155.797622 \r\nL 150.946032 167.860346 \r\nL 151.212374 166.163309 \r\nL 151.493793 154.421646 \r\nL 151.757621 161.347392 \r\nL 152.023964 153.641926 \r\nL 152.28528 167.172358 \r\nL 152.561673 166.576102 \r\nL 152.828015 169.649115 \r\nL 153.373263 157.357062 \r\nL 153.647143 163.457222 \r\nL 153.910972 163.090296 \r\nL 154.179827 159.742087 \r\nL 154.451194 152.724609 \r\nL 154.715024 155.660025 \r\nL 154.993929 162.035381 \r\nL 155.260271 155.660025 \r\nL 155.51405 165.245991 \r\nL 155.772854 167.722748 \r\nL 156.036683 156.164549 \r\nL 156.295487 167.539285 \r\nL 156.576906 170.199505 \r\nL 157.14728 160.15488 \r\nL 157.411108 163.503088 \r\nL 157.6674 164.328674 \r\nL 157.928717 161.347392 \r\nL 158.192546 146.899643 \r\nL 158.45135 165.933979 \r\nL 158.730256 167.401687 \r\nL 159.069465 157.357062 \r\nL 159.383547 166.163309 \r\nL 159.707681 160.888734 \r\nL 160.001662 166.071577 \r\nL 160.270516 166.025711 \r\nL 160.534346 173.36425 \r\nL 160.820789 161.989515 \r\nL 161.144923 167.906212 \r\nL 161.436391 170.658164 \r\nL 161.707758 157.769855 \r\nL 161.976614 155.338963 \r\nL 162.247981 159.054099 \r\nL 162.514323 145.569533 \r\nL 162.783177 164.970796 \r\nL 163.335963 168.135541 \r\nL 163.59728 173.226653 \r\nL 163.861109 169.832578 \r\nL 164.132477 163.319625 \r\nL 164.401331 166.163309 \r\nL 164.670186 159.512758 \r\nL 164.92899 176.48313 \r\nL 165.20287 169.14459 \r\nL 165.459161 168.5942 \r\nL 165.722991 166.943029 \r\nL 165.991846 175.107154 \r\nL 166.255675 157.81572 \r\nL 166.524529 171.804811 \r\nL 166.785847 174.189836 \r\nL 167.084853 178.317764 \r\nL 167.343657 156.210415 \r\nL 167.602461 160.292477 \r\nL 167.873828 176.162069 \r\nL 168.419076 143.872496 \r\nL 168.67788 163.090296 \r\nL 168.956785 167.585151 \r\nL 169.265843 151.165169 \r\nL 169.738223 165.612918 \r\nL 169.997027 156.806671 \r\nL 170.263369 156.302147 \r\nL 170.522173 165.291857 \r\nL 170.786003 156.210415 \r\nL 171.047319 158.641306 \r\nL 171.313661 169.282188 \r\nL 171.580003 162.081246 \r\nL 171.846345 167.860346 \r\nL 172.100124 165.933979 \r\nL 172.366466 174.327434 \r\nL 172.62527 165.521187 \r\nL 172.891612 165.888114 \r\nL 173.454448 173.501848 \r\nL 173.71074 166.025711 \r\nL 173.977082 163.273759 \r\nL 174.245936 173.777043 \r\nL 174.512278 153.412597 \r\nL 174.768569 177.354581 \r\nL 175.029887 161.301527 \r\nL 175.291203 162.998564 \r\nL 175.55252 178.59296 \r\nL 175.871628 162.402307 \r\nL 176.198274 168.548334 \r\nL 176.45959 168.319005 \r\nL 176.730958 150.614779 \r\nL 176.994788 167.997944 \r\nL 177.256104 175.107154 \r\nL 177.519933 177.262849 \r\nL 177.778738 168.043809 \r\nL 178.040054 174.281568 \r\nL 178.298859 166.759565 \r\nL 178.565201 152.816341 \r\nL 178.831542 163.961747 \r\nL 179.095372 166.530236 \r\nL 179.366739 172.125872 \r\nL 179.630569 149.743327 \r\nL 179.889373 178.547094 \r\nL 180.195917 163.778284 \r\nL 180.459747 163.136161 \r\nL 180.721064 170.061908 \r\nL 180.98238 161.301527 \r\nL 181.241185 167.126492 \r\nL 181.507526 156.118683 \r\nL 181.776381 179.418545 \r\nL 182.30404 161.851917 \r\nL 182.562844 168.043809 \r\nL 182.819135 167.81448 \r\nL 183.080452 169.786713 \r\nL 183.339256 181.711839 \r\nL 183.605598 177.308715 \r\nL 183.902092 168.456602 \r\nL 184.198586 170.979225 \r\nL 184.472466 175.70341 \r\nL 184.738809 166.346772 \r\nL 185.060429 178.271899 \r\nL 185.324258 167.26409 \r\nL 185.588088 179.968936 \r\nL 185.856942 167.172358 \r\nL 186.133335 165.383589 \r\nL 186.417266 169.282188 \r\nL 186.708735 168.502468 \r\nL 186.980102 174.831958 \r\nL 187.284134 179.14335 \r\nL 187.811793 158.228513 \r\nL 188.397242 175.611678 \r\nL 188.663585 164.512137 \r\nL 188.937465 184.784852 \r\nL 189.201294 156.531476 \r\nL 189.467636 166.300906 \r\nL 189.781719 169.786713 \r\nL 190.035498 175.657544 \r\nL 190.294302 171.529616 \r\nL 190.558131 161.897783 \r\nL 190.824473 158.04505 \r\nL 191.083277 172.309335 \r\nL 191.354644 166.071577 \r\nL 191.618474 182.537424 \r\nL 191.889841 171.300286 \r\nL 192.153671 172.080006 \r\nL 192.414987 167.26409 \r\nL 192.716506 156.439744 \r\nL 192.977824 164.558003 \r\nL 193.236628 161.576722 \r\nL 193.510507 174.3733 \r\nL 193.771824 176.574861 \r\nL 194.038166 173.501848 \r\nL 194.301996 172.446933 \r\nL 194.57085 175.565812 \r\nL 194.837193 149.835059 \r\nL 195.101021 180.244131 \r\nL 195.359826 159.283428 \r\nL 195.62868 170.520566 \r\nL 195.889997 171.988274 \r\nL 196.156339 168.731798 \r\nL 196.417656 171.208555 \r\nL 196.683998 162.585771 \r\nL 196.95034 167.309956 \r\nL 197.211657 156.990135 \r\nL 197.467948 159.742087 \r\nL 197.985556 179.510277 \r\nL 198.246873 166.897163 \r\nL 198.510703 175.611678 \r\nL 198.797146 176.024471 \r\nL 199.058463 171.208555 \r\nL 199.319779 172.767994 \r\nL 199.581096 164.879064 \r\nL 199.87759 166.071577 \r\nL 200.133881 164.191076 \r\nL 200.654002 171.208555 \r\nL 200.917831 179.326814 \r\nL 201.176636 157.357062 \r\nL 201.465591 178.959887 \r\nL 201.729421 173.318385 \r\nL 201.998276 183.500608 \r\nL 202.262105 175.153019 \r\nL 202.523422 181.574241 \r\nL 202.799815 168.043809 \r\nL 203.066156 178.730557 \r\nL 203.322448 174.3733 \r\nL 203.583765 181.574241 \r\nL 203.850107 166.667833 \r\nL 204.380278 178.088435 \r\nL 204.679285 183.271278 \r\nL 204.938089 165.796382 \r\nL 205.463235 180.840387 \r\nL 205.729577 172.125872 \r\nL 205.985868 169.970176 \r\nL 206.254723 177.446313 \r\nL 206.518553 167.309956 \r\nL 206.792433 171.804811 \r\nL 207.066313 186.344292 \r\nL 207.330142 171.392018 \r\nL 207.593972 189.646634 \r\nL 207.855289 172.951458 \r\nL 208.377922 185.014181 \r\nL 208.634213 157.678123 \r\nL 208.900555 170.199505 \r\nL 209.156847 168.502468 \r\nL 209.433239 164.099345 \r\nL 209.702094 169.786713 \r\nL 209.963411 168.273139 \r\nL 210.217189 164.92493 \r\nL 210.483532 180.977985 \r\nL 210.792589 165.979845 \r\nL 211.053906 188.178927 \r\nL 211.576539 167.080626 \r\nL 211.842881 173.960507 \r\nL 212.114248 163.686552 \r\nL 212.373053 167.03476 \r\nL 212.636882 181.803571 \r\nL 212.893173 173.685312 \r\nL 213.157002 171.713079 \r\nL 213.413294 175.886873 \r\nL 213.674611 182.996083 \r\nL 213.953516 161.439124 \r\nL 214.222371 179.877204 \r\nL 214.528915 158.320245 \r\nL 214.827922 171.392018 \r\nL 215.096777 168.915261 \r\nL 215.360607 155.93522 \r\nL 215.621923 160.842868 \r\nL 215.88324 181.620107 \r\nL 216.147069 156.71494 \r\nL 216.405873 170.474701 \r\nL 216.662165 173.501848 \r\nL 216.920969 165.750516 \r\nL 217.179773 182.170498 \r\nL 217.441089 170.474701 \r\nL 217.702406 170.245371 \r\nL 217.966236 181.987034 \r\nL 218.237603 159.650355 \r\nL 218.775312 174.098104 \r\nL 219.036629 160.200746 \r\nL 219.313022 185.197645 \r\nL 219.576851 169.92431 \r\nL 219.848219 173.272519 \r\nL 220.10451 184.14273 \r\nL 220.365827 157.357062 \r\nL 220.64222 182.81262 \r\nL 220.911074 172.26347 \r\nL 221.172391 183.133681 \r\nL 221.431195 182.996083 \r\nL 221.697537 167.585151 \r\nL 221.968904 159.099965 \r\nL 222.230221 169.511517 \r\nL 222.509126 161.301527 \r\nL 222.783007 183.179547 \r\nL 223.044323 178.638826 \r\nL 223.325741 171.713079 \r\nL 223.587058 181.711839 \r\nL 223.848374 159.512758 \r\nL 224.12728 184.92245 \r\nL 224.406185 166.621968 \r\nL 224.682578 180.47346 \r\nL 224.984097 172.997323 \r\nL 225.303205 182.675022 \r\nL 225.58211 177.03352 \r\nL 225.896193 175.565812 \r\nL 226.172586 169.465651 \r\nL 226.43139 185.793901 \r\nL 226.690194 187.445073 \r\nL 227.21534 173.59358 \r\nL 227.519372 161.209795 \r\nL 228.072158 179.510277 \r\nL 228.330962 170.337103 \r\nL 228.607354 179.647875 \r\nL 228.863646 177.354581 \r\nL 229.119937 166.071577 \r\nL 229.391304 168.273139 \r\nL 229.655134 163.227893 \r\nL 230.195356 189.646634 \r\nL 230.459185 190.013561 \r\nL 230.717989 158.916501 \r\nL 231.233085 181.436644 \r\nL 231.494402 173.59358 \r\nL 231.760744 173.868775 \r\nL 232.290915 177.996703 \r\nL 232.557257 170.841628 \r\nL 232.808524 182.904351 \r\nL 233.06984 178.317764 \r\nL 233.328644 164.37454 \r\nL 233.587448 177.58391 \r\nL 233.856303 161.163929 \r\nL 234.135208 178.547094 \r\nL 234.406576 154.559244 \r\nL 234.670405 161.301527 \r\nL 234.936747 177.859106 \r\nL 235.456868 172.905592 \r\nL 235.718185 167.860346 \r\nL 235.979501 170.70403 \r\nL 236.235793 159.879685 \r\nL 236.755913 181.528375 \r\nL 237.022255 175.70341 \r\nL 237.283572 166.713699 \r\nL 237.547402 173.822909 \r\nL 237.811231 169.603249 \r\nL 238.070035 158.090916 \r\nL 238.328839 172.538665 \r\nL 238.587644 164.099345 \r\nL 239.125353 186.114962 \r\nL 239.391695 180.70279 \r\nL 239.690701 168.731798 \r\nL 239.952018 177.767374 \r\nL 240.210822 165.291857 \r\nL 240.472139 184.096864 \r\nL 240.738481 180.244131 \r\nL 240.999798 189.554903 \r\nL 241.261114 177.492179 \r\nL 241.512381 183.638205 \r\nL 241.778723 177.171118 \r\nL 242.326483 178.409496 \r\nL 242.5878 176.391398 \r\nL 242.849116 187.720268 \r\nL 243.110433 179.556143 \r\nL 243.369237 185.518706 \r\nL 243.630554 188.499988 \r\nL 243.896895 176.48313 \r\nL 244.434605 180.289997 \r\nL 244.690897 173.731177 \r\nL 245.238657 180.886253 \r\nL 245.499973 173.777043 \r\nL 245.756265 171.300286 \r\nL 246.276385 188.775183 \r\nL 246.537703 185.885633 \r\nL 246.793994 174.098104 \r\nL 247.062848 176.528995 \r\nL 247.321652 184.876584 \r\nL 247.577943 187.995463 \r\nL 247.839261 185.426974 \r\nL 248.098064 177.767374 \r\nL 248.65085 175.611678 \r\nL 248.907141 187.720268 \r\nL 249.173484 183.684071 \r\nL 249.449876 167.539285 \r\nL 249.706168 177.859106 \r\nL 249.995124 183.317144 \r\nL 250.522782 175.611678 \r\nL 250.786612 171.208555 \r\nL 251.04039 194.69188 \r\nL 251.590663 160.063148 \r\nL 251.85198 173.089055 \r\nL 252.118322 173.455982 \r\nL 252.384664 195.425734 \r\nL 252.676133 176.941788 \r\nL 253.007804 170.291237 \r\nL 253.289222 179.556143 \r\nL 253.593254 194.370819 \r\nL 254.146039 157.127732 \r\nL 254.754104 189.967695 \r\nL 255.020445 180.886253 \r\nL 255.314426 189.004512 \r\nL 255.573231 176.528995 \r\nL 255.882288 171.162689 \r\nL 256.193858 179.051618 \r\nL 256.457687 172.859726 \r\nL 256.711466 187.03228 \r\nL 256.977808 189.554903 \r\nL 257.309479 185.931499 \r\nL 257.565771 191.618867 \r\nL 258.339671 165.979845 \r\nL 258.600987 186.527755 \r\nL 258.867329 168.135541 \r\nL 259.128646 173.960507 \r\nL 259.389963 167.447553 \r\nL 259.651279 165.245991 \r\nL 259.927672 176.162069 \r\nL 260.191502 164.649735 \r\nL 260.45533 185.977365 \r\nL 260.716648 192.352721 \r\nL 260.985502 173.455982 \r\nL 261.244307 165.658784 \r\nL 261.545825 181.757705 \r\nL 261.809655 180.198265 \r\nL 262.075997 176.620727 \r\nL 262.339826 179.14335 \r\nL 262.59863 185.060047 \r\nL 262.864973 186.344292 \r\nL 263.390119 173.226653 \r\nL 263.651435 176.758325 \r\nL 263.910239 182.996083 \r\nL 264.164018 182.0329 \r\nL 264.478101 187.995463 \r\nL 264.759519 186.757085 \r\nL 265.025861 177.216984 \r\nL 265.287178 188.821049 \r\nL 265.661564 165.429455 \r\nL 265.925393 172.03414 \r\nL 266.2244 186.527755 \r\nL 266.754572 179.280948 \r\nL 267.046041 177.859106 \r\nL 267.307357 193.591099 \r\nL 267.571186 168.135541 \r\nL 267.835016 192.352721 \r\nL 268.098845 184.601389 \r\nL 268.365187 187.857865 \r\nL 268.634042 183.133681 \r\nL 268.907922 195.150539 \r\nL 269.211954 194.875344 \r\nL 269.475783 195.379868 \r\nL 269.732075 191.160208 \r\nL 269.995904 190.563952 \r\nL 270.249682 171.116823 \r\nL 270.513512 181.161448 \r\nL 270.769804 168.273139 \r\nL 271.028608 167.722748 \r\nL 271.287412 174.740227 \r\nL 271.543703 173.685312 \r\nL 271.802507 175.932739 \r\nL 272.063824 179.693741 \r\nL 272.325141 181.665973 \r\nL 272.586457 193.774563 \r\nL 272.845261 173.868775 \r\nL 273.109091 181.344912 \r\nL 273.365382 194.324953 \r\nL 273.626699 186.298426 \r\nL 273.88299 196.067856 \r\nL 274.141794 177.58391 \r\nL 274.398086 169.052859 \r\nL 274.654377 178.36363 \r\nL 274.908156 181.711839 \r\nL 275.171986 168.777663 \r\nL 275.435815 184.417925 \r\nL 275.694619 191.481269 \r\nL 275.955936 193.682831 \r\nL 276.209715 201.204834 \r\nL 276.46098 187.490938 \r\nL 276.717272 182.629156 \r\nL 276.968538 187.307475 \r\nL 277.229855 186.390158 \r\nL 277.488658 181.390778 \r\nL 278.001241 185.793901 \r\nL 278.302761 178.914021 \r\nL 278.559052 189.509037 \r\nL 278.832932 182.720888 \r\nL 279.101787 182.996083 \r\nL 279.365616 188.958646 \r\nL 279.629446 183.179547 \r\nL 279.88825 171.621347 \r\nL 280.15208 175.290617 \r\nL 280.415908 156.393878 \r\nL 280.674713 174.694361 \r\nL 280.933517 175.749276 \r\nL 281.189808 171.896543 \r\nL 281.453638 189.004512 \r\nL 281.712441 187.215743 \r\nL 281.971246 174.098104 \r\nL 282.23005 186.848816 \r\nL 282.493879 178.914021 \r\nL 282.747658 184.417925 \r\nL 282.998924 176.162069 \r\nL 283.25019 174.786092 \r\nL 283.569298 164.512137 \r\nL 283.828102 184.096864 \r\nL 284.084394 172.676262 \r\nL 284.34571 189.509037 \r\nL 284.60954 197.031039 \r\nL 284.875882 175.978605 \r\nL 285.139711 193.315904 \r\nL 285.403541 190.242891 \r\nL 285.664857 170.520566 \r\nL 285.921149 187.490938 \r\nL 286.179953 174.465031 \r\nL 286.438757 181.161448 \r\nL 286.702586 176.299666 \r\nL 286.953852 187.720268 \r\nL 287.217681 186.665353 \r\nL 287.484024 194.508417 \r\nL 287.783031 178.822289 \r\nL 288.300638 194.416685 \r\nL 288.838347 174.419165 \r\nL 289.159968 181.115582 \r\nL 289.423798 172.676262 \r\nL 289.695165 188.729317 \r\nL 289.923818 187.490938 \r\nL 290.195185 190.747415 \r\nL 290.459014 168.502468 \r\nL 291.230401 189.004512 \r\nL 291.494231 189.325573 \r\nL 291.750522 182.766754 \r\nL 292.011838 179.189216 \r\nL 292.270643 165.842248 \r\nL 292.534472 194.370819 \r\nL 292.795789 194.875344 \r\nL 293.320935 175.565812 \r\nL 293.594815 188.729317 \r\nL 293.916436 177.538045 \r\nL 294.187803 177.996703 \r\nL 294.44912 188.087195 \r\nL 294.745614 153.687792 \r\nL 295.024519 164.466272 \r\nL 295.333576 182.353961 \r\nL 295.599918 187.124011 \r\nL 295.858723 186.665353 \r\nL 296.122552 180.427594 \r\nL 296.381356 179.92307 \r\nL 296.645185 172.080006 \r\nL 297.167819 179.418545 \r\nL 297.429135 188.91278 \r\nL 297.69799 176.574861 \r\nL 297.959307 183.133681 \r\nL 298.220624 170.245371 \r\nL 298.474402 192.994843 \r\nL 298.733207 176.437264 \r\nL 298.989498 177.400447 \r\nL 299.248302 181.25318 \r\nL 299.502081 194.783612 \r\nL 299.768423 187.628536 \r\nL 300.286031 189.463171 \r\nL 300.542322 197.031039 \r\nL 300.826253 185.47284 \r\nL 301.087569 179.831338 \r\nL 301.338836 193.91216 \r\nL 301.595127 178.271899 \r\nL 301.853931 189.92183 \r\nL 302.110222 182.950217 \r\nL 302.374052 184.92245 \r\nL 302.635369 173.501848 \r\nL 302.946939 190.793281 \r\nL 303.208255 195.196405 \r\nL 303.47711 174.281568 \r\nL 303.75099 198.957406 \r\nL 304.012307 182.996083 \r\nL 304.316339 176.574861 \r\nL 304.605295 192.811379 \r\nL 304.909327 192.811379 \r\nL 305.228435 198.682211 \r\nL 305.758606 177.446313 \r\nL 306.042537 189.096244 \r\nL 306.32898 192.673782 \r\nL 306.60286 185.931499 \r\nL 306.859152 195.838527 \r\nL 307.120468 195.288136 \r\nL 307.409424 187.995463 \r\nL 307.675766 196.067856 \r\nL 307.932058 174.3733 \r\nL 308.185836 183.133681 \r\nL 308.447154 184.372059 \r\nL 308.703445 194.554282 \r\nL 308.957224 186.848816 \r\nL 309.211002 197.764893 \r\nL 309.464781 168.961127 \r\nL 310.027617 190.288757 \r\nL 310.283908 180.932119 \r\nL 310.580402 195.655063 \r\nL 310.841719 167.03476 \r\nL 311.105549 182.308095 \r\nL 311.36184 186.940548 \r\nL 311.620644 195.930259 \r\nL 311.876935 177.996703 \r\nL 312.140765 183.500608 \r\nL 312.665911 167.309956 \r\nL 312.922202 177.354581 \r\nL 313.186032 178.271899 \r\nL 313.43981 163.686552 \r\nL 313.967469 202.856005 \r\nL 314.226273 189.096244 \r\nL 314.485077 188.683451 \r\nL 314.743882 193.866294 \r\nL 315.007711 174.052238 \r\nL 315.532857 179.92307 \r\nL 316.047952 166.713699 \r\nL 316.304244 174.14397 \r\nL 316.558022 168.731798 \r\nL 316.814314 181.528375 \r\nL 317.075631 184.096864 \r\nL 317.33946 188.958646 \r\nL 317.598264 179.92307 \r\nL 317.857068 183.546474 \r\nL 318.110847 176.758325 \r\nL 318.379702 179.051618 \r\nL 318.902335 180.977985 \r\nL 319.161139 190.701549 \r\nL 319.414918 177.629776 \r\nL 319.673722 179.326814 \r\nL 319.935039 201.067236 \r\nL 320.198868 173.272519 \r\nL 320.457672 203.543993 \r\nL 320.975281 169.098725 \r\nL 321.226546 181.069717 \r\nL 321.492888 181.574241 \r\nL 321.754205 191.114342 \r\nL 322.053212 171.667213 \r\nL 322.309503 188.224792 \r\nL 322.568307 181.620107 \r\nL 322.827112 184.830718 \r\nL 323.10853 170.933359 \r\nL 323.374872 176.758325 \r\nL 323.631163 178.226033 \r\nL 323.887455 194.783612 \r\nL 324.146258 187.995463 \r\nL 324.400037 193.545233 \r\nL 324.658841 178.180167 \r\nL 324.910108 173.639446 \r\nL 325.183988 183.454742 \r\nL 325.442791 170.061908 \r\nL 325.69657 196.067856 \r\nL 325.952862 187.307475 \r\nL 326.206641 187.536804 \r\nL 326.465445 177.904972 \r\nL 326.726761 177.492179 \r\nL 326.98054 174.969556 \r\nL 327.261958 170.016042 \r\nL 327.5283 207.671921 \r\nL 327.797154 194.233221 \r\nL 328.101187 172.03414 \r\nL 328.367528 193.728697 \r\nL 328.621307 189.417305 \r\nL 328.885137 177.125252 \r\nL 329.395207 189.509037 \r\nL 329.651498 199.232601 \r\nL 329.925378 167.03476 \r\nL 330.189208 177.950837 \r\nL 330.483189 179.831338 \r\nL 330.744506 176.712459 \r\nL 330.998284 182.399827 \r\nL 331.254576 182.124632 \r\nL 331.561121 198.177686 \r\nL 331.819925 187.812 \r\nL 332.12647 185.70217 \r\nL 332.392811 185.748035 \r\nL 332.699356 191.068476 \r\nL 332.985799 179.602009 \r\nL 333.254654 175.932739 \r\nL 333.518483 187.536804 \r\nL 333.774775 181.941168 \r\nL 334.038604 193.178306 \r\nL 334.297408 187.169877 \r\nL 334.558725 186.940548 \r\nL 334.812504 190.701549 \r\nL 335.078846 184.738986 \r\nL 335.335137 175.290617 \r\nL 335.639169 177.538045 \r\nL 335.945714 175.795142 \r\nL 336.20703 186.069096 \r\nL 336.463322 202.213883 \r\nL 336.724638 167.768614 \r\nL 336.983442 196.985174 \r\nL 337.239734 178.547094 \r\nL 337.496026 172.81386 \r\nL 337.759855 179.510277 \r\nL 338.011121 180.289997 \r\nL 338.274951 174.831958 \r\nL 338.795072 195.150539 \r\nL 339.04885 183.179547 \r\nL 339.573996 171.758945 \r\nL 339.850389 188.270658 \r\nL 340.114218 170.887493 \r\nL 340.37051 180.381729 \r\nL 340.629314 180.198265 \r\nL 340.898169 189.738366 \r\nL 341.161998 183.271278 \r\nL 341.420802 185.014181 \r\nL 341.714783 194.554282 \r\nL 341.973587 178.134301 \r\nL 342.224854 197.994223 \r\nL 342.488682 180.427594 \r\nL 343.026392 184.555523 \r\nL 343.285196 186.390158 \r\nL 343.541488 200.516846 \r\nL 343.830444 178.226033 \r\nL 344.094273 197.535564 \r\nL 344.619419 184.280328 \r\nL 344.895812 192.306855 \r\nL 345.453622 185.748035 \r\nL 345.99887 195.4716 \r\nL 346.277775 187.078146 \r\nL 346.606934 187.261609 \r\nL 346.883327 196.480649 \r\nL 347.159719 195.288136 \r\nL 347.418523 181.344912 \r\nL 347.677327 181.161448 \r\nL 347.936132 187.353341 \r\nL 348.192423 177.262849 \r\nL 348.45374 190.151159 \r\nL 348.705006 194.462551 \r\nL 348.966322 190.563952 \r\nL 349.222614 181.665973 \r\nL 349.499007 184.601389 \r\nL 349.684943 193.91216 \r\nL 349.684943 193.91216 \r\n\" style=\"fill:none;stroke:#348abd;stroke-linecap:square;stroke-width:1.5;\"/>\r\n   </g>\r\n   <g id=\"patch_9\">\r\n    <path d=\"M 30.103125 224.64 \r\nL 30.103125 125.803636 \r\n\" style=\"fill:none;stroke:#ffffff;stroke-linecap:square;stroke-linejoin:miter;\"/>\r\n   </g>\r\n   <g id=\"patch_10\">\r\n    <path d=\"M 364.903125 224.64 \r\nL 364.903125 125.803636 \r\n\" style=\"fill:none;stroke:#ffffff;stroke-linecap:square;stroke-linejoin:miter;\"/>\r\n   </g>\r\n   <g id=\"patch_11\">\r\n    <path d=\"M 30.103126 224.64 \r\nL 364.903125 224.64 \r\n\" style=\"fill:none;stroke:#ffffff;stroke-linecap:square;stroke-linejoin:miter;\"/>\r\n   </g>\r\n   <g id=\"patch_12\">\r\n    <path d=\"M 30.103126 125.803636 \r\nL 364.903125 125.803636 \r\n\" style=\"fill:none;stroke:#ffffff;stroke-linecap:square;stroke-linejoin:miter;\"/>\r\n   </g>\r\n   <g id=\"legend_2\">\r\n    <g id=\"patch_13\">\r\n     <path d=\"M 37.103125 163.438011 \r\nL 108.24375 163.438011 \r\nQ 110.24375 163.438011 110.24375 161.438011 \r\nL 110.24375 132.803636 \r\nQ 110.24375 130.803636 108.24375 130.803636 \r\nL 37.103125 130.803636 \r\nQ 35.103125 130.803636 35.103125 132.803636 \r\nL 35.103125 161.438011 \r\nQ 35.103125 163.438011 37.103125 163.438011 \r\nz\r\n\" style=\"fill:#e5e5e5;opacity:0.8;stroke:#cccccc;stroke-linejoin:miter;stroke-width:0.5;\"/>\r\n    </g>\r\n    <g id=\"line2d_43\">\r\n     <path d=\"M 39.103125 138.902074 \r\nL 59.103125 138.902074 \r\n\" style=\"fill:none;stroke:#e24a33;stroke-linecap:square;stroke-width:1.5;\"/>\r\n    </g>\r\n    <g id=\"line2d_44\"/>\r\n    <g id=\"text_22\">\r\n     <!-- loss -->\r\n     <defs>\r\n      <path d=\"M 30.609375 48.390625 \r\nQ 23.390625 48.390625 19.1875 42.75 \r\nQ 14.984375 37.109375 14.984375 27.296875 \r\nQ 14.984375 17.484375 19.15625 11.84375 \r\nQ 23.34375 6.203125 30.609375 6.203125 \r\nQ 37.796875 6.203125 41.984375 11.859375 \r\nQ 46.1875 17.53125 46.1875 27.296875 \r\nQ 46.1875 37.015625 41.984375 42.703125 \r\nQ 37.796875 48.390625 30.609375 48.390625 \r\nz\r\nM 30.609375 56 \r\nQ 42.328125 56 49.015625 48.375 \r\nQ 55.71875 40.765625 55.71875 27.296875 \r\nQ 55.71875 13.875 49.015625 6.21875 \r\nQ 42.328125 -1.421875 30.609375 -1.421875 \r\nQ 18.84375 -1.421875 12.171875 6.21875 \r\nQ 5.515625 13.875 5.515625 27.296875 \r\nQ 5.515625 40.765625 12.171875 48.375 \r\nQ 18.84375 56 30.609375 56 \r\nz\r\n\" id=\"DejaVuSans-111\"/>\r\n      <path d=\"M 44.28125 53.078125 \r\nL 44.28125 44.578125 \r\nQ 40.484375 46.53125 36.375 47.5 \r\nQ 32.28125 48.484375 27.875 48.484375 \r\nQ 21.1875 48.484375 17.84375 46.4375 \r\nQ 14.5 44.390625 14.5 40.28125 \r\nQ 14.5 37.15625 16.890625 35.375 \r\nQ 19.28125 33.59375 26.515625 31.984375 \r\nL 29.59375 31.296875 \r\nQ 39.15625 29.25 43.1875 25.515625 \r\nQ 47.21875 21.78125 47.21875 15.09375 \r\nQ 47.21875 7.46875 41.1875 3.015625 \r\nQ 35.15625 -1.421875 24.609375 -1.421875 \r\nQ 20.21875 -1.421875 15.453125 -0.5625 \r\nQ 10.6875 0.296875 5.421875 2 \r\nL 5.421875 11.28125 \r\nQ 10.40625 8.6875 15.234375 7.390625 \r\nQ 20.0625 6.109375 24.8125 6.109375 \r\nQ 31.15625 6.109375 34.5625 8.28125 \r\nQ 37.984375 10.453125 37.984375 14.40625 \r\nQ 37.984375 18.0625 35.515625 20.015625 \r\nQ 33.0625 21.96875 24.703125 23.78125 \r\nL 21.578125 24.515625 \r\nQ 13.234375 26.265625 9.515625 29.90625 \r\nQ 5.8125 33.546875 5.8125 39.890625 \r\nQ 5.8125 47.609375 11.28125 51.796875 \r\nQ 16.75 56 26.8125 56 \r\nQ 31.78125 56 36.171875 55.265625 \r\nQ 40.578125 54.546875 44.28125 53.078125 \r\nz\r\n\" id=\"DejaVuSans-115\"/>\r\n     </defs>\r\n     <g transform=\"translate(67.103125 142.402074)scale(0.1 -0.1)\">\r\n      <use xlink:href=\"#DejaVuSans-108\"/>\r\n      <use x=\"27.783203\" xlink:href=\"#DejaVuSans-111\"/>\r\n      <use x=\"88.964844\" xlink:href=\"#DejaVuSans-115\"/>\r\n      <use x=\"141.064453\" xlink:href=\"#DejaVuSans-115\"/>\r\n     </g>\r\n    </g>\r\n    <g id=\"line2d_45\">\r\n     <path d=\"M 39.103125 153.580199 \r\nL 59.103125 153.580199 \r\n\" style=\"fill:none;stroke:#348abd;stroke-linecap:square;stroke-width:1.5;\"/>\r\n    </g>\r\n    <g id=\"line2d_46\"/>\r\n    <g id=\"text_23\">\r\n     <!-- val_loss -->\r\n     <g transform=\"translate(67.103125 157.080199)scale(0.1 -0.1)\">\r\n      <use xlink:href=\"#DejaVuSans-118\"/>\r\n      <use x=\"59.179688\" xlink:href=\"#DejaVuSans-97\"/>\r\n      <use x=\"120.458984\" xlink:href=\"#DejaVuSans-108\"/>\r\n      <use x=\"148.242188\" xlink:href=\"#DejaVuSans-95\"/>\r\n      <use x=\"198.242188\" xlink:href=\"#DejaVuSans-108\"/>\r\n      <use x=\"226.025391\" xlink:href=\"#DejaVuSans-111\"/>\r\n      <use x=\"287.207031\" xlink:href=\"#DejaVuSans-115\"/>\r\n      <use x=\"339.306641\" xlink:href=\"#DejaVuSans-115\"/>\r\n     </g>\r\n    </g>\r\n   </g>\r\n  </g>\r\n </g>\r\n <defs>\r\n  <clipPath id=\"p8546fd5638\">\r\n   <rect height=\"98.836364\" width=\"334.8\" x=\"30.103125\" y=\"7.2\"/>\r\n  </clipPath>\r\n  <clipPath id=\"p9f9aa9caae\">\r\n   <rect height=\"98.836364\" width=\"334.8\" x=\"30.103125\" y=\"125.803636\"/>\r\n  </clipPath>\r\n </defs>\r\n</svg>\r\n",
      "image/png": "[encoded data removed]"
     },
     "metadata": {}
    }
   ],
   "source": [
    "import matplotlib.pyplot as plt\n",
    "from matplotlib import style\n",
    "\n",
    "style.use(\"ggplot\")\n",
    "\n",
    "model_name = \"model-1598174389\"\n",
    "\n",
    "def create_acc_loss_graph(model_name):\n",
    "    contents = open(\"model.log\", \"r\").read().split('\\n')\n",
    "    \n",
    "    times = []\n",
    "    accuracies = []\n",
    "    losses = []\n",
    "    \n",
    "    val_accs = []\n",
    "    val_losses = []\n",
    "    \n",
    "    for c in contents:\n",
    "        if model_name in c:\n",
    "            name, timestamp, acc, loss, val_acc, val_loss = c.split(\",\")\n",
    "\n",
    "            times.append(float(timestamp))\n",
    "            accuracies.append(float(acc))\n",
    "            losses.append(float(loss))\n",
    "\n",
    "            val_accs.append(float(val_acc))\n",
    "            val_losses.append(float(val_loss))\n",
    "\n",
    "\n",
    "    fig = plt.figure()\n",
    "\n",
    "    ax1 = plt.subplot2grid((2,1), (0,0))\n",
    "    ax2 = plt.subplot2grid((2,1), (1,0), sharex=ax1)\n",
    "\n",
    "\n",
    "    ax1.plot(times, accuracies, label=\"acc\")\n",
    "    ax1.plot(times, val_accs, label=\"val_acc\")\n",
    "    ax1.legend(loc=2)\n",
    "    ax2.plot(times,losses, label=\"loss\")\n",
    "    ax2.plot(times,val_losses, label=\"val_loss\")\n",
    "    ax2.legend(loc=2)\n",
    "    plt.show()\n",
    "\n",
    "create_acc_loss_graph(model_name)"
   ]
  },
  {
   "cell_type": "code",
   "execution_count": null,
   "metadata": {},
   "outputs": [],
   "source": []
  },
  {
   "cell_type": "code",
   "execution_count": null,
   "metadata": {},
   "outputs": [],
   "source": []
  }
 ],
 "metadata": {
  "kernelspec": {
   "display_name": "Python 3.7.6 64-bit ('base': conda)",
   "language": "python",
   "name": "python37664bitbaseconda7d6b9abbb5264fd3ab4663ee91a88227"
  },
  "language_info": {
   "codemirror_mode": {
    "name": "ipython",
    "version": 3
   },
   "file_extension": ".py",
   "mimetype": "text/x-python",
   "name": "python",
   "nbconvert_exporter": "python",
   "pygments_lexer": "ipython3",
   "version": "3.7.6-final"
  }
 },
 "nbformat": 4,
 "nbformat_minor": 4
}